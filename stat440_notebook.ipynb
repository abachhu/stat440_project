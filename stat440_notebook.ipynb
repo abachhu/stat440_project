{
 "cells": [
  {
   "cell_type": "code",
   "execution_count": 17,
   "id": "7571b0ca-911a-4f98-9549-a0422ffae8aa",
   "metadata": {},
   "outputs": [
    {
     "name": "stdout",
     "output_type": "stream",
     "text": [
      "<class 'pandas.core.frame.DataFrame'>\n",
      "RangeIndex: 478 entries, 0 to 477\n",
      "Data columns (total 6 columns):\n",
      " #   Column                           Non-Null Count  Dtype \n",
      "---  ------                           --------------  ----- \n",
      " 0   DBN                              478 non-null    object\n",
      " 1   SCHOOL NAME                      478 non-null    object\n",
      " 2   Num of SAT Test Takers           478 non-null    object\n",
      " 3   SAT Critical Reading Avg. Score  478 non-null    object\n",
      " 4   SAT Math Avg. Score              478 non-null    object\n",
      " 5   SAT Writing Avg. Score           478 non-null    object\n",
      "dtypes: object(6)\n",
      "memory usage: 22.5+ KB\n",
      "None\n",
      "\n",
      "<class 'pandas.core.frame.DataFrame'>\n",
      "Index: 421 entries, 0 to 477\n",
      "Data columns (total 6 columns):\n",
      " #   Column                           Non-Null Count  Dtype  \n",
      "---  ------                           --------------  -----  \n",
      " 0   DBN                              421 non-null    object \n",
      " 1   SCHOOL NAME                      421 non-null    object \n",
      " 2   Num of SAT Test Takers           421 non-null    object \n",
      " 3   SAT Critical Reading Avg. Score  421 non-null    float64\n",
      " 4   SAT Math Avg. Score              421 non-null    float64\n",
      " 5   SAT Writing Avg. Score           421 non-null    float64\n",
      "dtypes: float64(3), object(3)\n",
      "memory usage: 23.0+ KB\n",
      "None\n",
      "\n",
      "The mu is: 393.9857482185273\n",
      "The tao is: 165868.0\n",
      "The sigma^2 is: 3429.9095356040643\n",
      "\n"
     ]
    },
    {
     "data": {
      "image/png": "[encoded data removed]",
      "text/plain": [
       "<Figure size 640x480 with 1 Axes>"
      ]
     },
     "metadata": {},
     "output_type": "display_data"
    }
   ],
   "source": [
    "import numpy as np\n",
    "import pandas as pd\n",
    "import matplotlib.pyplot as plt\n",
    "import seaborn as sns\n",
    "\n",
    "#  read the dataset\n",
    "df = pd.read_csv(\"2012-sat-results.csv\")\n",
    "\n",
    "print(df.info())\n",
    "print(\"\")\n",
    "\n",
    "# convert all values to numeric\n",
    "df[\"SAT Critical Reading Avg. Score\"] = pd.to_numeric(df[\"SAT Critical Reading Avg. Score\"], errors=\"coerce\")\n",
    "df[\"SAT Math Avg. Score\"] = pd.to_numeric(df[\"SAT Math Avg. Score\"], errors=\"coerce\")\n",
    "df[\"SAT Writing Avg. Score\"] = pd.to_numeric(df[\"SAT Writing Avg. Score\"], errors=\"coerce\")\n",
    "\n",
    "# Drop rows with NaN values\n",
    "df = df.dropna(subset=[\"SAT Critical Reading Avg. Score\", \"SAT Math Avg. Score\", \"SAT Writing Avg. Score\"])\n",
    "\n",
    "print(df.info())\n",
    "print(\"\")\n",
    "\n",
    "# population params\n",
    "mu = df[\"SAT Writing Avg. Score\"].mean()\n",
    "tao = df[\"SAT Writing Avg. Score\"].sum()\n",
    "sigmasq = df[\"SAT Writing Avg. Score\"].var(ddof=0)\n",
    "\n",
    "print(f\"The mu is: {mu}\")\n",
    "print(f\"The tao is: {tao}\")\n",
    "print(f\"The sigma^2 is: {sigmasq}\")\n",
    "\n",
    "print(\"\")\n",
    "\n",
    "plt.hist(df[\"SAT Writing Avg. Score\"], bins=15, color=\"skyblue\", alpha=0.8, edgecolor=\"black\")\n",
    "plt.title(\"SAT Writing Avg. Score NYC Schools\")\n",
    "plt.xlabel(\"Avg Writing Score\")\n",
    "plt.show()\n"
   ]
  },
  {
   "cell_type": "code",
   "execution_count": null,
   "id": "beb4816e-e5e2-46d0-bf87-7c9ed152888b",
   "metadata": {},
   "outputs": [
    {
     "data": {
      "application/vnd.microsoft.datawrangler.viewer.v0+json": {
       "columns": [
        {
         "name": "index",
         "rawType": "int64",
         "type": "integer"
        },
        {
         "name": "DBN",
         "rawType": "object",
         "type": "string"
        },
        {
         "name": "SCHOOL NAME",
         "rawType": "object",
         "type": "string"
        },
        {
         "name": "Num of SAT Test Takers",
         "rawType": "object",
         "type": "string"
        },
        {
         "name": "SAT Critical Reading Avg. Score",
         "rawType": "float64",
         "type": "float"
        },
        {
         "name": "SAT Math Avg. Score",
         "rawType": "float64",
         "type": "float"
        },
        {
         "name": "SAT Writing Avg. Score",
         "rawType": "float64",
         "type": "float"
        }
       ],
       "conversionMethod": "pd.DataFrame",
       "ref": "77ffd112-dbe3-430d-a1b5-55eec04331fd",
       "rows": [
        [
         "0",
         "01M292",
         "HENRY STREET SCHOOL FOR INTERNATIONAL STUDIES",
         "29",
         "355.0",
         "404.0",
         "363.0"
        ],
        [
         "1",
         "01M448",
         "UNIVERSITY NEIGHBORHOOD HIGH SCHOOL",
         "91",
         "383.0",
         "423.0",
         "366.0"
        ],
        [
         "2",
         "01M450",
         "EAST SIDE COMMUNITY SCHOOL",
         "70",
         "377.0",
         "402.0",
         "370.0"
        ],
        [
         "3",
         "01M458",
         "FORSYTH SATELLITE ACADEMY",
         "7",
         "414.0",
         "401.0",
         "359.0"
        ],
        [
         "4",
         "01M509",
         "MARTA VALLE HIGH SCHOOL",
         "44",
         "390.0",
         "433.0",
         "384.0"
        ]
       ],
       "shape": {
        "columns": 6,
        "rows": 5
       }
      },
      "text/html": [
       "<div>\n",
       "<style scoped>\n",
       "    .dataframe tbody tr th:only-of-type {\n",
       "        vertical-align: middle;\n",
       "    }\n",
       "\n",
       "    .dataframe tbody tr th {\n",
       "        vertical-align: top;\n",
       "    }\n",
       "\n",
       "    .dataframe thead th {\n",
       "        text-align: right;\n",
       "    }\n",
       "</style>\n",
       "<table border=\"1\" class=\"dataframe\">\n",
       "  <thead>\n",
       "    <tr style=\"text-align: right;\">\n",
       "      <th></th>\n",
       "      <th>DBN</th>\n",
       "      <th>SCHOOL NAME</th>\n",
       "      <th>Num of SAT Test Takers</th>\n",
       "      <th>SAT Critical Reading Avg. Score</th>\n",
       "      <th>SAT Math Avg. Score</th>\n",
       "      <th>SAT Writing Avg. Score</th>\n",
       "    </tr>\n",
       "  </thead>\n",
       "  <tbody>\n",
       "    <tr>\n",
       "      <th>0</th>\n",
       "      <td>01M292</td>\n",
       "      <td>HENRY STREET SCHOOL FOR INTERNATIONAL STUDIES</td>\n",
       "      <td>29</td>\n",
       "      <td>355.0</td>\n",
       "      <td>404.0</td>\n",
       "      <td>363.0</td>\n",
       "    </tr>\n",
       "    <tr>\n",
       "      <th>1</th>\n",
       "      <td>01M448</td>\n",
       "      <td>UNIVERSITY NEIGHBORHOOD HIGH SCHOOL</td>\n",
       "      <td>91</td>\n",
       "      <td>383.0</td>\n",
       "      <td>423.0</td>\n",
       "      <td>366.0</td>\n",
       "    </tr>\n",
       "    <tr>\n",
       "      <th>2</th>\n",
       "      <td>01M450</td>\n",
       "      <td>EAST SIDE COMMUNITY SCHOOL</td>\n",
       "      <td>70</td>\n",
       "      <td>377.0</td>\n",
       "      <td>402.0</td>\n",
       "      <td>370.0</td>\n",
       "    </tr>\n",
       "    <tr>\n",
       "      <th>3</th>\n",
       "      <td>01M458</td>\n",
       "      <td>FORSYTH SATELLITE ACADEMY</td>\n",
       "      <td>7</td>\n",
       "      <td>414.0</td>\n",
       "      <td>401.0</td>\n",
       "      <td>359.0</td>\n",
       "    </tr>\n",
       "    <tr>\n",
       "      <th>4</th>\n",
       "      <td>01M509</td>\n",
       "      <td>MARTA VALLE HIGH SCHOOL</td>\n",
       "      <td>44</td>\n",
       "      <td>390.0</td>\n",
       "      <td>433.0</td>\n",
       "      <td>384.0</td>\n",
       "    </tr>\n",
       "  </tbody>\n",
       "</table>\n",
       "</div>"
      ],
      "text/plain": [
       "      DBN                                    SCHOOL NAME  \\\n",
       "0  01M292  HENRY STREET SCHOOL FOR INTERNATIONAL STUDIES   \n",
       "1  01M448            UNIVERSITY NEIGHBORHOOD HIGH SCHOOL   \n",
       "2  01M450                     EAST SIDE COMMUNITY SCHOOL   \n",
       "3  01M458                      FORSYTH SATELLITE ACADEMY   \n",
       "4  01M509                        MARTA VALLE HIGH SCHOOL   \n",
       "\n",
       "  Num of SAT Test Takers  SAT Critical Reading Avg. Score  \\\n",
       "0                     29                            355.0   \n",
       "1                     91                            383.0   \n",
       "2                     70                            377.0   \n",
       "3                      7                            414.0   \n",
       "4                     44                            390.0   \n",
       "\n",
       "   SAT Math Avg. Score  SAT Writing Avg. Score  \n",
       "0                404.0                   363.0  \n",
       "1                423.0                   366.0  \n",
       "2                402.0                   370.0  \n",
       "3                401.0                   359.0  \n",
       "4                433.0                   384.0  "
      ]
     },
     "execution_count": 27,
     "metadata": {},
     "output_type": "execute_result"
    }
   ],
   "source": [
    "N = len(df)\n",
    "df.head()"
   ]
  },
  {
   "cell_type": "markdown",
   "id": "944653d6-7fef-410a-ae1a-8d1392a5f7e8",
   "metadata": {},
   "source": [
    "## Problem 1"
   ]
  },
  {
   "cell_type": "code",
   "execution_count": 28,
   "id": "267fc03f-3c43-40bf-9301-bb4321ca2a56",
   "metadata": {},
   "outputs": [
    {
     "data": {
      "text/plain": [
       "np.float64(3429.9095356040643)"
      ]
     },
     "execution_count": 28,
     "metadata": {},
     "output_type": "execute_result"
    }
   ],
   "source": [
    "sigma_sq = df[\"SAT Writing Avg. Score\"].var(ddof=0)\n",
    "sigma_sq"
   ]
  },
  {
   "cell_type": "code",
   "execution_count": 29,
   "id": "6c5b5bc6-1da6-465b-b233-088791c6088e",
   "metadata": {},
   "outputs": [
    {
     "name": "stdout",
     "output_type": "stream",
     "text": [
      "Relative error r = 0.05, which gives d = 19.70\n",
      "  Confidence Level 90%: n = 23.0 (calculated n = 22.63)\n",
      "  Confidence Level 95%: n = 32.0 (calculated n = 31.42)\n",
      "\n",
      "Relative error r = 0.01, which gives d = 3.94\n",
      "  Confidence Level 90%: n = 248.0 (calculated n = 247.05)\n",
      "  Confidence Level 95%: n = 282.0 (calculated n = 281.42)\n",
      "\n",
      "Relative error r = 0.1, which gives d = 39.40\n",
      "  Confidence Level 90%: n = 6.0 (calculated n = 5.90)\n",
      "  Confidence Level 95%: n = 9.0 (calculated n = 8.32)\n",
      "\n",
      "Relative error r = 0.04, which gives d = 15.76\n",
      "  Confidence Level 90%: n = 35.0 (calculated n = 34.32)\n",
      "  Confidence Level 95%: n = 48.0 (calculated n = 47.12)\n",
      "\n",
      "Relative error r = 0.03, which gives d = 11.82\n",
      "  Confidence Level 90%: n = 58.0 (calculated n = 57.38)\n",
      "  Confidence Level 95%: n = 78.0 (calculated n = 77.05)\n",
      "\n",
      "Relative error r = 0.025, which gives d = 9.85\n",
      "  Confidence Level 90%: n = 78.0 (calculated n = 77.95)\n",
      "  Confidence Level 95%: n = 103.0 (calculated n = 102.69)\n",
      "\n",
      "Relative error r = 0.035, which gives d = 13.79\n",
      "  Confidence Level 90%: n = 44.0 (calculated n = 43.74)\n",
      "  Confidence Level 95%: n = 60.0 (calculated n = 59.50)\n",
      "\n"
     ]
    }
   ],
   "source": [
    "# trying different r-values\n",
    "r_values = [0.05, 0.01, 0.10, 0.04, 0.03, 0.025, 0.035]\n",
    "\n",
    "# Critical z-values for the two confidence levels\n",
    "z_values = {0.90: 1.645, 0.95: 1.96}\n",
    "\n",
    "# used for calculating d\n",
    "mu = df[\"SAT Writing Avg. Score\"].mean()\n",
    "\n",
    "for r in r_values:\n",
    "    d = r * mu\n",
    "    print(f\"Relative error r = {r}, which gives d = {d:.2f}\")\n",
    "    for conf, z in z_values.items():\n",
    "        # equation for Sample Size for Estimating a Population Mean with SRS\n",
    "        n0 = (z**2 * sigma_sq) / d**2\n",
    "        n = 1/ ((1/n0) + (1/len(df[\"SAT Writing Avg. Score\"])))\n",
    "        n_ceil = np.ceil(n)  # round up to the nearest whole number\n",
    "        print(f\"  Confidence Level {int(conf*100)}%: n = {n_ceil} (calculated n = {n:.2f})\")\n",
    "    print()"
   ]
  },
  {
   "cell_type": "markdown",
   "id": "4ea3063e",
   "metadata": {},
   "source": [
    "## Problem 2\n",
    "Estimate your parameter of interest using Simple Random Sampling (SRS) with the calculated sample sizes (n)."
   ]
  },
  {
   "cell_type": "code",
   "execution_count": 54,
   "id": "8db01a1e-86d6-4dce-b01a-0430a6f75824",
   "metadata": {},
   "outputs": [
    {
     "data": {
      "application/vnd.microsoft.datawrangler.viewer.v0+json": {
       "columns": [
        {
         "name": "index",
         "rawType": "int64",
         "type": "integer"
        },
        {
         "name": "n",
         "rawType": "int64",
         "type": "integer"
        },
        {
         "name": "sample_mean",
         "rawType": "float64",
         "type": "float"
        },
        {
         "name": "alpha",
         "rawType": "float64",
         "type": "float"
        }
       ],
       "conversionMethod": "pd.DataFrame",
       "ref": "1f736acc-c2f7-41dc-9adb-f512a4c0c24e",
       "rows": [
        [
         "0",
         "6",
         "362.3333333333333",
         "0.1"
        ],
        [
         "1",
         "9",
         "434.55555555555554",
         "0.05"
        ],
        [
         "2",
         "23",
         "392.04347826086956",
         "0.1"
        ],
        [
         "3",
         "32",
         "426.875",
         "0.05"
        ],
        [
         "4",
         "35",
         "396.14285714285717",
         "0.1"
        ],
        [
         "5",
         "44",
         "395.45454545454544",
         "0.1"
        ],
        [
         "6",
         "48",
         "391.3125",
         "0.05"
        ],
        [
         "7",
         "58",
         "390.2068965517241",
         "0.1"
        ],
        [
         "8",
         "60",
         "388.68333333333334",
         "0.05"
        ],
        [
         "9",
         "78",
         "385.15384615384613",
         "0.05"
        ],
        [
         "11",
         "103",
         "389.9611650485437",
         "0.05"
        ],
        [
         "12",
         "248",
         "390.05645161290323",
         "0.1"
        ],
        [
         "13",
         "282",
         "394.5177304964539",
         "0.05"
        ]
       ],
       "shape": {
        "columns": 3,
        "rows": 13
       }
      },
      "text/html": [
       "<div>\n",
       "<style scoped>\n",
       "    .dataframe tbody tr th:only-of-type {\n",
       "        vertical-align: middle;\n",
       "    }\n",
       "\n",
       "    .dataframe tbody tr th {\n",
       "        vertical-align: top;\n",
       "    }\n",
       "\n",
       "    .dataframe thead th {\n",
       "        text-align: right;\n",
       "    }\n",
       "</style>\n",
       "<table border=\"1\" class=\"dataframe\">\n",
       "  <thead>\n",
       "    <tr style=\"text-align: right;\">\n",
       "      <th></th>\n",
       "      <th>n</th>\n",
       "      <th>sample_mean</th>\n",
       "      <th>alpha</th>\n",
       "    </tr>\n",
       "  </thead>\n",
       "  <tbody>\n",
       "    <tr>\n",
       "      <th>0</th>\n",
       "      <td>6</td>\n",
       "      <td>362.333333</td>\n",
       "      <td>0.10</td>\n",
       "    </tr>\n",
       "    <tr>\n",
       "      <th>1</th>\n",
       "      <td>9</td>\n",
       "      <td>434.555556</td>\n",
       "      <td>0.05</td>\n",
       "    </tr>\n",
       "    <tr>\n",
       "      <th>2</th>\n",
       "      <td>23</td>\n",
       "      <td>392.043478</td>\n",
       "      <td>0.10</td>\n",
       "    </tr>\n",
       "    <tr>\n",
       "      <th>3</th>\n",
       "      <td>32</td>\n",
       "      <td>426.875000</td>\n",
       "      <td>0.05</td>\n",
       "    </tr>\n",
       "    <tr>\n",
       "      <th>4</th>\n",
       "      <td>35</td>\n",
       "      <td>396.142857</td>\n",
       "      <td>0.10</td>\n",
       "    </tr>\n",
       "    <tr>\n",
       "      <th>5</th>\n",
       "      <td>44</td>\n",
       "      <td>395.454545</td>\n",
       "      <td>0.10</td>\n",
       "    </tr>\n",
       "    <tr>\n",
       "      <th>6</th>\n",
       "      <td>48</td>\n",
       "      <td>391.312500</td>\n",
       "      <td>0.05</td>\n",
       "    </tr>\n",
       "    <tr>\n",
       "      <th>7</th>\n",
       "      <td>58</td>\n",
       "      <td>390.206897</td>\n",
       "      <td>0.10</td>\n",
       "    </tr>\n",
       "    <tr>\n",
       "      <th>8</th>\n",
       "      <td>60</td>\n",
       "      <td>388.683333</td>\n",
       "      <td>0.05</td>\n",
       "    </tr>\n",
       "    <tr>\n",
       "      <th>9</th>\n",
       "      <td>78</td>\n",
       "      <td>385.153846</td>\n",
       "      <td>0.05</td>\n",
       "    </tr>\n",
       "    <tr>\n",
       "      <th>11</th>\n",
       "      <td>103</td>\n",
       "      <td>389.961165</td>\n",
       "      <td>0.05</td>\n",
       "    </tr>\n",
       "    <tr>\n",
       "      <th>12</th>\n",
       "      <td>248</td>\n",
       "      <td>390.056452</td>\n",
       "      <td>0.10</td>\n",
       "    </tr>\n",
       "    <tr>\n",
       "      <th>13</th>\n",
       "      <td>282</td>\n",
       "      <td>394.517730</td>\n",
       "      <td>0.05</td>\n",
       "    </tr>\n",
       "  </tbody>\n",
       "</table>\n",
       "</div>"
      ],
      "text/plain": [
       "      n  sample_mean  alpha\n",
       "0     6   362.333333   0.10\n",
       "1     9   434.555556   0.05\n",
       "2    23   392.043478   0.10\n",
       "3    32   426.875000   0.05\n",
       "4    35   396.142857   0.10\n",
       "5    44   395.454545   0.10\n",
       "6    48   391.312500   0.05\n",
       "7    58   390.206897   0.10\n",
       "8    60   388.683333   0.05\n",
       "9    78   385.153846   0.05\n",
       "11  103   389.961165   0.05\n",
       "12  248   390.056452   0.10\n",
       "13  282   394.517730   0.05"
      ]
     },
     "execution_count": 54,
     "metadata": {},
     "output_type": "execute_result"
    }
   ],
   "source": [
    "n_values = [23, 32, 248, 282, 6, 9, 35, 48, 58, 78, 78, 103, 44, 60]\n",
    "\n",
    "rows = []\n",
    "for index, n in enumerate(n_values):\n",
    "    srs_sample = df.sample(n, replace=False)\n",
    "\n",
    "    yBar = srs_sample['SAT Writing Avg. Score'].mean()\n",
    "    rows.append({'n': n,\n",
    "                 'sample_mean': yBar,\n",
    "                 'alpha': 0.1 if index % 2 == 0 else 0.05\n",
    "                 })\n",
    "\n",
    "rows = sorted(rows, key=lambda x: x['n'])\n",
    "estimates_df = pd.DataFrame(rows)\n",
    "estimates_df.drop_duplicates(subset='n', inplace=True)\n",
    "\n",
    "estimates_df"
   ]
  },
  {
   "cell_type": "markdown",
   "id": "82817b7f",
   "metadata": {},
   "source": [
    "## Problem 3\n",
    "Estimate the variance of your estimator for the calculated sample sizes (n)"
   ]
  },
  {
   "cell_type": "code",
   "execution_count": null,
   "id": "e73bd668",
   "metadata": {},
   "outputs": [],
   "source": [
    "# add a column called 'sample_variance' to the estimates_df above thanks"
   ]
  },
  {
   "cell_type": "markdown",
   "id": "881eb0ed",
   "metadata": {},
   "source": [
    "## Problem 4\n",
    "Calculate confidence intervals for these estimators."
   ]
  },
  {
   "cell_type": "code",
   "execution_count": null,
   "id": "feafe806",
   "metadata": {},
   "outputs": [],
   "source": [
    "# basically, add a column containing a tuple of lower and upper bound for each\n",
    "# of the estimators in estimate_df\n",
    "from scipy.stats import t\n",
    "\n",
    "# function applied across each row of dataframe, to calculate the CI for that\n",
    "# n value\n",
    "def calculate_interval(row):\n",
    "    n = row['n'] #get length of sample\n",
    "\n",
    "    # calculate the t-critical value with n -1 degrees of freedom at 1 - alpha/2\n",
    "    t_crit_val = t.ppf(1 - row['alpha']/2, n - 1)\n",
    "\n",
    "    # calculate the difference value to be +-'sd from sample_mean\n",
    "    difference = t_crit_val * Math.sqrt((N - n / N) * (row['sample_variance'] / n))\n",
    "\n",
    "    return row['sample_mean'] - difference, row['sample_mean'] + difference\n",
    "\n",
    "estimates_df['confidence_interval'] = estimates_df.apply(calculate_interval, axis=1)"
   ]
  },
  {
   "cell_type": "markdown",
   "id": "d095aceb",
   "metadata": {},
   "source": [
    "## Problem 5\n",
    "Choose the optimal sample size (n) among the calculated ones based on the given criteria:\n",
    "- Sample size should be between 10% − 20% of the population size (N).\n",
    "- Sample size should be greater than 40 (considered a ’large sample’).\n",
    "- Sample size should ideally be within the range of 60 − 95.\n",
    "- Choose the sample size that produces the smaller estimator of variance and/or has a smaller α level."
   ]
  },
  {
   "cell_type": "code",
   "execution_count": null,
   "id": "99133822",
   "metadata": {},
   "outputs": [],
   "source": []
  },
  {
   "cell_type": "markdown",
   "id": "928bf6a7",
   "metadata": {},
   "source": [
    "## Problem 6\n",
    "Evaluate Nominal Confidence Level:\n",
    "- Take 100 samples of size n, where n is the selected optimal sample size. For each sample, compute the difference between the parameter and its estimator.\n",
    "- Compare these differences with d. Count how many samples have differences less than d.\n",
    "- Evaluate whether the results agree with the nominal confidence level. Justify your answer."
   ]
  }
 ],
 "metadata": {
  "kernelspec": {
   "display_name": "Python 3 (ipykernel)",
   "language": "python",
   "name": "python3"
  },
  "language_info": {
   "codemirror_mode": {
    "name": "ipython",
    "version": 3
   },
   "file_extension": ".py",
   "mimetype": "text/x-python",
   "name": "python",
   "nbconvert_exporter": "python",
   "pygments_lexer": "ipython3",
   "version": "3.10.12"
  }
 },
 "nbformat": 4,
 "nbformat_minor": 5
}
