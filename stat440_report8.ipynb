{
 "cells": [
  {
   "cell_type": "code",
   "execution_count": 1,
   "id": "138bf7a4-5ee4-4633-b944-315bc2b0ee0f",
   "metadata": {},
   "outputs": [
    {
     "name": "stdout",
     "output_type": "stream",
     "text": [
      "<class 'pandas.core.frame.DataFrame'>\n",
      "RangeIndex: 478 entries, 0 to 477\n",
      "Data columns (total 6 columns):\n",
      " #   Column                           Non-Null Count  Dtype \n",
      "---  ------                           --------------  ----- \n",
      " 0   DBN                              478 non-null    object\n",
      " 1   SCHOOL NAME                      478 non-null    object\n",
      " 2   Num of SAT Test Takers           478 non-null    object\n",
      " 3   SAT Critical Reading Avg. Score  478 non-null    object\n",
      " 4   SAT Math Avg. Score              478 non-null    object\n",
      " 5   SAT Writing Avg. Score           478 non-null    object\n",
      "dtypes: object(6)\n",
      "memory usage: 22.5+ KB\n",
      "None\n",
      "\n",
      "<class 'pandas.core.frame.DataFrame'>\n",
      "Index: 421 entries, 0 to 477\n",
      "Data columns (total 6 columns):\n",
      " #   Column                           Non-Null Count  Dtype  \n",
      "---  ------                           --------------  -----  \n",
      " 0   DBN                              421 non-null    object \n",
      " 1   SCHOOL NAME                      421 non-null    object \n",
      " 2   Num of SAT Test Takers           421 non-null    object \n",
      " 3   SAT Critical Reading Avg. Score  421 non-null    float64\n",
      " 4   SAT Math Avg. Score              421 non-null    float64\n",
      " 5   SAT Writing Avg. Score           421 non-null    float64\n",
      "dtypes: float64(3), object(3)\n",
      "memory usage: 23.0+ KB\n",
      "None\n",
      "\n",
      "The mu is: 393.9857482185273\n",
      "The tao is: 165868.0\n",
      "The sigma^2 is: 3429.9095356040657\n",
      "\n"
     ]
    }
   ],
   "source": [
    "import numpy as np\n",
    "import pandas as pd\n",
    "import matplotlib.pyplot as plt\n",
    "import seaborn as sns\n",
    "\n",
    "#  read the dataset\n",
    "df = pd.read_csv(\"2012-sat-results.csv\")\n",
    "\n",
    "print(df.info())\n",
    "print(\"\")\n",
    "\n",
    "# convert all values to numeric\n",
    "df[\"SAT Critical Reading Avg. Score\"] = pd.to_numeric(df[\"SAT Critical Reading Avg. Score\"], errors=\"coerce\")\n",
    "df[\"SAT Math Avg. Score\"] = pd.to_numeric(df[\"SAT Math Avg. Score\"], errors=\"coerce\")\n",
    "df[\"SAT Writing Avg. Score\"] = pd.to_numeric(df[\"SAT Writing Avg. Score\"], errors=\"coerce\")\n",
    "\n",
    "# Drop rows with NaN values\n",
    "df = df.dropna(subset=[\"SAT Critical Reading Avg. Score\", \"SAT Math Avg. Score\", \"SAT Writing Avg. Score\"])\n",
    "\n",
    "print(df.info())\n",
    "print(\"\")\n",
    "\n",
    "# population params\n",
    "mu = df[\"SAT Writing Avg. Score\"].mean()\n",
    "tao = df[\"SAT Writing Avg. Score\"].sum()\n",
    "sigmasq = df[\"SAT Writing Avg. Score\"].var(ddof=0)\n",
    "\n",
    "print(f\"The mu is: {mu}\")\n",
    "print(f\"The tao is: {tao}\")\n",
    "print(f\"The sigma^2 is: {sigmasq}\")\n",
    "\n",
    "print(\"\")"
   ]
  },
  {
   "cell_type": "markdown",
   "id": "c0b826fd-48ca-4f03-a8b2-98b7d6d5916d",
   "metadata": {},
   "source": [
    "${\\mu}$: 393.9857\n",
    "\n",
    "N: 421\n",
    "\n",
    "n: 80"
   ]
  },
  {
   "cell_type": "markdown",
   "id": "c21e5501-c9eb-46dd-a30b-461bcaac4ed3",
   "metadata": {},
   "source": [
    "# Problem 1. Select Same First Auxiliary Variable as Report 4"
   ]
  },
  {
   "cell_type": "code",
   "execution_count": 4,
   "id": "8abf22a5-e0b4-4691-b72b-9bb5f1210ea4",
   "metadata": {},
   "outputs": [],
   "source": [
    "# Selecting: SAT Math Avg. Score"
   ]
  },
  {
   "cell_type": "markdown",
   "id": "2b3dcb7c-c13e-4351-9fce-006e790eb2ee",
   "metadata": {},
   "source": [
    "# Problem 2. Perform Double Sampling with SRS"
   ]
  },
  {
   "cell_type": "code",
   "execution_count": 6,
   "id": "7a57ac78-0331-48a7-8978-7d5f72b532e7",
   "metadata": {},
   "outputs": [],
   "source": [
    "seed = 422\n",
    "np.random.seed(seed)\n",
    "\n",
    "n = 80\n",
    "N = 421\n",
    "npr = n * 2\n",
    "\n",
    "first_phase_sample = df.sample(n=npr, replace=False, random_state=seed)\n",
    "second_phase_sample = first_phase_sample.sample(n=n, replace=False, random_state=seed)"
   ]
  },
  {
   "cell_type": "markdown",
   "id": "be0f6b39-60e9-42e9-8448-fbca7f70d6bd",
   "metadata": {},
   "source": [
    "# Problem 3. Perform a Diagonstic Analysis to Check Ratio Estimator Assumptions"
   ]
  },
  {
   "cell_type": "code",
   "execution_count": 8,
   "id": "f9f40514-3f2e-4e23-9e71-72f96d999b53",
   "metadata": {},
   "outputs": [
    {
     "name": "stdout",
     "output_type": "stream",
     "text": [
      "                              OLS Regression Results                              \n",
      "==================================================================================\n",
      "Dep. Variable:     SAT Writing Avg. Score   R-squared:                       0.871\n",
      "Model:                                OLS   Adj. R-squared:                  0.869\n",
      "Method:                     Least Squares   F-statistic:                     525.8\n",
      "Date:                    Sat, 03 May 2025   Prob (F-statistic):           2.09e-36\n",
      "Time:                            12:28:37   Log-Likelihood:                -361.92\n",
      "No. Observations:                      80   AIC:                             727.8\n",
      "Df Residuals:                          78   BIC:                             732.6\n",
      "Df Model:                               1                                         \n",
      "Covariance Type:                nonrobust                                         \n",
      "=======================================================================================\n",
      "                          coef    std err          t      P>|t|      [0.025      0.975]\n",
      "---------------------------------------------------------------------------------------\n",
      "const                  36.0988     15.809      2.283      0.025       4.625      67.573\n",
      "SAT Math Avg. Score     0.8649      0.038     22.931      0.000       0.790       0.940\n",
      "==============================================================================\n",
      "Omnibus:                       47.952   Durbin-Watson:                   2.326\n",
      "Prob(Omnibus):                  0.000   Jarque-Bera (JB):              252.639\n",
      "Skew:                          -1.693   Prob(JB):                     1.38e-55\n",
      "Kurtosis:                      11.021   Cond. No.                     2.62e+03\n",
      "==============================================================================\n",
      "\n",
      "Notes:\n",
      "[1] Standard Errors assume that the covariance matrix of the errors is correctly specified.\n",
      "[2] The condition number is large, 2.62e+03. This might indicate that there are\n",
      "strong multicollinearity or other numerical problems.\n"
     ]
    }
   ],
   "source": [
    "import statsmodels.api as sm\n",
    "\n",
    "X = second_phase_sample[\"SAT Math Avg. Score\"]\n",
    "y = second_phase_sample[\"SAT Writing Avg. Score\"]\n",
    "\n",
    "# Add a constant (intercept)\n",
    "X = sm.add_constant(X)\n",
    "\n",
    "# Fit the model\n",
    "model = sm.OLS(y, X).fit()\n",
    "\n",
    "# Get the summary\n",
    "print(model.summary())"
   ]
  },
  {
   "cell_type": "markdown",
   "id": "e8dc33cd-968a-4d8e-abc2-7883d840b3d9",
   "metadata": {},
   "source": [
    "### Since the p-value for the slope is 0 < 0.05, this means that you reject the null hypothesis that there is not a significant linear relationship between SAT Math Avg. score and SAT Writing Avg. score. Since the p-value of the intercept is 0.025 < 0.05, this means you reject the null hypothesis that the line passes through the origin."
   ]
  },
  {
   "cell_type": "markdown",
   "id": "c3b7974a-2943-453c-bb62-fd97c243ee91",
   "metadata": {},
   "source": [
    "# Problem 4. Make conclusion about appropriateness of using ratio estimator based on the result of 3. Does your conclusion agree with part 7 of Report 4 (Regression output based on whole population)?"
   ]
  },
  {
   "cell_type": "code",
   "execution_count": null,
   "id": "8201aa36-2763-41b1-ad89-8c716159a0dd",
   "metadata": {},
   "outputs": [],
   "source": []
  }
 ],
 "metadata": {
  "kernelspec": {
   "display_name": "Python 3 (ipykernel)",
   "language": "python",
   "name": "python3"
  },
  "language_info": {
   "codemirror_mode": {
    "name": "ipython",
    "version": 3
   },
   "file_extension": ".py",
   "mimetype": "text/x-python",
   "name": "python",
   "nbconvert_exporter": "python",
   "pygments_lexer": "ipython3",
   "version": "3.12.2"
  }
 },
 "nbformat": 4,
 "nbformat_minor": 5
}
