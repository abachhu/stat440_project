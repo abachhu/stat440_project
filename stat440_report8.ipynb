{
 "cells": [
  {
   "cell_type": "code",
   "execution_count": 1,
   "id": "138bf7a4-5ee4-4633-b944-315bc2b0ee0f",
   "metadata": {},
   "outputs": [
    {
     "name": "stdout",
     "output_type": "stream",
     "text": [
      "<class 'pandas.core.frame.DataFrame'>\n",
      "RangeIndex: 478 entries, 0 to 477\n",
      "Data columns (total 6 columns):\n",
      " #   Column                           Non-Null Count  Dtype \n",
      "---  ------                           --------------  ----- \n",
      " 0   DBN                              478 non-null    object\n",
      " 1   SCHOOL NAME                      478 non-null    object\n",
      " 2   Num of SAT Test Takers           478 non-null    object\n",
      " 3   SAT Critical Reading Avg. Score  478 non-null    object\n",
      " 4   SAT Math Avg. Score              478 non-null    object\n",
      " 5   SAT Writing Avg. Score           478 non-null    object\n",
      "dtypes: object(6)\n",
      "memory usage: 22.5+ KB\n",
      "None\n",
      "\n",
      "<class 'pandas.core.frame.DataFrame'>\n",
      "Index: 421 entries, 0 to 477\n",
      "Data columns (total 6 columns):\n",
      " #   Column                           Non-Null Count  Dtype  \n",
      "---  ------                           --------------  -----  \n",
      " 0   DBN                              421 non-null    object \n",
      " 1   SCHOOL NAME                      421 non-null    object \n",
      " 2   Num of SAT Test Takers           421 non-null    object \n",
      " 3   SAT Critical Reading Avg. Score  421 non-null    float64\n",
      " 4   SAT Math Avg. Score              421 non-null    float64\n",
      " 5   SAT Writing Avg. Score           421 non-null    float64\n",
      "dtypes: float64(3), object(3)\n",
      "memory usage: 23.0+ KB\n",
      "None\n",
      "\n",
      "The mu is: 393.9857482185273\n",
      "The tao is: 165868.0\n",
      "The sigma^2 is: 3429.9095356040643\n",
      "\n"
     ]
    }
   ],
   "source": [
    "import numpy as np\n",
    "import pandas as pd\n",
    "import matplotlib.pyplot as plt\n",
    "import seaborn as sns\n",
    "\n",
    "#  read the dataset\n",
    "df = pd.read_csv(\"2012-sat-results.csv\")\n",
    "\n",
    "print(df.info())\n",
    "print(\"\")\n",
    "\n",
    "# convert all values to numeric\n",
    "df[\"SAT Critical Reading Avg. Score\"] = pd.to_numeric(df[\"SAT Critical Reading Avg. Score\"], errors=\"coerce\")\n",
    "df[\"SAT Math Avg. Score\"] = pd.to_numeric(df[\"SAT Math Avg. Score\"], errors=\"coerce\")\n",
    "df[\"SAT Writing Avg. Score\"] = pd.to_numeric(df[\"SAT Writing Avg. Score\"], errors=\"coerce\")\n",
    "\n",
    "# Drop rows with NaN values\n",
    "df = df.dropna(subset=[\"SAT Critical Reading Avg. Score\", \"SAT Math Avg. Score\", \"SAT Writing Avg. Score\"])\n",
    "\n",
    "print(df.info())\n",
    "print(\"\")\n",
    "\n",
    "# population params\n",
    "mu = df[\"SAT Writing Avg. Score\"].mean()\n",
    "tao = df[\"SAT Writing Avg. Score\"].sum()\n",
    "sigmasq = df[\"SAT Writing Avg. Score\"].var(ddof=0)\n",
    "\n",
    "print(f\"The mu is: {mu}\")\n",
    "print(f\"The tao is: {tao}\")\n",
    "print(f\"The sigma^2 is: {sigmasq}\")\n",
    "\n",
    "print(\"\")"
   ]
  },
  {
   "cell_type": "markdown",
   "id": "c0b826fd-48ca-4f03-a8b2-98b7d6d5916d",
   "metadata": {},
   "source": [
    "${\\mu}$: 393.9857\n",
    "\n",
    "N: 421\n",
    "\n",
    "n: 80"
   ]
  },
  {
   "cell_type": "markdown",
   "id": "c21e5501-c9eb-46dd-a30b-461bcaac4ed3",
   "metadata": {},
   "source": [
    "# Problem 1. Select Same First Auxiliary Variable as Report 4"
   ]
  },
  {
   "cell_type": "code",
   "execution_count": 2,
   "id": "8abf22a5-e0b4-4691-b72b-9bb5f1210ea4",
   "metadata": {},
   "outputs": [],
   "source": [
    "# Selecting: SAT Math Avg. Score"
   ]
  },
  {
   "cell_type": "markdown",
   "id": "2b3dcb7c-c13e-4351-9fce-006e790eb2ee",
   "metadata": {},
   "source": [
    "# Problem 2. Perform Double Sampling with SRS"
   ]
  },
  {
   "cell_type": "code",
   "execution_count": 3,
   "id": "7a57ac78-0331-48a7-8978-7d5f72b532e7",
   "metadata": {},
   "outputs": [],
   "source": [
    "seed = 422\n",
    "np.random.seed(seed)\n",
    "\n",
    "n = 80\n",
    "N = 421\n",
    "npr = n * 2\n",
    "\n",
    "first_phase_sample = df.sample(n=npr, replace=False, random_state=seed)\n",
    "second_phase_sample = first_phase_sample.sample(n=n, replace=False, random_state=seed)"
   ]
  },
  {
   "cell_type": "markdown",
   "id": "be0f6b39-60e9-42e9-8448-fbca7f70d6bd",
   "metadata": {},
   "source": [
    "# Problem 3. Perform a Diagonstic Analysis to Check Ratio Estimator Assumptions"
   ]
  },
  {
   "cell_type": "code",
   "execution_count": 4,
   "id": "f9f40514-3f2e-4e23-9e71-72f96d999b53",
   "metadata": {},
   "outputs": [
    {
     "name": "stdout",
     "output_type": "stream",
     "text": [
      "                              OLS Regression Results                              \n",
      "==================================================================================\n",
      "Dep. Variable:     SAT Writing Avg. Score   R-squared:                       0.871\n",
      "Model:                                OLS   Adj. R-squared:                  0.869\n",
      "Method:                     Least Squares   F-statistic:                     525.8\n",
      "Date:                    Mon, 05 May 2025   Prob (F-statistic):           2.09e-36\n",
      "Time:                            12:20:48   Log-Likelihood:                -361.92\n",
      "No. Observations:                      80   AIC:                             727.8\n",
      "Df Residuals:                          78   BIC:                             732.6\n",
      "Df Model:                               1                                         \n",
      "Covariance Type:                nonrobust                                         \n",
      "=======================================================================================\n",
      "                          coef    std err          t      P>|t|      [0.025      0.975]\n",
      "---------------------------------------------------------------------------------------\n",
      "const                  36.0988     15.809      2.283      0.025       4.625      67.573\n",
      "SAT Math Avg. Score     0.8649      0.038     22.931      0.000       0.790       0.940\n",
      "==============================================================================\n",
      "Omnibus:                       47.952   Durbin-Watson:                   2.326\n",
      "Prob(Omnibus):                  0.000   Jarque-Bera (JB):              252.639\n",
      "Skew:                          -1.693   Prob(JB):                     1.38e-55\n",
      "Kurtosis:                      11.021   Cond. No.                     2.62e+03\n",
      "==============================================================================\n",
      "\n",
      "Notes:\n",
      "[1] Standard Errors assume that the covariance matrix of the errors is correctly specified.\n",
      "[2] The condition number is large, 2.62e+03. This might indicate that there are\n",
      "strong multicollinearity or other numerical problems.\n"
     ]
    }
   ],
   "source": [
    "import statsmodels.api as sm\n",
    "\n",
    "X = second_phase_sample[\"SAT Math Avg. Score\"]\n",
    "y = second_phase_sample[\"SAT Writing Avg. Score\"]\n",
    "\n",
    "# Add a constant (intercept)\n",
    "X = sm.add_constant(X)\n",
    "\n",
    "# Fit the model\n",
    "model = sm.OLS(y, X).fit()\n",
    "\n",
    "# Get the summary\n",
    "print(model.summary())"
   ]
  },
  {
   "cell_type": "markdown",
   "id": "e8dc33cd-968a-4d8e-abc2-7883d840b3d9",
   "metadata": {},
   "source": [
    "### Since the p-value for the slope is 0 < 0.05, this means that you reject the null hypothesis that there is not a significant linear relationship between SAT Math Avg. score and SAT Writing Avg. score. Since the p-value of the intercept is 0.025 < 0.05, this means you reject the null hypothesis that the line passes through the origin."
   ]
  },
  {
   "cell_type": "markdown",
   "id": "c3b7974a-2943-453c-bb62-fd97c243ee91",
   "metadata": {},
   "source": [
    "# Problem 4. Make conclusion about appropriateness of using ratio estimator based on the result of 3. Does your conclusion agree with part 7 of Report 4 (Regression output based on whole population)?"
   ]
  },
  {
   "cell_type": "markdown",
   "id": "725fb481",
   "metadata": {},
   "source": [
    "The ratio estimator assumes that the variable of interest is linearly related to the auxiliary variable, and in our case, there is a significant linear relationship between SAT Math Avg. Score and SAT Writing Avg. score. Additionally, The ratio estimator also assumes that the variable of interest tends to be zero when the auxiliary variable tends to zero, which is not satisfied here, since the linear regression line does not pass through the origin, shown above. Since one of the assumptions isn't met, ratio estimator isn't the best fit here.\n",
    "\n",
    "This follows Report 4, where the ratio estimator has a poorer estimate than the linear regression estimator. In that report for the regression output on the whole population, we observe that linearity holds, but fails to satisfy the origin-passing condition. This matches the conclusions we just got with double sampling with the auxiliary variable as SAT Math Avg. Score."
   ]
  },
  {
   "cell_type": "markdown",
   "id": "f55242cf",
   "metadata": {},
   "source": [
    "# 5. Estimate your parameter of interest by ratio estimator. Estimate its variance and standard deviation.\n",
    "\n",
    "$\\Large r = \\frac{\\sum_{i=1}^n y_i}{\\sum_{i=1}^n x_i}$\n",
    "\n",
    "$\\Large \\hat{\\tau_x} = \\frac{N}{n'}\\sum_{i=1}^{n'} x_i$\n",
    "\n",
    "$\\Large \\hat{\\tau_r} = r\\hat{\\tau_x}$\n",
    "\n",
    "$\\Large \\hat{\\mu_r} = \\frac{1}{N}\\hat{\\tau_r}$"
   ]
  },
  {
   "cell_type": "code",
   "execution_count": 5,
   "id": "783d62c9",
   "metadata": {},
   "outputs": [
    {
     "data": {
      "text/plain": [
       "396.35"
      ]
     },
     "execution_count": 5,
     "metadata": {},
     "output_type": "execute_result"
    }
   ],
   "source": [
    "y_i = second_phase_sample['SAT Writing Avg. Score']# is from 1 to n (SECOND PHASE SAMPLE)\n",
    "x_i = second_phase_sample['SAT Math Avg. Score']   # is from 1 to n (SECOND PHASE SAMPLE)\n",
    "x_i_pr = first_phase_sample['SAT Math Avg. Score'] # is from 1 to n' (FIRST PHASE SAMPLE)\n",
    "\n",
    "r = sum(y_i) / sum(x_i)\n",
    "tau_hat_x = (N / npr) * sum(x_i_pr)\n",
    "\n",
    "tau_hat_r = r * tau_hat_x\n",
    "mu_hat_r = (1 / N) * tau_hat_r\n",
    "round(mu_hat_r, 2)"
   ]
  },
  {
   "cell_type": "markdown",
   "id": "9aa06f25",
   "metadata": {},
   "source": [
    "$\\Large \\bar{y} = \\frac{1}{n}\\sum_{i=1}^ny_i$\n",
    "\n",
    "$\\Large s^2 = \\frac{1}{n - 1}\\sum_{i=1}^n(y_i - \\bar{y})^2$\n",
    "\n",
    "$\\Large \\hat{\\text{var}}(\\hat{\\tau_r}) = N(N-n')\\frac{s^2}{n'} + N^2\\frac{n'-n}{n'n(n-1)}\\sum_{i=1}^n(y_i-rx_i)^2$\n",
    "\n",
    "$\\Large \\hat{\\text{var}}(\\hat{\\mu_r}) = \\frac{1}{N^2}\\hat{\\text{var}}(\\hat{\\tau_r})$"
   ]
  },
  {
   "cell_type": "code",
   "execution_count": 6,
   "id": "4f8c4b28",
   "metadata": {},
   "outputs": [
    {
     "data": {
      "text/plain": [
       "18.49"
      ]
     },
     "execution_count": 6,
     "metadata": {},
     "output_type": "execute_result"
    }
   ],
   "source": [
    "ybar = (1 / n) * sum(y_i)\n",
    "s2 = (1 / (n - 1)) * sum((y_i - ybar)**2)\n",
    "\n",
    "var_hat_tau_hat_r = (N * (N - npr) * (s2 / npr)) + (N**2 * ((npr - n) / (npr*n*(n-1))) * sum((y_i - r * x_i)**2))\n",
    "\n",
    "var_hat_mu_hat_r = (1 / N**2) * var_hat_tau_hat_r\n",
    "round(var_hat_mu_hat_r, 2)"
   ]
  },
  {
   "cell_type": "code",
   "execution_count": 7,
   "id": "be5795e6",
   "metadata": {},
   "outputs": [
    {
     "data": {
      "text/plain": [
       "4.3"
      ]
     },
     "execution_count": 7,
     "metadata": {},
     "output_type": "execute_result"
    }
   ],
   "source": [
    "stddev_mu_hat_r = float(np.sqrt(var_hat_mu_hat_r))\n",
    "round(stddev_mu_hat_r, 2)"
   ]
  },
  {
   "cell_type": "markdown",
   "id": "87bda973-b37b-4493-9d86-e00d310999d8",
   "metadata": {},
   "source": [
    "# 6.Choose the second auxiliary variable x the same as in Report 4."
   ]
  },
  {
   "cell_type": "code",
   "execution_count": 8,
   "id": "406433d1-c4cb-4209-ba6d-b5a564c8ae50",
   "metadata": {},
   "outputs": [],
   "source": [
    "# Select SAT average reading score as second auxiliary variable."
   ]
  },
  {
   "cell_type": "markdown",
   "id": "294c7fbc-240c-4bbf-ac81-fe791b640a8a",
   "metadata": {},
   "source": [
    "# 7. Repeat steps 2–5."
   ]
  },
  {
   "cell_type": "code",
   "execution_count": 13,
   "id": "0e229590-b0e3-41b8-97bc-3603afa63132",
   "metadata": {},
   "outputs": [],
   "source": [
    "seed2 = 422\n",
    "np.random.seed(seed2)\n",
    "\n",
    "n2 = 80\n",
    "N2 = 421\n",
    "npr2 = n * 2\n",
    "\n",
    "first_phase_sample_2 = df.sample(n=npr2, replace=False, random_state=seed2)\n",
    "second_phase_sample_2 = first_phase_sample_2.sample(n=n2, replace=False, random_state=seed2)"
   ]
  },
  {
   "cell_type": "code",
   "execution_count": 14,
   "id": "d5a30877-cc95-47c8-a853-1cba95061fb2",
   "metadata": {},
   "outputs": [
    {
     "name": "stdout",
     "output_type": "stream",
     "text": [
      "                              OLS Regression Results                              \n",
      "==================================================================================\n",
      "Dep. Variable:     SAT Writing Avg. Score   R-squared:                       0.931\n",
      "Model:                                OLS   Adj. R-squared:                  0.930\n",
      "Method:                     Least Squares   F-statistic:                     1059.\n",
      "Date:                    Mon, 05 May 2025   Prob (F-statistic):           3.92e-47\n",
      "Time:                            12:23:33   Log-Likelihood:                -336.62\n",
      "No. Observations:                      80   AIC:                             677.2\n",
      "Df Residuals:                          78   BIC:                             682.0\n",
      "Df Model:                               1                                         \n",
      "Covariance Type:                nonrobust                                         \n",
      "===================================================================================================\n",
      "                                      coef    std err          t      P>|t|      [0.025      0.975]\n",
      "---------------------------------------------------------------------------------------------------\n",
      "const                              -8.6563     12.511     -0.692      0.491     -33.564      16.252\n",
      "SAT Critical Reading Avg. Score     1.0039      0.031     32.535      0.000       0.943       1.065\n",
      "==============================================================================\n",
      "Omnibus:                       19.975   Durbin-Watson:                   1.664\n",
      "Prob(Omnibus):                  0.000   Jarque-Bera (JB):               27.727\n",
      "Skew:                          -1.082   Prob(JB):                     9.53e-07\n",
      "Kurtosis:                       4.907   Cond. No.                     2.75e+03\n",
      "==============================================================================\n",
      "\n",
      "Notes:\n",
      "[1] Standard Errors assume that the covariance matrix of the errors is correctly specified.\n",
      "[2] The condition number is large, 2.75e+03. This might indicate that there are\n",
      "strong multicollinearity or other numerical problems.\n"
     ]
    }
   ],
   "source": [
    "\n",
    "X2 = second_phase_sample_2[\"SAT Critical Reading Avg. Score\"]\n",
    "y2 = second_phase_sample_2[\"SAT Writing Avg. Score\"]\n",
    "\n",
    "X2= sm.add_constant(X2)\n",
    "\n",
    "model2 = sm.OLS(y2, X2).fit()\n",
    "\n",
    "print(model2.summary())"
   ]
  },
  {
   "cell_type": "code",
   "execution_count": null,
   "id": "afb7b537-4fcc-410d-af4c-c366fa050293",
   "metadata": {},
   "outputs": [],
   "source": []
  }
 ],
 "metadata": {
  "kernelspec": {
   "display_name": "Python 3 (ipykernel)",
   "language": "python",
   "name": "python3"
  },
  "language_info": {
   "codemirror_mode": {
    "name": "ipython",
    "version": 3
   },
   "file_extension": ".py",
   "mimetype": "text/x-python",
   "name": "python",
   "nbconvert_exporter": "python",
   "pygments_lexer": "ipython3",
   "version": "3.11.4"
  }
 },
 "nbformat": 4,
 "nbformat_minor": 5
}
