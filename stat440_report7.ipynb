{
 "cells": [
  {
   "cell_type": "code",
   "execution_count": 1,
   "id": "a2756968-7fee-4c4b-8c3b-27823e966797",
   "metadata": {},
   "outputs": [
    {
     "name": "stdout",
     "output_type": "stream",
     "text": [
      "<class 'pandas.core.frame.DataFrame'>\n",
      "RangeIndex: 478 entries, 0 to 477\n",
      "Data columns (total 6 columns):\n",
      " #   Column                           Non-Null Count  Dtype \n",
      "---  ------                           --------------  ----- \n",
      " 0   DBN                              478 non-null    object\n",
      " 1   SCHOOL NAME                      478 non-null    object\n",
      " 2   Num of SAT Test Takers           478 non-null    object\n",
      " 3   SAT Critical Reading Avg. Score  478 non-null    object\n",
      " 4   SAT Math Avg. Score              478 non-null    object\n",
      " 5   SAT Writing Avg. Score           478 non-null    object\n",
      "dtypes: object(6)\n",
      "memory usage: 22.5+ KB\n",
      "None\n",
      "\n",
      "<class 'pandas.core.frame.DataFrame'>\n",
      "Index: 421 entries, 0 to 477\n",
      "Data columns (total 6 columns):\n",
      " #   Column                           Non-Null Count  Dtype  \n",
      "---  ------                           --------------  -----  \n",
      " 0   DBN                              421 non-null    object \n",
      " 1   SCHOOL NAME                      421 non-null    object \n",
      " 2   Num of SAT Test Takers           421 non-null    object \n",
      " 3   SAT Critical Reading Avg. Score  421 non-null    float64\n",
      " 4   SAT Math Avg. Score              421 non-null    float64\n",
      " 5   SAT Writing Avg. Score           421 non-null    float64\n",
      "dtypes: float64(3), object(3)\n",
      "memory usage: 23.0+ KB\n",
      "None\n",
      "\n",
      "The mu is: 393.9857482185273\n",
      "The tao is: 165868.0\n",
      "The sigma^2 is: 3429.9095356040657\n",
      "\n"
     ]
    }
   ],
   "source": [
    "import numpy as np\n",
    "import pandas as pd\n",
    "import matplotlib.pyplot as plt\n",
    "import seaborn as sns\n",
    "import random\n",
    "\n",
    "#  read the dataset\n",
    "df = pd.read_csv(\"2012-sat-results.csv\")\n",
    "\n",
    "print(df.info())\n",
    "print(\"\")\n",
    "\n",
    "# convert all values to numeric\n",
    "df[\"SAT Critical Reading Avg. Score\"] = pd.to_numeric(df[\"SAT Critical Reading Avg. Score\"], errors=\"coerce\")\n",
    "df[\"SAT Math Avg. Score\"] = pd.to_numeric(df[\"SAT Math Avg. Score\"], errors=\"coerce\")\n",
    "df[\"SAT Writing Avg. Score\"] = pd.to_numeric(df[\"SAT Writing Avg. Score\"], errors=\"coerce\")\n",
    "\n",
    "# Drop rows with NaN values\n",
    "df = df.dropna(subset=[\"SAT Critical Reading Avg. Score\", \"SAT Math Avg. Score\", \"SAT Writing Avg. Score\"])\n",
    "\n",
    "print(df.info())\n",
    "print(\"\")\n",
    "\n",
    "# population params\n",
    "mu = df[\"SAT Writing Avg. Score\"].mean()\n",
    "tao = df[\"SAT Writing Avg. Score\"].sum()\n",
    "sigmasq = df[\"SAT Writing Avg. Score\"].var(ddof=0)\n",
    "\n",
    "print(f\"The mu is: {mu}\")\n",
    "print(f\"The tao is: {tao}\")\n",
    "print(f\"The sigma^2 is: {sigmasq}\")\n",
    "\n",
    "print(\"\")"
   ]
  },
  {
   "cell_type": "markdown",
   "id": "bbf7df66-3cbd-4a4e-b2ea-31a3999091ab",
   "metadata": {},
   "source": [
    "#### M = 421\n",
    "#### ${\\mu}$ = 393.9857\n",
    "#### sample_size = 80"
   ]
  },
  {
   "cell_type": "markdown",
   "id": "124935a1-5c1e-489c-8fc1-cfff5ccad684",
   "metadata": {},
   "source": [
    "### Problem 1: Divide your population into N (3 to 5) primary units with different number of secondary units (Nh should not be equal)."
   ]
  },
  {
   "cell_type": "code",
   "execution_count": 4,
   "id": "a861a916-aaa4-42a8-93c4-ffd26443daf5",
   "metadata": {},
   "outputs": [
    {
     "data": {
      "text/plain": [
       "{'Nh': [120, 178, 75, 23, 24],\n",
       " 'sigma_sq_h': [359.5436974789913,\n",
       "  125.25550688757683,\n",
       "  192.81981981981997,\n",
       "  153.30039525691697,\n",
       "  2583.644927536234]}"
      ]
     },
     "execution_count": 4,
     "metadata": {},
     "output_type": "execute_result"
    }
   ],
   "source": [
    "# N = 5 groups\n",
    "\n",
    "bins = [280, 370, 410, 460, 500, df[\"SAT Critical Reading Avg. Score\"].max()]\n",
    "labels = [0, 1, 2, 3, 4]\n",
    "\n",
    "# Create the Reading_Stratum column\n",
    "df[\"Reading_Stratum\"] = pd.cut(df[\"SAT Critical Reading Avg. Score\"], bins=bins, labels=labels, include_lowest=True)\n",
    "\n",
    "# Calculate Nh and sigma_sq_h\n",
    "reading = {\n",
    "    \"Nh\": df.groupby(\"Reading_Stratum\", observed=False).size().tolist(),\n",
    "    \"sigma_sq_h\": df.groupby(\"Reading_Stratum\", observed=False)[\"SAT Critical Reading Avg. Score\"].var(ddof=1).tolist()\n",
    "}\n",
    "reading"
   ]
  },
  {
   "cell_type": "markdown",
   "id": "fecfb602-f56d-4b00-b2f4-7647ee8c01ca",
   "metadata": {},
   "source": [
    "# Problem 2: Perform two stage design with SRS at each stage"
   ]
  },
  {
   "cell_type": "code",
   "execution_count": 6,
   "id": "548d0f51-3096-4e60-a2aa-7395fbaf35d8",
   "metadata": {},
   "outputs": [
    {
     "data": {
      "text/plain": [
       "array([0, 1, 4, 3])"
      ]
     },
     "execution_count": 6,
     "metadata": {},
     "output_type": "execute_result"
    }
   ],
   "source": [
    "np.random.seed(422)\n",
    "\n",
    "N = 5\n",
    "n = 4\n",
    "sample_size = 80\n",
    "\n",
    "primary_grps = np.random.choice(labels, size=n, replace=False)\n",
    "primary_grps"
   ]
  },
  {
   "cell_type": "code",
   "execution_count": 7,
   "id": "6da7c743-2050-4894-9691-1775bcdc1fd0",
   "metadata": {},
   "outputs": [],
   "source": [
    "df_selected = df[df[\"Reading_Stratum\"].isin(primary_grps)]\n",
    "\n",
    "M_i = df_selected.groupby(\"Reading_Stratum\", observed=False).size()\n",
    "\n",
    "# mi proportional to size of each primary unit\n",
    "m_i = (M_i / M_i.sum() * sample_size).round().astype(int)\n",
    "\n",
    "# Make sure that m_i is exactly 80\n",
    "while m_i.sum() != sample_size:\n",
    "    diff = sample_size - m_i.sum()\n",
    "    idx = np.random.choice(m_i.index)\n",
    "    m_i[idx] += diff\n",
    "\n",
    "sampled_df_list = []\n",
    "\n",
    "# Sample mi[i] units for primary_group[i]\n",
    "for group, num_samples in m_i.items():\n",
    "    group_df = df_selected[df_selected[\"Reading_Stratum\"] == group]\n",
    "    sampled_group = group_df.sample(n=num_samples, random_state=5577) #70 #5577\n",
    "    sampled_group[\"Selected_Primary_Group\"] = group\n",
    "    sampled_df_list.append(sampled_group)\n",
    "\n",
    "final_sampled_df = pd.concat(sampled_df_list)"
   ]
  },
  {
   "cell_type": "code",
   "execution_count": 8,
   "id": "fdcccdfa-e245-44ff-b04b-778d56149901",
   "metadata": {},
   "outputs": [
    {
     "data": {
      "text/html": [
       "<div>\n",
       "<style scoped>\n",
       "    .dataframe tbody tr th:only-of-type {\n",
       "        vertical-align: middle;\n",
       "    }\n",
       "\n",
       "    .dataframe tbody tr th {\n",
       "        vertical-align: top;\n",
       "    }\n",
       "\n",
       "    .dataframe thead th {\n",
       "        text-align: right;\n",
       "    }\n",
       "</style>\n",
       "<table border=\"1\" class=\"dataframe\">\n",
       "  <thead>\n",
       "    <tr style=\"text-align: right;\">\n",
       "      <th></th>\n",
       "      <th>DBN</th>\n",
       "      <th>SCHOOL NAME</th>\n",
       "      <th>Num of SAT Test Takers</th>\n",
       "      <th>SAT Critical Reading Avg. Score</th>\n",
       "      <th>SAT Math Avg. Score</th>\n",
       "      <th>SAT Writing Avg. Score</th>\n",
       "      <th>Reading_Stratum</th>\n",
       "      <th>Selected_Primary_Group</th>\n",
       "    </tr>\n",
       "  </thead>\n",
       "  <tbody>\n",
       "    <tr>\n",
       "      <th>291</th>\n",
       "      <td>16K393</td>\n",
       "      <td>FREDERICK DOUGLASS ACADEMY IV SECONDARY SCHOOL</td>\n",
       "      <td>20</td>\n",
       "      <td>355.0</td>\n",
       "      <td>355.0</td>\n",
       "      <td>358.0</td>\n",
       "      <td>0</td>\n",
       "      <td>0</td>\n",
       "    </tr>\n",
       "    <tr>\n",
       "      <th>383</th>\n",
       "      <td>24Q530</td>\n",
       "      <td>INTERNATIONAL HIGH SCHOOL AT LAGUARDIA COMMUNI...</td>\n",
       "      <td>69</td>\n",
       "      <td>326.0</td>\n",
       "      <td>409.0</td>\n",
       "      <td>329.0</td>\n",
       "      <td>0</td>\n",
       "      <td>0</td>\n",
       "    </tr>\n",
       "    <tr>\n",
       "      <th>170</th>\n",
       "      <td>09X403</td>\n",
       "      <td>BRONX INTERNATIONAL HIGH SCHOOL</td>\n",
       "      <td>49</td>\n",
       "      <td>314.0</td>\n",
       "      <td>312.0</td>\n",
       "      <td>339.0</td>\n",
       "      <td>0</td>\n",
       "      <td>0</td>\n",
       "    </tr>\n",
       "    <tr>\n",
       "      <th>300</th>\n",
       "      <td>17K524</td>\n",
       "      <td>INTERNATIONAL HIGH SCHOOL AT PROSPECT HEIGHTS</td>\n",
       "      <td>71</td>\n",
       "      <td>287.0</td>\n",
       "      <td>335.0</td>\n",
       "      <td>291.0</td>\n",
       "      <td>0</td>\n",
       "      <td>0</td>\n",
       "    </tr>\n",
       "    <tr>\n",
       "      <th>115</th>\n",
       "      <td>06M467</td>\n",
       "      <td>HIGH SCHOOL FOR LAW AND PUBLIC SERVICE</td>\n",
       "      <td>94</td>\n",
       "      <td>363.0</td>\n",
       "      <td>378.0</td>\n",
       "      <td>361.0</td>\n",
       "      <td>0</td>\n",
       "      <td>0</td>\n",
       "    </tr>\n",
       "  </tbody>\n",
       "</table>\n",
       "</div>"
      ],
      "text/plain": [
       "        DBN                                        SCHOOL NAME  \\\n",
       "291  16K393     FREDERICK DOUGLASS ACADEMY IV SECONDARY SCHOOL   \n",
       "383  24Q530  INTERNATIONAL HIGH SCHOOL AT LAGUARDIA COMMUNI...   \n",
       "170  09X403                    BRONX INTERNATIONAL HIGH SCHOOL   \n",
       "300  17K524      INTERNATIONAL HIGH SCHOOL AT PROSPECT HEIGHTS   \n",
       "115  06M467             HIGH SCHOOL FOR LAW AND PUBLIC SERVICE   \n",
       "\n",
       "    Num of SAT Test Takers  SAT Critical Reading Avg. Score  \\\n",
       "291                     20                            355.0   \n",
       "383                     69                            326.0   \n",
       "170                     49                            314.0   \n",
       "300                     71                            287.0   \n",
       "115                     94                            363.0   \n",
       "\n",
       "     SAT Math Avg. Score  SAT Writing Avg. Score Reading_Stratum  \\\n",
       "291                355.0                   358.0               0   \n",
       "383                409.0                   329.0               0   \n",
       "170                312.0                   339.0               0   \n",
       "300                335.0                   291.0               0   \n",
       "115                378.0                   361.0               0   \n",
       "\n",
       "     Selected_Primary_Group  \n",
       "291                       0  \n",
       "383                       0  \n",
       "170                       0  \n",
       "300                       0  \n",
       "115                       0  "
      ]
     },
     "execution_count": 8,
     "metadata": {},
     "output_type": "execute_result"
    }
   ],
   "source": [
    "final_sampled_df.head()"
   ]
  },
  {
   "cell_type": "markdown",
   "id": "73fa66ef-61f0-42fb-a8da-2581d732c310",
   "metadata": {},
   "source": [
    "## Problem 3: Estimate your parameter of interest by unbiased estimator. Estimate its variance and standard deviation."
   ]
  },
  {
   "cell_type": "markdown",
   "id": "5b68b41f",
   "metadata": {},
   "source": [
    "$\\Large\\hat{y_i} = \\frac{M_i}{m_i} \\sum_{j=1}^{m_i}y_{ij} = M_i \\bar{y_i}$\n",
    "\n",
    "$\\Large\\bar{y_i} = \\frac{1}{m_i} \\sum_{j=1}^{m_i}y_{ij} = \\frac{\\hat{y_i}}{M_i}$"
   ]
  },
  {
   "cell_type": "code",
   "execution_count": 11,
   "id": "472cb657-1e6d-4d73-8ece-28ec3549f754",
   "metadata": {},
   "outputs": [],
   "source": [
    "ybar_i = final_sampled_df.groupby(\"Selected_Primary_Group\")[\"SAT Critical Reading Avg. Score\"].mean()\n",
    "\n",
    "Mi_selected = M_i.loc[ybar_i.index]\n",
    "mi_selected = m_i.loc[ybar_i.index]\n",
    "yhat_i = Mi_selected * ybar_i"
   ]
  },
  {
   "cell_type": "code",
   "execution_count": 12,
   "id": "b8914111-facf-49e7-9949-33d375840e38",
   "metadata": {},
   "outputs": [
    {
     "data": {
      "text/plain": [
       "Selected_Primary_Group\n",
       "0    41091.428571\n",
       "1    69003.219512\n",
       "3    10819.200000\n",
       "4    12944.000000\n",
       "dtype: float64"
      ]
     },
     "execution_count": 12,
     "metadata": {},
     "output_type": "execute_result"
    }
   ],
   "source": [
    "yhat_i"
   ]
  },
  {
   "cell_type": "code",
   "execution_count": 13,
   "id": "2763c9f0-5bcd-4e98-850e-9c605bf19d7a",
   "metadata": {},
   "outputs": [
    {
     "data": {
      "text/plain": [
       "Selected_Primary_Group\n",
       "0    342.428571\n",
       "1    387.658537\n",
       "3    470.400000\n",
       "4    539.333333\n",
       "Name: SAT Critical Reading Avg. Score, dtype: float64"
      ]
     },
     "execution_count": 13,
     "metadata": {},
     "output_type": "execute_result"
    }
   ],
   "source": [
    "ybar_i"
   ]
  },
  {
   "cell_type": "markdown",
   "id": "eb6a2583",
   "metadata": {},
   "source": [
    "$\\Large\\hat{\\tau} = \\frac{N}{n} \\sum_{i=1}^n$\n",
    "\n",
    "$\\Large\\hat{\\mu} = \\frac{\\hat{\\tau}}{M}$"
   ]
  },
  {
   "cell_type": "code",
   "execution_count": 15,
   "id": "c8e66df5-c420-4671-bcd9-6117485850dd",
   "metadata": {},
   "outputs": [
    {
     "data": {
      "text/plain": [
       "397.4401665190727"
      ]
     },
     "execution_count": 15,
     "metadata": {},
     "output_type": "execute_result"
    }
   ],
   "source": [
    "M = 421\n",
    "tau_hat = (N / n) * sum(yhat_i)\n",
    "mu_hat = tau_hat / M\n",
    "mu_hat"
   ]
  },
  {
   "cell_type": "markdown",
   "id": "0b7e7b3c",
   "metadata": {},
   "source": [
    "$\\Large s^2_u = \\frac{1}{n-1}\\sum_{i=1}^n (\\hat{y_i} - \\hat{\\mu_{1}})^2$\n",
    "\n",
    "$\\mu_1 = \\frac{1}{n}\\sum_{i=1}^n \\hat{y_i}$\n",
    "\n",
    "$\\Large s^2_i = \\frac{1}{m_i} \\sum_{j=1}^{m_i}(y_{ij} - \\bar{y_i})^2$\n",
    "\n",
    "$\\Large\\hat{\\text{var}}(\\hat{\\tau}) = N(N-n)\\frac{s^2_u}{n} + \\frac{N}{n}\\sum_{i=1}^n M_i(M_i - m_i) \\frac{s^2_i}{m_i}$\n",
    "\n",
    "$\\Large\\hat{\\text{var}}(\\hat{\\mu}) = \\frac{\\hat{\\text{var}}(\\hat{\\tau})}{M^2}$"
   ]
  },
  {
   "cell_type": "code",
   "execution_count": 17,
   "id": "ebe41715-aa5d-47cd-a4f9-8a556194a513",
   "metadata": {},
   "outputs": [],
   "source": [
    "M = 421\n",
    "mu_hat_1 = 1/n * sum(yhat_i)\n",
    "\n",
    "su_sq = ((yhat_i - mu_hat_1)**2).sum() / (n - 1)\n",
    "si_sq = final_sampled_df.groupby(\"Selected_Primary_Group\")[\"SAT Critical Reading Avg. Score\"].var(ddof=1)\n",
    "var_hat_tau_hat = N*(N-n)*su_sq/n + (N/n)*(Mi_selected*(Mi_selected - mi_selected)*si_sq/mi_selected).sum()\n",
    "var_hat_mu_hat = var_hat_tau_hat / M**2"
   ]
  },
  {
   "cell_type": "code",
   "execution_count": 18,
   "id": "2779eb99-a017-4ef8-a789-341a1ba0b51a",
   "metadata": {},
   "outputs": [
    {
     "data": {
      "text/plain": [
       "5303.92544410031"
      ]
     },
     "execution_count": 18,
     "metadata": {},
     "output_type": "execute_result"
    }
   ],
   "source": [
    "var_hat_mu_hat"
   ]
  },
  {
   "cell_type": "markdown",
   "id": "284eddae-540a-40eb-a972-93a299e83e41",
   "metadata": {},
   "source": [
    "Estimated sd: sqrt($\\hat{\\text{var}}(\\hat{\\mu})$)"
   ]
  },
  {
   "cell_type": "code",
   "execution_count": 20,
   "id": "c4411c96-1e9a-4eef-b201-2da3461c566c",
   "metadata": {},
   "outputs": [
    {
     "data": {
      "text/plain": [
       "72.82805396343026"
      ]
     },
     "execution_count": 20,
     "metadata": {},
     "output_type": "execute_result"
    }
   ],
   "source": [
    "sd_mu_hat = var_hat_mu_hat**0.5\n",
    "sd_mu_hat"
   ]
  },
  {
   "cell_type": "markdown",
   "id": "d83a46c4-71c1-44ac-a0ac-ea860f754634",
   "metadata": {},
   "source": [
    "$\\hat{\\mu}$: 397.4401665190727\n",
    "\n",
    "Estimated Variance: 5303.92544410031\n",
    "\n",
    "Estimated standard deviation: 72.82805396343026"
   ]
  },
  {
   "cell_type": "markdown",
   "id": "0493183c",
   "metadata": {},
   "source": [
    "# 4. Estimate your parameter of interest by ratio estimator. Estimate its variance and standard deviation"
   ]
  },
  {
   "cell_type": "code",
   "execution_count": 23,
   "id": "f1dcfe1a",
   "metadata": {},
   "outputs": [],
   "source": [
    "ybar_i = final_sampled_df.groupby(\"Selected_Primary_Group\")[\"SAT Critical Reading Avg. Score\"].mean()\n",
    "\n",
    "Mi_selected = M_i.loc[ybar_i.index]\n",
    "mi_selected = m_i.loc[ybar_i.index]\n",
    "yhat_i = Mi_selected * ybar_i\n",
    "\n",
    "M = 421"
   ]
  },
  {
   "cell_type": "markdown",
   "id": "74e785d8",
   "metadata": {},
   "source": [
    "$\\Large\\hat{\\mu_r} = \\hat{r} = \\frac{\\sum_{i=1}^n \\hat{y_i}}{\\sum_{i=1}^n M_i}$"
   ]
  },
  {
   "cell_type": "code",
   "execution_count": 25,
   "id": "5a6d0322",
   "metadata": {},
   "outputs": [
    {
     "data": {
      "text/plain": [
       "387.9937625612281"
      ]
     },
     "execution_count": 25,
     "metadata": {},
     "output_type": "execute_result"
    }
   ],
   "source": [
    "r_hat = sum(yhat_i) / sum(Mi_selected)\n",
    "\n",
    "mu_hat_r = r_hat\n",
    "mu_hat_r"
   ]
  },
  {
   "cell_type": "markdown",
   "id": "07193f58",
   "metadata": {},
   "source": [
    "$\\Large\\hat{\\text{var}}(\\hat{\\tau_r}) = \\frac{N(N-n)}{n(n-1)} \\sum_{i=1}^n(\\hat{y_i} - M_i\\hat{r})^2 + \\frac{N}{n}\\sum_{i=1}^n M_i(M_i - m_i)\\frac{s^2_i}{m_i}$\n",
    "\n",
    "$\\Large\\hat{\\text{var}}(\\hat{\\mu_r}) = \\frac{\\Large\\hat{\\text{var}}(\\hat{\\tau_r})}{M^2}$"
   ]
  },
  {
   "cell_type": "code",
   "execution_count": 27,
   "id": "d60152fd",
   "metadata": {},
   "outputs": [
    {
     "data": {
      "text/plain": [
       "112.34620577465252"
      ]
     },
     "execution_count": 27,
     "metadata": {},
     "output_type": "execute_result"
    }
   ],
   "source": [
    "var_hat_tau_hat_r = ((N * (N - n)) /  (n * (n - 1))) * sum( (yhat_i - Mi_selected * r_hat)**2 ) + (N / n) * sum( (Mi_selected * (Mi_selected - mi_selected)) * (si_sq / mi_selected))\n",
    "var_hat_mu_hat_r = var_hat_tau_hat_r / (M**2)\n",
    "var_hat_mu_hat_r"
   ]
  },
  {
   "cell_type": "markdown",
   "id": "b2236307-a3ed-49c3-a68b-9401fc059715",
   "metadata": {},
   "source": [
    "Estimated standard deviation: sqrt($\\hat{\\text{var}}(\\hat{\\mu}_r)$)"
   ]
  },
  {
   "cell_type": "code",
   "execution_count": 29,
   "id": "086b10e8-260e-4c53-9a46-27365a5fd7be",
   "metadata": {},
   "outputs": [
    {
     "data": {
      "text/plain": [
       "10.599349309021404"
      ]
     },
     "execution_count": 29,
     "metadata": {},
     "output_type": "execute_result"
    }
   ],
   "source": [
    "sd_mu_hat_r = var_hat_mu_hat_r**0.5\n",
    "sd_mu_hat_r"
   ]
  },
  {
   "cell_type": "markdown",
   "id": "9f78251b-3220-405a-9929-d53b0e735b3a",
   "metadata": {},
   "source": [
    "$\\hat{\\mu}_r$: 387.9937\n",
    "\n",
    "Estimated Variance: 112.3462\n",
    "\n",
    "Estimated standard deviation: 10.5993"
   ]
  },
  {
   "cell_type": "markdown",
   "id": "894583a4",
   "metadata": {},
   "source": [
    "# 5. Perform two stage design in which primary units are selected with replacement, with probabilities proportional to size and a sample of secondary units is selected independently using SRS from the selected primary units on the first stage with the total size $\\sum^n_{i=1} m_i$ chosen in Report 2"
   ]
  },
  {
   "cell_type": "code",
   "execution_count": 32,
   "id": "7eab2b4b",
   "metadata": {},
   "outputs": [
    {
     "data": {
      "text/html": [
       "<div>\n",
       "<style scoped>\n",
       "    .dataframe tbody tr th:only-of-type {\n",
       "        vertical-align: middle;\n",
       "    }\n",
       "\n",
       "    .dataframe tbody tr th {\n",
       "        vertical-align: top;\n",
       "    }\n",
       "\n",
       "    .dataframe thead th {\n",
       "        text-align: right;\n",
       "    }\n",
       "</style>\n",
       "<table border=\"1\" class=\"dataframe\">\n",
       "  <thead>\n",
       "    <tr style=\"text-align: right;\">\n",
       "      <th></th>\n",
       "      <th>DBN</th>\n",
       "      <th>SCHOOL NAME</th>\n",
       "      <th>Num of SAT Test Takers</th>\n",
       "      <th>SAT Critical Reading Avg. Score</th>\n",
       "      <th>SAT Math Avg. Score</th>\n",
       "      <th>SAT Writing Avg. Score</th>\n",
       "      <th>Reading_Stratum</th>\n",
       "      <th>Selected_Primary_Group</th>\n",
       "    </tr>\n",
       "  </thead>\n",
       "  <tbody>\n",
       "    <tr>\n",
       "      <th>200</th>\n",
       "      <td>10X477</td>\n",
       "      <td>MARBLE HILL HIGH SCHOOL FOR INTERNATIONAL STUDIES</td>\n",
       "      <td>99</td>\n",
       "      <td>414.0</td>\n",
       "      <td>435.0</td>\n",
       "      <td>414.0</td>\n",
       "      <td>2</td>\n",
       "      <td>2</td>\n",
       "    </tr>\n",
       "    <tr>\n",
       "      <th>361</th>\n",
       "      <td>21K690</td>\n",
       "      <td>BROOKLYN STUDIO SECONDARY SCHOOL</td>\n",
       "      <td>119</td>\n",
       "      <td>429.0</td>\n",
       "      <td>449.0</td>\n",
       "      <td>435.0</td>\n",
       "      <td>2</td>\n",
       "      <td>2</td>\n",
       "    </tr>\n",
       "    <tr>\n",
       "      <th>54</th>\n",
       "      <td>02M531</td>\n",
       "      <td>REPERTORY COMPANY HIGH SCHOOL FOR THEATRE ARTS</td>\n",
       "      <td>42</td>\n",
       "      <td>429.0</td>\n",
       "      <td>404.0</td>\n",
       "      <td>420.0</td>\n",
       "      <td>2</td>\n",
       "      <td>2</td>\n",
       "    </tr>\n",
       "    <tr>\n",
       "      <th>313</th>\n",
       "      <td>17K600</td>\n",
       "      <td>CLARA BARTON HIGH SCHOOL</td>\n",
       "      <td>259</td>\n",
       "      <td>425.0</td>\n",
       "      <td>413.0</td>\n",
       "      <td>413.0</td>\n",
       "      <td>2</td>\n",
       "      <td>2</td>\n",
       "    </tr>\n",
       "    <tr>\n",
       "      <th>79</th>\n",
       "      <td>03M404</td>\n",
       "      <td>INNOVATION DIPLOMA PLUS</td>\n",
       "      <td>12</td>\n",
       "      <td>416.0</td>\n",
       "      <td>403.0</td>\n",
       "      <td>381.0</td>\n",
       "      <td>2</td>\n",
       "      <td>2</td>\n",
       "    </tr>\n",
       "  </tbody>\n",
       "</table>\n",
       "</div>"
      ],
      "text/plain": [
       "        DBN                                        SCHOOL NAME  \\\n",
       "200  10X477  MARBLE HILL HIGH SCHOOL FOR INTERNATIONAL STUDIES   \n",
       "361  21K690                   BROOKLYN STUDIO SECONDARY SCHOOL   \n",
       "54   02M531     REPERTORY COMPANY HIGH SCHOOL FOR THEATRE ARTS   \n",
       "313  17K600                           CLARA BARTON HIGH SCHOOL   \n",
       "79   03M404                            INNOVATION DIPLOMA PLUS   \n",
       "\n",
       "    Num of SAT Test Takers  SAT Critical Reading Avg. Score  \\\n",
       "200                     99                            414.0   \n",
       "361                    119                            429.0   \n",
       "54                      42                            429.0   \n",
       "313                    259                            425.0   \n",
       "79                      12                            416.0   \n",
       "\n",
       "     SAT Math Avg. Score  SAT Writing Avg. Score Reading_Stratum  \\\n",
       "200                435.0                   414.0               2   \n",
       "361                449.0                   435.0               2   \n",
       "54                 404.0                   420.0               2   \n",
       "313                413.0                   413.0               2   \n",
       "79                 403.0                   381.0               2   \n",
       "\n",
       "     Selected_Primary_Group  \n",
       "200                       2  \n",
       "361                       2  \n",
       "54                        2  \n",
       "313                       2  \n",
       "79                        2  "
      ]
     },
     "execution_count": 32,
     "metadata": {},
     "output_type": "execute_result"
    }
   ],
   "source": [
    "M_i = df.groupby(\"Reading_Stratum\", observed=False).size()\n",
    "\n",
    "sample_size = 80\n",
    "n_primary_draws = 10\n",
    "p_i = M_i / M_i.sum()\n",
    "\n",
    "# select primaries w/ replacement w/ PPS\n",
    "primary_units_selected = np.random.choice(M_i.index, size=n_primary_draws, replace=True, p=p_i)\n",
    "primary_counts = pd.Series(primary_units_selected).value_counts()\n",
    "\n",
    "m_i = (primary_counts / primary_counts.sum() * sample_size).round().astype(int)\n",
    "\n",
    "# Make sure that m_i is exactly 80\n",
    "while m_i.sum() != sample_size:\n",
    "    diff = sample_size - m_i.sum()\n",
    "    idx = np.random.choice(m_i.index)\n",
    "    m_i[idx] += diff\n",
    "\n",
    "sampled_df_list = []\n",
    "# Sample mi[i] units for primary_group[i]\n",
    "for group, num_samples in m_i.items():\n",
    "    group_df = df[df[\"Reading_Stratum\"] == group]\n",
    "\n",
    "    # If more samples are needed than exist in this primary group\n",
    "    replace_needed = num_samples > len(group_df)\n",
    "    sampled_group = group_df.sample(n=num_samples, replace=replace_needed, random_state=5577)\n",
    "\n",
    "    sampled_group[\"Selected_Primary_Group\"] = group\n",
    "    sampled_df_list.append(sampled_group)\n",
    "\n",
    "# Combine all sampled secondary units\n",
    "final_sampled_df = pd.concat(sampled_df_list)\n",
    "final_sampled_df.head()"
   ]
  },
  {
   "cell_type": "markdown",
   "id": "a08db1f9",
   "metadata": {},
   "source": [
    "# 6. Estimate your parameter of interest by Hansen-Horvitz estimator. Estimate its variance and standard deviation."
   ]
  },
  {
   "cell_type": "markdown",
   "id": "61fc39ed",
   "metadata": {},
   "source": [
    "Hansen-Horvitz Estimator: \n",
    "- $\\hat{\\mu}_p = \\frac{\\hat{\\tau}_p}{M}$ \n",
    "- $\\hat{\\tau}_p = \\frac{M}{n} \\sum_{i=1}^{n} \\bar{y}_i$\n",
    "- $\\bar{y}_i = \\frac{1}{m_i} \\sum_{j=1}^{m_i} y_{ij}\n",
    "\\quad \\text{(sample mean within the \\(i\\)-th primary unit)}$\n"
   ]
  },
  {
   "cell_type": "code",
   "execution_count": 60,
   "id": "9648a64e",
   "metadata": {},
   "outputs": [
    {
     "name": "stdout",
     "output_type": "stream",
     "text": [
      "Estimated Mean (mu_p_hat): 427.8333333333333\n"
     ]
    }
   ],
   "source": [
    "y_i_bar = final_sampled_df.groupby(\"Selected_Primary_Group\")[\"SAT Critical Reading Avg. Score\"].mean()\n",
    "tau_p_hat = (M/n) * sum(y_i_bar)\n",
    "mu_p_hat = tau_p_hat / M\n",
    "print(f\"Estimated Mean (mu_p_hat): {mu_p_hat}\")"
   ]
  },
  {
   "cell_type": "markdown",
   "id": "3ce9ddd2",
   "metadata": {},
   "source": [
    "Estimated Variance:\n",
    "- $\\hat{\\text{var}}(\\hat{\\mu_p})$ = $\\frac{1}{n(n-1)} \\sum_{i=1}^{n} \\left( \\bar{y}_i - \\hat{\\mu}_p \\right)^2$\n"
   ]
  },
  {
   "cell_type": "code",
   "execution_count": 63,
   "id": "8b5862fb",
   "metadata": {},
   "outputs": [
    {
     "name": "stdout",
     "output_type": "stream",
     "text": [
      "Estimated Variance: 1949.4029947916665\n"
     ]
    }
   ],
   "source": [
    "var_hat_mu_p_hat = (1 / (n * (n-1))) * sum((y_i_bar - mu_p_hat)**2)\n",
    "print(f\"Estimated Variance: {var_hat_mu_p_hat}\")"
   ]
  },
  {
   "cell_type": "markdown",
   "id": "00276856",
   "metadata": {},
   "source": [
    "Estimated Standard Deviation:\n",
    "- std. dev = sqrt($\\hat{\\text{var}}(\\hat{\\mu}_p)$)"
   ]
  },
  {
   "cell_type": "code",
   "execution_count": 66,
   "id": "61b74dc6",
   "metadata": {},
   "outputs": [
    {
     "name": "stdout",
     "output_type": "stream",
     "text": [
      "Estimated Standard Deviation: 44.15204406130781\n"
     ]
    }
   ],
   "source": [
    "print(f\"Estimated Standard Deviation: {np.sqrt(var_hat_mu_p_hat)}\")"
   ]
  },
  {
   "cell_type": "code",
   "execution_count": null,
   "id": "82791e89-76ac-4d71-9656-636c81b3b1e1",
   "metadata": {},
   "outputs": [],
   "source": []
  }
 ],
 "metadata": {
  "kernelspec": {
   "display_name": "Python 3 (ipykernel)",
   "language": "python",
   "name": "python3"
  },
  "language_info": {
   "codemirror_mode": {
    "name": "ipython",
    "version": 3
   },
   "file_extension": ".py",
   "mimetype": "text/x-python",
   "name": "python",
   "nbconvert_exporter": "python",
   "pygments_lexer": "ipython3",
   "version": "3.12.2"
  }
 },
 "nbformat": 4,
 "nbformat_minor": 5
}
