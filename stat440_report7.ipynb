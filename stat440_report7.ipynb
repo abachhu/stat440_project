{
 "cells": [
  {
   "cell_type": "code",
   "execution_count": 131,
   "id": "a2756968-7fee-4c4b-8c3b-27823e966797",
   "metadata": {},
   "outputs": [
    {
     "name": "stdout",
     "output_type": "stream",
     "text": [
      "<class 'pandas.core.frame.DataFrame'>\n",
      "RangeIndex: 478 entries, 0 to 477\n",
      "Data columns (total 6 columns):\n",
      " #   Column                           Non-Null Count  Dtype \n",
      "---  ------                           --------------  ----- \n",
      " 0   DBN                              478 non-null    object\n",
      " 1   SCHOOL NAME                      478 non-null    object\n",
      " 2   Num of SAT Test Takers           478 non-null    object\n",
      " 3   SAT Critical Reading Avg. Score  478 non-null    object\n",
      " 4   SAT Math Avg. Score              478 non-null    object\n",
      " 5   SAT Writing Avg. Score           478 non-null    object\n",
      "dtypes: object(6)\n",
      "memory usage: 22.5+ KB\n",
      "None\n",
      "\n",
      "<class 'pandas.core.frame.DataFrame'>\n",
      "Index: 421 entries, 0 to 477\n",
      "Data columns (total 6 columns):\n",
      " #   Column                           Non-Null Count  Dtype  \n",
      "---  ------                           --------------  -----  \n",
      " 0   DBN                              421 non-null    object \n",
      " 1   SCHOOL NAME                      421 non-null    object \n",
      " 2   Num of SAT Test Takers           421 non-null    object \n",
      " 3   SAT Critical Reading Avg. Score  421 non-null    float64\n",
      " 4   SAT Math Avg. Score              421 non-null    float64\n",
      " 5   SAT Writing Avg. Score           421 non-null    float64\n",
      "dtypes: float64(3), object(3)\n",
      "memory usage: 23.0+ KB\n",
      "None\n",
      "\n",
      "The mu is: 393.9857482185273\n",
      "The tao is: 165868.0\n",
      "The sigma^2 is: 3429.9095356040657\n",
      "\n"
     ]
    }
   ],
   "source": [
    "import numpy as np\n",
    "import pandas as pd\n",
    "import matplotlib.pyplot as plt\n",
    "import seaborn as sns\n",
    "import random\n",
    "\n",
    "#  read the dataset\n",
    "df = pd.read_csv(\"2012-sat-results.csv\")\n",
    "\n",
    "print(df.info())\n",
    "print(\"\")\n",
    "\n",
    "# convert all values to numeric\n",
    "df[\"SAT Critical Reading Avg. Score\"] = pd.to_numeric(df[\"SAT Critical Reading Avg. Score\"], errors=\"coerce\")\n",
    "df[\"SAT Math Avg. Score\"] = pd.to_numeric(df[\"SAT Math Avg. Score\"], errors=\"coerce\")\n",
    "df[\"SAT Writing Avg. Score\"] = pd.to_numeric(df[\"SAT Writing Avg. Score\"], errors=\"coerce\")\n",
    "\n",
    "# Drop rows with NaN values\n",
    "df = df.dropna(subset=[\"SAT Critical Reading Avg. Score\", \"SAT Math Avg. Score\", \"SAT Writing Avg. Score\"])\n",
    "\n",
    "print(df.info())\n",
    "print(\"\")\n",
    "\n",
    "# population params\n",
    "mu = df[\"SAT Writing Avg. Score\"].mean()\n",
    "tao = df[\"SAT Writing Avg. Score\"].sum()\n",
    "sigmasq = df[\"SAT Writing Avg. Score\"].var(ddof=0)\n",
    "\n",
    "print(f\"The mu is: {mu}\")\n",
    "print(f\"The tao is: {tao}\")\n",
    "print(f\"The sigma^2 is: {sigmasq}\")\n",
    "\n",
    "print(\"\")"
   ]
  },
  {
   "cell_type": "markdown",
   "id": "bbf7df66-3cbd-4a4e-b2ea-31a3999091ab",
   "metadata": {},
   "source": [
    "#### M = 421\n",
    "#### ${\\mu}$ = 393.9857\n",
    "#### sample_size = 80"
   ]
  },
  {
   "cell_type": "markdown",
   "id": "124935a1-5c1e-489c-8fc1-cfff5ccad684",
   "metadata": {},
   "source": [
    "### Problem 1: Divide your population into N (3 to 5) primary units with different number of secondary units (Nh should not be equal)."
   ]
  },
  {
   "cell_type": "code",
   "execution_count": 541,
   "id": "a861a916-aaa4-42a8-93c4-ffd26443daf5",
   "metadata": {},
   "outputs": [
    {
     "data": {
      "text/plain": [
       "{'Nh': [120, 178, 75, 23, 24],\n",
       " 'sigma_sq_h': [359.5436974789913,\n",
       "  125.25550688757683,\n",
       "  192.81981981981997,\n",
       "  153.30039525691697,\n",
       "  2583.644927536234]}"
      ]
     },
     "execution_count": 541,
     "metadata": {},
     "output_type": "execute_result"
    }
   ],
   "source": [
    "# N = 5 groups\n",
    "\n",
    "bins = [280, 370, 410, 460, 500, df[\"SAT Critical Reading Avg. Score\"].max()]\n",
    "labels = [0, 1, 2, 3, 4]\n",
    "\n",
    "# Create the Reading_Stratum column\n",
    "df[\"Reading_Stratum\"] = pd.cut(df[\"SAT Critical Reading Avg. Score\"], bins=bins, labels=labels, include_lowest=True)\n",
    "\n",
    "# Calculate Nh and sigma_sq_h\n",
    "reading = {\n",
    "    \"Nh\": df.groupby(\"Reading_Stratum\", observed=False).size().tolist(),\n",
    "    \"sigma_sq_h\": df.groupby(\"Reading_Stratum\", observed=False)[\"SAT Critical Reading Avg. Score\"].var(ddof=1).tolist()\n",
    "}\n",
    "reading"
   ]
  },
  {
   "cell_type": "code",
   "execution_count": 565,
   "id": "548d0f51-3096-4e60-a2aa-7395fbaf35d8",
   "metadata": {},
   "outputs": [
    {
     "data": {
      "text/plain": [
       "array([0, 1, 4, 3])"
      ]
     },
     "execution_count": 565,
     "metadata": {},
     "output_type": "execute_result"
    }
   ],
   "source": [
    "np.random.seed(422)\n",
    "\n",
    "N = 5\n",
    "n = 4\n",
    "sample_size = 80\n",
    "\n",
    "primary_grps = np.random.choice(labels, size=n, replace=False)\n",
    "primary_grps"
   ]
  },
  {
   "cell_type": "markdown",
   "id": "86466ad4-23ab-4d1e-9c28-f8d60a8d9918",
   "metadata": {},
   "source": [
    "# Problem 2: Perform two stage design with SRS at each stage"
   ]
  },
  {
   "cell_type": "code",
   "execution_count": 587,
   "id": "6da7c743-2050-4894-9691-1775bcdc1fd0",
   "metadata": {},
   "outputs": [
    {
     "name": "stderr",
     "output_type": "stream",
     "text": [
      "/var/folders/xx/kq65n2bs46zfct40mfzqshzm0000gp/T/ipykernel_80143/4083775326.py:3: FutureWarning: The default of observed=False is deprecated and will be changed to True in a future version of pandas. Pass observed=False to retain current behavior or observed=True to adopt the future default and silence this warning.\n",
      "  Mi = df_selected.groupby(\"Reading_Stratum\").size()\n"
     ]
    }
   ],
   "source": [
    "df_selected = df[df[\"Reading_Stratum\"].isin(primary_grps)]\n",
    "\n",
    "Mi = df_selected.groupby(\"Reading_Stratum\").size()\n",
    "\n",
    "# mi proportional to size of each primary unit\n",
    "m_i = (Mi / Mi.sum() * sample_size).round().astype(int)\n",
    "\n",
    "# Make sure that m_i is exactly 80\n",
    "while m_i.sum() != sample_size:\n",
    "    diff = sample_size - m_i.sum()\n",
    "    idx = np.random.choice(m_i.index)\n",
    "    m_i[idx] += diff\n",
    "\n",
    "sampled_df_list = []\n",
    "\n",
    "# Sample mi[i] units for primary_group[i]\n",
    "for group, num_samples in m_i.items():\n",
    "    group_df = df_selected[df_selected[\"Reading_Stratum\"] == group]\n",
    "    sampled_group = group_df.sample(n=num_samples, random_state=5577) #70 #5577\n",
    "    sampled_group[\"Selected_Primary_Group\"] = group\n",
    "    sampled_df_list.append(sampled_group)\n",
    "\n",
    "final_sampled_df = pd.concat(sampled_df_list)"
   ]
  },
  {
   "cell_type": "code",
   "execution_count": 589,
   "id": "fdcccdfa-e245-44ff-b04b-778d56149901",
   "metadata": {},
   "outputs": [
    {
     "data": {
      "text/html": [
       "<div>\n",
       "<style scoped>\n",
       "    .dataframe tbody tr th:only-of-type {\n",
       "        vertical-align: middle;\n",
       "    }\n",
       "\n",
       "    .dataframe tbody tr th {\n",
       "        vertical-align: top;\n",
       "    }\n",
       "\n",
       "    .dataframe thead th {\n",
       "        text-align: right;\n",
       "    }\n",
       "</style>\n",
       "<table border=\"1\" class=\"dataframe\">\n",
       "  <thead>\n",
       "    <tr style=\"text-align: right;\">\n",
       "      <th></th>\n",
       "      <th>DBN</th>\n",
       "      <th>SCHOOL NAME</th>\n",
       "      <th>Num of SAT Test Takers</th>\n",
       "      <th>SAT Critical Reading Avg. Score</th>\n",
       "      <th>SAT Math Avg. Score</th>\n",
       "      <th>SAT Writing Avg. Score</th>\n",
       "      <th>Reading_Stratum</th>\n",
       "      <th>Selected_Primary_Group</th>\n",
       "    </tr>\n",
       "  </thead>\n",
       "  <tbody>\n",
       "    <tr>\n",
       "      <th>291</th>\n",
       "      <td>16K393</td>\n",
       "      <td>FREDERICK DOUGLASS ACADEMY IV SECONDARY SCHOOL</td>\n",
       "      <td>20</td>\n",
       "      <td>355.0</td>\n",
       "      <td>355.0</td>\n",
       "      <td>358.0</td>\n",
       "      <td>0</td>\n",
       "      <td>0</td>\n",
       "    </tr>\n",
       "    <tr>\n",
       "      <th>383</th>\n",
       "      <td>24Q530</td>\n",
       "      <td>INTERNATIONAL HIGH SCHOOL AT LAGUARDIA COMMUNI...</td>\n",
       "      <td>69</td>\n",
       "      <td>326.0</td>\n",
       "      <td>409.0</td>\n",
       "      <td>329.0</td>\n",
       "      <td>0</td>\n",
       "      <td>0</td>\n",
       "    </tr>\n",
       "    <tr>\n",
       "      <th>170</th>\n",
       "      <td>09X403</td>\n",
       "      <td>BRONX INTERNATIONAL HIGH SCHOOL</td>\n",
       "      <td>49</td>\n",
       "      <td>314.0</td>\n",
       "      <td>312.0</td>\n",
       "      <td>339.0</td>\n",
       "      <td>0</td>\n",
       "      <td>0</td>\n",
       "    </tr>\n",
       "    <tr>\n",
       "      <th>300</th>\n",
       "      <td>17K524</td>\n",
       "      <td>INTERNATIONAL HIGH SCHOOL AT PROSPECT HEIGHTS</td>\n",
       "      <td>71</td>\n",
       "      <td>287.0</td>\n",
       "      <td>335.0</td>\n",
       "      <td>291.0</td>\n",
       "      <td>0</td>\n",
       "      <td>0</td>\n",
       "    </tr>\n",
       "    <tr>\n",
       "      <th>115</th>\n",
       "      <td>06M467</td>\n",
       "      <td>HIGH SCHOOL FOR LAW AND PUBLIC SERVICE</td>\n",
       "      <td>94</td>\n",
       "      <td>363.0</td>\n",
       "      <td>378.0</td>\n",
       "      <td>361.0</td>\n",
       "      <td>0</td>\n",
       "      <td>0</td>\n",
       "    </tr>\n",
       "  </tbody>\n",
       "</table>\n",
       "</div>"
      ],
      "text/plain": [
       "        DBN                                        SCHOOL NAME  \\\n",
       "291  16K393     FREDERICK DOUGLASS ACADEMY IV SECONDARY SCHOOL   \n",
       "383  24Q530  INTERNATIONAL HIGH SCHOOL AT LAGUARDIA COMMUNI...   \n",
       "170  09X403                    BRONX INTERNATIONAL HIGH SCHOOL   \n",
       "300  17K524      INTERNATIONAL HIGH SCHOOL AT PROSPECT HEIGHTS   \n",
       "115  06M467             HIGH SCHOOL FOR LAW AND PUBLIC SERVICE   \n",
       "\n",
       "    Num of SAT Test Takers  SAT Critical Reading Avg. Score  \\\n",
       "291                     20                            355.0   \n",
       "383                     69                            326.0   \n",
       "170                     49                            314.0   \n",
       "300                     71                            287.0   \n",
       "115                     94                            363.0   \n",
       "\n",
       "     SAT Math Avg. Score  SAT Writing Avg. Score Reading_Stratum  \\\n",
       "291                355.0                   358.0               0   \n",
       "383                409.0                   329.0               0   \n",
       "170                312.0                   339.0               0   \n",
       "300                335.0                   291.0               0   \n",
       "115                378.0                   361.0               0   \n",
       "\n",
       "     Selected_Primary_Group  \n",
       "291                       0  \n",
       "383                       0  \n",
       "170                       0  \n",
       "300                       0  \n",
       "115                       0  "
      ]
     },
     "execution_count": 589,
     "metadata": {},
     "output_type": "execute_result"
    }
   ],
   "source": [
    "final_sampled_df.head()"
   ]
  },
  {
   "cell_type": "markdown",
   "id": "73fa66ef-61f0-42fb-a8da-2581d732c310",
   "metadata": {},
   "source": [
    "## Problem 3: Estimate your parameter of interest by unbiased estimator. Estimate its variance and standard deviation."
   ]
  },
  {
   "cell_type": "code",
   "execution_count": 592,
   "id": "472cb657-1e6d-4d73-8ece-28ec3549f754",
   "metadata": {},
   "outputs": [],
   "source": [
    "ybar_i = final_sampled_df.groupby(\"Selected_Primary_Group\")[\"SAT Critical Reading Avg. Score\"].mean()\n",
    "\n",
    "Mi_selected = Mi.loc[ybar_i.index]\n",
    "mi_selected = m_i.loc[ybar_i.index]\n",
    "yhat_i = Mi_selected * ybar_i"
   ]
  },
  {
   "cell_type": "code",
   "execution_count": 594,
   "id": "b8914111-facf-49e7-9949-33d375840e38",
   "metadata": {},
   "outputs": [
    {
     "data": {
      "text/plain": [
       "Selected_Primary_Group\n",
       "0    41091.428571\n",
       "1    69003.219512\n",
       "3    10819.200000\n",
       "4    12944.000000\n",
       "dtype: float64"
      ]
     },
     "execution_count": 594,
     "metadata": {},
     "output_type": "execute_result"
    }
   ],
   "source": [
    "yhat_i"
   ]
  },
  {
   "cell_type": "code",
   "execution_count": 596,
   "id": "2763c9f0-5bcd-4e98-850e-9c605bf19d7a",
   "metadata": {},
   "outputs": [
    {
     "data": {
      "text/plain": [
       "Selected_Primary_Group\n",
       "0    342.428571\n",
       "1    387.658537\n",
       "3    470.400000\n",
       "4    539.333333\n",
       "Name: SAT Critical Reading Avg. Score, dtype: float64"
      ]
     },
     "execution_count": 596,
     "metadata": {},
     "output_type": "execute_result"
    }
   ],
   "source": [
    "ybar_i"
   ]
  },
  {
   "cell_type": "code",
   "execution_count": 598,
   "id": "c8e66df5-c420-4671-bcd9-6117485850dd",
   "metadata": {},
   "outputs": [
    {
     "data": {
      "text/plain": [
       "397.4401665190727"
      ]
     },
     "execution_count": 598,
     "metadata": {},
     "output_type": "execute_result"
    }
   ],
   "source": [
    "M = 421\n",
    "mu_hat = N * sum(yhat_i) / (n * M)\n",
    "mu_hat"
   ]
  },
  {
   "cell_type": "code",
   "execution_count": 600,
   "id": "ebe41715-aa5d-47cd-a4f9-8a556194a513",
   "metadata": {},
   "outputs": [],
   "source": [
    "M = 421\n",
    "mu_hat_1 = 1/n * sum(yhat_i)\n",
    "\n",
    "su_sq = ((yhat_i - mu_hat_1)**2).sum() / (n - 1)\n",
    "si_sq = final_sampled_df.groupby(\"Selected_Primary_Group\")[\"SAT Critical Reading Avg. Score\"].var(ddof=1)\n",
    "var_hat_tau_hat = N*(N-n)*su_sq/n + (N/n)*(Mi_selected*(Mi_selected - mi_selected)*si_sq/mi_selected).sum()\n",
    "var_hat_mu_hat = var_hat_tau_hat / M**2"
   ]
  },
  {
   "cell_type": "code",
   "execution_count": 602,
   "id": "2779eb99-a017-4ef8-a789-341a1ba0b51a",
   "metadata": {},
   "outputs": [
    {
     "data": {
      "text/plain": [
       "5303.92544410031"
      ]
     },
     "execution_count": 602,
     "metadata": {},
     "output_type": "execute_result"
    }
   ],
   "source": [
    "var_hat_mu_hat"
   ]
  }
 ],
 "metadata": {
  "kernelspec": {
   "display_name": "Python 3 (ipykernel)",
   "language": "python",
   "name": "python3"
  },
  "language_info": {
   "codemirror_mode": {
    "name": "ipython",
    "version": 3
   },
   "file_extension": ".py",
   "mimetype": "text/x-python",
   "name": "python",
   "nbconvert_exporter": "python",
   "pygments_lexer": "ipython3",
   "version": "3.12.2"
  }
 },
 "nbformat": 4,
 "nbformat_minor": 5
}
