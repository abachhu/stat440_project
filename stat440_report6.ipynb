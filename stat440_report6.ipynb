{
 "cells": [
  {
   "cell_type": "code",
   "execution_count": 127,
   "id": "0c422f1d-aa7e-449e-946b-2b0bf9032aae",
   "metadata": {},
   "outputs": [
    {
     "name": "stdout",
     "output_type": "stream",
     "text": [
      "<class 'pandas.core.frame.DataFrame'>\n",
      "RangeIndex: 478 entries, 0 to 477\n",
      "Data columns (total 6 columns):\n",
      " #   Column                           Non-Null Count  Dtype \n",
      "---  ------                           --------------  ----- \n",
      " 0   DBN                              478 non-null    object\n",
      " 1   SCHOOL NAME                      478 non-null    object\n",
      " 2   Num of SAT Test Takers           478 non-null    object\n",
      " 3   SAT Critical Reading Avg. Score  478 non-null    object\n",
      " 4   SAT Math Avg. Score              478 non-null    object\n",
      " 5   SAT Writing Avg. Score           478 non-null    object\n",
      "dtypes: object(6)\n",
      "memory usage: 22.5+ KB\n",
      "None\n",
      "\n",
      "<class 'pandas.core.frame.DataFrame'>\n",
      "Index: 421 entries, 0 to 477\n",
      "Data columns (total 6 columns):\n",
      " #   Column                           Non-Null Count  Dtype  \n",
      "---  ------                           --------------  -----  \n",
      " 0   DBN                              421 non-null    object \n",
      " 1   SCHOOL NAME                      421 non-null    object \n",
      " 2   Num of SAT Test Takers           421 non-null    object \n",
      " 3   SAT Critical Reading Avg. Score  421 non-null    float64\n",
      " 4   SAT Math Avg. Score              421 non-null    float64\n",
      " 5   SAT Writing Avg. Score           421 non-null    float64\n",
      "dtypes: float64(3), object(3)\n",
      "memory usage: 23.0+ KB\n",
      "None\n",
      "\n",
      "The mu is: 393.9857482185273\n",
      "The tao is: 165868.0\n",
      "The sigma^2 is: 3429.9095356040643\n",
      "\n"
     ]
    }
   ],
   "source": [
    "import numpy as np\n",
    "import pandas as pd\n",
    "import matplotlib.pyplot as plt\n",
    "import seaborn as sns\n",
    "import random\n",
    "\n",
    "#  read the dataset\n",
    "df = pd.read_csv(\"2012-sat-results.csv\")\n",
    "\n",
    "print(df.info())\n",
    "print(\"\")\n",
    "\n",
    "# convert all values to numeric\n",
    "df[\"SAT Critical Reading Avg. Score\"] = pd.to_numeric(df[\"SAT Critical Reading Avg. Score\"], errors=\"coerce\")\n",
    "df[\"SAT Math Avg. Score\"] = pd.to_numeric(df[\"SAT Math Avg. Score\"], errors=\"coerce\")\n",
    "df[\"SAT Writing Avg. Score\"] = pd.to_numeric(df[\"SAT Writing Avg. Score\"], errors=\"coerce\")\n",
    "\n",
    "# Drop rows with NaN values\n",
    "df = df.dropna(subset=[\"SAT Critical Reading Avg. Score\", \"SAT Math Avg. Score\", \"SAT Writing Avg. Score\"])\n",
    "\n",
    "print(df.info())\n",
    "print(\"\")\n",
    "\n",
    "# population params\n",
    "mu = df[\"SAT Writing Avg. Score\"].mean()\n",
    "tao = df[\"SAT Writing Avg. Score\"].sum()\n",
    "sigmasq = df[\"SAT Writing Avg. Score\"].var(ddof=0)\n",
    "\n",
    "print(f\"The mu is: {mu}\")\n",
    "print(f\"The tao is: {tao}\")\n",
    "print(f\"The sigma^2 is: {sigmasq}\")\n",
    "\n",
    "print(\"\")"
   ]
  },
  {
   "cell_type": "code",
   "execution_count": 128,
   "id": "6199fc2c-3a61-421d-827e-7ba08badcfbe",
   "metadata": {},
   "outputs": [],
   "source": [
    "random.seed(420)"
   ]
  },
  {
   "cell_type": "code",
   "execution_count": 129,
   "id": "4e65da39-8a2f-4596-8e6f-869e53dd5d04",
   "metadata": {},
   "outputs": [],
   "source": [
    "# Making length of the DF not a prime number by randomly removing one entry\n",
    "idx = random.randint(0, len(df) - 1)\n",
    "df = df.drop(index=idx).reset_index(drop=True)"
   ]
  },
  {
   "cell_type": "code",
   "execution_count": 130,
   "id": "1271a873-3d6f-4ac7-b5fb-45f689a544d6",
   "metadata": {},
   "outputs": [
    {
     "name": "stdout",
     "output_type": "stream",
     "text": [
      "mu: 393.8952380952381\n",
      "Population size M: 420\n",
      "sample size n: 80\n"
     ]
    }
   ],
   "source": [
    "print(f\"mu: {df[\"SAT Writing Avg. Score\"].mean()}\")\n",
    "print(f\"Population size M: {len(df)}\")\n",
    "print(f\"sample size n: 80\")"
   ]
  },
  {
   "cell_type": "markdown",
   "id": "6de63d90-3f6f-4424-9360-06267718a81c",
   "metadata": {},
   "source": [
    "## 1. Perform a systematic sample with (approximately) the same total sample size as you used in previous Reports"
   ]
  },
  {
   "cell_type": "code",
   "execution_count": 131,
   "id": "1a51f592-5ce3-4c23-965d-53a47a5c62df",
   "metadata": {},
   "outputs": [
    {
     "data": {
      "text/plain": [
       "[[np.float64(378.0),\n",
       "  np.float64(428.0),\n",
       "  np.float64(477.0),\n",
       "  np.float64(402.0),\n",
       "  np.float64(416.0),\n",
       "  np.float64(407.0),\n",
       "  np.float64(357.0),\n",
       "  np.float64(394.0),\n",
       "  np.float64(356.0),\n",
       "  np.float64(341.0),\n",
       "  np.float64(389.0),\n",
       "  np.float64(368.0),\n",
       "  np.float64(388.0),\n",
       "  np.float64(386.0),\n",
       "  np.float64(411.0),\n",
       "  np.float64(331.0),\n",
       "  np.float64(395.0),\n",
       "  np.float64(392.0),\n",
       "  np.float64(377.0),\n",
       "  np.float64(352.0)],\n",
       " [np.float64(628.0),\n",
       "  np.float64(592.0),\n",
       "  np.float64(431.0),\n",
       "  np.float64(358.0),\n",
       "  np.float64(404.0),\n",
       "  np.float64(363.0),\n",
       "  np.float64(376.0),\n",
       "  np.float64(371.0),\n",
       "  np.float64(414.0),\n",
       "  np.float64(365.0),\n",
       "  np.float64(395.0),\n",
       "  np.float64(380.0),\n",
       "  np.float64(351.0),\n",
       "  np.float64(379.0),\n",
       "  np.float64(374.0),\n",
       "  np.float64(440.0),\n",
       "  np.float64(318.0),\n",
       "  np.float64(360.0),\n",
       "  np.float64(394.0),\n",
       "  np.float64(397.0)],\n",
       " [np.float64(362.0),\n",
       "  np.float64(391.0),\n",
       "  np.float64(512.0),\n",
       "  np.float64(411.0),\n",
       "  np.float64(367.0),\n",
       "  np.float64(364.0),\n",
       "  np.float64(415.0),\n",
       "  np.float64(382.0),\n",
       "  np.float64(317.0),\n",
       "  np.float64(360.0),\n",
       "  np.float64(368.0),\n",
       "  np.float64(341.0),\n",
       "  np.float64(359.0),\n",
       "  np.float64(381.0),\n",
       "  np.float64(375.0),\n",
       "  np.float64(311.0),\n",
       "  np.float64(382.0),\n",
       "  np.float64(425.0),\n",
       "  np.float64(405.0),\n",
       "  np.float64(361.0)],\n",
       " [np.float64(359.0),\n",
       "  np.float64(523.0),\n",
       "  np.float64(400.0),\n",
       "  np.float64(408.0),\n",
       "  np.float64(398.0),\n",
       "  np.float64(357.0),\n",
       "  np.float64(365.0),\n",
       "  np.float64(402.0),\n",
       "  np.float64(352.0),\n",
       "  np.float64(368.0),\n",
       "  np.float64(349.0),\n",
       "  np.float64(371.0),\n",
       "  np.float64(358.0),\n",
       "  np.float64(355.0),\n",
       "  np.float64(380.0),\n",
       "  np.float64(373.0),\n",
       "  np.float64(380.0),\n",
       "  np.float64(401.0),\n",
       "  np.float64(359.0),\n",
       "  np.float64(417.0)]]"
      ]
     },
     "execution_count": 131,
     "metadata": {},
     "output_type": "execute_result"
    }
   ],
   "source": [
    "# Performing a 4 - in - 21 systematic sample\n",
    "\n",
    "N = 21\n",
    "n = 4\n",
    "M = len(df)\n",
    "sample_size = 80\n",
    "\n",
    "Mi = M // N # 20 groups (4 * Mi) = 80\n",
    "\n",
    "# random starting indices\n",
    "s1 = random.sample(range(N), n)\n",
    "\n",
    "# sampling from each group\n",
    "indices = [[] for _ in range(n)]\n",
    "samples = [[] for _ in range(n)]\n",
    "\n",
    "# Systematic sampling with fixed offset\n",
    "for i in range(Mi):  # for each group\n",
    "    s = [pos + i * N for pos in s1]  # apply offset to each of the starting pos\n",
    "    for j in range(n):\n",
    "        if s[j] < M:  # make sure index is within bounds\n",
    "            indices[j].append(s[j])\n",
    "            samples[j].append(df['SAT Writing Avg. Score'].iloc[s[j]])\n",
    "\n",
    "samples"
   ]
  },
  {
   "cell_type": "markdown",
   "id": "6e447b0c-1f57-4466-8a19-0be06e800126",
   "metadata": {},
   "source": [
    "## 2. Display the indexes of your sampled units. When systematic sampling is executed correctly, the indexes of the sampled units will follow a distinct pattern"
   ]
  },
  {
   "cell_type": "code",
   "execution_count": 132,
   "id": "475ce23a-8c02-49fb-b766-5c0cde3b732e",
   "metadata": {},
   "outputs": [
    {
     "name": "stdout",
     "output_type": "stream",
     "text": [
      "Sampled units indices: [[11, 32, 53, 74, 95, 116, 137, 158, 179, 200, 221, 242, 263, 284, 305, 326, 347, 368, 389, 410], [8, 29, 50, 71, 92, 113, 134, 155, 176, 197, 218, 239, 260, 281, 302, 323, 344, 365, 386, 407], [12, 33, 54, 75, 96, 117, 138, 159, 180, 201, 222, 243, 264, 285, 306, 327, 348, 369, 390, 411], [3, 24, 45, 66, 87, 108, 129, 150, 171, 192, 213, 234, 255, 276, 297, 318, 339, 360, 381, 402]]\n"
     ]
    }
   ],
   "source": [
    "print(\"Sampled units indices:\", indices)"
   ]
  },
  {
   "cell_type": "markdown",
   "id": "26fc3177",
   "metadata": {},
   "source": [
    "## 3. Estimate your parameter of interest by an unbiased estimator. Estimate its variance and give a confidence interval of α level chosen in Report 2."
   ]
  },
  {
   "cell_type": "markdown",
   "id": "ca5e6e44",
   "metadata": {},
   "source": [
    "- mu_hat = tau_hat / M\n",
    "- tau_hat = N * y_bar = N * SUM from 1 to n of (yi/n)\n",
    "- where yi is the total of y-values in the ith primary unit\n",
    "\n"
   ]
  },
  {
   "cell_type": "code",
   "execution_count": 133,
   "id": "7bcb0368-400b-45aa-a202-a9c8f057b6c1",
   "metadata": {},
   "outputs": [
    {
     "data": {
      "text/plain": [
       "np.float64(388.7375)"
      ]
     },
     "execution_count": 133,
     "metadata": {},
     "output_type": "execute_result"
    }
   ],
   "source": [
    "yi = [sum(sample) for sample in samples]\n",
    "tau_hat = N * (sum(yi) / n)\n",
    "mu_hat = tau_hat / M\n",
    "mu_hat"
   ]
  },
  {
   "cell_type": "markdown",
   "id": "ddb92f8c",
   "metadata": {},
   "source": [
    "##### Estimated Variance\n",
    "- var_hat_mu_hat = (1/M^2) * var_hat_tau_hat\n",
    "- var_hat_tau_hat = N * (N-n) * s_u_squared / n\n",
    "- s_u_squared = (1/(n-1)) * SUM from 1 to n (yi - y_bar)^2"
   ]
  },
  {
   "cell_type": "code",
   "execution_count": 134,
   "id": "971c2f2d",
   "metadata": {},
   "outputs": [
    {
     "data": {
      "text/plain": [
       "np.float64(24.407269345238095)"
      ]
     },
     "execution_count": 134,
     "metadata": {},
     "output_type": "execute_result"
    }
   ],
   "source": [
    "y_bar = np.mean(yi)\n",
    "s_u_squared = np.sum((yi - y_bar) ** 2) / (n - 1)\n",
    "var_hat_tau_hat = N * (N - n) * s_u_squared / n\n",
    "var_hat_mu_hat = var_hat_tau_hat / (M ** 2)\n",
    "var_hat_mu_hat"
   ]
  },
  {
   "cell_type": "markdown",
   "id": "a4459c12",
   "metadata": {},
   "source": [
    "##### Confidence Interval of alpha=.05\n",
    "- mu_hat +- t(n-1, alpha/2)*sqrt(var_hat(mu_hat))"
   ]
  },
  {
   "cell_type": "code",
   "execution_count": 135,
   "id": "ebdbb0ae",
   "metadata": {},
   "outputs": [
    {
     "name": "stdout",
     "output_type": "stream",
     "text": [
      "95% CI for mu: (373.02, 404.46) \n",
      "\n"
     ]
    }
   ],
   "source": [
    "from scipy.stats import t\n",
    "# Confidence Interval with alpha = .05\n",
    "alpha = .05\n",
    "t_crit = t.ppf(1-(alpha/2), n-1)\n",
    "SDE = t_crit * np.sqrt(var_hat_mu_hat)\n",
    "\n",
    "CI = mu_hat - SDE, mu_hat + SDE\n",
    "print(f\"95% CI for mu: ({CI[0].round(2)}, {CI[1].round(2)}) \\n\")"
   ]
  }
 ],
 "metadata": {
  "kernelspec": {
   "display_name": "conda_venv",
   "language": "python",
   "name": "python3"
  },
  "language_info": {
   "codemirror_mode": {
    "name": "ipython",
    "version": 3
   },
   "file_extension": ".py",
   "mimetype": "text/x-python",
   "name": "python",
   "nbconvert_exporter": "python",
   "pygments_lexer": "ipython3",
   "version": "3.12.3"
  }
 },
 "nbformat": 4,
 "nbformat_minor": 5
}
