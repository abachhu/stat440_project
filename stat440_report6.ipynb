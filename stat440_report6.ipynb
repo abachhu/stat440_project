{
 "cells": [
  {
   "cell_type": "code",
   "execution_count": 1,
   "id": "0c422f1d-aa7e-449e-946b-2b0bf9032aae",
   "metadata": {},
   "outputs": [
    {
     "name": "stdout",
     "output_type": "stream",
     "text": [
      "<class 'pandas.core.frame.DataFrame'>\n",
      "RangeIndex: 478 entries, 0 to 477\n",
      "Data columns (total 6 columns):\n",
      " #   Column                           Non-Null Count  Dtype \n",
      "---  ------                           --------------  ----- \n",
      " 0   DBN                              478 non-null    object\n",
      " 1   SCHOOL NAME                      478 non-null    object\n",
      " 2   Num of SAT Test Takers           478 non-null    object\n",
      " 3   SAT Critical Reading Avg. Score  478 non-null    object\n",
      " 4   SAT Math Avg. Score              478 non-null    object\n",
      " 5   SAT Writing Avg. Score           478 non-null    object\n",
      "dtypes: object(6)\n",
      "memory usage: 22.5+ KB\n",
      "None\n",
      "\n",
      "<class 'pandas.core.frame.DataFrame'>\n",
      "Index: 421 entries, 0 to 477\n",
      "Data columns (total 6 columns):\n",
      " #   Column                           Non-Null Count  Dtype  \n",
      "---  ------                           --------------  -----  \n",
      " 0   DBN                              421 non-null    object \n",
      " 1   SCHOOL NAME                      421 non-null    object \n",
      " 2   Num of SAT Test Takers           421 non-null    object \n",
      " 3   SAT Critical Reading Avg. Score  421 non-null    float64\n",
      " 4   SAT Math Avg. Score              421 non-null    float64\n",
      " 5   SAT Writing Avg. Score           421 non-null    float64\n",
      "dtypes: float64(3), object(3)\n",
      "memory usage: 23.0+ KB\n",
      "None\n",
      "\n",
      "The mu is: 393.9857482185273\n",
      "The tao is: 165868.0\n",
      "The sigma^2 is: 3429.9095356040657\n",
      "\n"
     ]
    }
   ],
   "source": [
    "import numpy as np\n",
    "import pandas as pd\n",
    "import matplotlib.pyplot as plt\n",
    "import seaborn as sns\n",
    "import random\n",
    "\n",
    "#  read the dataset\n",
    "df = pd.read_csv(\"2012-sat-results.csv\")\n",
    "\n",
    "print(df.info())\n",
    "print(\"\")\n",
    "\n",
    "# convert all values to numeric\n",
    "df[\"SAT Critical Reading Avg. Score\"] = pd.to_numeric(df[\"SAT Critical Reading Avg. Score\"], errors=\"coerce\")\n",
    "df[\"SAT Math Avg. Score\"] = pd.to_numeric(df[\"SAT Math Avg. Score\"], errors=\"coerce\")\n",
    "df[\"SAT Writing Avg. Score\"] = pd.to_numeric(df[\"SAT Writing Avg. Score\"], errors=\"coerce\")\n",
    "\n",
    "# Drop rows with NaN values\n",
    "df = df.dropna(subset=[\"SAT Critical Reading Avg. Score\", \"SAT Math Avg. Score\", \"SAT Writing Avg. Score\"])\n",
    "\n",
    "print(df.info())\n",
    "print(\"\")\n",
    "\n",
    "# population params\n",
    "mu = df[\"SAT Writing Avg. Score\"].mean()\n",
    "tao = df[\"SAT Writing Avg. Score\"].sum()\n",
    "sigmasq = df[\"SAT Writing Avg. Score\"].var(ddof=0)\n",
    "\n",
    "print(f\"The mu is: {mu}\")\n",
    "print(f\"The tao is: {tao}\")\n",
    "print(f\"The sigma^2 is: {sigmasq}\")\n",
    "\n",
    "print(\"\")"
   ]
  },
  {
   "cell_type": "code",
   "execution_count": 2,
   "id": "6199fc2c-3a61-421d-827e-7ba08badcfbe",
   "metadata": {},
   "outputs": [],
   "source": [
    "random.seed(420)"
   ]
  },
  {
   "cell_type": "code",
   "execution_count": 3,
   "id": "4e65da39-8a2f-4596-8e6f-869e53dd5d04",
   "metadata": {},
   "outputs": [],
   "source": [
    "# Making length of the DF not a prime number by randomly removing one entry\n",
    "idx = random.randint(0, len(df) - 1)\n",
    "df = df.drop(index=idx).reset_index(drop=True)"
   ]
  },
  {
   "cell_type": "code",
   "execution_count": 4,
   "id": "1271a873-3d6f-4ac7-b5fb-45f689a544d6",
   "metadata": {},
   "outputs": [
    {
     "name": "stdout",
     "output_type": "stream",
     "text": [
      "mu: 393.8952380952381\n",
      "Population size M: 420\n",
      "sample size n: 80\n"
     ]
    }
   ],
   "source": [
    "print(f\"mu: {df[\"SAT Writing Avg. Score\"].mean()}\")\n",
    "print(f\"Population size M: {len(df)}\")\n",
    "print(f\"sample size n: 80\")"
   ]
  },
  {
   "cell_type": "markdown",
   "id": "6de63d90-3f6f-4424-9360-06267718a81c",
   "metadata": {},
   "source": [
    "## 1. Perform a systematic sample with (approximately) the same total sample size as you used in previous Reports"
   ]
  },
  {
   "cell_type": "code",
   "execution_count": 16,
   "id": "1a51f592-5ce3-4c23-965d-53a47a5c62df",
   "metadata": {},
   "outputs": [
    {
     "data": {
      "text/plain": [
       "[[359.0,\n",
       "  523.0,\n",
       "  400.0,\n",
       "  408.0,\n",
       "  398.0,\n",
       "  357.0,\n",
       "  365.0,\n",
       "  402.0,\n",
       "  352.0,\n",
       "  368.0,\n",
       "  349.0,\n",
       "  371.0,\n",
       "  358.0,\n",
       "  355.0,\n",
       "  380.0,\n",
       "  373.0,\n",
       "  380.0,\n",
       "  401.0,\n",
       "  359.0,\n",
       "  417.0],\n",
       " [363.0,\n",
       "  357.0,\n",
       "  351.0,\n",
       "  376.0,\n",
       "  357.0,\n",
       "  348.0,\n",
       "  376.0,\n",
       "  339.0,\n",
       "  400.0,\n",
       "  391.0,\n",
       "  341.0,\n",
       "  381.0,\n",
       "  368.0,\n",
       "  335.0,\n",
       "  383.0,\n",
       "  356.0,\n",
       "  396.0,\n",
       "  464.0,\n",
       "  596.0,\n",
       "  385.0],\n",
       " [405.0,\n",
       "  388.0,\n",
       "  429.0,\n",
       "  373.0,\n",
       "  349.0,\n",
       "  389.0,\n",
       "  356.0,\n",
       "  301.0,\n",
       "  367.0,\n",
       "  364.0,\n",
       "  431.0,\n",
       "  381.0,\n",
       "  441.0,\n",
       "  374.0,\n",
       "  378.0,\n",
       "  400.0,\n",
       "  441.0,\n",
       "  454.0,\n",
       "  398.0,\n",
       "  350.0],\n",
       " [392.0,\n",
       "  381.0,\n",
       "  384.0,\n",
       "  577.0,\n",
       "  588.0,\n",
       "  383.0,\n",
       "  374.0,\n",
       "  365.0,\n",
       "  364.0,\n",
       "  354.0,\n",
       "  312.0,\n",
       "  350.0,\n",
       "  291.0,\n",
       "  359.0,\n",
       "  424.0,\n",
       "  359.0,\n",
       "  481.0,\n",
       "  368.0,\n",
       "  359.0,\n",
       "  370.0]]"
      ]
     },
     "execution_count": 16,
     "metadata": {},
     "output_type": "execute_result"
    }
   ],
   "source": [
    "# Performing a 4 - in - 21 systematic sample\n",
    "\n",
    "N = 21\n",
    "n = 4\n",
    "M = len(df)\n",
    "sample_size = 80\n",
    "\n",
    "Mi = M // N # 20 groups (4 * Mi) = 80\n",
    "\n",
    "# random starting indices\n",
    "s1 = random.sample(range(N), n)\n",
    "\n",
    "# sampling from each group\n",
    "indices = [[] for _ in range(n)]\n",
    "samples = [[] for _ in range(n)]\n",
    "\n",
    "# Systematic sampling with fixed offset\n",
    "for i in range(Mi):  # for each group\n",
    "    s = [pos + i * N for pos in s1]  # apply offset to each of the starting pos\n",
    "    for j in range(n):\n",
    "        if s[j] < M:  # make sure index is within bounds\n",
    "            indices[j].append(s[j])\n",
    "            samples[j].append(df['SAT Writing Avg. Score'].iloc[s[j]])\n",
    "\n",
    "samples"
   ]
  },
  {
   "cell_type": "markdown",
   "id": "6e447b0c-1f57-4466-8a19-0be06e800126",
   "metadata": {},
   "source": [
    "## 2. Display the indexes of your sampled units. When systematic sampling is executed correctly, the indexes of the sampled units will follow a distinct pattern"
   ]
  },
  {
   "cell_type": "code",
   "execution_count": 8,
   "id": "475ce23a-8c02-49fb-b766-5c0cde3b732e",
   "metadata": {},
   "outputs": [
    {
     "name": "stdout",
     "output_type": "stream",
     "text": [
      "Sampled units indices: [[11, 32, 53, 74, 95, 116, 137, 158, 179, 200, 221, 242, 263, 284, 305, 326, 347, 368, 389, 410], [8, 29, 50, 71, 92, 113, 134, 155, 176, 197, 218, 239, 260, 281, 302, 323, 344, 365, 386, 407], [12, 33, 54, 75, 96, 117, 138, 159, 180, 201, 222, 243, 264, 285, 306, 327, 348, 369, 390, 411], [3, 24, 45, 66, 87, 108, 129, 150, 171, 192, 213, 234, 255, 276, 297, 318, 339, 360, 381, 402]]\n"
     ]
    }
   ],
   "source": [
    "print(\"Sampled units indices:\", indices)"
   ]
  },
  {
   "cell_type": "code",
   "execution_count": null,
   "id": "7bcb0368-400b-45aa-a202-a9c8f057b6c1",
   "metadata": {},
   "outputs": [],
   "source": []
  }
 ],
 "metadata": {
  "kernelspec": {
   "display_name": "Python 3 (ipykernel)",
   "language": "python",
   "name": "python3"
  },
  "language_info": {
   "codemirror_mode": {
    "name": "ipython",
    "version": 3
   },
   "file_extension": ".py",
   "mimetype": "text/x-python",
   "name": "python",
   "nbconvert_exporter": "python",
   "pygments_lexer": "ipython3",
   "version": "3.12.2"
  }
 },
 "nbformat": 4,
 "nbformat_minor": 5
}
