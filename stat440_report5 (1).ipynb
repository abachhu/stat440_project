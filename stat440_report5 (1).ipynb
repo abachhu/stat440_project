{
 "cells": [
  {
   "cell_type": "code",
   "execution_count": 1,
   "id": "bae85931-8b41-41fa-93aa-f0637926e75b",
   "metadata": {},
   "outputs": [
    {
     "name": "stdout",
     "output_type": "stream",
     "text": [
      "<class 'pandas.core.frame.DataFrame'>\n",
      "RangeIndex: 478 entries, 0 to 477\n",
      "Data columns (total 6 columns):\n",
      " #   Column                           Non-Null Count  Dtype \n",
      "---  ------                           --------------  ----- \n",
      " 0   DBN                              478 non-null    object\n",
      " 1   SCHOOL NAME                      478 non-null    object\n",
      " 2   Num of SAT Test Takers           478 non-null    object\n",
      " 3   SAT Critical Reading Avg. Score  478 non-null    object\n",
      " 4   SAT Math Avg. Score              478 non-null    object\n",
      " 5   SAT Writing Avg. Score           478 non-null    object\n",
      "dtypes: object(6)\n",
      "memory usage: 22.5+ KB\n",
      "None\n",
      "\n",
      "<class 'pandas.core.frame.DataFrame'>\n",
      "Index: 421 entries, 0 to 477\n",
      "Data columns (total 6 columns):\n",
      " #   Column                           Non-Null Count  Dtype  \n",
      "---  ------                           --------------  -----  \n",
      " 0   DBN                              421 non-null    object \n",
      " 1   SCHOOL NAME                      421 non-null    object \n",
      " 2   Num of SAT Test Takers           421 non-null    object \n",
      " 3   SAT Critical Reading Avg. Score  421 non-null    float64\n",
      " 4   SAT Math Avg. Score              421 non-null    float64\n",
      " 5   SAT Writing Avg. Score           421 non-null    float64\n",
      "dtypes: float64(3), object(3)\n",
      "memory usage: 23.0+ KB\n",
      "None\n",
      "\n",
      "The mu is: 393.9857482185273\n",
      "The tao is: 165868.0\n",
      "The sigma^2 is: 3429.9095356040657\n",
      "\n"
     ]
    }
   ],
   "source": [
    "import numpy as np\n",
    "import pandas as pd\n",
    "import matplotlib.pyplot as plt\n",
    "import seaborn as sns\n",
    "\n",
    "#  read the dataset\n",
    "df = pd.read_csv(\"2012-sat-results.csv\")\n",
    "\n",
    "print(df.info())\n",
    "print(\"\")\n",
    "\n",
    "# convert all values to numeric\n",
    "df[\"SAT Critical Reading Avg. Score\"] = pd.to_numeric(df[\"SAT Critical Reading Avg. Score\"], errors=\"coerce\")\n",
    "df[\"SAT Math Avg. Score\"] = pd.to_numeric(df[\"SAT Math Avg. Score\"], errors=\"coerce\")\n",
    "df[\"SAT Writing Avg. Score\"] = pd.to_numeric(df[\"SAT Writing Avg. Score\"], errors=\"coerce\")\n",
    "# Drop rows with NaN values\n",
    "df = df.dropna(subset=[\"SAT Critical Reading Avg. Score\", \"SAT Math Avg. Score\", \"SAT Writing Avg. Score\"])\n",
    "\n",
    "print(df.info())\n",
    "print(\"\")\n",
    "\n",
    "# population params\n",
    "mu = df[\"SAT Writing Avg. Score\"].mean()\n",
    "tao = df[\"SAT Writing Avg. Score\"].sum()\n",
    "sigmasq = df[\"SAT Writing Avg. Score\"].var(ddof=0)\n",
    "\n",
    "print(f\"The mu is: {mu}\")\n",
    "print(f\"The tao is: {tao}\")\n",
    "print(f\"The sigma^2 is: {sigmasq}\")\n",
    "\n",
    "print(\"\")"
   ]
  },
  {
   "cell_type": "code",
   "execution_count": 2,
   "id": "907610f0-6841-4ceb-964f-5c33ea43cb73",
   "metadata": {},
   "outputs": [
    {
     "data": {
      "text/html": [
       "<div>\n",
       "<style scoped>\n",
       "    .dataframe tbody tr th:only-of-type {\n",
       "        vertical-align: middle;\n",
       "    }\n",
       "\n",
       "    .dataframe tbody tr th {\n",
       "        vertical-align: top;\n",
       "    }\n",
       "\n",
       "    .dataframe thead th {\n",
       "        text-align: right;\n",
       "    }\n",
       "</style>\n",
       "<table border=\"1\" class=\"dataframe\">\n",
       "  <thead>\n",
       "    <tr style=\"text-align: right;\">\n",
       "      <th></th>\n",
       "      <th>DBN</th>\n",
       "      <th>SCHOOL NAME</th>\n",
       "      <th>Num of SAT Test Takers</th>\n",
       "      <th>SAT Critical Reading Avg. Score</th>\n",
       "      <th>SAT Math Avg. Score</th>\n",
       "      <th>SAT Writing Avg. Score</th>\n",
       "    </tr>\n",
       "  </thead>\n",
       "  <tbody>\n",
       "    <tr>\n",
       "      <th>0</th>\n",
       "      <td>01M292</td>\n",
       "      <td>HENRY STREET SCHOOL FOR INTERNATIONAL STUDIES</td>\n",
       "      <td>29</td>\n",
       "      <td>355.0</td>\n",
       "      <td>404.0</td>\n",
       "      <td>363.0</td>\n",
       "    </tr>\n",
       "    <tr>\n",
       "      <th>1</th>\n",
       "      <td>01M448</td>\n",
       "      <td>UNIVERSITY NEIGHBORHOOD HIGH SCHOOL</td>\n",
       "      <td>91</td>\n",
       "      <td>383.0</td>\n",
       "      <td>423.0</td>\n",
       "      <td>366.0</td>\n",
       "    </tr>\n",
       "    <tr>\n",
       "      <th>2</th>\n",
       "      <td>01M450</td>\n",
       "      <td>EAST SIDE COMMUNITY SCHOOL</td>\n",
       "      <td>70</td>\n",
       "      <td>377.0</td>\n",
       "      <td>402.0</td>\n",
       "      <td>370.0</td>\n",
       "    </tr>\n",
       "    <tr>\n",
       "      <th>3</th>\n",
       "      <td>01M458</td>\n",
       "      <td>FORSYTH SATELLITE ACADEMY</td>\n",
       "      <td>7</td>\n",
       "      <td>414.0</td>\n",
       "      <td>401.0</td>\n",
       "      <td>359.0</td>\n",
       "    </tr>\n",
       "    <tr>\n",
       "      <th>4</th>\n",
       "      <td>01M509</td>\n",
       "      <td>MARTA VALLE HIGH SCHOOL</td>\n",
       "      <td>44</td>\n",
       "      <td>390.0</td>\n",
       "      <td>433.0</td>\n",
       "      <td>384.0</td>\n",
       "    </tr>\n",
       "  </tbody>\n",
       "</table>\n",
       "</div>"
      ],
      "text/plain": [
       "      DBN                                    SCHOOL NAME  \\\n",
       "0  01M292  HENRY STREET SCHOOL FOR INTERNATIONAL STUDIES   \n",
       "1  01M448            UNIVERSITY NEIGHBORHOOD HIGH SCHOOL   \n",
       "2  01M450                     EAST SIDE COMMUNITY SCHOOL   \n",
       "3  01M458                      FORSYTH SATELLITE ACADEMY   \n",
       "4  01M509                        MARTA VALLE HIGH SCHOOL   \n",
       "\n",
       "  Num of SAT Test Takers  SAT Critical Reading Avg. Score  \\\n",
       "0                     29                            355.0   \n",
       "1                     91                            383.0   \n",
       "2                     70                            377.0   \n",
       "3                      7                            414.0   \n",
       "4                     44                            390.0   \n",
       "\n",
       "   SAT Math Avg. Score  SAT Writing Avg. Score  \n",
       "0                404.0                   363.0  \n",
       "1                423.0                   366.0  \n",
       "2                402.0                   370.0  \n",
       "3                401.0                   359.0  \n",
       "4                433.0                   384.0  "
      ]
     },
     "execution_count": 2,
     "metadata": {},
     "output_type": "execute_result"
    }
   ],
   "source": [
    "df.head()"
   ]
  },
  {
   "attachments": {},
   "cell_type": "markdown",
   "id": "c65337f7-e6cf-43d1-bc25-807e527a1aad",
   "metadata": {},
   "source": [
    "# 1. Divide your population into strata"
   ]
  },
  {
   "attachments": {},
   "cell_type": "markdown",
   "id": "86e059e2",
   "metadata": {},
   "source": [
    "We experimented with many different stratum binning sizes. However, we were not able to find bin sizes that were able to minimize the variance\n",
    "in every stratum. This caused the data to be skewed, and result in mu not being within the 95% CI's calculated. We believe this is an issue with the\n",
    "data."
   ]
  },
  {
   "cell_type": "code",
   "execution_count": 5,
   "id": "ff9cad6f-62ab-426d-b94a-f1c52290eed4",
   "metadata": {},
   "outputs": [
    {
     "data": {
      "text/plain": [
       "{'Nh': [148, 173, 50, 26, 24],\n",
       " 'sigma_sq_h': [979.5716124287546,\n",
       "  2186.963099879016,\n",
       "  6055.375102040816,\n",
       "  5672.91846153846,\n",
       "  7052.606884057976]}"
      ]
     },
     "execution_count": 5,
     "metadata": {},
     "output_type": "execute_result"
    }
   ],
   "source": [
    "\n",
    "# Creating Strata based on Number of SAT Test Takers per school\n",
    "\n",
    "df[\"Num of SAT Test Takers\"] = pd.to_numeric(df[\"Num of SAT Test Takers\"], errors='coerce')\n",
    "\n",
    "# strata ranges\n",
    "bins = [0, 50, 100, 200, 400, df[\"Num of SAT Test Takers\"].max()]\n",
    "labels = [0, 1, 2, 3, 4]\n",
    "\n",
    "df[\"Testers_Stratum\"] = pd.cut(df[\"Num of SAT Test Takers\"], bins=bins, labels=labels, include_lowest=True)\n",
    "\n",
    "testers = {\n",
    "    \"Nh\": df.groupby(\"Testers_Stratum\", observed=False).size().tolist(),\n",
    "    \"sigma_sq_h\": df.groupby(\"Testers_Stratum\", observed=False)[\"SAT Writing Avg. Score\"].var(ddof=1).tolist()\n",
    "}\n",
    "testers"
   ]
  },
  {
   "cell_type": "code",
   "execution_count": 6,
   "id": "007ab1b9-7448-4fd8-b7fd-4748215bb4f0",
   "metadata": {},
   "outputs": [
    {
     "data": {
      "text/plain": [
       "{'Nh': [26, 94, 137, 86, 30, 23, 11, 13],\n",
       " 'sigma_sq_h': [326.7215384615385,\n",
       "  185.81972088766875,\n",
       "  207.09360240446514,\n",
       "  292.74815321477445,\n",
       "  308.5241379310345,\n",
       "  465.086956521739,\n",
       "  370.65454545454566,\n",
       "  1131.8076923076926]}"
      ]
     },
     "execution_count": 6,
     "metadata": {},
     "output_type": "execute_result"
    }
   ],
   "source": [
    "# Creating Strata based on SAT Critical Reading Avg. Score\n",
    "\n",
    "# Intervals for stratum and labels for the intervals\n",
    "bins = [280, 340, 370, 400, 430, 460, 500, 550, df[\"SAT Critical Reading Avg. Score\"].max()]\n",
    "labels = list(range(len(bins) - 1))\n",
    "\n",
    "df[\"Reading_Stratum\"] = pd.cut(df[\"SAT Critical Reading Avg. Score\"], bins=bins, labels=labels, include_lowest=True)\n",
    "\n",
    "# Grouping by stratum, and calculating variances for each stratum\n",
    "reading = {\n",
    "    \"Nh\": df.groupby(\"Reading_Stratum\", observed=False).size().tolist(),\n",
    "    \"sigma_sq_h\": df.groupby(\"Reading_Stratum\", observed=False)[\"SAT Writing Avg. Score\"].var(ddof=1).tolist()\n",
    "}\n",
    "reading"
   ]
  },
  {
   "cell_type": "code",
   "execution_count": 7,
   "id": "79d39712-b4e4-4525-946d-afaace312b5c",
   "metadata": {},
   "outputs": [
    {
     "data": {
      "text/plain": [
       "{'Nh': [15, 83, 133, 73, 45, 38, 12, 19],\n",
       " 'sigma_sq_h': [625.6000000000003,\n",
       "  404.5433441081398,\n",
       "  364.5635680109365,\n",
       "  441.43759512937663,\n",
       "  498.1545454545457,\n",
       "  1761.76386913229,\n",
       "  3116.265151515152,\n",
       "  5642.005847953215]}"
      ]
     },
     "execution_count": 7,
     "metadata": {},
     "output_type": "execute_result"
    }
   ],
   "source": [
    "# Creating Strata based on SAT Math Avg. Score\n",
    "\n",
    "# Intervals for stratum and labels for the intervals\n",
    "bins = [280, 340, 370, 400, 430, 460, 500, 550, df[\"SAT Critical Reading Avg. Score\"].max()]\n",
    "labels = list(range(len(bins) - 1))\n",
    "\n",
    "df[\"Math_Stratum\"] = pd.cut(df[\"SAT Math Avg. Score\"], bins=bins, labels=labels, include_lowest=True)\n",
    "\n",
    "# Grouping by stratum, and calculating variances for each stratum\n",
    "math = {\n",
    "    \"Nh\": df.groupby(\"Math_Stratum\", observed=False).size().tolist(),\n",
    "    \"sigma_sq_h\": df.groupby(\"Math_Stratum\", observed=False)[\"SAT Writing Avg. Score\"].var(ddof=1).tolist()\n",
    "}\n",
    "math"
   ]
  },
  {
   "attachments": {},
   "cell_type": "markdown",
   "id": "5468a119-2c14-42d6-ab5f-40c3109a209a",
   "metadata": {},
   "source": [
    "# 2. Evaluate Population Stratification"
   ]
  },
  {
   "cell_type": "code",
   "execution_count": 9,
   "id": "f8a08e5e-8374-47c1-9af6-361169b3ee03",
   "metadata": {},
   "outputs": [
    {
     "data": {
      "text/plain": [
       "319661.0248756949"
      ]
     },
     "execution_count": 9,
     "metadata": {},
     "output_type": "execute_result"
    }
   ],
   "source": [
    "sigma_sq = df[\"SAT Writing Avg. Score\"].var(ddof=0)\n",
    "N = len(df)\n",
    "n= 80\n",
    "\n",
    "Nh = np.array(testers[\"Nh\"])\n",
    "sigma_sq_h = np.array(testers[\"sigma_sq_h\"])\n",
    "\n",
    "delta_testers = (N - 1) * sigma_sq - np.sum((Nh - 1) * sigma_sq_h)\n",
    "delta_testers"
   ]
  },
  {
   "cell_type": "code",
   "execution_count": 10,
   "id": "fca73f30-3e54-41cc-9119-e9f61e99df2c",
   "metadata": {},
   "outputs": [
    {
     "data": {
      "text/plain": [
       "1325597.0586936367"
      ]
     },
     "execution_count": 10,
     "metadata": {},
     "output_type": "execute_result"
    }
   ],
   "source": [
    "sigma_sq = df[\"SAT Writing Avg. Score\"].var(ddof=0)\n",
    "N = len(df)\n",
    "n= 80\n",
    "\n",
    "Nh = np.array(reading[\"Nh\"])\n",
    "sigma_sq_h = np.array(reading[\"sigma_sq_h\"])\n",
    "\n",
    "delta_reading = (N - 1) * sigma_sq - np.sum((Nh - 1) * sigma_sq_h)\n",
    "delta_reading"
   ]
  },
  {
   "cell_type": "code",
   "execution_count": 11,
   "id": "ed8ba7ad-461f-44c4-bde6-320a5a7714d1",
   "metadata": {},
   "outputs": [
    {
     "data": {
      "text/plain": [
       "1095786.067822362"
      ]
     },
     "execution_count": 11,
     "metadata": {},
     "output_type": "execute_result"
    }
   ],
   "source": [
    "sigma_sq = df[\"SAT Writing Avg. Score\"].var(ddof=0)\n",
    "N = len(df)\n",
    "n= 80\n",
    "\n",
    "Nh = np.array(math[\"Nh\"])\n",
    "sigma_sq_h = np.array(math[\"sigma_sq_h\"])\n",
    "\n",
    "delta_math = (N - 1) * sigma_sq - np.sum((Nh - 1) * sigma_sq_h)\n",
    "delta_math"
   ]
  },
  {
   "cell_type": "code",
   "execution_count": 12,
   "id": "2f826516-ffde-4884-9e34-ef0ab21e983e",
   "metadata": {},
   "outputs": [
    {
     "name": "stdout",
     "output_type": "stream",
     "text": [
      "Largest delta 1325597.0586936367\n"
     ]
    }
   ],
   "source": [
    "max_delta =  max( max(delta_math, delta_reading), delta_testers )\n",
    "print(f\"Largest delta {max_delta}\")"
   ]
  },
  {
   "attachments": {},
   "cell_type": "markdown",
   "id": "309d3c57-e14a-4cf3-8930-2a6c448047fd",
   "metadata": {},
   "source": [
    "#### Use SAT Critical Reading Avg. Score strata from here on"
   ]
  },
  {
   "attachments": {},
   "cell_type": "markdown",
   "id": "8762f418",
   "metadata": {},
   "source": [
    "# Sampling Procedures\n",
    "\n",
    "### 3. Stratified Random Sample with Equal Allocation:\n",
    "Take stratified random sample with size n (chosen in Report 2) with equal allocation. $n_h = \\frac{n}{L}$"
   ]
  },
  {
   "cell_type": "code",
   "execution_count": 15,
   "id": "5e93dd9b",
   "metadata": {},
   "outputs": [
    {
     "data": {
      "text/plain": [
       "{'Nh': [26, 94, 137, 86, 30, 23, 11, 13],\n",
       " 'sigma_sq_h': [326.7215384615385,\n",
       "  185.81972088766875,\n",
       "  207.09360240446514,\n",
       "  292.74815321477445,\n",
       "  308.5241379310345,\n",
       "  465.086956521739,\n",
       "  370.65454545454566,\n",
       "  1131.8076923076926]}"
      ]
     },
     "execution_count": 15,
     "metadata": {},
     "output_type": "execute_result"
    }
   ],
   "source": [
    "# use reading strata divisions\n",
    "reading"
   ]
  },
  {
   "cell_type": "code",
   "execution_count": 16,
   "id": "18ba9042",
   "metadata": {},
   "outputs": [
    {
     "data": {
      "text/plain": [
       "10"
      ]
     },
     "execution_count": 16,
     "metadata": {},
     "output_type": "execute_result"
    }
   ],
   "source": [
    "# n chosen in report 2 is 80.\n",
    "N_h = np.array(reading['Nh'])\n",
    "sigma_sq_h = np.array(reading['sigma_sq_h'])\n",
    "\n",
    "n = 80\n",
    "L = len(reading[\"Nh\"])\n",
    "n_h = int(np.ceil(n / L))\n",
    "n_h"
   ]
  },
  {
   "cell_type": "code",
   "execution_count": 17,
   "id": "867da1dc",
   "metadata": {},
   "outputs": [
    {
     "data": {
      "text/html": [
       "<div>\n",
       "<style scoped>\n",
       "    .dataframe tbody tr th:only-of-type {\n",
       "        vertical-align: middle;\n",
       "    }\n",
       "\n",
       "    .dataframe tbody tr th {\n",
       "        vertical-align: top;\n",
       "    }\n",
       "\n",
       "    .dataframe thead th {\n",
       "        text-align: right;\n",
       "    }\n",
       "</style>\n",
       "<table border=\"1\" class=\"dataframe\">\n",
       "  <thead>\n",
       "    <tr style=\"text-align: right;\">\n",
       "      <th></th>\n",
       "      <th>DBN</th>\n",
       "      <th>SCHOOL NAME</th>\n",
       "      <th>Num of SAT Test Takers</th>\n",
       "      <th>SAT Critical Reading Avg. Score</th>\n",
       "      <th>SAT Math Avg. Score</th>\n",
       "      <th>SAT Writing Avg. Score</th>\n",
       "      <th>Testers_Stratum</th>\n",
       "      <th>Reading_Stratum</th>\n",
       "      <th>Math_Stratum</th>\n",
       "    </tr>\n",
       "  </thead>\n",
       "  <tbody>\n",
       "    <tr>\n",
       "      <th>0</th>\n",
       "      <td>18K563</td>\n",
       "      <td>IT TAKES A VILLAGE ACADEMY</td>\n",
       "      <td>56</td>\n",
       "      <td>313.0</td>\n",
       "      <td>320.0</td>\n",
       "      <td>330.0</td>\n",
       "      <td>1</td>\n",
       "      <td>0</td>\n",
       "      <td>0</td>\n",
       "    </tr>\n",
       "    <tr>\n",
       "      <th>1</th>\n",
       "      <td>10X268</td>\n",
       "      <td>KINGSBRIDGE INTERNATIONAL HIGH SCHOOL</td>\n",
       "      <td>52</td>\n",
       "      <td>304.0</td>\n",
       "      <td>356.0</td>\n",
       "      <td>302.0</td>\n",
       "      <td>1</td>\n",
       "      <td>0</td>\n",
       "      <td>1</td>\n",
       "    </tr>\n",
       "    <tr>\n",
       "      <th>2</th>\n",
       "      <td>12X388</td>\n",
       "      <td>PAN AMERICAN INTERNATIONAL HIGH SCHOOL AT MONROE</td>\n",
       "      <td>30</td>\n",
       "      <td>321.0</td>\n",
       "      <td>351.0</td>\n",
       "      <td>298.0</td>\n",
       "      <td>0</td>\n",
       "      <td>0</td>\n",
       "      <td>1</td>\n",
       "    </tr>\n",
       "    <tr>\n",
       "      <th>3</th>\n",
       "      <td>02M394</td>\n",
       "      <td>EMMA LAZARUS HIGH SCHOOL</td>\n",
       "      <td>79</td>\n",
       "      <td>319.0</td>\n",
       "      <td>512.0</td>\n",
       "      <td>357.0</td>\n",
       "      <td>1</td>\n",
       "      <td>0</td>\n",
       "      <td>6</td>\n",
       "    </tr>\n",
       "    <tr>\n",
       "      <th>4</th>\n",
       "      <td>02M542</td>\n",
       "      <td>MANHATTAN BRIDGES HIGH SCHOOL</td>\n",
       "      <td>66</td>\n",
       "      <td>336.0</td>\n",
       "      <td>378.0</td>\n",
       "      <td>344.0</td>\n",
       "      <td>1</td>\n",
       "      <td>0</td>\n",
       "      <td>2</td>\n",
       "    </tr>\n",
       "    <tr>\n",
       "      <th>...</th>\n",
       "      <td>...</td>\n",
       "      <td>...</td>\n",
       "      <td>...</td>\n",
       "      <td>...</td>\n",
       "      <td>...</td>\n",
       "      <td>...</td>\n",
       "      <td>...</td>\n",
       "      <td>...</td>\n",
       "      <td>...</td>\n",
       "    </tr>\n",
       "    <tr>\n",
       "      <th>75</th>\n",
       "      <td>03M485</td>\n",
       "      <td>FIORELLO H. LAGUARDIA HIGH SCHOOL OF MUSIC &amp; A...</td>\n",
       "      <td>531</td>\n",
       "      <td>566.0</td>\n",
       "      <td>564.0</td>\n",
       "      <td>577.0</td>\n",
       "      <td>4</td>\n",
       "      <td>7</td>\n",
       "      <td>7</td>\n",
       "    </tr>\n",
       "    <tr>\n",
       "      <th>76</th>\n",
       "      <td>10X696</td>\n",
       "      <td>HIGH SCHOOL OF AMERICAN STUDIES AT LEHMAN COLLEGE</td>\n",
       "      <td>92</td>\n",
       "      <td>636.0</td>\n",
       "      <td>648.0</td>\n",
       "      <td>636.0</td>\n",
       "      <td>1</td>\n",
       "      <td>7</td>\n",
       "      <td>7</td>\n",
       "    </tr>\n",
       "    <tr>\n",
       "      <th>77</th>\n",
       "      <td>25Q525</td>\n",
       "      <td>TOWNSEND HARRIS HIGH SCHOOL</td>\n",
       "      <td>278</td>\n",
       "      <td>621.0</td>\n",
       "      <td>651.0</td>\n",
       "      <td>638.0</td>\n",
       "      <td>3</td>\n",
       "      <td>7</td>\n",
       "      <td>7</td>\n",
       "    </tr>\n",
       "    <tr>\n",
       "      <th>78</th>\n",
       "      <td>28Q687</td>\n",
       "      <td>QUEENS HIGH SCHOOL FOR THE SCIENCES AT YORK CO...</td>\n",
       "      <td>121</td>\n",
       "      <td>612.0</td>\n",
       "      <td>660.0</td>\n",
       "      <td>596.0</td>\n",
       "      <td>2</td>\n",
       "      <td>7</td>\n",
       "      <td>7</td>\n",
       "    </tr>\n",
       "    <tr>\n",
       "      <th>79</th>\n",
       "      <td>03M479</td>\n",
       "      <td>BEACON HIGH SCHOOL</td>\n",
       "      <td>261</td>\n",
       "      <td>577.0</td>\n",
       "      <td>575.0</td>\n",
       "      <td>592.0</td>\n",
       "      <td>3</td>\n",
       "      <td>7</td>\n",
       "      <td>7</td>\n",
       "    </tr>\n",
       "  </tbody>\n",
       "</table>\n",
       "<p>80 rows × 9 columns</p>\n",
       "</div>"
      ],
      "text/plain": [
       "       DBN                                        SCHOOL NAME  \\\n",
       "0   18K563                         IT TAKES A VILLAGE ACADEMY   \n",
       "1   10X268              KINGSBRIDGE INTERNATIONAL HIGH SCHOOL   \n",
       "2   12X388   PAN AMERICAN INTERNATIONAL HIGH SCHOOL AT MONROE   \n",
       "3   02M394                           EMMA LAZARUS HIGH SCHOOL   \n",
       "4   02M542                      MANHATTAN BRIDGES HIGH SCHOOL   \n",
       "..     ...                                                ...   \n",
       "75  03M485  FIORELLO H. LAGUARDIA HIGH SCHOOL OF MUSIC & A...   \n",
       "76  10X696  HIGH SCHOOL OF AMERICAN STUDIES AT LEHMAN COLLEGE   \n",
       "77  25Q525                        TOWNSEND HARRIS HIGH SCHOOL   \n",
       "78  28Q687  QUEENS HIGH SCHOOL FOR THE SCIENCES AT YORK CO...   \n",
       "79  03M479                                 BEACON HIGH SCHOOL   \n",
       "\n",
       "    Num of SAT Test Takers  SAT Critical Reading Avg. Score  \\\n",
       "0                       56                            313.0   \n",
       "1                       52                            304.0   \n",
       "2                       30                            321.0   \n",
       "3                       79                            319.0   \n",
       "4                       66                            336.0   \n",
       "..                     ...                              ...   \n",
       "75                     531                            566.0   \n",
       "76                      92                            636.0   \n",
       "77                     278                            621.0   \n",
       "78                     121                            612.0   \n",
       "79                     261                            577.0   \n",
       "\n",
       "    SAT Math Avg. Score  SAT Writing Avg. Score Testers_Stratum  \\\n",
       "0                 320.0                   330.0               1   \n",
       "1                 356.0                   302.0               1   \n",
       "2                 351.0                   298.0               0   \n",
       "3                 512.0                   357.0               1   \n",
       "4                 378.0                   344.0               1   \n",
       "..                  ...                     ...             ...   \n",
       "75                564.0                   577.0               4   \n",
       "76                648.0                   636.0               1   \n",
       "77                651.0                   638.0               3   \n",
       "78                660.0                   596.0               2   \n",
       "79                575.0                   592.0               3   \n",
       "\n",
       "   Reading_Stratum Math_Stratum  \n",
       "0                0            0  \n",
       "1                0            1  \n",
       "2                0            1  \n",
       "3                0            6  \n",
       "4                0            2  \n",
       "..             ...          ...  \n",
       "75               7            7  \n",
       "76               7            7  \n",
       "77               7            7  \n",
       "78               7            7  \n",
       "79               7            7  \n",
       "\n",
       "[80 rows x 9 columns]"
      ]
     },
     "execution_count": 17,
     "metadata": {},
     "output_type": "execute_result"
    }
   ],
   "source": [
    "stratified_samples = []\n",
    "\n",
    "for stratum_label in range(L):\n",
    "    stratum = df[df[\"Reading_Stratum\"] == stratum_label]\n",
    "    stratified_samples.append(stratum.sample(n=n_h, replace=False, random_state=420))\n",
    "stratified_sample_df = pd.concat(stratified_samples).reset_index(drop=True)\n",
    "stratified_sample_df"
   ]
  },
  {
   "attachments": {},
   "cell_type": "markdown",
   "id": "2a4e85d3",
   "metadata": {},
   "source": [
    "# 4. Parameter Estimation and Variance\n",
    "\n",
    "### a) Estimate your parameter of interest using an unbiased estimator\n",
    "$\\hat{\\tau_{\\text{st}}} = \\sum_{h=1}^L N_h\\bar{y}_h$\n",
    "\n",
    "$\\hat{\\mu_{\\text{st}}} = \\frac{1}{N}\\hat{\\tau_{\\text{st}}}$"
   ]
  },
  {
   "cell_type": "code",
   "execution_count": 19,
   "id": "42cce03a",
   "metadata": {},
   "outputs": [
    {
     "data": {
      "text/plain": [
       "396.49"
      ]
     },
     "execution_count": 19,
     "metadata": {},
     "output_type": "execute_result"
    }
   ],
   "source": [
    "# mu_st_hat = tau_st_hat / N\n",
    "# tau_st_hat = sum from 1 to L of (N_h * ybar_h)\n",
    "# ybar_h = (sum from 1 to n_h of (y_hi)) / n_h\n",
    "\n",
    "ybar_h = stratified_sample_df.groupby(\"Reading_Stratum\", observed=False)[\"SAT Writing Avg. Score\"].mean().tolist()\n",
    "tau_st_hat = sum(N_h * ybar_h)\n",
    "mu_st_hat = tau_st_hat / N\n",
    "round(float(mu_st_hat), 2)"
   ]
  },
  {
   "attachments": {},
   "cell_type": "markdown",
   "id": "e978e3ec",
   "metadata": {},
   "source": [
    "### b) Estimate its variance and provide a confidence interval at the alpha level chosen in Report 2.\n",
    "$\\hat{\\text{var}}(\\hat{\\tau_{\\text{st}}}) = \\sum_{h=1}^L N_h(N_h - n_h)\\frac{s^2_h}{n_h}$\n",
    "\n",
    "$\\hat{\\text{var}}(\\hat{\\mu_{\\text{st}}}) = \\frac{1}{N^2}\\hat{\\text{var}}(\\hat{\\tau_{\\text{st}}})$"
   ]
  },
  {
   "cell_type": "code",
   "execution_count": 21,
   "id": "6690834c",
   "metadata": {},
   "outputs": [
    {
     "data": {
      "text/plain": [
       "3.44"
      ]
     },
     "execution_count": 21,
     "metadata": {},
     "output_type": "execute_result"
    }
   ],
   "source": [
    "# variance\n",
    "# var_hat_mu_st_hat = (1/N^2) * var_hat_tau_st_hat\n",
    "# var_hat_tau_st_hat = sum from 1 to L ((N_h * (N_h - n_h) * (sigma_h^2 / n_h)))\n",
    "s_h_squared = (\n",
    "    stratified_sample_df\n",
    "    .groupby(\"Reading_Stratum\", observed=False)[\"SAT Writing Avg. Score\"]\n",
    "    .var(ddof=1)\n",
    "    .tolist()\n",
    ")\n",
    "s_h_squared = np.array(s_h_squared)\n",
    "var_hat_tau_st_hat = sum(N_h * (N_h - n_h) * (s_h_squared / n_h))\n",
    "var_hat_mu_st_hat = (1 / N**2) * var_hat_tau_st_hat\n",
    "round(float(var_hat_mu_st_hat), 2)"
   ]
  },
  {
   "attachments": {},
   "cell_type": "markdown",
   "id": "d1791822",
   "metadata": {},
   "source": [
    "### c) Use the Satterthwaite formula for adjusted degrees of freedom\n",
    "$\\large a_h = \\frac{N_h(N_h - n_h)}{n_h}$\n",
    "\n",
    "$\\large d = \\frac{(\\sum_{h=1}^L a_h s^2_h)^2}{\\sum_{h=1}^L \\frac{(a_h s^2_h)^2}{n_h - 1}}$"
   ]
  },
  {
   "cell_type": "code",
   "execution_count": 23,
   "id": "da9b9650",
   "metadata": {},
   "outputs": [
    {
     "data": {
      "text/plain": [
       "27.335148972027742"
      ]
     },
     "execution_count": 23,
     "metadata": {},
     "output_type": "execute_result"
    }
   ],
   "source": [
    "# adjusted degrees of freedom\n",
    "# d = (sum of 1 to L of (a_h * s_h^2))\n",
    "#      / (sum of 1 to L of (a_h * s_h^2) / (n_h - 1))\n",
    "# a_h = (N_h * (N_h - n_h)) / n_h\n",
    "s_h_squared = (\n",
    "    stratified_sample_df\n",
    "    .groupby(\"Reading_Stratum\", observed=False)[\"SAT Writing Avg. Score\"]\n",
    "    .var(ddof=1)\n",
    "    .tolist()\n",
    ")\n",
    "s_h_squared = np.array(s_h_squared)\n",
    "a_h = N_h * (N_h - n_h) / n_h\n",
    "d = sum(a_h * s_h_squared)**2 / sum((a_h * s_h_squared)**2 / (n_h - 1))\n",
    "float(d)"
   ]
  },
  {
   "cell_type": "code",
   "execution_count": 24,
   "id": "b990e56d",
   "metadata": {},
   "outputs": [
    {
     "name": "stdout",
     "output_type": "stream",
     "text": [
      "95% CI for mu with Stratified Random Sample with Equal Allocation is: (392.69, 400.3) \n",
      "\n"
     ]
    }
   ],
   "source": [
    "from scipy.stats import t\n",
    "# Confidence Interval with alpha = .05\n",
    "# mu_st_hat +- t(alpha/2, d) * sqrt(var_hat_mu_st_hat)\n",
    "alpha = .05\n",
    "t_crit = t.ppf(1-(alpha/2), d)\n",
    "SDE = t_crit * np.sqrt(var_hat_mu_st_hat)\n",
    "\n",
    "CI = mu_st_hat - SDE, mu_st_hat + SDE\n",
    "print(f\"95% CI for mu with Stratified Random Sample with Equal Allocation is: ({CI[0].round(2)}, {CI[1].round(2)}) \\n\")"
   ]
  },
  {
   "attachments": {},
   "cell_type": "markdown",
   "id": "5539dd0e",
   "metadata": {},
   "source": [
    "# 5. Stratified Random Sample with Proportional Allocation\n",
    "\n",
    "$n_h = \\frac{nN_h}{N}$"
   ]
  },
  {
   "cell_type": "code",
   "execution_count": 26,
   "id": "11d0683f",
   "metadata": {},
   "outputs": [
    {
     "data": {
      "text/plain": [
       "[5, 18, 26, 16, 6, 4, 2, 2]"
      ]
     },
     "execution_count": 26,
     "metadata": {},
     "output_type": "execute_result"
    }
   ],
   "source": [
    "nh_proportional = [\n",
    "    int(round((n * Nh) / N))\n",
    "    for Nh in reading[\"Nh\"]\n",
    "]\n",
    "nh_proportional"
   ]
  },
  {
   "cell_type": "code",
   "execution_count": 27,
   "id": "225d6362-2991-4bdb-9381-f1c41f84997f",
   "metadata": {},
   "outputs": [
    {
     "data": {
      "text/html": [
       "<div>\n",
       "<style scoped>\n",
       "    .dataframe tbody tr th:only-of-type {\n",
       "        vertical-align: middle;\n",
       "    }\n",
       "\n",
       "    .dataframe tbody tr th {\n",
       "        vertical-align: top;\n",
       "    }\n",
       "\n",
       "    .dataframe thead th {\n",
       "        text-align: right;\n",
       "    }\n",
       "</style>\n",
       "<table border=\"1\" class=\"dataframe\">\n",
       "  <thead>\n",
       "    <tr style=\"text-align: right;\">\n",
       "      <th></th>\n",
       "      <th>DBN</th>\n",
       "      <th>SCHOOL NAME</th>\n",
       "      <th>Num of SAT Test Takers</th>\n",
       "      <th>SAT Critical Reading Avg. Score</th>\n",
       "      <th>SAT Math Avg. Score</th>\n",
       "      <th>SAT Writing Avg. Score</th>\n",
       "      <th>Testers_Stratum</th>\n",
       "      <th>Reading_Stratum</th>\n",
       "      <th>Math_Stratum</th>\n",
       "    </tr>\n",
       "  </thead>\n",
       "  <tbody>\n",
       "    <tr>\n",
       "      <th>0</th>\n",
       "      <td>24Q296</td>\n",
       "      <td>PAN AMERICAN INTERNATIONAL HIGH SCHOOL</td>\n",
       "      <td>55</td>\n",
       "      <td>317.0</td>\n",
       "      <td>323.0</td>\n",
       "      <td>311.0</td>\n",
       "      <td>1</td>\n",
       "      <td>0</td>\n",
       "      <td>0</td>\n",
       "    </tr>\n",
       "    <tr>\n",
       "      <th>1</th>\n",
       "      <td>09X365</td>\n",
       "      <td>ACADEMY FOR LANGUAGE AND TECHNOLOGY</td>\n",
       "      <td>54</td>\n",
       "      <td>315.0</td>\n",
       "      <td>339.0</td>\n",
       "      <td>297.0</td>\n",
       "      <td>1</td>\n",
       "      <td>0</td>\n",
       "      <td>0</td>\n",
       "    </tr>\n",
       "    <tr>\n",
       "      <th>2</th>\n",
       "      <td>09X227</td>\n",
       "      <td>BRONX EXPEDITIONARY LEARNING HIGH SCHOOL</td>\n",
       "      <td>39</td>\n",
       "      <td>324.0</td>\n",
       "      <td>376.0</td>\n",
       "      <td>349.0</td>\n",
       "      <td>0</td>\n",
       "      <td>0</td>\n",
       "      <td>2</td>\n",
       "    </tr>\n",
       "    <tr>\n",
       "      <th>3</th>\n",
       "      <td>20K658</td>\n",
       "      <td>FRANKLIN DELANO ROOSEVELT YABC</td>\n",
       "      <td>18</td>\n",
       "      <td>338.0</td>\n",
       "      <td>477.0</td>\n",
       "      <td>316.0</td>\n",
       "      <td>0</td>\n",
       "      <td>0</td>\n",
       "      <td>5</td>\n",
       "    </tr>\n",
       "    <tr>\n",
       "      <th>4</th>\n",
       "      <td>12X550</td>\n",
       "      <td>HIGH SCHOOL OF WORLD CULTURES</td>\n",
       "      <td>42</td>\n",
       "      <td>304.0</td>\n",
       "      <td>323.0</td>\n",
       "      <td>312.0</td>\n",
       "      <td>0</td>\n",
       "      <td>0</td>\n",
       "      <td>0</td>\n",
       "    </tr>\n",
       "    <tr>\n",
       "      <th>...</th>\n",
       "      <td>...</td>\n",
       "      <td>...</td>\n",
       "      <td>...</td>\n",
       "      <td>...</td>\n",
       "      <td>...</td>\n",
       "      <td>...</td>\n",
       "      <td>...</td>\n",
       "      <td>...</td>\n",
       "      <td>...</td>\n",
       "    </tr>\n",
       "    <tr>\n",
       "      <th>75</th>\n",
       "      <td>02M412</td>\n",
       "      <td>N.Y.C. LAB SCHOOL FOR COLLABORATIVE STUDIES</td>\n",
       "      <td>114</td>\n",
       "      <td>537.0</td>\n",
       "      <td>590.0</td>\n",
       "      <td>550.0</td>\n",
       "      <td>2</td>\n",
       "      <td>6</td>\n",
       "      <td>7</td>\n",
       "    </tr>\n",
       "    <tr>\n",
       "      <th>76</th>\n",
       "      <td>02M413</td>\n",
       "      <td>SCHOOL OF THE FUTURE HIGH SCHOOL</td>\n",
       "      <td>66</td>\n",
       "      <td>517.0</td>\n",
       "      <td>533.0</td>\n",
       "      <td>515.0</td>\n",
       "      <td>1</td>\n",
       "      <td>6</td>\n",
       "      <td>6</td>\n",
       "    </tr>\n",
       "    <tr>\n",
       "      <th>77</th>\n",
       "      <td>02M418</td>\n",
       "      <td>MILLENNIUM HIGH SCHOOL</td>\n",
       "      <td>144</td>\n",
       "      <td>528.0</td>\n",
       "      <td>553.0</td>\n",
       "      <td>533.0</td>\n",
       "      <td>2</td>\n",
       "      <td>6</td>\n",
       "      <td>7</td>\n",
       "    </tr>\n",
       "    <tr>\n",
       "      <th>78</th>\n",
       "      <td>05M692</td>\n",
       "      <td>HIGH SCHOOL FOR MATHEMATICS, SCIENCE AND ENGIN...</td>\n",
       "      <td>101</td>\n",
       "      <td>605.0</td>\n",
       "      <td>654.0</td>\n",
       "      <td>588.0</td>\n",
       "      <td>2</td>\n",
       "      <td>7</td>\n",
       "      <td>7</td>\n",
       "    </tr>\n",
       "    <tr>\n",
       "      <th>79</th>\n",
       "      <td>14K449</td>\n",
       "      <td>BROOKLYN LATIN SCHOOL, THE</td>\n",
       "      <td>72</td>\n",
       "      <td>586.0</td>\n",
       "      <td>584.0</td>\n",
       "      <td>570.0</td>\n",
       "      <td>1</td>\n",
       "      <td>7</td>\n",
       "      <td>7</td>\n",
       "    </tr>\n",
       "  </tbody>\n",
       "</table>\n",
       "<p>80 rows × 9 columns</p>\n",
       "</div>"
      ],
      "text/plain": [
       "       DBN                                        SCHOOL NAME  \\\n",
       "0   24Q296             PAN AMERICAN INTERNATIONAL HIGH SCHOOL   \n",
       "1   09X365                ACADEMY FOR LANGUAGE AND TECHNOLOGY   \n",
       "2   09X227           BRONX EXPEDITIONARY LEARNING HIGH SCHOOL   \n",
       "3   20K658                     FRANKLIN DELANO ROOSEVELT YABC   \n",
       "4   12X550                      HIGH SCHOOL OF WORLD CULTURES   \n",
       "..     ...                                                ...   \n",
       "75  02M412        N.Y.C. LAB SCHOOL FOR COLLABORATIVE STUDIES   \n",
       "76  02M413                   SCHOOL OF THE FUTURE HIGH SCHOOL   \n",
       "77  02M418                             MILLENNIUM HIGH SCHOOL   \n",
       "78  05M692  HIGH SCHOOL FOR MATHEMATICS, SCIENCE AND ENGIN...   \n",
       "79  14K449                         BROOKLYN LATIN SCHOOL, THE   \n",
       "\n",
       "    Num of SAT Test Takers  SAT Critical Reading Avg. Score  \\\n",
       "0                       55                            317.0   \n",
       "1                       54                            315.0   \n",
       "2                       39                            324.0   \n",
       "3                       18                            338.0   \n",
       "4                       42                            304.0   \n",
       "..                     ...                              ...   \n",
       "75                     114                            537.0   \n",
       "76                      66                            517.0   \n",
       "77                     144                            528.0   \n",
       "78                     101                            605.0   \n",
       "79                      72                            586.0   \n",
       "\n",
       "    SAT Math Avg. Score  SAT Writing Avg. Score Testers_Stratum  \\\n",
       "0                 323.0                   311.0               1   \n",
       "1                 339.0                   297.0               1   \n",
       "2                 376.0                   349.0               0   \n",
       "3                 477.0                   316.0               0   \n",
       "4                 323.0                   312.0               0   \n",
       "..                  ...                     ...             ...   \n",
       "75                590.0                   550.0               2   \n",
       "76                533.0                   515.0               1   \n",
       "77                553.0                   533.0               2   \n",
       "78                654.0                   588.0               2   \n",
       "79                584.0                   570.0               1   \n",
       "\n",
       "   Reading_Stratum Math_Stratum  \n",
       "0                0            0  \n",
       "1                0            0  \n",
       "2                0            2  \n",
       "3                0            5  \n",
       "4                0            0  \n",
       "..             ...          ...  \n",
       "75               6            7  \n",
       "76               6            6  \n",
       "77               6            7  \n",
       "78               7            7  \n",
       "79               7            7  \n",
       "\n",
       "[80 rows x 9 columns]"
      ]
     },
     "execution_count": 27,
     "metadata": {},
     "output_type": "execute_result"
    }
   ],
   "source": [
    "while sum(nh_proportional) != n:\n",
    "    if sum(nh_proportional) < n:\n",
    "        nh_proportional[nh_proportional.index(min(nh_proportional))] += 1\n",
    "    else:\n",
    "        nh_proportional[nh_proportional.index(max(nh_proportional))] -= 1\n",
    "\n",
    "stratified_samples_prop = []\n",
    "for stratum_label in range(L):\n",
    "    stratum_data = df[df[\"Reading_Stratum\"] == stratum_label]\n",
    "    sample_size = nh_proportional[stratum_label]\n",
    "\n",
    "    if sample_size > 0:\n",
    "        sample = stratum_data.sample(n=sample_size, replace=False)\n",
    "        stratified_samples_prop.append(sample)\n",
    "stratified_sample_prop_df = pd.concat(stratified_samples_prop).reset_index(drop=True)\n",
    "\n",
    "stratified_sample_prop_df"
   ]
  },
  {
   "attachments": {},
   "cell_type": "markdown",
   "id": "401f05bc-d3d3-405c-9a21-92a7595d9349",
   "metadata": {},
   "source": [
    " ## 6. Parameter Estimation and Variance"
   ]
  },
  {
   "attachments": {},
   "cell_type": "markdown",
   "id": "ea7ffcc4-733d-4ac8-a9f1-6b346242093e",
   "metadata": {},
   "source": [
    "### a) Estimate your parameter of interest using an unbiased estimator\n",
    "$\\hat{\\tau_{\\text{st}}} = \\sum_{h=1}^L N_h\\bar{y}_h$\n",
    "\n",
    "$\\hat{\\mu_{\\text{st}}} = \\frac{1}{N}\\hat{\\tau_{\\text{st}}}$"
   ]
  },
  {
   "cell_type": "code",
   "execution_count": 30,
   "id": "b376b5d0-a490-4f9a-93a6-3b3111d5d76e",
   "metadata": {},
   "outputs": [
    {
     "data": {
      "text/plain": [
       "394.25"
      ]
     },
     "execution_count": 30,
     "metadata": {},
     "output_type": "execute_result"
    }
   ],
   "source": [
    "ybar_h_prop= stratified_sample_prop_df.groupby(\"Reading_Stratum\", observed=False)[\"SAT Writing Avg. Score\"].mean().tolist()\n",
    "\n",
    "tau_st_hat_prop=sum(N_h * ybar_h_prop)\n",
    "mu_st_hat_prop = tau_st_hat_prop/N\n",
    "\n",
    "round(float(mu_st_hat_prop), 2)"
   ]
  },
  {
   "attachments": {},
   "cell_type": "markdown",
   "id": "b4e11a10-800d-4882-bd4f-3280d089a57f",
   "metadata": {},
   "source": [
    "### b) Estimate its variance and provide a confidence interval at the α level chosen in Report 2.\n",
    "$\\hat{\\text{var}}(\\hat{\\tau_{\\text{st}}}) = \\sum_{h=1}^L N_h(N_h - n_h)\\frac{s^2_h}{n_h}$\n",
    "\n",
    "$\\hat{\\text{var}}(\\hat{\\mu_{\\text{st}}}) = \\frac{1}{N^2}\\hat{\\text{var}}(\\hat{\\tau_{\\text{st}}})$"
   ]
  },
  {
   "cell_type": "code",
   "execution_count": 32,
   "id": "3075e649-ec9e-453c-a360-ec92e931e5cc",
   "metadata": {},
   "outputs": [
    {
     "data": {
      "text/plain": [
       "1.93"
      ]
     },
     "execution_count": 32,
     "metadata": {},
     "output_type": "execute_result"
    }
   ],
   "source": [
    "s_h_squared_prop = (\n",
    "    stratified_sample_prop_df\n",
    "    .groupby(\"Reading_Stratum\", observed=False)[\"SAT Writing Avg. Score\"]\n",
    "    .var(ddof=1)\n",
    "    .tolist()\n",
    ")\n",
    "s_h_squared_prop = np.array(s_h_squared_prop)\n",
    "\n",
    "var_hat_tau_st_hat_prop = sum(N_h * (N_h - nh_proportional) * (s_h_squared_prop / nh_proportional))\n",
    "var_hat_mu_st_hat_prop = (1/(N**2)) * var_hat_tau_st_hat_prop\n",
    "\n",
    "round(float(var_hat_mu_st_hat_prop), 2)"
   ]
  },
  {
   "attachments": {},
   "cell_type": "markdown",
   "id": "3ff52ba7-de74-4c0a-95b9-1cab0bfcc968",
   "metadata": {},
   "source": [
    "### c) Use the Satterthwaite formula for adjusted degrees of freedom.\n",
    "$\\large a_h = \\frac{N_h(N_h - n_h)}{n_h}$\n",
    "\n",
    "$\\large d = \\frac{(\\sum_{h=1}^L a_h s^2_h)^2}{\\sum_{h=1}^L \\frac{(a_h s^2_h)^2}{n_h - 1}}$"
   ]
  },
  {
   "cell_type": "code",
   "execution_count": 34,
   "id": "d0599b19",
   "metadata": {},
   "outputs": [
    {
     "data": {
      "text/plain": [
       "55.89778175914819"
      ]
     },
     "execution_count": 34,
     "metadata": {},
     "output_type": "execute_result"
    }
   ],
   "source": [
    "s_h_squared_prop = (\n",
    "    stratified_sample_prop_df\n",
    "    .groupby(\"Reading_Stratum\", observed=False)[\"SAT Writing Avg. Score\"]\n",
    "    .var(ddof=1)\n",
    "    .tolist()\n",
    ")\n",
    "s_h_squared_prop = np.array(s_h_squared_prop)\n",
    "nh_proportional = np.array(nh_proportional)\n",
    "a_h = N_h * (N_h - nh_proportional) / nh_proportional\n",
    "d_prop = sum(a_h * s_h_squared_prop)**2 / sum((a_h * s_h_squared_prop)**2 / (nh_proportional - 1))\n",
    "float(d_prop)"
   ]
  },
  {
   "cell_type": "code",
   "execution_count": 35,
   "id": "165447f3",
   "metadata": {},
   "outputs": [
    {
     "name": "stdout",
     "output_type": "stream",
     "text": [
      "95% CI for mu with Stratified Random Sample with Proportional Allocation is: (391.47, 397.03) \n",
      "\n"
     ]
    }
   ],
   "source": [
    "from scipy.stats import t\n",
    "\n",
    "alpha = 0.05\n",
    "t_crit = t.ppf(1-(alpha/2), d_prop)\n",
    "\n",
    "SDE = t_crit*np.sqrt(var_hat_mu_st_hat_prop)\n",
    "CI_prop = mu_st_hat_prop - SDE, mu_st_hat_prop + SDE\n",
    "print(f\"95% CI for mu with Stratified Random Sample with Proportional Allocation is: ({CI_prop[0].round(2)}, {CI_prop[1].round(2)}) \\n\")"
   ]
  },
  {
   "attachments": {},
   "cell_type": "markdown",
   "id": "70a622fc",
   "metadata": {},
   "source": [
    "# 7. Stratified Random Sample with Optimum Allocation\n",
    "\n",
    "$n_h = \\frac{nN_h\\sigma_h}{\\sum_{h=1}^L N_h\\sigma_h}$"
   ]
  },
  {
   "cell_type": "code",
   "execution_count": 37,
   "id": "3c4218be",
   "metadata": {},
   "outputs": [
    {
     "data": {
      "text/plain": [
       "[5, 15, 23, 17, 6, 6, 2, 5]"
      ]
     },
     "execution_count": 37,
     "metadata": {},
     "output_type": "execute_result"
    }
   ],
   "source": [
    "N_h = np.array(reading['Nh'])\n",
    "sigma2_h = np.array(reading['sigma_sq_h'])\n",
    "sigma_h = np.sqrt(sigma2_h)\n",
    "\n",
    "N = len(df)\n",
    "L = len(N_h)\n",
    "n = 80\n",
    "\n",
    "n_h_opt = ((n * N_h * sigma_h) / sum(N_h * sigma_h)).round()\n",
    "n_h_opt = n_h_opt.astype(int).tolist()\n",
    "n_h_opt"
   ]
  },
  {
   "cell_type": "code",
   "execution_count": 38,
   "id": "6d5537c7",
   "metadata": {},
   "outputs": [
    {
     "data": {
      "text/html": [
       "<div>\n",
       "<style scoped>\n",
       "    .dataframe tbody tr th:only-of-type {\n",
       "        vertical-align: middle;\n",
       "    }\n",
       "\n",
       "    .dataframe tbody tr th {\n",
       "        vertical-align: top;\n",
       "    }\n",
       "\n",
       "    .dataframe thead th {\n",
       "        text-align: right;\n",
       "    }\n",
       "</style>\n",
       "<table border=\"1\" class=\"dataframe\">\n",
       "  <thead>\n",
       "    <tr style=\"text-align: right;\">\n",
       "      <th></th>\n",
       "      <th>DBN</th>\n",
       "      <th>SCHOOL NAME</th>\n",
       "      <th>Num of SAT Test Takers</th>\n",
       "      <th>SAT Critical Reading Avg. Score</th>\n",
       "      <th>SAT Math Avg. Score</th>\n",
       "      <th>SAT Writing Avg. Score</th>\n",
       "      <th>Testers_Stratum</th>\n",
       "      <th>Reading_Stratum</th>\n",
       "      <th>Math_Stratum</th>\n",
       "    </tr>\n",
       "  </thead>\n",
       "  <tbody>\n",
       "    <tr>\n",
       "      <th>0</th>\n",
       "      <td>18K563</td>\n",
       "      <td>IT TAKES A VILLAGE ACADEMY</td>\n",
       "      <td>56</td>\n",
       "      <td>313.0</td>\n",
       "      <td>320.0</td>\n",
       "      <td>330.0</td>\n",
       "      <td>1</td>\n",
       "      <td>0</td>\n",
       "      <td>0</td>\n",
       "    </tr>\n",
       "    <tr>\n",
       "      <th>1</th>\n",
       "      <td>10X268</td>\n",
       "      <td>KINGSBRIDGE INTERNATIONAL HIGH SCHOOL</td>\n",
       "      <td>52</td>\n",
       "      <td>304.0</td>\n",
       "      <td>356.0</td>\n",
       "      <td>302.0</td>\n",
       "      <td>1</td>\n",
       "      <td>0</td>\n",
       "      <td>1</td>\n",
       "    </tr>\n",
       "    <tr>\n",
       "      <th>2</th>\n",
       "      <td>12X388</td>\n",
       "      <td>PAN AMERICAN INTERNATIONAL HIGH SCHOOL AT MONROE</td>\n",
       "      <td>30</td>\n",
       "      <td>321.0</td>\n",
       "      <td>351.0</td>\n",
       "      <td>298.0</td>\n",
       "      <td>0</td>\n",
       "      <td>0</td>\n",
       "      <td>1</td>\n",
       "    </tr>\n",
       "    <tr>\n",
       "      <th>3</th>\n",
       "      <td>02M394</td>\n",
       "      <td>EMMA LAZARUS HIGH SCHOOL</td>\n",
       "      <td>79</td>\n",
       "      <td>319.0</td>\n",
       "      <td>512.0</td>\n",
       "      <td>357.0</td>\n",
       "      <td>1</td>\n",
       "      <td>0</td>\n",
       "      <td>6</td>\n",
       "    </tr>\n",
       "    <tr>\n",
       "      <th>4</th>\n",
       "      <td>02M542</td>\n",
       "      <td>MANHATTAN BRIDGES HIGH SCHOOL</td>\n",
       "      <td>66</td>\n",
       "      <td>336.0</td>\n",
       "      <td>378.0</td>\n",
       "      <td>344.0</td>\n",
       "      <td>1</td>\n",
       "      <td>0</td>\n",
       "      <td>2</td>\n",
       "    </tr>\n",
       "    <tr>\n",
       "      <th>...</th>\n",
       "      <td>...</td>\n",
       "      <td>...</td>\n",
       "      <td>...</td>\n",
       "      <td>...</td>\n",
       "      <td>...</td>\n",
       "      <td>...</td>\n",
       "      <td>...</td>\n",
       "      <td>...</td>\n",
       "      <td>...</td>\n",
       "    </tr>\n",
       "    <tr>\n",
       "      <th>74</th>\n",
       "      <td>02M475</td>\n",
       "      <td>STUYVESANT HIGH SCHOOL</td>\n",
       "      <td>832</td>\n",
       "      <td>679.0</td>\n",
       "      <td>735.0</td>\n",
       "      <td>682.0</td>\n",
       "      <td>4</td>\n",
       "      <td>7</td>\n",
       "      <td>NaN</td>\n",
       "    </tr>\n",
       "    <tr>\n",
       "      <th>75</th>\n",
       "      <td>31R605</td>\n",
       "      <td>STATEN ISLAND TECHNICAL HIGH SCHOOL</td>\n",
       "      <td>227</td>\n",
       "      <td>635.0</td>\n",
       "      <td>682.0</td>\n",
       "      <td>636.0</td>\n",
       "      <td>3</td>\n",
       "      <td>7</td>\n",
       "      <td>NaN</td>\n",
       "    </tr>\n",
       "    <tr>\n",
       "      <th>76</th>\n",
       "      <td>05M692</td>\n",
       "      <td>HIGH SCHOOL FOR MATHEMATICS, SCIENCE AND ENGIN...</td>\n",
       "      <td>101</td>\n",
       "      <td>605.0</td>\n",
       "      <td>654.0</td>\n",
       "      <td>588.0</td>\n",
       "      <td>2</td>\n",
       "      <td>7</td>\n",
       "      <td>7</td>\n",
       "    </tr>\n",
       "    <tr>\n",
       "      <th>77</th>\n",
       "      <td>01M696</td>\n",
       "      <td>BARD HIGH SCHOOL EARLY COLLEGE</td>\n",
       "      <td>130</td>\n",
       "      <td>624.0</td>\n",
       "      <td>604.0</td>\n",
       "      <td>628.0</td>\n",
       "      <td>2</td>\n",
       "      <td>7</td>\n",
       "      <td>7</td>\n",
       "    </tr>\n",
       "    <tr>\n",
       "      <th>78</th>\n",
       "      <td>14K449</td>\n",
       "      <td>BROOKLYN LATIN SCHOOL, THE</td>\n",
       "      <td>72</td>\n",
       "      <td>586.0</td>\n",
       "      <td>584.0</td>\n",
       "      <td>570.0</td>\n",
       "      <td>1</td>\n",
       "      <td>7</td>\n",
       "      <td>7</td>\n",
       "    </tr>\n",
       "  </tbody>\n",
       "</table>\n",
       "<p>79 rows × 9 columns</p>\n",
       "</div>"
      ],
      "text/plain": [
       "       DBN                                        SCHOOL NAME  \\\n",
       "0   18K563                         IT TAKES A VILLAGE ACADEMY   \n",
       "1   10X268              KINGSBRIDGE INTERNATIONAL HIGH SCHOOL   \n",
       "2   12X388   PAN AMERICAN INTERNATIONAL HIGH SCHOOL AT MONROE   \n",
       "3   02M394                           EMMA LAZARUS HIGH SCHOOL   \n",
       "4   02M542                      MANHATTAN BRIDGES HIGH SCHOOL   \n",
       "..     ...                                                ...   \n",
       "74  02M475                             STUYVESANT HIGH SCHOOL   \n",
       "75  31R605                STATEN ISLAND TECHNICAL HIGH SCHOOL   \n",
       "76  05M692  HIGH SCHOOL FOR MATHEMATICS, SCIENCE AND ENGIN...   \n",
       "77  01M696                     BARD HIGH SCHOOL EARLY COLLEGE   \n",
       "78  14K449                         BROOKLYN LATIN SCHOOL, THE   \n",
       "\n",
       "    Num of SAT Test Takers  SAT Critical Reading Avg. Score  \\\n",
       "0                       56                            313.0   \n",
       "1                       52                            304.0   \n",
       "2                       30                            321.0   \n",
       "3                       79                            319.0   \n",
       "4                       66                            336.0   \n",
       "..                     ...                              ...   \n",
       "74                     832                            679.0   \n",
       "75                     227                            635.0   \n",
       "76                     101                            605.0   \n",
       "77                     130                            624.0   \n",
       "78                      72                            586.0   \n",
       "\n",
       "    SAT Math Avg. Score  SAT Writing Avg. Score Testers_Stratum  \\\n",
       "0                 320.0                   330.0               1   \n",
       "1                 356.0                   302.0               1   \n",
       "2                 351.0                   298.0               0   \n",
       "3                 512.0                   357.0               1   \n",
       "4                 378.0                   344.0               1   \n",
       "..                  ...                     ...             ...   \n",
       "74                735.0                   682.0               4   \n",
       "75                682.0                   636.0               3   \n",
       "76                654.0                   588.0               2   \n",
       "77                604.0                   628.0               2   \n",
       "78                584.0                   570.0               1   \n",
       "\n",
       "   Reading_Stratum Math_Stratum  \n",
       "0                0            0  \n",
       "1                0            1  \n",
       "2                0            1  \n",
       "3                0            6  \n",
       "4                0            2  \n",
       "..             ...          ...  \n",
       "74               7          NaN  \n",
       "75               7          NaN  \n",
       "76               7            7  \n",
       "77               7            7  \n",
       "78               7            7  \n",
       "\n",
       "[79 rows x 9 columns]"
      ]
     },
     "execution_count": 38,
     "metadata": {},
     "output_type": "execute_result"
    }
   ],
   "source": [
    "stratified_samples_opt = []\n",
    "for strata in range(L):\n",
    "    stratum_data = df[df[\"Reading_Stratum\"] == strata]\n",
    "    n = n_h_opt[strata]\n",
    "\n",
    "    if n > 0:\n",
    "        sample = stratum_data.sample(n=n, replace=False, random_state=420)\n",
    "        stratified_samples_opt.append(sample)\n",
    "\n",
    "stratified_sample_opt_df = pd.concat(stratified_samples_opt).reset_index(drop=True)\n",
    "stratified_sample_opt_df"
   ]
  },
  {
   "attachments": {},
   "cell_type": "markdown",
   "id": "e8131fc7",
   "metadata": {},
   "source": [
    "### 7a) Parameter Estimation and Variance"
   ]
  },
  {
   "attachments": {},
   "cell_type": "markdown",
   "id": "05c3a533",
   "metadata": {},
   "source": [
    "### b) Estimate your parameter of interest using an unbiased estimator\n",
    "$\\hat{\\tau_{\\text{st}}} = \\sum_{h=1}^L N_h\\bar{y}_h$\n",
    "\n",
    "$\\hat{\\mu_{\\text{st}}} = \\frac{1}{N}\\hat{\\tau_{\\text{st}}}$"
   ]
  },
  {
   "cell_type": "code",
   "execution_count": 41,
   "id": "b3abb405",
   "metadata": {},
   "outputs": [
    {
     "data": {
      "text/plain": [
       "393.97"
      ]
     },
     "execution_count": 41,
     "metadata": {},
     "output_type": "execute_result"
    }
   ],
   "source": [
    "y_bar_h_opt = stratified_sample_opt_df.groupby(\"Reading_Stratum\", observed=False)[\"SAT Writing Avg. Score\"].mean().tolist()\n",
    "\n",
    "tau_st_hat_opt = sum(N_h * y_bar_h_opt)\n",
    "mu_st_hat_opt = tau_st_hat_opt / N\n",
    "\n",
    "round(float(mu_st_hat_opt), 2)"
   ]
  },
  {
   "attachments": {},
   "cell_type": "markdown",
   "id": "b5c984be",
   "metadata": {},
   "source": [
    "### c) Estimate its variance and provide a confidence interval at the $\\alpha$ level chosen in Report 2.\n",
    "$\\hat{\\text{var}}(\\hat{\\tau_{\\text{st}}}) = \\sum_{h=1}^L N_h(N_h - n_h)\\frac{s^2_h}{n_h}$\n",
    "\n",
    "$\\hat{\\text{var}}(\\hat{\\mu_{\\text{st}}}) = \\frac{1}{N^2}\\hat{\\text{var}}(\\hat{\\tau_{\\text{st}}})$"
   ]
  },
  {
   "cell_type": "code",
   "execution_count": 43,
   "id": "81b1d9f6",
   "metadata": {},
   "outputs": [
    {
     "data": {
      "text/plain": [
       "2.66"
      ]
     },
     "execution_count": 43,
     "metadata": {},
     "output_type": "execute_result"
    }
   ],
   "source": [
    "s2_h_opt = (\n",
    "    stratified_sample_opt_df\n",
    "    .groupby(\"Reading_Stratum\", observed=False)[\"SAT Writing Avg. Score\"]\n",
    "    .var(ddof=1)\n",
    "    .tolist()\n",
    ")\n",
    "s2_h_opt = np.array(s2_h_opt)\n",
    "var_hat_tau_st_hat_opt = sum(N_h * (N_h - n_h_opt) * (s2_h_opt / n_h_opt))\n",
    "\n",
    "var_hat_mu_st_hat_opt = (1 / (N**2)) * var_hat_tau_st_hat_opt\n",
    "\n",
    "round(float(var_hat_mu_st_hat_opt), 2)"
   ]
  },
  {
   "attachments": {},
   "cell_type": "markdown",
   "id": "a23d2af3",
   "metadata": {},
   "source": [
    "### d) Use the Satterthwaite formula for adjusted degrees of freedom\n",
    "$\\large a_h = \\frac{N_h(N_h - n_h)}{n_h}$\n",
    "\n",
    "$\\large d = \\frac{(\\sum_{h=1}^L a_h s^2_h)^2}{\\sum_{h=1}^L \\frac{(a_h s^2_h)^2}{n_h - 1}}$"
   ]
  },
  {
   "cell_type": "code",
   "execution_count": 45,
   "id": "90dbbf34",
   "metadata": {},
   "outputs": [
    {
     "data": {
      "text/plain": [
       "37.83128412377717"
      ]
     },
     "execution_count": 45,
     "metadata": {},
     "output_type": "execute_result"
    }
   ],
   "source": [
    "s2_h_opt = (\n",
    "    stratified_sample_opt_df\n",
    "    .groupby(\"Reading_Stratum\", observed=False)[\"SAT Writing Avg. Score\"]\n",
    "    .var(ddof=1)\n",
    "    .tolist()\n",
    ")\n",
    "s2_h_opt = np.array(s2_h_opt)\n",
    "n_h_opt = np.array(n_h_opt)\n",
    "\n",
    "a_h_opt = N_h * (N_h - n_h_opt) / n_h_opt\n",
    "\n",
    "d_opt = sum(a_h * s2_h_opt)**2 / sum((a_h * s2_h_opt)**2 / (n_h_opt - 1))\n",
    "float(d_opt)"
   ]
  },
  {
   "cell_type": "code",
   "execution_count": 46,
   "id": "96a8c9cf",
   "metadata": {},
   "outputs": [
    {
     "name": "stdout",
     "output_type": "stream",
     "text": [
      "95% CI for mu with Stratified Random Sample with Optimum Allocation is: (390.67, 397.27) \n",
      "\n"
     ]
    }
   ],
   "source": [
    "from scipy.stats import t\n",
    "\n",
    "alpha = 0.05\n",
    "t_crit = t.ppf(1-alpha/2, d_opt)\n",
    "\n",
    "SDE = t_crit * float(np.sqrt(var_hat_mu_st_hat_opt))\n",
    "\n",
    "CI_opt = mu_st_hat_opt - SDE, mu_st_hat_opt + SDE\n",
    "print(f\"95% CI for mu with Stratified Random Sample with Optimum Allocation is: ({CI_opt[0].round(2)}, {CI_opt[1].round(2)}) \\n\")"
   ]
  },
  {
   "attachments": {},
   "cell_type": "markdown",
   "id": "6d460132",
   "metadata": {},
   "source": [
    "# 8. Best Estimator Selection"
   ]
  },
  {
   "cell_type": "code",
   "execution_count": 48,
   "id": "a870cc57",
   "metadata": {},
   "outputs": [
    {
     "name": "stdout",
     "output_type": "stream",
     "text": [
      "392.69 400.3\n",
      "391.47 397.03\n",
      "390.67 397.27\n",
      "\n",
      "Variance of mu estimate for Equal allocation: 3.444\n",
      "Variance of mu estimate for Proportional allocation: 1.927\n",
      "Variance of mu estimate for Optimal allocation: 2.657\n"
     ]
    }
   ],
   "source": [
    "print(CI[0].round(2).astype(float), CI[1].round(2).astype(float))\n",
    "print(CI_prop[0].round(2).astype(float), CI_prop[1].round(2).astype(float))\n",
    "print(CI_opt[0].round(2).astype(float), CI_opt[1].round(2).astype(float))\n",
    "print()\n",
    "print(\"Variance of mu estimate for Equal allocation:\", round(var_hat_mu_st_hat, 3))\n",
    "print(\"Variance of mu estimate for Proportional allocation:\", round(var_hat_mu_st_hat_prop, 3))\n",
    "print(\"Variance of mu estimate for Optimal allocation:\", round(var_hat_mu_st_hat_opt, 3))"
   ]
  },
  {
   "attachments": {},
   "cell_type": "markdown",
   "id": "bdbf082b",
   "metadata": {},
   "source": [
    "Of the three estimators, the estimator for $\\mu$ under Proportional Allocation has the lowest variance of $1.927$. Therefore it is the best Estimator of the three."
   ]
  },
  {
   "cell_type": "code",
   "execution_count": null,
   "id": "7fd353ee-953b-467e-a05b-09b280dfb4bf",
   "metadata": {},
   "outputs": [],
   "source": []
  }
 ],
 "metadata": {
  "kernelspec": {
   "display_name": "Python 3 (ipykernel)",
   "language": "python",
   "name": "python3"
  },
  "language_info": {
   "codemirror_mode": {
    "name": "ipython",
    "version": 3
   },
   "file_extension": ".py",
   "mimetype": "text/x-python",
   "name": "python",
   "nbconvert_exporter": "python",
   "pygments_lexer": "ipython3",
   "version": "3.12.2"
  }
 },
 "nbformat": 4,
 "nbformat_minor": 5
}
