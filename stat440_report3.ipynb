{
 "cells": [
  {
   "cell_type": "code",
   "execution_count": 1,
   "id": "d72feb5d-a50e-435c-a0fa-5feae79ecb2b",
   "metadata": {},
   "outputs": [
    {
     "name": "stdout",
     "output_type": "stream",
     "text": [
      "<class 'pandas.core.frame.DataFrame'>\n",
      "RangeIndex: 478 entries, 0 to 477\n",
      "Data columns (total 6 columns):\n",
      " #   Column                           Non-Null Count  Dtype \n",
      "---  ------                           --------------  ----- \n",
      " 0   DBN                              478 non-null    object\n",
      " 1   SCHOOL NAME                      478 non-null    object\n",
      " 2   Num of SAT Test Takers           478 non-null    object\n",
      " 3   SAT Critical Reading Avg. Score  478 non-null    object\n",
      " 4   SAT Math Avg. Score              478 non-null    object\n",
      " 5   SAT Writing Avg. Score           478 non-null    object\n",
      "dtypes: object(6)\n",
      "memory usage: 22.5+ KB\n",
      "None\n",
      "\n",
      "<class 'pandas.core.frame.DataFrame'>\n",
      "Index: 421 entries, 0 to 477\n",
      "Data columns (total 6 columns):\n",
      " #   Column                           Non-Null Count  Dtype  \n",
      "---  ------                           --------------  -----  \n",
      " 0   DBN                              421 non-null    object \n",
      " 1   SCHOOL NAME                      421 non-null    object \n",
      " 2   Num of SAT Test Takers           421 non-null    object \n",
      " 3   SAT Critical Reading Avg. Score  421 non-null    float64\n",
      " 4   SAT Math Avg. Score              421 non-null    float64\n",
      " 5   SAT Writing Avg. Score           421 non-null    float64\n",
      "dtypes: float64(3), object(3)\n",
      "memory usage: 23.0+ KB\n",
      "None\n",
      "\n",
      "The mu is: 393.9857482185273\n",
      "The tao is: 165868.0\n",
      "The sigma^2 is: 3429.9095356040657\n",
      "\n"
     ]
    },
    {
     "data": {
      "image/png": "[encoded data removed]",
      "text/plain": [
       "<Figure size 640x480 with 1 Axes>"
      ]
     },
     "metadata": {},
     "output_type": "display_data"
    }
   ],
   "source": [
    "import numpy as np\n",
    "import pandas as pd\n",
    "import matplotlib.pyplot as plt\n",
    "import seaborn as sns\n",
    "\n",
    "#  read the dataset\n",
    "df = pd.read_csv(\"2012-sat-results.csv\")\n",
    "\n",
    "print(df.info())\n",
    "print(\"\")\n",
    "\n",
    "# convert all values to numeric\n",
    "df[\"SAT Critical Reading Avg. Score\"] = pd.to_numeric(df[\"SAT Critical Reading Avg. Score\"], errors=\"coerce\")\n",
    "df[\"SAT Math Avg. Score\"] = pd.to_numeric(df[\"SAT Math Avg. Score\"], errors=\"coerce\")\n",
    "df[\"SAT Writing Avg. Score\"] = pd.to_numeric(df[\"SAT Writing Avg. Score\"], errors=\"coerce\")\n",
    "\n",
    "# Drop rows with NaN values\n",
    "df = df.dropna(subset=[\"SAT Critical Reading Avg. Score\", \"SAT Math Avg. Score\", \"SAT Writing Avg. Score\"])\n",
    "\n",
    "print(df.info())\n",
    "print(\"\")\n",
    "\n",
    "# population params\n",
    "mu = df[\"SAT Writing Avg. Score\"].mean()\n",
    "tao = df[\"SAT Writing Avg. Score\"].sum()\n",
    "sigmasq = df[\"SAT Writing Avg. Score\"].var(ddof=0)\n",
    "\n",
    "print(f\"The mu is: {mu}\")\n",
    "print(f\"The tao is: {tao}\")\n",
    "print(f\"The sigma^2 is: {sigmasq}\")\n",
    "\n",
    "print(\"\")\n",
    "\n",
    "plt.hist(df[\"SAT Writing Avg. Score\"], bins=15, color=\"skyblue\", alpha=0.8, edgecolor=\"black\")\n",
    "plt.title(\"SAT Writing Avg. Score NYC Schools\")\n",
    "plt.xlabel(\"Avg Writing Score\")\n",
    "plt.show()\n"
   ]
  },
  {
   "cell_type": "markdown",
   "id": "3127de35-a74b-4092-a442-86252448800b",
   "metadata": {},
   "source": [
    "#### Problem 1: Assign probabilities $p_i$'s is proportional to a variable related to your variable of interest, you first need to determine the relationship between the two variables. Once you have identified the related variable, you can calculate the probabilities proportional to its values"
   ]
  },
  {
   "cell_type": "code",
   "execution_count": 3,
   "id": "9f9a7fbb-d304-4b9a-96b4-1a37dc49c58e",
   "metadata": {},
   "outputs": [
    {
     "data": {
      "text/plain": [
       "0.8884561176774858"
      ]
     },
     "execution_count": 3,
     "metadata": {},
     "output_type": "execute_result"
    }
   ],
   "source": [
    "# Correlation With an Auxilary Variable\n",
    "# Our variable of interest is SAT Writing Avg. Score. A related variable we are using is SAT Math Avg. Score. The SAT Math Avg. Score\n",
    "# has a 0.8885 correlation with SAT Writing Avg. Score. \n",
    "df[\"SAT Math Avg. Score\"].corr(df[\"SAT Writing Avg. Score\"])"
   ]
  },
  {
   "cell_type": "code",
   "execution_count": 4,
   "id": "da5a6cf1-d9d9-4cef-9a9b-f8b9978323f5",
   "metadata": {},
   "outputs": [],
   "source": [
    "# Creating probabilities proportional to Avg Math score as it has high correlation\n",
    "df[\"probs\"] = df[\"SAT Math Avg. Score\"] / df[\"SAT Math Avg. Score\"].sum()"
   ]
  },
  {
   "cell_type": "code",
   "execution_count": 5,
   "id": "605f6029-6163-4135-9fae-c4c5efd7dd8f",
   "metadata": {},
   "outputs": [
    {
     "data": {
      "text/plain": [
       "0    0.002321\n",
       "1    0.002431\n",
       "2    0.002310\n",
       "3    0.002304\n",
       "4    0.002488\n",
       "Name: probs, dtype: float64"
      ]
     },
     "execution_count": 5,
     "metadata": {},
     "output_type": "execute_result"
    }
   ],
   "source": [
    "df[\"probs\"].head()"
   ]
  },
  {
   "cell_type": "markdown",
   "id": "177077ca-710f-4872-b3d6-08dd1cb892b8",
   "metadata": {},
   "source": [
    "#### Problem 2: Take a sample of size $n$ (that you define in the Report 2) with replacement with $p_i$'s defined above."
   ]
  },
  {
   "cell_type": "code",
   "execution_count": 7,
   "id": "9bf24964-f914-4615-a1cf-08b6209ca396",
   "metadata": {},
   "outputs": [],
   "source": [
    "# Sample size\n",
    "n = 80\n",
    "seed = 42\n",
    "sampled_df = df.sample(n=n, weights=df[\"probs\"], replace=True, random_state=seed)"
   ]
  },
  {
   "cell_type": "code",
   "execution_count": 8,
   "id": "48b87418-3f12-4cb5-9b5d-46a3c590c671",
   "metadata": {},
   "outputs": [
    {
     "data": {
      "text/html": [
       "<div>\n",
       "<style scoped>\n",
       "    .dataframe tbody tr th:only-of-type {\n",
       "        vertical-align: middle;\n",
       "    }\n",
       "\n",
       "    .dataframe tbody tr th {\n",
       "        vertical-align: top;\n",
       "    }\n",
       "\n",
       "    .dataframe thead th {\n",
       "        text-align: right;\n",
       "    }\n",
       "</style>\n",
       "<table border=\"1\" class=\"dataframe\">\n",
       "  <thead>\n",
       "    <tr style=\"text-align: right;\">\n",
       "      <th></th>\n",
       "      <th>DBN</th>\n",
       "      <th>SCHOOL NAME</th>\n",
       "      <th>Num of SAT Test Takers</th>\n",
       "      <th>SAT Critical Reading Avg. Score</th>\n",
       "      <th>SAT Math Avg. Score</th>\n",
       "      <th>SAT Writing Avg. Score</th>\n",
       "      <th>probs</th>\n",
       "    </tr>\n",
       "  </thead>\n",
       "  <tbody>\n",
       "    <tr>\n",
       "      <th>0</th>\n",
       "      <td>09X543</td>\n",
       "      <td>HIGH SCHOOL FOR VIOLIN AND DANCE</td>\n",
       "      <td>27</td>\n",
       "      <td>353.0</td>\n",
       "      <td>315.0</td>\n",
       "      <td>371.0</td>\n",
       "      <td>0.001810</td>\n",
       "    </tr>\n",
       "    <tr>\n",
       "      <th>1</th>\n",
       "      <td>31R064</td>\n",
       "      <td>GAYNOR MCCOWN EXPEDITIONARY LEARNING SCHOOL</td>\n",
       "      <td>61</td>\n",
       "      <td>398.0</td>\n",
       "      <td>412.0</td>\n",
       "      <td>385.0</td>\n",
       "      <td>0.002367</td>\n",
       "    </tr>\n",
       "    <tr>\n",
       "      <th>2</th>\n",
       "      <td>21K540</td>\n",
       "      <td>JOHN DEWEY HIGH SCHOOL</td>\n",
       "      <td>448</td>\n",
       "      <td>404.0</td>\n",
       "      <td>468.0</td>\n",
       "      <td>390.0</td>\n",
       "      <td>0.002689</td>\n",
       "    </tr>\n",
       "    <tr>\n",
       "      <th>3</th>\n",
       "      <td>15K698</td>\n",
       "      <td>SOUTH BROOKLYN COMMUNITY HIGH SCHOOL</td>\n",
       "      <td>8</td>\n",
       "      <td>430.0</td>\n",
       "      <td>416.0</td>\n",
       "      <td>425.0</td>\n",
       "      <td>0.002390</td>\n",
       "    </tr>\n",
       "    <tr>\n",
       "      <th>4</th>\n",
       "      <td>02M600</td>\n",
       "      <td>THE HIGH SCHOOL OF FASHION INDUSTRIES</td>\n",
       "      <td>335</td>\n",
       "      <td>423.0</td>\n",
       "      <td>423.0</td>\n",
       "      <td>411.0</td>\n",
       "      <td>0.002431</td>\n",
       "    </tr>\n",
       "  </tbody>\n",
       "</table>\n",
       "</div>"
      ],
      "text/plain": [
       "      DBN                                  SCHOOL NAME Num of SAT Test Takers  \\\n",
       "0  09X543             HIGH SCHOOL FOR VIOLIN AND DANCE                     27   \n",
       "1  31R064  GAYNOR MCCOWN EXPEDITIONARY LEARNING SCHOOL                     61   \n",
       "2  21K540                       JOHN DEWEY HIGH SCHOOL                    448   \n",
       "3  15K698         SOUTH BROOKLYN COMMUNITY HIGH SCHOOL                      8   \n",
       "4  02M600        THE HIGH SCHOOL OF FASHION INDUSTRIES                    335   \n",
       "\n",
       "   SAT Critical Reading Avg. Score  SAT Math Avg. Score  \\\n",
       "0                            353.0                315.0   \n",
       "1                            398.0                412.0   \n",
       "2                            404.0                468.0   \n",
       "3                            430.0                416.0   \n",
       "4                            423.0                423.0   \n",
       "\n",
       "   SAT Writing Avg. Score     probs  \n",
       "0                   371.0  0.001810  \n",
       "1                   385.0  0.002367  \n",
       "2                   390.0  0.002689  \n",
       "3                   425.0  0.002390  \n",
       "4                   411.0  0.002431  "
      ]
     },
     "execution_count": 8,
     "metadata": {},
     "output_type": "execute_result"
    }
   ],
   "source": [
    "sampled_df.reset_index(drop=True, inplace=True)\n",
    "sampled_df.head()"
   ]
  },
  {
   "cell_type": "code",
   "execution_count": 9,
   "id": "1e9eb6b1",
   "metadata": {},
   "outputs": [
    {
     "name": "stdout",
     "output_type": "stream",
     "text": [
      "<class 'pandas.core.frame.DataFrame'>\n",
      "RangeIndex: 80 entries, 0 to 79\n",
      "Data columns (total 7 columns):\n",
      " #   Column                           Non-Null Count  Dtype  \n",
      "---  ------                           --------------  -----  \n",
      " 0   DBN                              80 non-null     object \n",
      " 1   SCHOOL NAME                      80 non-null     object \n",
      " 2   Num of SAT Test Takers           80 non-null     object \n",
      " 3   SAT Critical Reading Avg. Score  80 non-null     float64\n",
      " 4   SAT Math Avg. Score              80 non-null     float64\n",
      " 5   SAT Writing Avg. Score           80 non-null     float64\n",
      " 6   probs                            80 non-null     float64\n",
      "dtypes: float64(4), object(3)\n",
      "memory usage: 4.5+ KB\n"
     ]
    }
   ],
   "source": [
    "sampled_df.info()"
   ]
  },
  {
   "cell_type": "markdown",
   "id": "3f3cacce",
   "metadata": {},
   "source": [
    "#### Problem 3. Estimate your parameter of interest using the Hansen-Hurwitz estimator. Estimate its variance and calculate a confidence interval of chosen in the Report 2 level $\\alpha$.\n",
    "Hansen-Hurwitz Estimator for $\\mu$ is:\n",
    "\n",
    "$\\hat{\\mu}_p = \\frac{1}{N} \\hat{\\tau_p}$\n",
    "\n",
    "$\\hat{\\tau_p} = \\frac{1}{n} \\sum_{i=1}^n \\frac{y_i}{p_i}$"
   ]
  },
  {
   "cell_type": "code",
   "execution_count": 11,
   "id": "37b53ae2",
   "metadata": {},
   "outputs": [
    {
     "name": "stdout",
     "output_type": "stream",
     "text": [
      "Estimated true SAT Writing Avg. Score using HH:  393.84\n"
     ]
    }
   ],
   "source": [
    "N = len(df)\n",
    "y_i = sampled_df[\"SAT Writing Avg. Score\"].values\n",
    "p_i = sampled_df[\"probs\"].values\n",
    "\n",
    "HH_tau_est = np.sum(y_i / p_i) / n\n",
    "HH_mu_est = HH_tau_est / N\n",
    "print(\"Estimated true SAT Writing Avg. Score using HH: \", round(HH_mu_est, 2))"
   ]
  },
  {
   "cell_type": "markdown",
   "id": "c168badc",
   "metadata": {},
   "source": [
    "Estimated Variance for HH $\\mu$:\n",
    "\n",
    "$\\hat{var}(\\hat{\\mu_p}) = \\frac{1}{N^2} \\hat{var}(\\hat{\\tau_p})$\n",
    "\n",
    "$\\hat{var}(\\hat{\\tau_p}) = \\frac{1}{n(n-1)} \\sum_{i=1}^{n} (\\frac{yi}{pi} − \\hat{\\tau_p})^2$\n",
    "\n"
   ]
  },
  {
   "cell_type": "code",
   "execution_count": 13,
   "id": "a5dc5e77",
   "metadata": {},
   "outputs": [
    {
     "name": "stdout",
     "output_type": "stream",
     "text": [
      "Estimated variance of HH Estimator for SAT Writing Avg. Score:  12.31\n"
     ]
    }
   ],
   "source": [
    "HH_tau_var_est = (1 / (n * (n-1))) * np.sum(((y_i / p_i) - HH_tau_est)**2)\n",
    "HH_mu_var_est = 1/(N**2) * HH_tau_var_est\n",
    "print(\"Estimated variance of HH Estimator for SAT Writing Avg. Score: \", round(HH_mu_var_est, 2))"
   ]
  },
  {
   "cell_type": "markdown",
   "id": "ff0a131e",
   "metadata": {},
   "source": [
    "An approximate $(1 − \\alpha)100\\%$ confidence interval for the population total, based on the normal approximation for the estimator $\\hat{\\tau_p}$ , is\n",
    "\n",
    "$\\hat{\\tau_p} \\pm t_{\\frac{\\alpha}{2}, n-1} \\sqrt{\\hat{var}(\\hat{\\tau_p})}$\n",
    "\n",
    "And for $\\hat{\\mu_p} \\pm t_{\\frac{\\alpha}{2}, n-1}\\sqrt{\\hat{var}(\\hat{\\mu_p})}$\n",
    "\n",
    "Based on Report 2, we have $\\alpha = .05$."
   ]
  },
  {
   "cell_type": "code",
   "execution_count": 15,
   "id": "01aef9d6",
   "metadata": {},
   "outputs": [
    {
     "name": "stdout",
     "output_type": "stream",
     "text": [
      "CI with alpha=.05 for population SAT Writing Avg. Score: ( 386.86 , 400.83 )\n"
     ]
    }
   ],
   "source": [
    "from scipy.stats import t\n",
    "\n",
    "alpha = .05\n",
    "\n",
    "t_crit = t.ppf(1-(alpha/2), n-1)\n",
    "StdErr = t_crit * np.sqrt(HH_mu_var_est)\n",
    "\n",
    "HH_CI = HH_mu_est - StdErr, HH_mu_est + StdErr\n",
    "print(\"CI with alpha=.05 for population SAT Writing Avg. Score: (\", round(HH_CI[0], 2), \",\", round(HH_CI[1], 2), \")\")"
   ]
  },
  {
   "cell_type": "markdown",
   "id": "8c7e6601",
   "metadata": {},
   "source": [
    "#### Problem 4: Calculate $\\pi_i$’s for selected sampling units"
   ]
  },
  {
   "cell_type": "markdown",
   "id": "885ef750",
   "metadata": {},
   "source": [
    "$\\pi_i = 1 - (1 - p_i) ^ n$\n"
   ]
  },
  {
   "cell_type": "code",
   "execution_count": 18,
   "id": "a4d12793",
   "metadata": {},
   "outputs": [
    {
     "data": {
      "text/html": [
       "<div>\n",
       "<style scoped>\n",
       "    .dataframe tbody tr th:only-of-type {\n",
       "        vertical-align: middle;\n",
       "    }\n",
       "\n",
       "    .dataframe tbody tr th {\n",
       "        vertical-align: top;\n",
       "    }\n",
       "\n",
       "    .dataframe thead th {\n",
       "        text-align: right;\n",
       "    }\n",
       "</style>\n",
       "<table border=\"1\" class=\"dataframe\">\n",
       "  <thead>\n",
       "    <tr style=\"text-align: right;\">\n",
       "      <th></th>\n",
       "      <th>SAT Writing Avg. Score</th>\n",
       "      <th>probs</th>\n",
       "      <th>pi_i</th>\n",
       "    </tr>\n",
       "  </thead>\n",
       "  <tbody>\n",
       "    <tr>\n",
       "      <th>0</th>\n",
       "      <td>371.0</td>\n",
       "      <td>0.001810</td>\n",
       "      <td>0.134922</td>\n",
       "    </tr>\n",
       "    <tr>\n",
       "      <th>1</th>\n",
       "      <td>385.0</td>\n",
       "      <td>0.002367</td>\n",
       "      <td>0.172726</td>\n",
       "    </tr>\n",
       "    <tr>\n",
       "      <th>2</th>\n",
       "      <td>390.0</td>\n",
       "      <td>0.002689</td>\n",
       "      <td>0.193803</td>\n",
       "    </tr>\n",
       "    <tr>\n",
       "      <th>3</th>\n",
       "      <td>425.0</td>\n",
       "      <td>0.002390</td>\n",
       "      <td>0.174249</td>\n",
       "    </tr>\n",
       "    <tr>\n",
       "      <th>4</th>\n",
       "      <td>411.0</td>\n",
       "      <td>0.002431</td>\n",
       "      <td>0.176909</td>\n",
       "    </tr>\n",
       "  </tbody>\n",
       "</table>\n",
       "</div>"
      ],
      "text/plain": [
       "   SAT Writing Avg. Score     probs      pi_i\n",
       "0                   371.0  0.001810  0.134922\n",
       "1                   385.0  0.002367  0.172726\n",
       "2                   390.0  0.002689  0.193803\n",
       "3                   425.0  0.002390  0.174249\n",
       "4                   411.0  0.002431  0.176909"
      ]
     },
     "execution_count": 18,
     "metadata": {},
     "output_type": "execute_result"
    }
   ],
   "source": [
    "sampled_df[\"pi_i\"] = 1 - (1 - sampled_df[\"probs\"])**n\n",
    "sampled_df[[\"SAT Writing Avg. Score\", \"probs\", \"pi_i\"]].head()"
   ]
  },
  {
   "cell_type": "markdown",
   "id": "cca96ea0",
   "metadata": {},
   "source": [
    "#### Problem 5: Estimate your parameter of interest by Horvitz-Thompson estimator. Estimate its variance and give a confidence interval of $\\alpha$ level that you choose in the Report 2."
   ]
  },
  {
   "cell_type": "code",
   "execution_count": 20,
   "id": "762e8f40",
   "metadata": {},
   "outputs": [
    {
     "data": {
      "text/html": [
       "<div>\n",
       "<style scoped>\n",
       "    .dataframe tbody tr th:only-of-type {\n",
       "        vertical-align: middle;\n",
       "    }\n",
       "\n",
       "    .dataframe tbody tr th {\n",
       "        vertical-align: top;\n",
       "    }\n",
       "\n",
       "    .dataframe thead th {\n",
       "        text-align: right;\n",
       "    }\n",
       "</style>\n",
       "<table border=\"1\" class=\"dataframe\">\n",
       "  <thead>\n",
       "    <tr style=\"text-align: right;\">\n",
       "      <th></th>\n",
       "      <th>DBN</th>\n",
       "      <th>SCHOOL NAME</th>\n",
       "      <th>Num of SAT Test Takers</th>\n",
       "      <th>SAT Critical Reading Avg. Score</th>\n",
       "      <th>SAT Math Avg. Score</th>\n",
       "      <th>y_i</th>\n",
       "      <th>p_i</th>\n",
       "      <th>pi_i</th>\n",
       "    </tr>\n",
       "  </thead>\n",
       "  <tbody>\n",
       "    <tr>\n",
       "      <th>0</th>\n",
       "      <td>09X543</td>\n",
       "      <td>HIGH SCHOOL FOR VIOLIN AND DANCE</td>\n",
       "      <td>27</td>\n",
       "      <td>353.0</td>\n",
       "      <td>315.0</td>\n",
       "      <td>371.0</td>\n",
       "      <td>0.001810</td>\n",
       "      <td>0.134922</td>\n",
       "    </tr>\n",
       "    <tr>\n",
       "      <th>1</th>\n",
       "      <td>31R064</td>\n",
       "      <td>GAYNOR MCCOWN EXPEDITIONARY LEARNING SCHOOL</td>\n",
       "      <td>61</td>\n",
       "      <td>398.0</td>\n",
       "      <td>412.0</td>\n",
       "      <td>385.0</td>\n",
       "      <td>0.002367</td>\n",
       "      <td>0.172726</td>\n",
       "    </tr>\n",
       "    <tr>\n",
       "      <th>2</th>\n",
       "      <td>21K540</td>\n",
       "      <td>JOHN DEWEY HIGH SCHOOL</td>\n",
       "      <td>448</td>\n",
       "      <td>404.0</td>\n",
       "      <td>468.0</td>\n",
       "      <td>390.0</td>\n",
       "      <td>0.002689</td>\n",
       "      <td>0.193803</td>\n",
       "    </tr>\n",
       "    <tr>\n",
       "      <th>3</th>\n",
       "      <td>15K698</td>\n",
       "      <td>SOUTH BROOKLYN COMMUNITY HIGH SCHOOL</td>\n",
       "      <td>8</td>\n",
       "      <td>430.0</td>\n",
       "      <td>416.0</td>\n",
       "      <td>425.0</td>\n",
       "      <td>0.002390</td>\n",
       "      <td>0.174249</td>\n",
       "    </tr>\n",
       "    <tr>\n",
       "      <th>4</th>\n",
       "      <td>02M600</td>\n",
       "      <td>THE HIGH SCHOOL OF FASHION INDUSTRIES</td>\n",
       "      <td>335</td>\n",
       "      <td>423.0</td>\n",
       "      <td>423.0</td>\n",
       "      <td>411.0</td>\n",
       "      <td>0.002431</td>\n",
       "      <td>0.176909</td>\n",
       "    </tr>\n",
       "  </tbody>\n",
       "</table>\n",
       "</div>"
      ],
      "text/plain": [
       "      DBN                                  SCHOOL NAME Num of SAT Test Takers  \\\n",
       "0  09X543             HIGH SCHOOL FOR VIOLIN AND DANCE                     27   \n",
       "1  31R064  GAYNOR MCCOWN EXPEDITIONARY LEARNING SCHOOL                     61   \n",
       "2  21K540                       JOHN DEWEY HIGH SCHOOL                    448   \n",
       "3  15K698         SOUTH BROOKLYN COMMUNITY HIGH SCHOOL                      8   \n",
       "4  02M600        THE HIGH SCHOOL OF FASHION INDUSTRIES                    335   \n",
       "\n",
       "   SAT Critical Reading Avg. Score  SAT Math Avg. Score    y_i       p_i  \\\n",
       "0                            353.0                315.0  371.0  0.001810   \n",
       "1                            398.0                412.0  385.0  0.002367   \n",
       "2                            404.0                468.0  390.0  0.002689   \n",
       "3                            430.0                416.0  425.0  0.002390   \n",
       "4                            423.0                423.0  411.0  0.002431   \n",
       "\n",
       "       pi_i  \n",
       "0  0.134922  \n",
       "1  0.172726  \n",
       "2  0.193803  \n",
       "3  0.174249  \n",
       "4  0.176909  "
      ]
     },
     "execution_count": 20,
     "metadata": {},
     "output_type": "execute_result"
    }
   ],
   "source": [
    "# quick renaming to make stuff easier to work with\n",
    "sampled_df.rename(columns={'SAT Writing Avg. Score':'y_i',\n",
    "                           'probs':'p_i'},\n",
    "                  inplace=True)\n",
    "sampled_df.head()"
   ]
  },
  {
   "cell_type": "markdown",
   "id": "65687dd9",
   "metadata": {},
   "source": [
    "Our paremeter of interest is $\\mu$.\n",
    "The Horvitz-Thompson estimator for $\\mu$ is:\n",
    "\n",
    "$\\hat{\\mu_\\pi} = \\frac{1}{N}\\sum_{i=1}^{v} \\frac{y_i}{\\pi_i}$"
   ]
  },
  {
   "cell_type": "code",
   "execution_count": 22,
   "id": "dfc1f35f",
   "metadata": {},
   "outputs": [
    {
     "name": "stdout",
     "output_type": "stream",
     "text": [
      "Estimated true SAT Writing Avg. Score using HT: 291.64\n"
     ]
    }
   ],
   "source": [
    "# Get vs\n",
    "sampled_df_unique = sampled_df.drop_duplicates(subset=['y_i'])\n",
    "sampled_df_unique.reset_index(inplace=True)\n",
    "n_v = len(sampled_df_unique)\n",
    "\n",
    "HT_mu_est = (1 / N) * sum(sampled_df_unique['y_i'] / sampled_df_unique['pi_i'])\n",
    "print(\"Estimated true SAT Writing Avg. Score using HT:\", round(HT_mu_est, 2))"
   ]
  },
  {
   "cell_type": "markdown",
   "id": "15cf1cab",
   "metadata": {},
   "source": [
    "Estimated Variance for $\\hat{\\mu_\\pi}$ of Horvitz-Thompson is:\n",
    "\n",
    "$\\hat{var}(\\hat{\\mu_\\pi}) = \\frac{1}{N^2} \\sum^{v}_{i=1} \\frac{1-\\pi_i}{\\pi_i^2}y_i^2 + \\sum^{v}_{i=1}\\sum_{i\\neq j}\\frac{\\pi_{ij} - \\pi_i\\pi_j}{\\pi_i\\pi_j}\\frac{y_iy_j}{\\pi_{ij}}$\n",
    "\n",
    "$$\n",
    "%\\begin{align*}\n",
    "%    \\pi_{ij} &= P(i \\cup j)\\\\\n",
    "%    &= P(i) + P(j) - P(i \\cap j)\\\\\n",
    "%    &= \\pi_i + \\pi_j - (1 - P(i^C \\cup j^C))\\\\\n",
    "%    \\pi_{ij} &= \\pi_i + \\pi_j - 1 + (1 - p_i - p_j)^n\\\\\n",
    "%\\end{align*}\n",
    "$$"
   ]
  },
  {
   "cell_type": "code",
   "execution_count": 24,
   "id": "73067f3b",
   "metadata": {},
   "outputs": [
    {
     "name": "stdout",
     "output_type": "stream",
     "text": [
      "Estimated variance of HT Estimator for SAT Writing Avg. Score:  438.97\n"
     ]
    }
   ],
   "source": [
    "first_component = sum(((1 - sampled_df_unique['pi_i']) / sampled_df_unique['pi_i']**2) * (sampled_df_unique['y_i']**2))\n",
    "\n",
    "second_component = 0\n",
    "for i in range(n_v):\n",
    "  for j in range(n_v):\n",
    "    if i != j:\n",
    "        pi_i  = sampled_df_unique.loc[i, 'pi_i']\n",
    "        pi_j  = sampled_df_unique.loc[j, 'pi_i']\n",
    "        p_i   = sampled_df_unique.loc[i, 'p_i']\n",
    "        p_j   = sampled_df_unique.loc[j, 'p_i']\n",
    "        y_i   = sampled_df_unique.loc[i, 'y_i']\n",
    "        y_j   = sampled_df_unique.loc[j, 'y_i']\n",
    "        pi_ij = (pi_i + pi_j - 1) + (1 - p_i - p_j)**n\n",
    "\n",
    "        second_component += ((pi_ij - (pi_i * pi_j)) / (pi_i * pi_j)) * ((y_i * y_j) / (pi_ij))\n",
    "\n",
    "HT_mu_var_est = (1 / (N**2)) * (first_component + second_component)\n",
    "\n",
    "print(\"Estimated variance of HT Estimator for SAT Writing Avg. Score: \", round(HT_mu_var_est, 2))"
   ]
  },
  {
   "cell_type": "markdown",
   "id": "ade1fcb8",
   "metadata": {},
   "source": [
    "An approximate $(1 − \\alpha)100\\%$ confidence interval for the population total based on $\\hat{\\mu\\pi}$ is\n",
    "\n",
    "$\\hat{\\mu_\\pi} \\pm t_{\\frac{\\alpha}{2}, n-1}\\sqrt{\\hat{var}(\\hat{\\mu_\\pi})}$\n",
    "\n",
    "Based on Report 2, we have $\\alpha = .05$."
   ]
  },
  {
   "cell_type": "code",
   "execution_count": 26,
   "id": "c5b10ec2",
   "metadata": {},
   "outputs": [
    {
     "name": "stdout",
     "output_type": "stream",
     "text": [
      "CI with alpha=.05 for population SAT Writing Avg. Score: ( 207.36 , 375.93 )\n"
     ]
    }
   ],
   "source": [
    "alpha = .05\n",
    "\n",
    "t_crit = t.ppf(1 - (alpha / 2), n_v - 1)\n",
    "StdErr = t_crit * np.sqrt(HT_mu_var_est)\n",
    "\n",
    "HT_CI = HT_mu_est - (t_crit * StdErr), HT_mu_est + (t_crit * StdErr)\n",
    "print(\"CI with alpha=.05 for population SAT Writing Avg. Score: (\", round(HT_CI[0], 2), \",\", round(HT_CI[1], 2), \")\")"
   ]
  },
  {
   "cell_type": "markdown",
   "id": "2ad3ad92",
   "metadata": {},
   "source": [
    "#### Problem 6: Estimate your parameter of interest by Generalized Unequal Probability estimator ($\\hat{\\mu_g}$). Estimate its variance and give a confidence interval of $\\alpha$ level that you choose in the Report 2.\n",
    "Our paremeter of interest is $\\mu$.\n",
    "The Generalized Unequal Probability estimator for $\\mu$ is:\n",
    "\n",
    "$\\large\\hat{\\mu_g} = \\frac{\\sum_{i=1}^{v} \\frac{y_i}{\\pi_i}}{\\sum_{i=1}^{v} \\frac{1}{\\pi_i}}$"
   ]
  },
  {
   "cell_type": "code",
   "execution_count": 28,
   "id": "d050e9b0",
   "metadata": {},
   "outputs": [
    {
     "name": "stdout",
     "output_type": "stream",
     "text": [
      "Estimated true SAT Writing Avg. Score using HT: 395.66\n"
     ]
    }
   ],
   "source": [
    "y_i = sampled_df_unique['y_i']\n",
    "pi_i = sampled_df_unique['pi_i']\n",
    "\n",
    "GUP_mu_est = sum(y_i / pi_i) / sum(1 / pi_i)\n",
    "\n",
    "print(\"Estimated true SAT Writing Avg. Score using HT:\", round(GUP_mu_est, 2))"
   ]
  },
  {
   "cell_type": "markdown",
   "id": "1fec4ba7",
   "metadata": {},
   "source": [
    "Estimated Variance for $\\hat{\\mu_g}$ of Generalized Unequal Probability is:\n",
    "\n",
    "$\\large\\hat{var}(\\hat{\\mu_g}) = \\frac{1}{N^2} \\sum^{v}_{i=1} \\frac{1-\\pi_i}{\\pi_i^2}(y_i - \\hat{\\mu_g})^2 + \\sum^{v}_{i=1}\\sum_{i\\neq j}\\frac{\\pi_{ij} - \\pi_i\\pi_j}{\\pi_i\\pi_j}\\frac{(y_i - \\hat{\\mu_g})(y_j - \\hat{\\mu_g})}{\\pi_{ij}}$"
   ]
  },
  {
   "cell_type": "code",
   "execution_count": 30,
   "id": "bcf4009b",
   "metadata": {},
   "outputs": [
    {
     "name": "stdout",
     "output_type": "stream",
     "text": [
      "Estimated variance of GUP Estimator for SAT Writing Avg. Score:  26.4\n"
     ]
    }
   ],
   "source": [
    "first_component = sum(((1 - sampled_df_unique['pi_i']) / sampled_df_unique['pi_i']**2) * ((sampled_df_unique['y_i'] - GUP_mu_est)**2))\n",
    "\n",
    "second_component = 0\n",
    "for i in range(n_v):\n",
    "  for j in range(n_v):\n",
    "    if i != j:\n",
    "        pi_i  = sampled_df_unique.loc[i, 'pi_i']\n",
    "        pi_j  = sampled_df_unique.loc[j, 'pi_i']\n",
    "        p_i   = sampled_df_unique.loc[i, 'p_i']\n",
    "        p_j   = sampled_df_unique.loc[j, 'p_i']\n",
    "        y_i   = sampled_df_unique.loc[i, 'y_i']\n",
    "        y_j   = sampled_df_unique.loc[j, 'y_i']\n",
    "        pi_ij = (pi_i + pi_j - 1) + (1 - p_i - p_j)**n\n",
    "\n",
    "        second_component += (pi_ij - (pi_i * pi_j)) * (y_i - GUP_mu_est) * (y_j - GUP_mu_est) / (pi_ij * pi_i * pi_j)\n",
    "\n",
    "GUP_mu_var_est = (1 / (N**2)) * (first_component + second_component)\n",
    "\n",
    "print(\"Estimated variance of GUP Estimator for SAT Writing Avg. Score: \", round(GUP_mu_var_est, 2))"
   ]
  },
  {
   "cell_type": "code",
   "execution_count": 31,
   "id": "5072d119",
   "metadata": {},
   "outputs": [
    {
     "name": "stdout",
     "output_type": "stream",
     "text": [
      "CI with alpha=.05 for population SAT Writing Avg. Score: ( 374.99 , 416.33 )\n"
     ]
    }
   ],
   "source": [
    "alpha = .05\n",
    "\n",
    "t_crit = t.ppf(1 - (alpha / 2), n_v - 1)\n",
    "StdErr = t_crit * np.sqrt(GUP_mu_var_est)\n",
    "\n",
    "GUP_CI = GUP_mu_est - (t_crit * StdErr), GUP_mu_est + (t_crit * StdErr)\n",
    "print(\"CI with alpha=.05 for population SAT Writing Avg. Score: (\", round(GUP_CI[0], 2), \",\", round(GUP_CI[1], 2), \")\")"
   ]
  },
  {
   "cell_type": "markdown",
   "id": "16b40954-8229-4861-9cb5-80c25471bfdd",
   "metadata": {},
   "source": [
    "#### Problem 7: Choose the best estimator of your parameter based on estimated variance\n",
    "I would select Hansen-Hurwitz Estimator for the estimator of true average mean of average SAT Writing scores because it has the smallest estimator of variance. "
   ]
  },
  {
   "cell_type": "markdown",
   "id": "6b6774fa-9032-44c3-b113-cafd0561f5e8",
   "metadata": {},
   "source": [
    "#### Problem 8: Calculate the true variances of your estimators. Is your choice of best estimator above change? How does it change?"
   ]
  },
  {
   "cell_type": "code",
   "execution_count": 34,
   "id": "f903a74f-dcf9-4b7f-a816-596164b2128f",
   "metadata": {},
   "outputs": [],
   "source": [
    "# quick renaming to make stuff easier to work with\n",
    "df.rename(columns={'SAT Writing Avg. Score':'y_i',\n",
    "                           'probs':'p_i'},\n",
    "                  inplace=True)"
   ]
  },
  {
   "cell_type": "code",
   "execution_count": 35,
   "id": "6debd35a-015e-403a-aca2-3987ae26dc12",
   "metadata": {},
   "outputs": [
    {
     "name": "stdout",
     "output_type": "stream",
     "text": [
      "True variance of HH Estimator for SAT Writing Avg. Score:  9.36\n"
     ]
    }
   ],
   "source": [
    "# True Variance of Hansen-Hurwitz Estimator\n",
    "\n",
    "N = len(df)\n",
    "y_i = df[\"y_i\"].values\n",
    "p_i = df[\"p_i\"].values\n",
    "tao = np.sum(df[\"y_i\"].values)\n",
    "\n",
    "\n",
    "HH_tau_var = (1 / n * np.sum(p_i * ((y_i / p_i) - tao)**2))\n",
    "HH_mu_var = 1/(N**2) * HH_tau_var\n",
    "print(\"True variance of HH Estimator for SAT Writing Avg. Score: \", round(HH_mu_var, 2))"
   ]
  },
  {
   "cell_type": "code",
   "execution_count": 36,
   "id": "0350d105-f93c-4be2-9736-7dbae87d95ef",
   "metadata": {},
   "outputs": [
    {
     "name": "stdout",
     "output_type": "stream",
     "text": [
      "True variance of HT Estimator for SAT Writing Avg. Score:  172.34\n"
     ]
    }
   ],
   "source": [
    "# True Variance of Horvitz-Thompson Estimator\n",
    "df[\"pi_i\"] = 1 - (1 - df[\"p_i\"])**n\n",
    "\n",
    "first_component = sum(((1 - df['pi_i']) / df['pi_i']) * (df['y_i']**2))\n",
    "second_component = 0\n",
    "for i in range(len(df)):\n",
    "  for j in range(len(df)):\n",
    "    if i != j:\n",
    "        pi_i  = df.iloc[i]['pi_i']\n",
    "        pi_j  = df.iloc[j]['pi_i']\n",
    "        p_i   = df.iloc[i]['p_i']\n",
    "        p_j   = df.iloc[j]['p_i']\n",
    "        y_i   = df.iloc[i]['y_i']\n",
    "        y_j   = df.iloc[j]['y_i']\n",
    "        pi_ij = (pi_i + pi_j - 1) + (1 - p_i - p_j)**n\n",
    "\n",
    "        second_component += ((pi_ij - (pi_i * pi_j)) / (pi_i * pi_j)) * (y_i * y_j)\n",
    "\n",
    "HT_mu_var = (1 / (N**2)) * (first_component + second_component)\n",
    "\n",
    "print(\"True variance of HT Estimator for SAT Writing Avg. Score: \", round(HT_mu_var, 2))"
   ]
  },
  {
   "cell_type": "code",
   "execution_count": 37,
   "id": "9505abeb-8013-4ee4-aa44-4cfde29f4377",
   "metadata": {},
   "outputs": [
    {
     "name": "stdout",
     "output_type": "stream",
     "text": [
      "True variance of GUP Estimator for SAT Writing Avg. Score:  31.32\n"
     ]
    }
   ],
   "source": [
    "# True Variance of GUP Estimator\n",
    "mu = df[\"y_i\"].mean()\n",
    "\n",
    "first_component = sum(((1 - df['pi_i']) / df['pi_i']) * ((df['y_i'] - mu)**2))\n",
    "\n",
    "second_component = 0\n",
    "for i in range(len(df)):\n",
    "  for j in range(len(df)):\n",
    "    if i != j:\n",
    "        pi_i  = df.iloc[i]['pi_i']\n",
    "        pi_j  = df.iloc[j]['pi_i']\n",
    "        p_i   = df.iloc[i]['p_i']\n",
    "        p_j   = df.iloc[j]['p_i']\n",
    "        y_i   = df.iloc[i]['y_i']\n",
    "        y_j   = df.iloc[j]['y_i']\n",
    "        pi_ij = (pi_i + pi_j - 1) + (1 - p_i - p_j)**n\n",
    "\n",
    "        second_component += (pi_ij - (pi_i * pi_j)) * (y_i - mu) * (y_j - mu) / (pi_i * pi_j)\n",
    "\n",
    "GUP_mu_var = (1 / (N**2)) * (first_component + second_component)\n",
    "\n",
    "print(\"True variance of GUP Estimator for SAT Writing Avg. Score: \", round(GUP_mu_var, 2))"
   ]
  },
  {
   "cell_type": "markdown",
   "id": "d6c64b1f-4cea-48c0-8f4a-ba26ea8c593c",
   "metadata": {},
   "source": [
    "#### I still select Hansen-Hurwitz as the estimator to use as it has the smallest true variance. I don't change my answer."
   ]
  },
  {
   "cell_type": "code",
   "execution_count": null,
   "id": "8c81bdc1-5a6e-4ea2-8d9b-6852d11ce1c3",
   "metadata": {},
   "outputs": [],
   "source": []
  }
 ],
 "metadata": {
  "kernelspec": {
   "display_name": "Python 3 (ipykernel)",
   "language": "python",
   "name": "python3"
  },
  "language_info": {
   "codemirror_mode": {
    "name": "ipython",
    "version": 3
   },
   "file_extension": ".py",
   "mimetype": "text/x-python",
   "name": "python",
   "nbconvert_exporter": "python",
   "pygments_lexer": "ipython3",
   "version": "3.12.2"
  }
 },
 "nbformat": 4,
 "nbformat_minor": 5
}
