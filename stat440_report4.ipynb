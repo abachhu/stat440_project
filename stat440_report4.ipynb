{
 "cells": [
  {
   "cell_type": "code",
   "execution_count": 1,
   "id": "43331cac-3282-4cb0-9d2d-e216e1fc9dec",
   "metadata": {},
   "outputs": [
    {
     "name": "stdout",
     "output_type": "stream",
     "text": [
      "<class 'pandas.core.frame.DataFrame'>\n",
      "RangeIndex: 478 entries, 0 to 477\n",
      "Data columns (total 6 columns):\n",
      " #   Column                           Non-Null Count  Dtype \n",
      "---  ------                           --------------  ----- \n",
      " 0   DBN                              478 non-null    object\n",
      " 1   SCHOOL NAME                      478 non-null    object\n",
      " 2   Num of SAT Test Takers           478 non-null    object\n",
      " 3   SAT Critical Reading Avg. Score  478 non-null    object\n",
      " 4   SAT Math Avg. Score              478 non-null    object\n",
      " 5   SAT Writing Avg. Score           478 non-null    object\n",
      "dtypes: object(6)\n",
      "memory usage: 22.5+ KB\n",
      "None\n",
      "\n",
      "<class 'pandas.core.frame.DataFrame'>\n",
      "Index: 421 entries, 0 to 477\n",
      "Data columns (total 6 columns):\n",
      " #   Column                           Non-Null Count  Dtype  \n",
      "---  ------                           --------------  -----  \n",
      " 0   DBN                              421 non-null    object \n",
      " 1   SCHOOL NAME                      421 non-null    object \n",
      " 2   Num of SAT Test Takers           421 non-null    object \n",
      " 3   SAT Critical Reading Avg. Score  421 non-null    float64\n",
      " 4   SAT Math Avg. Score              421 non-null    float64\n",
      " 5   SAT Writing Avg. Score           421 non-null    float64\n",
      "dtypes: float64(3), object(3)\n",
      "memory usage: 23.0+ KB\n",
      "None\n",
      "\n",
      "The mu is: 393.9857482185273\n",
      "The tao is: 165868.0\n",
      "The sigma^2 is: 3429.9095356040643\n",
      "\n"
     ]
    }
   ],
   "source": [
    "import numpy as np\n",
    "import pandas as pd\n",
    "import matplotlib.pyplot as plt\n",
    "import seaborn as sns\n",
    "\n",
    "#  read the dataset\n",
    "df = pd.read_csv(\"2012-sat-results.csv\")\n",
    "\n",
    "print(df.info())\n",
    "print(\"\")\n",
    "\n",
    "# convert all values to numeric\n",
    "df[\"SAT Critical Reading Avg. Score\"] = pd.to_numeric(df[\"SAT Critical Reading Avg. Score\"], errors=\"coerce\")\n",
    "df[\"SAT Math Avg. Score\"] = pd.to_numeric(df[\"SAT Math Avg. Score\"], errors=\"coerce\")\n",
    "df[\"SAT Writing Avg. Score\"] = pd.to_numeric(df[\"SAT Writing Avg. Score\"], errors=\"coerce\")\n",
    "\n",
    "# Drop rows with NaN values\n",
    "df = df.dropna(subset=[\"SAT Critical Reading Avg. Score\", \"SAT Math Avg. Score\", \"SAT Writing Avg. Score\"])\n",
    "\n",
    "print(df.info())\n",
    "print(\"\")\n",
    "\n",
    "# population params\n",
    "mu = df[\"SAT Writing Avg. Score\"].mean()\n",
    "tao = df[\"SAT Writing Avg. Score\"].sum()\n",
    "sigmasq = df[\"SAT Writing Avg. Score\"].var(ddof=0)\n",
    "\n",
    "print(f\"The mu is: {mu}\")\n",
    "print(f\"The tao is: {tao}\")\n",
    "print(f\"The sigma^2 is: {sigmasq}\")\n",
    "\n",
    "print(\"\")"
   ]
  },
  {
   "cell_type": "markdown",
   "id": "e4de288e-f770-4c7e-9043-c523f0e4c22a",
   "metadata": {},
   "source": [
    "#### **Choose an auxiliary variable x that should be related to your variable of interest y. Take a SRS of size n (the same size as in Report 2)**\n",
    "Our variable of interest is SAT Writing Avg. Score. A related (auxilliary) variable we are using is SAT Math Avg. Score. The SAT Math Avg. Score has a 0.8885 correlation with SAT Writing Avg. Score."
   ]
  },
  {
   "cell_type": "code",
   "execution_count": 2,
   "id": "55c31693-04fd-43a1-a971-759f9c1873ea",
   "metadata": {},
   "outputs": [],
   "source": [
    "# Correlation With an Auxilary Variable\n",
    "\n",
    "df[\"SAT Math Avg. Score\"].corr(df[\"SAT Writing Avg. Score\"])\n",
    "\n",
    "n = 80\n",
    "seed = 440\n",
    "sampled_df = df.sample(n=n, replace=True, random_state=seed)"
   ]
  },
  {
   "cell_type": "markdown",
   "id": "e310ed2f-f0ab-4799-aeb0-939e311fc28c",
   "metadata": {},
   "source": [
    "#### **Perform a diagnostic analysis to determine if x and y have a linear relationship based on the sample data. Do regression analysis y ∼ x**"
   ]
  },
  {
   "cell_type": "code",
   "execution_count": 3,
   "id": "dc8d1a84-fd38-43d9-9972-c7bfda3766fb",
   "metadata": {},
   "outputs": [
    {
     "name": "stdout",
     "output_type": "stream",
     "text": [
      "                              OLS Regression Results                              \n",
      "==================================================================================\n",
      "Dep. Variable:     SAT Writing Avg. Score   R-squared:                       0.815\n",
      "Model:                                OLS   Adj. R-squared:                  0.813\n",
      "Method:                     Least Squares   F-statistic:                     343.6\n",
      "Date:                    Sat, 29 Mar 2025   Prob (F-statistic):           2.62e-30\n",
      "Time:                            17:14:36   Log-Likelihood:                -377.75\n",
      "No. Observations:                      80   AIC:                             759.5\n",
      "Df Residuals:                          78   BIC:                             764.3\n",
      "Df Model:                               1                                         \n",
      "Covariance Type:                nonrobust                                         \n",
      "=======================================================================================\n",
      "                          coef    std err          t      P>|t|      [0.025      0.975]\n",
      "---------------------------------------------------------------------------------------\n",
      "const                  66.6504     18.574      3.588      0.001      29.672     103.629\n",
      "SAT Math Avg. Score     0.7988      0.043     18.536      0.000       0.713       0.885\n",
      "==============================================================================\n",
      "Omnibus:                       43.737   Durbin-Watson:                   2.080\n",
      "Prob(Omnibus):                  0.000   Jarque-Bera (JB):              189.459\n",
      "Skew:                          -1.594   Prob(JB):                     7.24e-42\n",
      "Kurtosis:                       9.832   Cond. No.                     2.60e+03\n",
      "==============================================================================\n",
      "\n",
      "Notes:\n",
      "[1] Standard Errors assume that the covariance matrix of the errors is correctly specified.\n",
      "[2] The condition number is large, 2.6e+03. This might indicate that there are\n",
      "strong multicollinearity or other numerical problems.\n"
     ]
    }
   ],
   "source": [
    "import statsmodels.api as sm\n",
    "\n",
    "X = sampled_df[\"SAT Math Avg. Score\"]\n",
    "y = sampled_df[\"SAT Writing Avg. Score\"]\n",
    "\n",
    "# Add a constant (intercept)\n",
    "X = sm.add_constant(X)\n",
    "\n",
    "# Fit the model\n",
    "model = sm.OLS(y, X).fit()\n",
    "\n",
    "# Get the summary\n",
    "print(model.summary())"
   ]
  },
  {
   "cell_type": "markdown",
   "id": "4ae9634a",
   "metadata": {},
   "source": [
    "Since the p-value for the slope is 0, this means that you reject the null hypothesis that there is not a significant linear relationship between SAT math score and SAT writing score."
   ]
  },
  {
   "cell_type": "markdown",
   "id": "689d84b4-43d6-4311-b359-9561c8bd1a8d",
   "metadata": {},
   "source": [
    "#### **Based on the results of the regression analysis, make a conclusion about the appropriateness of using ratio and regression estimators.**"
   ]
  },
  {
   "cell_type": "markdown",
   "id": "9427fc4a",
   "metadata": {},
   "source": [
    "Since the p-value of the intercept is 0, this means that you reject the null hypothesis and conclude the intercept is significantly different from 0. As seen in the previous part, there is a statistically significant linear linearship between SAT math score and SAT writing scores.\n",
    "\n",
    "Ratio estimators assume that the line has an intercept of 0, but this assumption is not met in this case. In contrast, the linear regression model does not require the intercept to be 0. Therefore, with this data, it is more appropriate to use the regression estimator rather than a ratio estimator."
   ]
  },
  {
   "cell_type": "markdown",
   "id": "d80e87c6",
   "metadata": {},
   "source": [
    "# 4. Estimate your parameter of interest by Ratio estimator. Estimate its variance and give a confidence interval of α level chosen in Report 2."
   ]
  },
  {
   "cell_type": "markdown",
   "id": "f62c19c3",
   "metadata": {},
   "source": [
    "##### Calculate $\\hat \\mu_r$\n",
    "\n",
    "- $y =$ avg writing score\n",
    "- $x =$ avg math score\n",
    "- $\\alpha = .05$\n",
    "- Ratio Estimator of Population True Avg Writing Score:\n",
    "- $\\hat\\mu_r = r * \\mu_x$\n",
    "    - where $mu_x$ is population mean of $x$'s\n",
    "    - where $r$ is $\\frac{\\sum_{i=1}^n y_i}{\\sum_{i=1}^n x_i} = \\frac{\\bar y}{\\bar x}$"
   ]
  },
  {
   "cell_type": "code",
   "execution_count": 4,
   "id": "c6c55662",
   "metadata": {},
   "outputs": [
    {
     "name": "stdout",
     "output_type": "stream",
     "text": [
      "mu_r_hat is: 395.02407708915626 \n",
      "\n"
     ]
    }
   ],
   "source": [
    "alpha = .05\n",
    "mu_x = df[\"SAT Math Avg. Score\"].mean()\n",
    "r = sum(sampled_df[\"SAT Writing Avg. Score\"])/sum(sampled_df[\"SAT Math Avg. Score\"])\n",
    "mu_r_hat = r * mu_x\n",
    "print(f\"mu_r_hat is: {mu_r_hat} \\n\") "
   ]
  },
  {
   "cell_type": "markdown",
   "id": "2b03a9cb",
   "metadata": {},
   "source": [
    "##### Estimate variance of $\\hat\\mu_r$\n",
    "- $\\hat{\\text{var}} (\\hat\\mu_r) = \\frac{N-n}{N} * s^2_r$\n",
    "\n",
    "- $s^2_r = \\frac{1}{n-1}\\sum_{i=1}^n (y_i - rx_i)^2$"
   ]
  },
  {
   "cell_type": "code",
   "execution_count": 5,
   "id": "bce19091",
   "metadata": {},
   "outputs": [
    {
     "name": "stdout",
     "output_type": "stream",
     "text": [
      "var_hat_mu_r_hat is: 709.4558712502459 \n",
      "\n"
     ]
    }
   ],
   "source": [
    "N = df.shape[0]\n",
    "s_r_squared = (1 / (n-1)) * sum((sampled_df[\"SAT Writing Avg. Score\"] - r * sampled_df[\"SAT Math Avg. Score\"])**2)\n",
    "var_hat_mu_r_hat = ((N-n)/N) * s_r_squared\n",
    "print(f\"var_hat_mu_r_hat is: {var_hat_mu_r_hat} \\n\")"
   ]
  },
  {
   "cell_type": "markdown",
   "id": "31f003d2",
   "metadata": {},
   "source": [
    "##### Confidence Interval\n",
    "- $100(1-\\alpha)\\%$ CI for $\\mu$ based on normal approx: $\\hat\\mu_r \\pm t_{n-1,\\frac{\\alpha}{2}}\\sqrt[]{\\hat{\\text{var}} (\\hat\\mu_r)}$"
   ]
  },
  {
   "cell_type": "code",
   "execution_count": 6,
   "id": "f10ffb2f",
   "metadata": {},
   "outputs": [
    {
     "name": "stdout",
     "output_type": "stream",
     "text": [
      "95% CI for mu_r_hat is: (342.00721591635954, 448.040938261953) \n",
      "\n"
     ]
    }
   ],
   "source": [
    "from scipy.stats import t\n",
    "\n",
    "t_crit = t.ppf(1-(alpha/2), n-1)\n",
    "lowerBound = mu_r_hat - t_crit * np.sqrt(var_hat_mu_r_hat)\n",
    "upperBound = mu_r_hat + t_crit * np.sqrt(var_hat_mu_r_hat)\n",
    "print(f\"95% CI for mu_r_hat is: ({lowerBound}, {upperBound}) \\n\")\n"
   ]
  },
  {
   "cell_type": "markdown",
   "id": "6f050de6",
   "metadata": {},
   "source": [
    "# 5. Estimate your parameter of interest by Regression estimator Estimate its variance and give a confidence interval of α level chosen in Report 2."
   ]
  },
  {
   "cell_type": "markdown",
   "id": "96fc0c0e",
   "metadata": {},
   "source": [
    "##### Calculate $\\hat\\mu_L$\n",
    "- $\\hat\\mu_L = a + b*\\mu_x$\n",
    "- $a = \\bar{y} - b * \\bar{x}$\n",
    "- $b = \\frac{\\sum_{i=1}^n (x_i - \\bar{x})(y_i - \\bar{y})}{\\sum_{i=1}^n (x_i - \\bar{x})^2}$"
   ]
  },
  {
   "cell_type": "code",
   "execution_count": 7,
   "id": "8caeb0f5",
   "metadata": {},
   "outputs": [
    {
     "name": "stdout",
     "output_type": "stream",
     "text": [
      "mu_L_hat is: 396.8558588854824 \n",
      "\n"
     ]
    }
   ],
   "source": [
    "y_bar = sampled_df[\"SAT Writing Avg. Score\"].mean()\n",
    "x_bar = sampled_df[\"SAT Math Avg. Score\"].mean()\n",
    "\n",
    "bNumerator = sum((sampled_df[\"SAT Math Avg. Score\"] - x_bar) * (sampled_df[\"SAT Writing Avg. Score\"] - y_bar))\n",
    "bDenominator = sum((sampled_df[\"SAT Math Avg. Score\"] - x_bar)**2)\n",
    "b = bNumerator / bDenominator\n",
    "\n",
    "a = y_bar - b * x_bar\n",
    "\n",
    "mu_L_hat = a + b * mu_x\n",
    "\n",
    "print(f\"mu_L_hat is: {mu_L_hat} \\n\")"
   ]
  },
  {
   "cell_type": "markdown",
   "id": "2666c194",
   "metadata": {},
   "source": [
    "##### Estimate Variance of $\\hat\\mu_L$\n",
    "- $\\hat{\\text{var}}(\\hat{\\mu_L}) = \\frac{N-n}{Nn(n-2)}\\sum_{i=1}^n(y_i - a - bx_i)^2$"
   ]
  },
  {
   "cell_type": "code",
   "execution_count": 8,
   "id": "832bda74",
   "metadata": {},
   "outputs": [
    {
     "name": "stdout",
     "output_type": "stream",
     "text": [
      "var_hat_mu_L_hat is: 7.678518718573295 \n",
      "\n"
     ]
    }
   ],
   "source": [
    "var_hat_mu_L_hat = ((N - n) / (N * n * (n - 2))) * sum(((sampled_df[\"SAT Writing Avg. Score\"] - a - b * sampled_df[\"SAT Math Avg. Score\"])**2))\n",
    "print(f\"var_hat_mu_L_hat is: {var_hat_mu_L_hat} \\n\")"
   ]
  },
  {
   "cell_type": "markdown",
   "id": "16e36a65",
   "metadata": {},
   "source": [
    "##### Confidence Interval\n",
    "- 100(1-alpha)% CI: $\\hat{\\mu_L} \\pm t_{n-2, \\frac{\\alpha}{2}}\\sqrt[]{\\hat{\\text{var}}(\\hat{\\mu_L})}$"
   ]
  },
  {
   "cell_type": "code",
   "execution_count": 9,
   "id": "5c8116d4",
   "metadata": {},
   "outputs": [
    {
     "name": "stdout",
     "output_type": "stream",
     "text": [
      "95% CI for mu_L_hat is: (391.3391937391112, 402.37252403185363) \n",
      "\n"
     ]
    }
   ],
   "source": [
    "t_crit = t.ppf(1-(alpha/2), n-2)\n",
    "lowerBound = mu_L_hat - t_crit * np.sqrt(var_hat_mu_L_hat)\n",
    "upperBound = mu_L_hat + t_crit * np.sqrt(var_hat_mu_L_hat)\n",
    "print(f\"95% CI for mu_L_hat is: ({lowerBound}, {upperBound}) \\n\")"
   ]
  },
  {
   "cell_type": "markdown",
   "id": "6a008f52",
   "metadata": {},
   "source": [
    "# 6. Choose the best estimator of your parameter based on estimated variance."
   ]
  },
  {
   "cell_type": "code",
   "execution_count": 10,
   "id": "e23a5dc8",
   "metadata": {},
   "outputs": [
    {
     "name": "stdout",
     "output_type": "stream",
     "text": [
      "var_hat_mu_L_hat is a better estimator of the paremeter as it has a lesser variance of 7.678518718573295\n"
     ]
    }
   ],
   "source": [
    "if var_hat_mu_r_hat > var_hat_mu_L_hat:\n",
    "    print(\"var_hat_mu_L_hat is a better estimator of the paremeter as it has a lesser variance of\", var_hat_mu_L_hat)\n",
    "else:\n",
    "    print(\"var_hat_mu_r_hat is a better estimator of the paremeter as it has a lesser variance of\", var_hat_mu_r_hat)"
   ]
  },
  {
   "cell_type": "markdown",
   "id": "e3f7f3d7",
   "metadata": {},
   "source": [
    "In this case, $\\hat{\\text{var}}(\\hat{mu_L})$ is a better estimator of $\\mu$ as it has a lower variance of 7.69, compared to the variance of 709 given by the ratio estimator."
   ]
  },
  {
   "cell_type": "markdown",
   "id": "4469fa4e",
   "metadata": {},
   "source": [
    "# 7. Calculate the true regression coefficients.\n",
    "Namely, do regression $y ∼ x$ using whole data set (population). Is your conclusion in the part 3 changed? How does it change?"
   ]
  },
  {
   "cell_type": "code",
   "execution_count": 12,
   "id": "518f380d",
   "metadata": {},
   "outputs": [
    {
     "name": "stdout",
     "output_type": "stream",
     "text": [
      "                              OLS Regression Results                              \n",
      "==================================================================================\n",
      "Dep. Variable:     SAT Writing Avg. Score   R-squared:                       0.789\n",
      "Model:                                OLS   Adj. R-squared:                  0.789\n",
      "Method:                     Least Squares   F-statistic:                     1570.\n",
      "Date:                    Sat, 29 Mar 2025   Prob (F-statistic):          8.43e-144\n",
      "Time:                            17:16:23   Log-Likelihood:                -1983.0\n",
      "No. Observations:                     421   AIC:                             3970.\n",
      "Df Residuals:                         419   BIC:                             3978.\n",
      "Df Model:                               1                                         \n",
      "Covariance Type:                nonrobust                                         \n",
      "=======================================================================================\n",
      "                          coef    std err          t      P>|t|      [0.025      0.975]\n",
      "---------------------------------------------------------------------------------------\n",
      "const                  61.0737      8.504      7.182      0.000      44.359      77.789\n",
      "SAT Math Avg. Score     0.8054      0.020     39.625      0.000       0.765       0.845\n",
      "==============================================================================\n",
      "Omnibus:                      203.360   Durbin-Watson:                   1.640\n",
      "Prob(Omnibus):                  0.000   Jarque-Bera (JB):             2006.342\n",
      "Skew:                          -1.817   Prob(JB):                         0.00\n",
      "Kurtosis:                      13.058   Cond. No.                     2.71e+03\n",
      "==============================================================================\n",
      "\n",
      "Notes:\n",
      "[1] Standard Errors assume that the covariance matrix of the errors is correctly specified.\n",
      "[2] The condition number is large, 2.71e+03. This might indicate that there are\n",
      "strong multicollinearity or other numerical problems.\n"
     ]
    }
   ],
   "source": [
    "x = df[\"SAT Math Avg. Score\"]\n",
    "y = df[\"SAT Writing Avg. Score\"]\n",
    "\n",
    "# Add a constant (intercept)\n",
    "x = sm.add_constant(x)\n",
    "\n",
    "# Fit the model\n",
    "model = sm.OLS(y, x).fit()\n",
    "\n",
    "# Get the summary\n",
    "print(model.summary())"
   ]
  },
  {
   "cell_type": "markdown",
   "id": "5b297967",
   "metadata": {},
   "source": [
    "The true regression coefficients are $a = 61.0737$ and $b = 0.8054$. The $p$-values for the intercept and the slope are both $0$, thus we do not change our part $3$ conclusions. The assumption of linearity is met, however the regression line does not pass through $(0,0)$, thus the linear regression estimator is more appropriate to use than the ratio estimator."
   ]
  }
 ],
 "metadata": {
  "kernelspec": {
   "display_name": "Python 3 (ipykernel)",
   "language": "python",
   "name": "python3"
  },
  "language_info": {
   "codemirror_mode": {
    "name": "ipython",
    "version": 3
   },
   "file_extension": ".py",
   "mimetype": "text/x-python",
   "name": "python",
   "nbconvert_exporter": "python",
   "pygments_lexer": "ipython3",
   "version": "3.10.12"
  }
 },
 "nbformat": 4,
 "nbformat_minor": 5
}
