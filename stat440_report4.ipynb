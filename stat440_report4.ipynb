{
 "cells": [
  {
   "cell_type": "code",
   "execution_count": 1,
   "id": "43331cac-3282-4cb0-9d2d-e216e1fc9dec",
   "metadata": {},
   "outputs": [
    {
     "name": "stdout",
     "output_type": "stream",
     "text": [
      "<class 'pandas.core.frame.DataFrame'>\n",
      "RangeIndex: 478 entries, 0 to 477\n",
      "Data columns (total 6 columns):\n",
      " #   Column                           Non-Null Count  Dtype \n",
      "---  ------                           --------------  ----- \n",
      " 0   DBN                              478 non-null    object\n",
      " 1   SCHOOL NAME                      478 non-null    object\n",
      " 2   Num of SAT Test Takers           478 non-null    object\n",
      " 3   SAT Critical Reading Avg. Score  478 non-null    object\n",
      " 4   SAT Math Avg. Score              478 non-null    object\n",
      " 5   SAT Writing Avg. Score           478 non-null    object\n",
      "dtypes: object(6)\n",
      "memory usage: 22.5+ KB\n",
      "None\n",
      "\n",
      "<class 'pandas.core.frame.DataFrame'>\n",
      "Index: 421 entries, 0 to 477\n",
      "Data columns (total 6 columns):\n",
      " #   Column                           Non-Null Count  Dtype  \n",
      "---  ------                           --------------  -----  \n",
      " 0   DBN                              421 non-null    object \n",
      " 1   SCHOOL NAME                      421 non-null    object \n",
      " 2   Num of SAT Test Takers           421 non-null    object \n",
      " 3   SAT Critical Reading Avg. Score  421 non-null    float64\n",
      " 4   SAT Math Avg. Score              421 non-null    float64\n",
      " 5   SAT Writing Avg. Score           421 non-null    float64\n",
      "dtypes: float64(3), object(3)\n",
      "memory usage: 23.0+ KB\n",
      "None\n",
      "\n",
      "The mu is: 393.9857482185273\n",
      "The tao is: 165868.0\n",
      "The sigma^2 is: 3429.9095356040657\n",
      "\n"
     ]
    }
   ],
   "source": [
    "import numpy as np\n",
    "import pandas as pd\n",
    "import matplotlib.pyplot as plt\n",
    "import seaborn as sns\n",
    "\n",
    "#  read the dataset\n",
    "df = pd.read_csv(\"2012-sat-results.csv\")\n",
    "\n",
    "print(df.info())\n",
    "print(\"\")\n",
    "\n",
    "# convert all values to numeric\n",
    "df[\"SAT Critical Reading Avg. Score\"] = pd.to_numeric(df[\"SAT Critical Reading Avg. Score\"], errors=\"coerce\")\n",
    "df[\"SAT Math Avg. Score\"] = pd.to_numeric(df[\"SAT Math Avg. Score\"], errors=\"coerce\")\n",
    "df[\"SAT Writing Avg. Score\"] = pd.to_numeric(df[\"SAT Writing Avg. Score\"], errors=\"coerce\")\n",
    "\n",
    "# Drop rows with NaN values\n",
    "df = df.dropna(subset=[\"SAT Critical Reading Avg. Score\", \"SAT Math Avg. Score\", \"SAT Writing Avg. Score\"])\n",
    "\n",
    "print(df.info())\n",
    "print(\"\")\n",
    "\n",
    "# population params\n",
    "mu = df[\"SAT Writing Avg. Score\"].mean()\n",
    "tao = df[\"SAT Writing Avg. Score\"].sum()\n",
    "sigmasq = df[\"SAT Writing Avg. Score\"].var(ddof=0)\n",
    "\n",
    "print(f\"The mu is: {mu}\")\n",
    "print(f\"The tao is: {tao}\")\n",
    "print(f\"The sigma^2 is: {sigmasq}\")\n",
    "\n",
    "print(\"\")"
   ]
  },
  {
   "cell_type": "markdown",
   "id": "e4de288e-f770-4c7e-9043-c523f0e4c22a",
   "metadata": {},
   "source": [
    "#### Choose an auxiliary variable x that should be related to your variable of interest y. Take a SRS of size n (the same size as in Report 2)"
   ]
  },
  {
   "cell_type": "code",
   "execution_count": 8,
   "id": "55c31693-04fd-43a1-a971-759f9c1873ea",
   "metadata": {},
   "outputs": [],
   "source": [
    "# Correlation With an Auxilary Variable\n",
    "# Our variable of interest is SAT Writing Avg. Score. A related variable we are using is SAT Math Avg. Score. The SAT Math Avg. Score\n",
    "# has a 0.8885 correlation with SAT Writing Avg. Score. \n",
    "df[\"SAT Math Avg. Score\"].corr(df[\"SAT Writing Avg. Score\"])\n",
    "\n",
    "n = 80\n",
    "seed = 440\n",
    "sampled_df = df.sample(n=n, replace=True, random_state=seed)"
   ]
  },
  {
   "cell_type": "markdown",
   "id": "e310ed2f-f0ab-4799-aeb0-939e311fc28c",
   "metadata": {},
   "source": [
    "#### Perform a diagnostic analysis to determine if x and y have a linear relationship based on the sample data. Do regression analysis y ∼ x"
   ]
  },
  {
   "cell_type": "code",
   "execution_count": 12,
   "id": "dc8d1a84-fd38-43d9-9972-c7bfda3766fb",
   "metadata": {},
   "outputs": [
    {
     "name": "stdout",
     "output_type": "stream",
     "text": [
      "                              OLS Regression Results                              \n",
      "==================================================================================\n",
      "Dep. Variable:     SAT Writing Avg. Score   R-squared:                       0.789\n",
      "Model:                                OLS   Adj. R-squared:                  0.789\n",
      "Method:                     Least Squares   F-statistic:                     1570.\n",
      "Date:                    Sat, 29 Mar 2025   Prob (F-statistic):          8.43e-144\n",
      "Time:                            11:41:20   Log-Likelihood:                -1983.0\n",
      "No. Observations:                     421   AIC:                             3970.\n",
      "Df Residuals:                         419   BIC:                             3978.\n",
      "Df Model:                               1                                         \n",
      "Covariance Type:                nonrobust                                         \n",
      "=======================================================================================\n",
      "                          coef    std err          t      P>|t|      [0.025      0.975]\n",
      "---------------------------------------------------------------------------------------\n",
      "const                  61.0737      8.504      7.182      0.000      44.359      77.789\n",
      "SAT Math Avg. Score     0.8054      0.020     39.625      0.000       0.765       0.845\n",
      "==============================================================================\n",
      "Omnibus:                      203.360   Durbin-Watson:                   1.640\n",
      "Prob(Omnibus):                  0.000   Jarque-Bera (JB):             2006.342\n",
      "Skew:                          -1.817   Prob(JB):                         0.00\n",
      "Kurtosis:                      13.058   Cond. No.                     2.71e+03\n",
      "==============================================================================\n",
      "\n",
      "Notes:\n",
      "[1] Standard Errors assume that the covariance matrix of the errors is correctly specified.\n",
      "[2] The condition number is large, 2.71e+03. This might indicate that there are\n",
      "strong multicollinearity or other numerical problems.\n"
     ]
    }
   ],
   "source": [
    "import statsmodels.api as sm\n",
    "\n",
    "X = df[\"SAT Math Avg. Score\"]\n",
    "y = df[\"SAT Writing Avg. Score\"]\n",
    "\n",
    "# Add a constant (intercept)\n",
    "X = sm.add_constant(X)\n",
    "\n",
    "# Fit the model\n",
    "model = sm.OLS(y, X).fit()\n",
    "\n",
    "# Get the summary\n",
    "print(model.summary())"
   ]
  },
  {
   "cell_type": "code",
   "execution_count": null,
   "id": "65780bac-a1e0-45e1-84f8-b724662190e0",
   "metadata": {},
   "outputs": [],
   "source": [
    "# Since the p-value for the slope is 0, this means that you reject the null hypothesis and conclude there is a \n",
    "# significant linear relationship between SAT math score and SAT writing score."
   ]
  },
  {
   "cell_type": "markdown",
   "id": "689d84b4-43d6-4311-b359-9561c8bd1a8d",
   "metadata": {},
   "source": [
    "#### Based on the results of the regression analysis, make a conclusion about the appropriateness of using ratio and regression estimators."
   ]
  },
  {
   "cell_type": "code",
   "execution_count": 16,
   "id": "4e6585ea-61d7-4eba-a68a-0745eedcbc29",
   "metadata": {},
   "outputs": [],
   "source": [
    "# Since the p-value of the intercept is 0, this means that you reject the null hypothesis and conclude the intercept is\n",
    "# significantly different from 0. As seen in the previous part, there is a statistically significant linear linearship between \n",
    "# SAT math score and SAT writing scores. \n",
    "\n",
    "# Ratio estimators assume that the line has an intercept of 0, but this assumption is not met in this case. In contrast, the \n",
    "# linear regression model does not require the intercept to be 0. Therefore, with this data, it is more appropriate to use the \n",
    "# regression estimator rather than a ratio estimator."
   ]
  },
  {
   "cell_type": "code",
   "execution_count": null,
   "id": "bad840e6-662a-44e2-b6ea-49f7b5bb271c",
   "metadata": {},
   "outputs": [],
   "source": []
  }
 ],
 "metadata": {
  "kernelspec": {
   "display_name": "Python 3 (ipykernel)",
   "language": "python",
   "name": "python3"
  },
  "language_info": {
   "codemirror_mode": {
    "name": "ipython",
    "version": 3
   },
   "file_extension": ".py",
   "mimetype": "text/x-python",
   "name": "python",
   "nbconvert_exporter": "python",
   "pygments_lexer": "ipython3",
   "version": "3.12.2"
  }
 },
 "nbformat": 4,
 "nbformat_minor": 5
}
