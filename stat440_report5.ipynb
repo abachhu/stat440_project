{
 "cells": [
  {
   "cell_type": "code",
   "execution_count": 104,
   "id": "bae85931-8b41-41fa-93aa-f0637926e75b",
   "metadata": {},
   "outputs": [
    {
     "name": "stdout",
     "output_type": "stream",
     "text": [
      "<class 'pandas.core.frame.DataFrame'>\n",
      "RangeIndex: 478 entries, 0 to 477\n",
      "Data columns (total 6 columns):\n",
      " #   Column                           Non-Null Count  Dtype \n",
      "---  ------                           --------------  ----- \n",
      " 0   DBN                              478 non-null    object\n",
      " 1   SCHOOL NAME                      478 non-null    object\n",
      " 2   Num of SAT Test Takers           478 non-null    object\n",
      " 3   SAT Critical Reading Avg. Score  478 non-null    object\n",
      " 4   SAT Math Avg. Score              478 non-null    object\n",
      " 5   SAT Writing Avg. Score           478 non-null    object\n",
      "dtypes: object(6)\n",
      "memory usage: 22.5+ KB\n",
      "None\n",
      "\n",
      "<class 'pandas.core.frame.DataFrame'>\n",
      "Index: 421 entries, 0 to 477\n",
      "Data columns (total 6 columns):\n",
      " #   Column                           Non-Null Count  Dtype  \n",
      "---  ------                           --------------  -----  \n",
      " 0   DBN                              421 non-null    object \n",
      " 1   SCHOOL NAME                      421 non-null    object \n",
      " 2   Num of SAT Test Takers           421 non-null    object \n",
      " 3   SAT Critical Reading Avg. Score  421 non-null    float64\n",
      " 4   SAT Math Avg. Score              421 non-null    float64\n",
      " 5   SAT Writing Avg. Score           421 non-null    float64\n",
      "dtypes: float64(3), object(3)\n",
      "memory usage: 23.0+ KB\n",
      "None\n",
      "\n",
      "The mu is: 393.9857482185273\n",
      "The tao is: 165868.0\n",
      "The sigma^2 is: 3429.9095356040643\n",
      "\n"
     ]
    }
   ],
   "source": [
    "import numpy as np\n",
    "import pandas as pd\n",
    "import matplotlib.pyplot as plt\n",
    "import seaborn as sns\n",
    "\n",
    "#  read the dataset\n",
    "df = pd.read_csv(\"2012-sat-results.csv\")\n",
    "\n",
    "print(df.info())\n",
    "print(\"\")\n",
    "\n",
    "# convert all values to numeric\n",
    "df[\"SAT Critical Reading Avg. Score\"] = pd.to_numeric(df[\"SAT Critical Reading Avg. Score\"], errors=\"coerce\")\n",
    "df[\"SAT Math Avg. Score\"] = pd.to_numeric(df[\"SAT Math Avg. Score\"], errors=\"coerce\")\n",
    "df[\"SAT Writing Avg. Score\"] = pd.to_numeric(df[\"SAT Writing Avg. Score\"], errors=\"coerce\")\n",
    "\n",
    "# Drop rows with NaN values\n",
    "df = df.dropna(subset=[\"SAT Critical Reading Avg. Score\", \"SAT Math Avg. Score\", \"SAT Writing Avg. Score\"])\n",
    "\n",
    "print(df.info())\n",
    "print(\"\")\n",
    "\n",
    "# population params\n",
    "mu = df[\"SAT Writing Avg. Score\"].mean()\n",
    "tao = df[\"SAT Writing Avg. Score\"].sum()\n",
    "sigmasq = df[\"SAT Writing Avg. Score\"].var(ddof=0)\n",
    "\n",
    "print(f\"The mu is: {mu}\")\n",
    "print(f\"The tao is: {tao}\")\n",
    "print(f\"The sigma^2 is: {sigmasq}\")\n",
    "\n",
    "print(\"\")"
   ]
  },
  {
   "cell_type": "code",
   "execution_count": 105,
   "id": "907610f0-6841-4ceb-964f-5c33ea43cb73",
   "metadata": {},
   "outputs": [
    {
     "data": {
      "text/html": [
       "<div>\n",
       "<style scoped>\n",
       "    .dataframe tbody tr th:only-of-type {\n",
       "        vertical-align: middle;\n",
       "    }\n",
       "\n",
       "    .dataframe tbody tr th {\n",
       "        vertical-align: top;\n",
       "    }\n",
       "\n",
       "    .dataframe thead th {\n",
       "        text-align: right;\n",
       "    }\n",
       "</style>\n",
       "<table border=\"1\" class=\"dataframe\">\n",
       "  <thead>\n",
       "    <tr style=\"text-align: right;\">\n",
       "      <th></th>\n",
       "      <th>DBN</th>\n",
       "      <th>SCHOOL NAME</th>\n",
       "      <th>Num of SAT Test Takers</th>\n",
       "      <th>SAT Critical Reading Avg. Score</th>\n",
       "      <th>SAT Math Avg. Score</th>\n",
       "      <th>SAT Writing Avg. Score</th>\n",
       "    </tr>\n",
       "  </thead>\n",
       "  <tbody>\n",
       "    <tr>\n",
       "      <th>0</th>\n",
       "      <td>01M292</td>\n",
       "      <td>HENRY STREET SCHOOL FOR INTERNATIONAL STUDIES</td>\n",
       "      <td>29</td>\n",
       "      <td>355.0</td>\n",
       "      <td>404.0</td>\n",
       "      <td>363.0</td>\n",
       "    </tr>\n",
       "    <tr>\n",
       "      <th>1</th>\n",
       "      <td>01M448</td>\n",
       "      <td>UNIVERSITY NEIGHBORHOOD HIGH SCHOOL</td>\n",
       "      <td>91</td>\n",
       "      <td>383.0</td>\n",
       "      <td>423.0</td>\n",
       "      <td>366.0</td>\n",
       "    </tr>\n",
       "    <tr>\n",
       "      <th>2</th>\n",
       "      <td>01M450</td>\n",
       "      <td>EAST SIDE COMMUNITY SCHOOL</td>\n",
       "      <td>70</td>\n",
       "      <td>377.0</td>\n",
       "      <td>402.0</td>\n",
       "      <td>370.0</td>\n",
       "    </tr>\n",
       "    <tr>\n",
       "      <th>3</th>\n",
       "      <td>01M458</td>\n",
       "      <td>FORSYTH SATELLITE ACADEMY</td>\n",
       "      <td>7</td>\n",
       "      <td>414.0</td>\n",
       "      <td>401.0</td>\n",
       "      <td>359.0</td>\n",
       "    </tr>\n",
       "    <tr>\n",
       "      <th>4</th>\n",
       "      <td>01M509</td>\n",
       "      <td>MARTA VALLE HIGH SCHOOL</td>\n",
       "      <td>44</td>\n",
       "      <td>390.0</td>\n",
       "      <td>433.0</td>\n",
       "      <td>384.0</td>\n",
       "    </tr>\n",
       "  </tbody>\n",
       "</table>\n",
       "</div>"
      ],
      "text/plain": [
       "      DBN                                    SCHOOL NAME  \\\n",
       "0  01M292  HENRY STREET SCHOOL FOR INTERNATIONAL STUDIES   \n",
       "1  01M448            UNIVERSITY NEIGHBORHOOD HIGH SCHOOL   \n",
       "2  01M450                     EAST SIDE COMMUNITY SCHOOL   \n",
       "3  01M458                      FORSYTH SATELLITE ACADEMY   \n",
       "4  01M509                        MARTA VALLE HIGH SCHOOL   \n",
       "\n",
       "  Num of SAT Test Takers  SAT Critical Reading Avg. Score  \\\n",
       "0                     29                            355.0   \n",
       "1                     91                            383.0   \n",
       "2                     70                            377.0   \n",
       "3                      7                            414.0   \n",
       "4                     44                            390.0   \n",
       "\n",
       "   SAT Math Avg. Score  SAT Writing Avg. Score  \n",
       "0                404.0                   363.0  \n",
       "1                423.0                   366.0  \n",
       "2                402.0                   370.0  \n",
       "3                401.0                   359.0  \n",
       "4                433.0                   384.0  "
      ]
     },
     "execution_count": 105,
     "metadata": {},
     "output_type": "execute_result"
    }
   ],
   "source": [
    "df.head()"
   ]
  },
  {
   "cell_type": "markdown",
   "id": "c65337f7-e6cf-43d1-bc25-807e527a1aad",
   "metadata": {},
   "source": [
    "# 1. Divide your population into strata"
   ]
  },
  {
   "cell_type": "code",
   "execution_count": 106,
   "id": "ff9cad6f-62ab-426d-b94a-f1c52290eed4",
   "metadata": {},
   "outputs": [
    {
     "name": "stderr",
     "output_type": "stream",
     "text": [
      "/tmp/ipykernel_85079/3740391049.py:12: FutureWarning: The default of observed=False is deprecated and will be changed to True in a future version of pandas. Pass observed=False to retain current behavior or observed=True to adopt the future default and silence this warning.\n",
      "  \"Nh\": df.groupby(\"Testers_Stratum\").size().tolist(),\n",
      "/tmp/ipykernel_85079/3740391049.py:13: FutureWarning: The default of observed=False is deprecated and will be changed to True in a future version of pandas. Pass observed=False to retain current behavior or observed=True to adopt the future default and silence this warning.\n",
      "  \"sigma_sq_h\": df.groupby(\"Testers_Stratum\")[\"Num of SAT Test Takers\"].var(ddof=0).tolist()\n"
     ]
    },
    {
     "data": {
      "text/plain": [
       "{'Nh': [148, 173, 50, 26, 24],\n",
       " 'sigma_sq_h': [191.754930606282,\n",
       "  166.8447325336631,\n",
       "  688.8196000000003,\n",
       "  3789.940828402369,\n",
       "  46378.74305555556]}"
      ]
     },
     "execution_count": 106,
     "metadata": {},
     "output_type": "execute_result"
    }
   ],
   "source": [
    "# Creating Strata based on Number of SAT Test Takers per school\n",
    "\n",
    "df[\"Num of SAT Test Takers\"] = pd.to_numeric(df[\"Num of SAT Test Takers\"], errors='coerce')\n",
    "\n",
    "# strata ranges\n",
    "bins = [0, 50, 100, 200, 400, df[\"Num of SAT Test Takers\"].max()]\n",
    "labels = [0, 1, 2, 3, 4]\n",
    "\n",
    "df[\"Testers_Stratum\"] = pd.cut(df[\"Num of SAT Test Takers\"], bins=bins, labels=labels, include_lowest=True)\n",
    "\n",
    "testers = {\n",
    "    \"Nh\": df.groupby(\"Testers_Stratum\").size().tolist(),\n",
    "    \"sigma_sq_h\": df.groupby(\"Testers_Stratum\")[\"Num of SAT Test Takers\"].var(ddof=0).tolist()\n",
    "}\n",
    "testers"
   ]
  },
  {
   "cell_type": "code",
   "execution_count": 107,
   "id": "007ab1b9-7448-4fd8-b7fd-4748215bb4f0",
   "metadata": {},
   "outputs": [
    {
     "name": "stderr",
     "output_type": "stream",
     "text": [
      "/tmp/ipykernel_85079/2721831635.py:11: FutureWarning: The default of observed=False is deprecated and will be changed to True in a future version of pandas. Pass observed=False to retain current behavior or observed=True to adopt the future default and silence this warning.\n",
      "  \"Nh\": df.groupby(\"Reading_Stratum\").size().tolist(),\n",
      "/tmp/ipykernel_85079/2721831635.py:12: FutureWarning: The default of observed=False is deprecated and will be changed to True in a future version of pandas. Pass observed=False to retain current behavior or observed=True to adopt the future default and silence this warning.\n",
      "  \"sigma_sq_h\": df.groupby(\"Reading_Stratum\")[\"SAT Critical Reading Avg. Score\"].var(ddof=0).tolist()\n"
     ]
    },
    {
     "data": {
      "text/plain": [
       "{'Nh': [102, 116, 75, 31, 36, 21],\n",
       " 'sigma_sq_h': [49.47260668973475,\n",
       "  53.543029131985755,\n",
       "  51.17582222222231,\n",
       "  33.33402705515095,\n",
       "  290.65663580246917,\n",
       "  2211.9319727891143]}"
      ]
     },
     "execution_count": 107,
     "metadata": {},
     "output_type": "execute_result"
    }
   ],
   "source": [
    "# Creating Strata based on SAT Critical Reading Avg. Score\n",
    "\n",
    "# Intervals for stratum and labels for the intervals\n",
    "bins = [350, 375, 400, 425, 450, 515, df[\"SAT Critical Reading Avg. Score\"].max()]\n",
    "labels = [0, 1, 2, 3, 4, 5]\n",
    "\n",
    "df[\"Reading_Stratum\"] = pd.cut(df[\"SAT Critical Reading Avg. Score\"], bins=bins, labels=labels, include_lowest=True)\n",
    "\n",
    "# Grouping by stratum, and calculating variances for each stratum\n",
    "reading = {\n",
    "    \"Nh\": df.groupby(\"Reading_Stratum\").size().tolist(),\n",
    "    \"sigma_sq_h\": df.groupby(\"Reading_Stratum\")[\"SAT Critical Reading Avg. Score\"].var(ddof=0).tolist()\n",
    "}\n",
    "reading"
   ]
  },
  {
   "cell_type": "code",
   "execution_count": 108,
   "id": "79d39712-b4e4-4525-946d-afaace312b5c",
   "metadata": {},
   "outputs": [
    {
     "name": "stderr",
     "output_type": "stream",
     "text": [
      "/tmp/ipykernel_85079/2098692543.py:11: FutureWarning: The default of observed=False is deprecated and will be changed to True in a future version of pandas. Pass observed=False to retain current behavior or observed=True to adopt the future default and silence this warning.\n",
      "  \"Nh\": df.groupby(\"Math_Stratum\").size().tolist(),\n",
      "/tmp/ipykernel_85079/2098692543.py:12: FutureWarning: The default of observed=False is deprecated and will be changed to True in a future version of pandas. Pass observed=False to retain current behavior or observed=True to adopt the future default and silence this warning.\n",
      "  \"sigma_sq_h\": df.groupby(\"Math_Stratum\")[\"SAT Math Avg. Score\"].var(ddof=0).tolist()\n"
     ]
    },
    {
     "data": {
      "text/plain": [
       "{'Nh': [96, 109, 65, 43, 52, 30],\n",
       " 'sigma_sq_h': [45.99728732638883,\n",
       "  52.81440956148471,\n",
       "  52.962366863905295,\n",
       "  51.59221200648994,\n",
       "  280.4715236686394,\n",
       "  3212.0766666666673]}"
      ]
     },
     "execution_count": 108,
     "metadata": {},
     "output_type": "execute_result"
    }
   ],
   "source": [
    "# Creating Strata based on SAT Math Avg. Score\n",
    "\n",
    "# Intervals for stratum and labels for the intervals\n",
    "bins = [350, 375, 400, 425, 450, 515, df[\"SAT Math Avg. Score\"].max()]\n",
    "labels = [0, 1, 2, 3, 4, 5]\n",
    "\n",
    "df[\"Math_Stratum\"] = pd.cut(df[\"SAT Math Avg. Score\"], bins=bins, labels=labels, include_lowest=True)\n",
    "\n",
    "# Grouping by stratum, and calculating variances for each stratum\n",
    "math = {\n",
    "    \"Nh\": df.groupby(\"Math_Stratum\").size().tolist(),\n",
    "    \"sigma_sq_h\": df.groupby(\"Math_Stratum\")[\"SAT Math Avg. Score\"].var(ddof=0).tolist()\n",
    "}\n",
    "math"
   ]
  },
  {
   "cell_type": "markdown",
   "id": "5468a119-2c14-42d6-ab5f-40c3109a209a",
   "metadata": {},
   "source": [
    "# 2. Evaluate Population Stratification"
   ]
  },
  {
   "cell_type": "code",
   "execution_count": 109,
   "id": "f8a08e5e-8374-47c1-9af6-361169b3ee03",
   "metadata": {},
   "outputs": [
    {
     "data": {
      "text/plain": [
       "np.float64(188464.96477095643)"
      ]
     },
     "execution_count": 109,
     "metadata": {},
     "output_type": "execute_result"
    }
   ],
   "source": [
    "sigma_sq = df[\"SAT Writing Avg. Score\"].var(ddof=0)\n",
    "N = len(df)\n",
    "n= 80\n",
    "\n",
    "Nh = np.array(testers[\"Nh\"])\n",
    "sigma_sq_h = np.array(testers[\"sigma_sq_h\"])\n",
    "\n",
    "delta_testers = (N - 1) * sigma_sq - np.sum((Nh - 1) * sigma_sq_h)\n",
    "delta_testers"
   ]
  },
  {
   "cell_type": "code",
   "execution_count": 110,
   "id": "fca73f30-3e54-41cc-9119-e9f61e99df2c",
   "metadata": {},
   "outputs": [
    {
     "data": {
      "text/plain": [
       "np.float64(1370209.169962898)"
      ]
     },
     "execution_count": 110,
     "metadata": {},
     "output_type": "execute_result"
    }
   ],
   "source": [
    "sigma_sq = df[\"SAT Writing Avg. Score\"].var(ddof=0)\n",
    "N = len(df)\n",
    "n= 80\n",
    "\n",
    "Nh = np.array(reading[\"Nh\"])\n",
    "sigma_sq_h = np.array(reading[\"sigma_sq_h\"])\n",
    "\n",
    "delta_reading = (N - 1) * sigma_sq - np.sum((Nh - 1) * sigma_sq_h)\n",
    "delta_reading"
   ]
  },
  {
   "cell_type": "code",
   "execution_count": 111,
   "id": "ed8ba7ad-461f-44c4-bde6-320a5a7714d1",
   "metadata": {},
   "outputs": [
    {
     "data": {
      "text/plain": [
       "np.float64(1317477.5710010633)"
      ]
     },
     "execution_count": 111,
     "metadata": {},
     "output_type": "execute_result"
    }
   ],
   "source": [
    "sigma_sq = df[\"SAT Writing Avg. Score\"].var(ddof=0)\n",
    "N = len(df)\n",
    "n= 80\n",
    "\n",
    "Nh = np.array(math[\"Nh\"])\n",
    "sigma_sq_h = np.array(math[\"sigma_sq_h\"])\n",
    "\n",
    "delta_math = (N - 1) * sigma_sq - np.sum((Nh - 1) * sigma_sq_h)\n",
    "delta_math"
   ]
  },
  {
   "cell_type": "code",
   "execution_count": 112,
   "id": "2f826516-ffde-4884-9e34-ef0ab21e983e",
   "metadata": {},
   "outputs": [
    {
     "name": "stdout",
     "output_type": "stream",
     "text": [
      "Largest delta 1370209.169962898\n"
     ]
    }
   ],
   "source": [
    "max_delta =  max( max(delta_math, delta_reading), delta_testers )\n",
    "print(f\"Largest delta {max_delta}\")"
   ]
  },
  {
   "cell_type": "markdown",
   "id": "309d3c57-e14a-4cf3-8930-2a6c448047fd",
   "metadata": {},
   "source": [
    "#### Use SAT Critical Reading Avg. Score strata from here on"
   ]
  },
  {
   "cell_type": "markdown",
   "id": "8762f418",
   "metadata": {},
   "source": [
    "# Sampling Procedures\n",
    "\n",
    "### 3. Stratified Random Sample with Equal Allocation:\n",
    "Take stratified random sample with size n (chosen in Report 2) with equal allocation. n_h = n / L"
   ]
  },
  {
   "cell_type": "code",
   "execution_count": 113,
   "id": "5e93dd9b",
   "metadata": {},
   "outputs": [
    {
     "data": {
      "text/plain": [
       "{'Nh': [102, 116, 75, 31, 36, 21],\n",
       " 'sigma_sq_h': [49.47260668973475,\n",
       "  53.543029131985755,\n",
       "  51.17582222222231,\n",
       "  33.33402705515095,\n",
       "  290.65663580246917,\n",
       "  2211.9319727891143]}"
      ]
     },
     "execution_count": 113,
     "metadata": {},
     "output_type": "execute_result"
    }
   ],
   "source": [
    "# use reading strata divisions\n",
    "reading"
   ]
  },
  {
   "cell_type": "code",
   "execution_count": 114,
   "id": "18ba9042",
   "metadata": {},
   "outputs": [
    {
     "data": {
      "text/plain": [
       "14"
      ]
     },
     "execution_count": 114,
     "metadata": {},
     "output_type": "execute_result"
    }
   ],
   "source": [
    "# n chosen in report 2 is 80. \n",
    "n = 80\n",
    "L = len(reading[\"Nh\"])\n",
    "n_h = int(np.ceil(n / L))\n",
    "n_h"
   ]
  },
  {
   "cell_type": "code",
   "execution_count": 115,
   "id": "867da1dc",
   "metadata": {},
   "outputs": [
    {
     "data": {
      "text/html": [
       "<div>\n",
       "<style scoped>\n",
       "    .dataframe tbody tr th:only-of-type {\n",
       "        vertical-align: middle;\n",
       "    }\n",
       "\n",
       "    .dataframe tbody tr th {\n",
       "        vertical-align: top;\n",
       "    }\n",
       "\n",
       "    .dataframe thead th {\n",
       "        text-align: right;\n",
       "    }\n",
       "</style>\n",
       "<table border=\"1\" class=\"dataframe\">\n",
       "  <thead>\n",
       "    <tr style=\"text-align: right;\">\n",
       "      <th></th>\n",
       "      <th>DBN</th>\n",
       "      <th>SCHOOL NAME</th>\n",
       "      <th>Num of SAT Test Takers</th>\n",
       "      <th>SAT Critical Reading Avg. Score</th>\n",
       "      <th>SAT Math Avg. Score</th>\n",
       "      <th>SAT Writing Avg. Score</th>\n",
       "      <th>Testers_Stratum</th>\n",
       "      <th>Reading_Stratum</th>\n",
       "      <th>Math_Stratum</th>\n",
       "    </tr>\n",
       "  </thead>\n",
       "  <tbody>\n",
       "    <tr>\n",
       "      <th>0</th>\n",
       "      <td>11X541</td>\n",
       "      <td>GLOBAL ENTERPRISE HIGH SCHOOL</td>\n",
       "      <td>57</td>\n",
       "      <td>372.0</td>\n",
       "      <td>382.0</td>\n",
       "      <td>375.0</td>\n",
       "      <td>1</td>\n",
       "      <td>0</td>\n",
       "      <td>1</td>\n",
       "    </tr>\n",
       "    <tr>\n",
       "      <th>1</th>\n",
       "      <td>07X473</td>\n",
       "      <td>MOTT HAVEN VILLAGE PREPARATORY HIGH SCHOOL</td>\n",
       "      <td>63</td>\n",
       "      <td>351.0</td>\n",
       "      <td>375.0</td>\n",
       "      <td>371.0</td>\n",
       "      <td>1</td>\n",
       "      <td>0</td>\n",
       "      <td>0</td>\n",
       "    </tr>\n",
       "    <tr>\n",
       "      <th>2</th>\n",
       "      <td>16K498</td>\n",
       "      <td>BROOKLYN HIGH SCHOOL FOR LAW AND TECHNOLOGY</td>\n",
       "      <td>46</td>\n",
       "      <td>362.0</td>\n",
       "      <td>372.0</td>\n",
       "      <td>358.0</td>\n",
       "      <td>0</td>\n",
       "      <td>0</td>\n",
       "      <td>0</td>\n",
       "    </tr>\n",
       "    <tr>\n",
       "      <th>3</th>\n",
       "      <td>14K488</td>\n",
       "      <td>BROOKLYN PREPARATORY HIGH SCHOOL</td>\n",
       "      <td>42</td>\n",
       "      <td>367.0</td>\n",
       "      <td>373.0</td>\n",
       "      <td>350.0</td>\n",
       "      <td>0</td>\n",
       "      <td>0</td>\n",
       "      <td>0</td>\n",
       "    </tr>\n",
       "    <tr>\n",
       "      <th>4</th>\n",
       "      <td>17K568</td>\n",
       "      <td>BROWNSVILLE ACADEMY HIGH SCHOOL</td>\n",
       "      <td>16</td>\n",
       "      <td>372.0</td>\n",
       "      <td>356.0</td>\n",
       "      <td>335.0</td>\n",
       "      <td>0</td>\n",
       "      <td>0</td>\n",
       "      <td>0</td>\n",
       "    </tr>\n",
       "    <tr>\n",
       "      <th>...</th>\n",
       "      <td>...</td>\n",
       "      <td>...</td>\n",
       "      <td>...</td>\n",
       "      <td>...</td>\n",
       "      <td>...</td>\n",
       "      <td>...</td>\n",
       "      <td>...</td>\n",
       "      <td>...</td>\n",
       "      <td>...</td>\n",
       "    </tr>\n",
       "    <tr>\n",
       "      <th>79</th>\n",
       "      <td>10X445</td>\n",
       "      <td>BRONX HIGH SCHOOL OF SCIENCE</td>\n",
       "      <td>731</td>\n",
       "      <td>632.0</td>\n",
       "      <td>688.0</td>\n",
       "      <td>649.0</td>\n",
       "      <td>4</td>\n",
       "      <td>5</td>\n",
       "      <td>5</td>\n",
       "    </tr>\n",
       "    <tr>\n",
       "      <th>80</th>\n",
       "      <td>02M418</td>\n",
       "      <td>MILLENNIUM HIGH SCHOOL</td>\n",
       "      <td>144</td>\n",
       "      <td>528.0</td>\n",
       "      <td>553.0</td>\n",
       "      <td>533.0</td>\n",
       "      <td>2</td>\n",
       "      <td>5</td>\n",
       "      <td>5</td>\n",
       "    </tr>\n",
       "    <tr>\n",
       "      <th>81</th>\n",
       "      <td>22K535</td>\n",
       "      <td>LEON M. GOLDSTEIN HIGH SCHOOL FOR THE SCIENCES</td>\n",
       "      <td>259</td>\n",
       "      <td>524.0</td>\n",
       "      <td>561.0</td>\n",
       "      <td>542.0</td>\n",
       "      <td>3</td>\n",
       "      <td>5</td>\n",
       "      <td>5</td>\n",
       "    </tr>\n",
       "    <tr>\n",
       "      <th>82</th>\n",
       "      <td>14K449</td>\n",
       "      <td>BROOKLYN LATIN SCHOOL, THE</td>\n",
       "      <td>72</td>\n",
       "      <td>586.0</td>\n",
       "      <td>584.0</td>\n",
       "      <td>570.0</td>\n",
       "      <td>1</td>\n",
       "      <td>5</td>\n",
       "      <td>5</td>\n",
       "    </tr>\n",
       "    <tr>\n",
       "      <th>83</th>\n",
       "      <td>02M416</td>\n",
       "      <td>ELEANOR ROOSEVELT HIGH SCHOOL</td>\n",
       "      <td>127</td>\n",
       "      <td>572.0</td>\n",
       "      <td>594.0</td>\n",
       "      <td>592.0</td>\n",
       "      <td>2</td>\n",
       "      <td>5</td>\n",
       "      <td>5</td>\n",
       "    </tr>\n",
       "  </tbody>\n",
       "</table>\n",
       "<p>84 rows × 9 columns</p>\n",
       "</div>"
      ],
      "text/plain": [
       "       DBN                                     SCHOOL NAME  \\\n",
       "0   11X541                   GLOBAL ENTERPRISE HIGH SCHOOL   \n",
       "1   07X473      MOTT HAVEN VILLAGE PREPARATORY HIGH SCHOOL   \n",
       "2   16K498     BROOKLYN HIGH SCHOOL FOR LAW AND TECHNOLOGY   \n",
       "3   14K488                BROOKLYN PREPARATORY HIGH SCHOOL   \n",
       "4   17K568                 BROWNSVILLE ACADEMY HIGH SCHOOL   \n",
       "..     ...                                             ...   \n",
       "79  10X445                    BRONX HIGH SCHOOL OF SCIENCE   \n",
       "80  02M418                          MILLENNIUM HIGH SCHOOL   \n",
       "81  22K535  LEON M. GOLDSTEIN HIGH SCHOOL FOR THE SCIENCES   \n",
       "82  14K449                      BROOKLYN LATIN SCHOOL, THE   \n",
       "83  02M416                   ELEANOR ROOSEVELT HIGH SCHOOL   \n",
       "\n",
       "    Num of SAT Test Takers  SAT Critical Reading Avg. Score  \\\n",
       "0                       57                            372.0   \n",
       "1                       63                            351.0   \n",
       "2                       46                            362.0   \n",
       "3                       42                            367.0   \n",
       "4                       16                            372.0   \n",
       "..                     ...                              ...   \n",
       "79                     731                            632.0   \n",
       "80                     144                            528.0   \n",
       "81                     259                            524.0   \n",
       "82                      72                            586.0   \n",
       "83                     127                            572.0   \n",
       "\n",
       "    SAT Math Avg. Score  SAT Writing Avg. Score Testers_Stratum  \\\n",
       "0                 382.0                   375.0               1   \n",
       "1                 375.0                   371.0               1   \n",
       "2                 372.0                   358.0               0   \n",
       "3                 373.0                   350.0               0   \n",
       "4                 356.0                   335.0               0   \n",
       "..                  ...                     ...             ...   \n",
       "79                688.0                   649.0               4   \n",
       "80                553.0                   533.0               2   \n",
       "81                561.0                   542.0               3   \n",
       "82                584.0                   570.0               1   \n",
       "83                594.0                   592.0               2   \n",
       "\n",
       "   Reading_Stratum Math_Stratum  \n",
       "0                0            1  \n",
       "1                0            0  \n",
       "2                0            0  \n",
       "3                0            0  \n",
       "4                0            0  \n",
       "..             ...          ...  \n",
       "79               5            5  \n",
       "80               5            5  \n",
       "81               5            5  \n",
       "82               5            5  \n",
       "83               5            5  \n",
       "\n",
       "[84 rows x 9 columns]"
      ]
     },
     "execution_count": 115,
     "metadata": {},
     "output_type": "execute_result"
    }
   ],
   "source": [
    "# take samples\n",
    "stratified_samples = []\n",
    "\n",
    "for stratum_label in range(L):\n",
    "    stratum = df[df[\"Reading_Stratum\"] == stratum_label]\n",
    "    stratified_samples.append(stratum.sample(n=n_h, replace=False))\n",
    "stratified_sample_df = pd.concat(stratified_samples).reset_index(drop=True)\n",
    "stratified_sample_df"
   ]
  },
  {
   "cell_type": "markdown",
   "id": "2a4e85d3",
   "metadata": {},
   "source": [
    "### 4. Parameter Estimation and Variance\n",
    "\n",
    "a) Estimate your parameter of interest using an unbiased estimator\n"
   ]
  },
  {
   "cell_type": "code",
   "execution_count": 116,
   "id": "42cce03a",
   "metadata": {},
   "outputs": [
    {
     "name": "stderr",
     "output_type": "stream",
     "text": [
      "/tmp/ipykernel_85079/3971435269.py:5: FutureWarning: The default of observed=False is deprecated and will be changed to True in a future version of pandas. Pass observed=False to retain current behavior or observed=True to adopt the future default and silence this warning.\n",
      "  ybar_h = stratified_sample_df.groupby(\"Reading_Stratum\")[\"SAT Writing Avg. Score\"].mean().tolist()\n"
     ]
    },
    {
     "data": {
      "text/plain": [
       "362.7241262300645"
      ]
     },
     "execution_count": 116,
     "metadata": {},
     "output_type": "execute_result"
    }
   ],
   "source": [
    "# mu_st_hat = tau_st_hat / N\n",
    "# tau_st_hat = sum from 1 to L of (N_h * ybar_h)\n",
    "# ybar_h = (sum from 1 to n_h of (y_hi)) / n_h\n",
    "\n",
    "ybar_h = stratified_sample_df.groupby(\"Reading_Stratum\")[\"SAT Writing Avg. Score\"].mean().tolist()\n",
    "tau_st_hat = sum(reading[\"Nh\"][i] * ybar_h[i] for i in range(len(reading[\"Nh\"])))\n",
    "mu_st_hat = tau_st_hat / N\n",
    "mu_st_hat"
   ]
  },
  {
   "cell_type": "markdown",
   "id": "e978e3ec",
   "metadata": {},
   "source": [
    "b) Estimate its variance and provide a confidence interval at the alpha level chosen in Report 2. Use the Satterthwaite formula for adjusted degrees of freedom. "
   ]
  },
  {
   "cell_type": "code",
   "execution_count": 117,
   "id": "6690834c",
   "metadata": {},
   "outputs": [
    {
     "data": {
      "text/plain": [
       "0.7595137664926777"
      ]
     },
     "execution_count": 117,
     "metadata": {},
     "output_type": "execute_result"
    }
   ],
   "source": [
    "# variance\n",
    "# var_hat_mu_st_hat = (1/N^2) * var_hat_tau_st_hat\n",
    "# var_hat_tau_st_hat = sum from 1 to L ((N_h * (N_h - n_h) * (sigma_h^2 / n_h)))\n",
    "var_hat_tau_st_hat = sum(\n",
    "    reading[\"Nh\"][i] * (reading[\"Nh\"][i] - n_h) * (reading[\"sigma_sq_h\"][i] / n_h) \n",
    "    for i in range(len(reading[\"Nh\"]))\n",
    ")\n",
    "var_hat_mu_st_hat = (1 / N**2) * var_hat_tau_st_hat\n",
    "var_hat_mu_st_hat\n"
   ]
  },
  {
   "cell_type": "code",
   "execution_count": 118,
   "id": "da9b9650",
   "metadata": {},
   "outputs": [
    {
     "name": "stderr",
     "output_type": "stream",
     "text": [
      "/tmp/ipykernel_85079/4228466091.py:7: FutureWarning: The default of observed=False is deprecated and will be changed to True in a future version of pandas. Pass observed=False to retain current behavior or observed=True to adopt the future default and silence this warning.\n",
      "  .groupby(\"Reading_Stratum\")[\"SAT Writing Avg. Score\"]\n"
     ]
    },
    {
     "data": {
      "text/plain": [
       "13.0"
      ]
     },
     "execution_count": 118,
     "metadata": {},
     "output_type": "execute_result"
    }
   ],
   "source": [
    "# adjusted degrees of freedom\n",
    "# d = (sum of 1 to L of (a_h * s_h^2)) \n",
    "#      / (sum of 1 to L of (a_h * s_h^2) / (n_h - 1))\n",
    "# a_h = (N_h * (N_h - n_h)) / n_h\n",
    "s_h_squared = (\n",
    "    stratified_sample_df\n",
    "    .groupby(\"Reading_Stratum\")[\"SAT Writing Avg. Score\"]\n",
    "    .var(ddof=1)\n",
    "    .tolist()\n",
    ")\n",
    "a_h = [reading[\"Nh\"][i] * (reading[\"Nh\"][i] - n_h) / n_h for i in range(len(reading[\"Nh\"]))]\n",
    "d = (sum(a_h[i] * s_h_squared[i] for i in range(len(a_h))) / (sum(a_h[i] * s_h_squared[i] \n",
    "                                                                  for i in range(len(a_h))) / (n_h - 1)))\n",
    "d\n"
   ]
  },
  {
   "cell_type": "code",
   "execution_count": 119,
   "id": "b990e56d",
   "metadata": {},
   "outputs": [
    {
     "name": "stdout",
     "output_type": "stream",
     "text": [
      "95% CI for mu_st_hat is: (360.84136306633644, 364.6068893937925) \n",
      "\n"
     ]
    }
   ],
   "source": [
    "from scipy.stats import t\n",
    "# Confidence Interval with alpha = .05\n",
    "# mu_st_hat +- t(alpha/2, d) * sqrt(var_hat_mu_st_hat)\n",
    "alpha = .05\n",
    "t_crit = t.ppf(1-(alpha/2), d)\n",
    "lowerBound = mu_st_hat - t_crit * np.sqrt(var_hat_mu_st_hat)\n",
    "upperBound = mu_st_hat + t_crit * np.sqrt(var_hat_mu_st_hat)\n",
    "print(f\"95% CI for mu_st_hat is: ({lowerBound}, {upperBound}) \\n\")"
   ]
  },
  {
   "cell_type": "markdown",
   "id": "952ef36a",
   "metadata": {},
   "source": []
  }
 ],
 "metadata": {
  "kernelspec": {
   "display_name": "conda_venv",
   "language": "python",
   "name": "python3"
  },
  "language_info": {
   "codemirror_mode": {
    "name": "ipython",
    "version": 3
   },
   "file_extension": ".py",
   "mimetype": "text/x-python",
   "name": "python",
   "nbconvert_exporter": "python",
   "pygments_lexer": "ipython3",
   "version": "3.12.3"
  }
 },
 "nbformat": 4,
 "nbformat_minor": 5
}
