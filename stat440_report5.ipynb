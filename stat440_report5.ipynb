{
 "cells": [
  {
   "cell_type": "code",
   "execution_count": 1,
   "id": "bae85931-8b41-41fa-93aa-f0637926e75b",
   "metadata": {},
   "outputs": [
    {
     "name": "stdout",
     "output_type": "stream",
     "text": [
      "<class 'pandas.core.frame.DataFrame'>\n",
      "RangeIndex: 478 entries, 0 to 477\n",
      "Data columns (total 6 columns):\n",
      " #   Column                           Non-Null Count  Dtype \n",
      "---  ------                           --------------  ----- \n",
      " 0   DBN                              478 non-null    object\n",
      " 1   SCHOOL NAME                      478 non-null    object\n",
      " 2   Num of SAT Test Takers           478 non-null    object\n",
      " 3   SAT Critical Reading Avg. Score  478 non-null    object\n",
      " 4   SAT Math Avg. Score              478 non-null    object\n",
      " 5   SAT Writing Avg. Score           478 non-null    object\n",
      "dtypes: object(6)\n",
      "memory usage: 22.5+ KB\n",
      "None\n",
      "\n",
      "<class 'pandas.core.frame.DataFrame'>\n",
      "Index: 421 entries, 0 to 477\n",
      "Data columns (total 6 columns):\n",
      " #   Column                           Non-Null Count  Dtype  \n",
      "---  ------                           --------------  -----  \n",
      " 0   DBN                              421 non-null    object \n",
      " 1   SCHOOL NAME                      421 non-null    object \n",
      " 2   Num of SAT Test Takers           421 non-null    object \n",
      " 3   SAT Critical Reading Avg. Score  421 non-null    float64\n",
      " 4   SAT Math Avg. Score              421 non-null    float64\n",
      " 5   SAT Writing Avg. Score           421 non-null    float64\n",
      "dtypes: float64(3), object(3)\n",
      "memory usage: 23.0+ KB\n",
      "None\n",
      "\n",
      "The mu is: 393.9857482185273\n",
      "The tao is: 165868.0\n",
      "The sigma^2 is: 3429.9095356040643\n",
      "\n"
     ]
    }
   ],
   "source": [
    "import numpy as np\n",
    "import pandas as pd\n",
    "import matplotlib.pyplot as plt\n",
    "import seaborn as sns\n",
    "\n",
    "#  read the dataset\n",
    "df = pd.read_csv(\"2012-sat-results.csv\")\n",
    "\n",
    "print(df.info())\n",
    "print(\"\")\n",
    "\n",
    "# convert all values to numeric\n",
    "df[\"SAT Critical Reading Avg. Score\"] = pd.to_numeric(df[\"SAT Critical Reading Avg. Score\"], errors=\"coerce\")\n",
    "df[\"SAT Math Avg. Score\"] = pd.to_numeric(df[\"SAT Math Avg. Score\"], errors=\"coerce\")\n",
    "df[\"SAT Writing Avg. Score\"] = pd.to_numeric(df[\"SAT Writing Avg. Score\"], errors=\"coerce\")\n",
    "\n",
    "# Drop rows with NaN values\n",
    "df = df.dropna(subset=[\"SAT Critical Reading Avg. Score\", \"SAT Math Avg. Score\", \"SAT Writing Avg. Score\"])\n",
    "\n",
    "print(df.info())\n",
    "print(\"\")\n",
    "\n",
    "# population params\n",
    "mu = df[\"SAT Writing Avg. Score\"].mean()\n",
    "tao = df[\"SAT Writing Avg. Score\"].sum()\n",
    "sigmasq = df[\"SAT Writing Avg. Score\"].var(ddof=0)\n",
    "\n",
    "print(f\"The mu is: {mu}\")\n",
    "print(f\"The tao is: {tao}\")\n",
    "print(f\"The sigma^2 is: {sigmasq}\")\n",
    "\n",
    "print(\"\")"
   ]
  },
  {
   "cell_type": "code",
   "execution_count": 2,
   "id": "907610f0-6841-4ceb-964f-5c33ea43cb73",
   "metadata": {},
   "outputs": [
    {
     "data": {
      "text/html": [
       "<div>\n",
       "<style scoped>\n",
       "    .dataframe tbody tr th:only-of-type {\n",
       "        vertical-align: middle;\n",
       "    }\n",
       "\n",
       "    .dataframe tbody tr th {\n",
       "        vertical-align: top;\n",
       "    }\n",
       "\n",
       "    .dataframe thead th {\n",
       "        text-align: right;\n",
       "    }\n",
       "</style>\n",
       "<table border=\"1\" class=\"dataframe\">\n",
       "  <thead>\n",
       "    <tr style=\"text-align: right;\">\n",
       "      <th></th>\n",
       "      <th>DBN</th>\n",
       "      <th>SCHOOL NAME</th>\n",
       "      <th>Num of SAT Test Takers</th>\n",
       "      <th>SAT Critical Reading Avg. Score</th>\n",
       "      <th>SAT Math Avg. Score</th>\n",
       "      <th>SAT Writing Avg. Score</th>\n",
       "    </tr>\n",
       "  </thead>\n",
       "  <tbody>\n",
       "    <tr>\n",
       "      <th>0</th>\n",
       "      <td>01M292</td>\n",
       "      <td>HENRY STREET SCHOOL FOR INTERNATIONAL STUDIES</td>\n",
       "      <td>29</td>\n",
       "      <td>355.0</td>\n",
       "      <td>404.0</td>\n",
       "      <td>363.0</td>\n",
       "    </tr>\n",
       "    <tr>\n",
       "      <th>1</th>\n",
       "      <td>01M448</td>\n",
       "      <td>UNIVERSITY NEIGHBORHOOD HIGH SCHOOL</td>\n",
       "      <td>91</td>\n",
       "      <td>383.0</td>\n",
       "      <td>423.0</td>\n",
       "      <td>366.0</td>\n",
       "    </tr>\n",
       "    <tr>\n",
       "      <th>2</th>\n",
       "      <td>01M450</td>\n",
       "      <td>EAST SIDE COMMUNITY SCHOOL</td>\n",
       "      <td>70</td>\n",
       "      <td>377.0</td>\n",
       "      <td>402.0</td>\n",
       "      <td>370.0</td>\n",
       "    </tr>\n",
       "    <tr>\n",
       "      <th>3</th>\n",
       "      <td>01M458</td>\n",
       "      <td>FORSYTH SATELLITE ACADEMY</td>\n",
       "      <td>7</td>\n",
       "      <td>414.0</td>\n",
       "      <td>401.0</td>\n",
       "      <td>359.0</td>\n",
       "    </tr>\n",
       "    <tr>\n",
       "      <th>4</th>\n",
       "      <td>01M509</td>\n",
       "      <td>MARTA VALLE HIGH SCHOOL</td>\n",
       "      <td>44</td>\n",
       "      <td>390.0</td>\n",
       "      <td>433.0</td>\n",
       "      <td>384.0</td>\n",
       "    </tr>\n",
       "  </tbody>\n",
       "</table>\n",
       "</div>"
      ],
      "text/plain": [
       "      DBN                                    SCHOOL NAME  \\\n",
       "0  01M292  HENRY STREET SCHOOL FOR INTERNATIONAL STUDIES   \n",
       "1  01M448            UNIVERSITY NEIGHBORHOOD HIGH SCHOOL   \n",
       "2  01M450                     EAST SIDE COMMUNITY SCHOOL   \n",
       "3  01M458                      FORSYTH SATELLITE ACADEMY   \n",
       "4  01M509                        MARTA VALLE HIGH SCHOOL   \n",
       "\n",
       "  Num of SAT Test Takers  SAT Critical Reading Avg. Score  \\\n",
       "0                     29                            355.0   \n",
       "1                     91                            383.0   \n",
       "2                     70                            377.0   \n",
       "3                      7                            414.0   \n",
       "4                     44                            390.0   \n",
       "\n",
       "   SAT Math Avg. Score  SAT Writing Avg. Score  \n",
       "0                404.0                   363.0  \n",
       "1                423.0                   366.0  \n",
       "2                402.0                   370.0  \n",
       "3                401.0                   359.0  \n",
       "4                433.0                   384.0  "
      ]
     },
     "execution_count": 2,
     "metadata": {},
     "output_type": "execute_result"
    }
   ],
   "source": [
    "df.head()"
   ]
  },
  {
   "attachments": {},
   "cell_type": "markdown",
   "id": "c65337f7-e6cf-43d1-bc25-807e527a1aad",
   "metadata": {},
   "source": [
    "# 1. Divide your population into strata"
   ]
  },
  {
   "cell_type": "code",
   "execution_count": 3,
   "id": "ff9cad6f-62ab-426d-b94a-f1c52290eed4",
   "metadata": {},
   "outputs": [
    {
     "data": {
      "text/plain": [
       "{'Nh': [148, 173, 50, 26, 24],\n",
       " 'sigma_sq_h': [191.754930606282,\n",
       "  166.8447325336631,\n",
       "  688.8196000000003,\n",
       "  3789.940828402369,\n",
       "  46378.74305555556]}"
      ]
     },
     "execution_count": 3,
     "metadata": {},
     "output_type": "execute_result"
    }
   ],
   "source": [
    "# Creating Strata based on Number of SAT Test Takers per school\n",
    "\n",
    "df[\"Num of SAT Test Takers\"] = pd.to_numeric(df[\"Num of SAT Test Takers\"], errors='coerce')\n",
    "\n",
    "# strata ranges\n",
    "bins = [0, 50, 100, 200, 400, df[\"Num of SAT Test Takers\"].max()]\n",
    "labels = [0, 1, 2, 3, 4]\n",
    "\n",
    "df[\"Testers_Stratum\"] = pd.cut(df[\"Num of SAT Test Takers\"], bins=bins, labels=labels, include_lowest=True)\n",
    "\n",
    "testers = {\n",
    "    \"Nh\": df.groupby(\"Testers_Stratum\", observed=False).size().tolist(),\n",
    "    \"sigma_sq_h\": df.groupby(\"Testers_Stratum\", observed=False)[\"Num of SAT Test Takers\"].var(ddof=0).tolist()\n",
    "}\n",
    "testers"
   ]
  },
  {
   "cell_type": "code",
   "execution_count": 4,
   "id": "007ab1b9-7448-4fd8-b7fd-4748215bb4f0",
   "metadata": {},
   "outputs": [
    {
     "data": {
      "text/plain": [
       "{'Nh': [102, 116, 75, 31, 36, 21],\n",
       " 'sigma_sq_h': [49.47260668973475,\n",
       "  53.543029131985755,\n",
       "  51.17582222222231,\n",
       "  33.33402705515095,\n",
       "  290.65663580246917,\n",
       "  2211.9319727891143]}"
      ]
     },
     "execution_count": 4,
     "metadata": {},
     "output_type": "execute_result"
    }
   ],
   "source": [
    "# Creating Strata based on SAT Critical Reading Avg. Score\n",
    "\n",
    "# Intervals for stratum and labels for the intervals\n",
    "bins = [350, 375, 400, 425, 450, 515, df[\"SAT Critical Reading Avg. Score\"].max()]\n",
    "labels = [0, 1, 2, 3, 4, 5]\n",
    "\n",
    "df[\"Reading_Stratum\"] = pd.cut(df[\"SAT Critical Reading Avg. Score\"], bins=bins, labels=labels, include_lowest=True)\n",
    "\n",
    "# Grouping by stratum, and calculating variances for each stratum\n",
    "reading = {\n",
    "    \"Nh\": df.groupby(\"Reading_Stratum\", observed=False).size().tolist(),\n",
    "    \"sigma_sq_h\": df.groupby(\"Reading_Stratum\", observed=False)[\"SAT Critical Reading Avg. Score\"].var(ddof=0).tolist()\n",
    "}\n",
    "reading"
   ]
  },
  {
   "cell_type": "code",
   "execution_count": 5,
   "id": "79d39712-b4e4-4525-946d-afaace312b5c",
   "metadata": {},
   "outputs": [
    {
     "data": {
      "text/plain": [
       "{'Nh': [96, 109, 65, 43, 52, 30],\n",
       " 'sigma_sq_h': [45.99728732638883,\n",
       "  52.81440956148471,\n",
       "  52.962366863905295,\n",
       "  51.59221200648994,\n",
       "  280.4715236686394,\n",
       "  3212.0766666666673]}"
      ]
     },
     "execution_count": 5,
     "metadata": {},
     "output_type": "execute_result"
    }
   ],
   "source": [
    "# Creating Strata based on SAT Math Avg. Score\n",
    "\n",
    "# Intervals for stratum and labels for the intervals\n",
    "bins = [350, 375, 400, 425, 450, 515, df[\"SAT Math Avg. Score\"].max()]\n",
    "labels = [0, 1, 2, 3, 4, 5]\n",
    "\n",
    "df[\"Math_Stratum\"] = pd.cut(df[\"SAT Math Avg. Score\"], bins=bins, labels=labels, include_lowest=True)\n",
    "\n",
    "# Grouping by stratum, and calculating variances for each stratum\n",
    "math = {\n",
    "    \"Nh\": df.groupby(\"Math_Stratum\", observed=False).size().tolist(),\n",
    "    \"sigma_sq_h\": df.groupby(\"Math_Stratum\", observed=False)[\"SAT Math Avg. Score\"].var(ddof=0).tolist()\n",
    "}\n",
    "math"
   ]
  },
  {
   "attachments": {},
   "cell_type": "markdown",
   "id": "5468a119-2c14-42d6-ab5f-40c3109a209a",
   "metadata": {},
   "source": [
    "# 2. Evaluate Population Stratification"
   ]
  },
  {
   "cell_type": "code",
   "execution_count": 6,
   "id": "f8a08e5e-8374-47c1-9af6-361169b3ee03",
   "metadata": {},
   "outputs": [
    {
     "data": {
      "text/plain": [
       "np.float64(188464.96477095643)"
      ]
     },
     "execution_count": 6,
     "metadata": {},
     "output_type": "execute_result"
    }
   ],
   "source": [
    "sigma_sq = df[\"SAT Writing Avg. Score\"].var(ddof=0)\n",
    "N = len(df)\n",
    "n= 80\n",
    "\n",
    "Nh = np.array(testers[\"Nh\"])\n",
    "sigma_sq_h = np.array(testers[\"sigma_sq_h\"])\n",
    "\n",
    "delta_testers = (N - 1) * sigma_sq - np.sum((Nh - 1) * sigma_sq_h)\n",
    "delta_testers"
   ]
  },
  {
   "cell_type": "code",
   "execution_count": 7,
   "id": "fca73f30-3e54-41cc-9119-e9f61e99df2c",
   "metadata": {},
   "outputs": [
    {
     "data": {
      "text/plain": [
       "np.float64(1370209.169962898)"
      ]
     },
     "execution_count": 7,
     "metadata": {},
     "output_type": "execute_result"
    }
   ],
   "source": [
    "sigma_sq = df[\"SAT Writing Avg. Score\"].var(ddof=0)\n",
    "N = len(df)\n",
    "n= 80\n",
    "\n",
    "Nh = np.array(reading[\"Nh\"])\n",
    "sigma_sq_h = np.array(reading[\"sigma_sq_h\"])\n",
    "\n",
    "delta_reading = (N - 1) * sigma_sq - np.sum((Nh - 1) * sigma_sq_h)\n",
    "delta_reading"
   ]
  },
  {
   "cell_type": "code",
   "execution_count": 8,
   "id": "ed8ba7ad-461f-44c4-bde6-320a5a7714d1",
   "metadata": {},
   "outputs": [
    {
     "data": {
      "text/plain": [
       "np.float64(1317477.5710010633)"
      ]
     },
     "execution_count": 8,
     "metadata": {},
     "output_type": "execute_result"
    }
   ],
   "source": [
    "sigma_sq = df[\"SAT Writing Avg. Score\"].var(ddof=0)\n",
    "N = len(df)\n",
    "n= 80\n",
    "\n",
    "Nh = np.array(math[\"Nh\"])\n",
    "sigma_sq_h = np.array(math[\"sigma_sq_h\"])\n",
    "\n",
    "delta_math = (N - 1) * sigma_sq - np.sum((Nh - 1) * sigma_sq_h)\n",
    "delta_math"
   ]
  },
  {
   "cell_type": "code",
   "execution_count": 9,
   "id": "2f826516-ffde-4884-9e34-ef0ab21e983e",
   "metadata": {},
   "outputs": [
    {
     "name": "stdout",
     "output_type": "stream",
     "text": [
      "Largest delta 1370209.169962898\n"
     ]
    }
   ],
   "source": [
    "max_delta =  max( max(delta_math, delta_reading), delta_testers )\n",
    "print(f\"Largest delta {max_delta}\")"
   ]
  },
  {
   "attachments": {},
   "cell_type": "markdown",
   "id": "309d3c57-e14a-4cf3-8930-2a6c448047fd",
   "metadata": {},
   "source": [
    "#### Use SAT Critical Reading Avg. Score strata from here on"
   ]
  },
  {
   "attachments": {},
   "cell_type": "markdown",
   "id": "8762f418",
   "metadata": {},
   "source": [
    "# Sampling Procedures\n",
    "\n",
    "### 3. Stratified Random Sample with Equal Allocation:\n",
    "Take stratified random sample with size n (chosen in Report 2) with equal allocation. $n_h = \\frac{n}{L}$"
   ]
  },
  {
   "cell_type": "code",
   "execution_count": 10,
   "id": "5e93dd9b",
   "metadata": {},
   "outputs": [
    {
     "data": {
      "text/plain": [
       "{'Nh': [102, 116, 75, 31, 36, 21],\n",
       " 'sigma_sq_h': [49.47260668973475,\n",
       "  53.543029131985755,\n",
       "  51.17582222222231,\n",
       "  33.33402705515095,\n",
       "  290.65663580246917,\n",
       "  2211.9319727891143]}"
      ]
     },
     "execution_count": 10,
     "metadata": {},
     "output_type": "execute_result"
    }
   ],
   "source": [
    "# use reading strata divisions\n",
    "reading"
   ]
  },
  {
   "cell_type": "code",
   "execution_count": 11,
   "id": "18ba9042",
   "metadata": {},
   "outputs": [
    {
     "data": {
      "text/plain": [
       "14"
      ]
     },
     "execution_count": 11,
     "metadata": {},
     "output_type": "execute_result"
    }
   ],
   "source": [
    "# n chosen in report 2 is 80.\n",
    "N_h = np.array(reading['Nh'])\n",
    "sigma_sq_h = np.array(reading['sigma_sq_h'])\n",
    "\n",
    "n = 80\n",
    "L = len(reading[\"Nh\"])\n",
    "n_h = int(np.ceil(n / L))\n",
    "n_h"
   ]
  },
  {
   "cell_type": "code",
   "execution_count": 12,
   "id": "867da1dc",
   "metadata": {},
   "outputs": [
    {
     "data": {
      "text/html": [
       "<div>\n",
       "<style scoped>\n",
       "    .dataframe tbody tr th:only-of-type {\n",
       "        vertical-align: middle;\n",
       "    }\n",
       "\n",
       "    .dataframe tbody tr th {\n",
       "        vertical-align: top;\n",
       "    }\n",
       "\n",
       "    .dataframe thead th {\n",
       "        text-align: right;\n",
       "    }\n",
       "</style>\n",
       "<table border=\"1\" class=\"dataframe\">\n",
       "  <thead>\n",
       "    <tr style=\"text-align: right;\">\n",
       "      <th></th>\n",
       "      <th>DBN</th>\n",
       "      <th>SCHOOL NAME</th>\n",
       "      <th>Num of SAT Test Takers</th>\n",
       "      <th>SAT Critical Reading Avg. Score</th>\n",
       "      <th>SAT Math Avg. Score</th>\n",
       "      <th>SAT Writing Avg. Score</th>\n",
       "      <th>Testers_Stratum</th>\n",
       "      <th>Reading_Stratum</th>\n",
       "      <th>Math_Stratum</th>\n",
       "    </tr>\n",
       "  </thead>\n",
       "  <tbody>\n",
       "    <tr>\n",
       "      <th>0</th>\n",
       "      <td>13K350</td>\n",
       "      <td>URBAN ASSEMBLY HIGH SCHOOL OF MUSIC AND ART</td>\n",
       "      <td>52</td>\n",
       "      <td>360.0</td>\n",
       "      <td>364.0</td>\n",
       "      <td>356.0</td>\n",
       "      <td>1</td>\n",
       "      <td>0</td>\n",
       "      <td>0</td>\n",
       "    </tr>\n",
       "    <tr>\n",
       "      <th>1</th>\n",
       "      <td>18K569</td>\n",
       "      <td>KURT HAHN EXPEDITIONARY LEARNING SCHOOL</td>\n",
       "      <td>43</td>\n",
       "      <td>368.0</td>\n",
       "      <td>378.0</td>\n",
       "      <td>346.0</td>\n",
       "      <td>0</td>\n",
       "      <td>0</td>\n",
       "      <td>1</td>\n",
       "    </tr>\n",
       "    <tr>\n",
       "      <th>2</th>\n",
       "      <td>02M305</td>\n",
       "      <td>URBAN ASSEMBLY ACADEMY OF GOVERNMENT AND LAW, THE</td>\n",
       "      <td>50</td>\n",
       "      <td>375.0</td>\n",
       "      <td>388.0</td>\n",
       "      <td>385.0</td>\n",
       "      <td>0</td>\n",
       "      <td>0</td>\n",
       "      <td>1</td>\n",
       "    </tr>\n",
       "    <tr>\n",
       "      <th>3</th>\n",
       "      <td>15K520</td>\n",
       "      <td>PACIFIC HIGH SCHOOL</td>\n",
       "      <td>9</td>\n",
       "      <td>352.0</td>\n",
       "      <td>341.0</td>\n",
       "      <td>300.0</td>\n",
       "      <td>0</td>\n",
       "      <td>0</td>\n",
       "      <td>NaN</td>\n",
       "    </tr>\n",
       "    <tr>\n",
       "      <th>4</th>\n",
       "      <td>05M685</td>\n",
       "      <td>BREAD &amp; ROSES INTEGRATED ARTS HIGH SCHOOL</td>\n",
       "      <td>61</td>\n",
       "      <td>369.0</td>\n",
       "      <td>361.0</td>\n",
       "      <td>355.0</td>\n",
       "      <td>1</td>\n",
       "      <td>0</td>\n",
       "      <td>0</td>\n",
       "    </tr>\n",
       "    <tr>\n",
       "      <th>...</th>\n",
       "      <td>...</td>\n",
       "      <td>...</td>\n",
       "      <td>...</td>\n",
       "      <td>...</td>\n",
       "      <td>...</td>\n",
       "      <td>...</td>\n",
       "      <td>...</td>\n",
       "      <td>...</td>\n",
       "      <td>...</td>\n",
       "    </tr>\n",
       "    <tr>\n",
       "      <th>79</th>\n",
       "      <td>30Q580</td>\n",
       "      <td>BACCALAUREATE SCHOOL FOR GLOBAL EDUCATION</td>\n",
       "      <td>61</td>\n",
       "      <td>524.0</td>\n",
       "      <td>568.0</td>\n",
       "      <td>544.0</td>\n",
       "      <td>1</td>\n",
       "      <td>5</td>\n",
       "      <td>5</td>\n",
       "    </tr>\n",
       "    <tr>\n",
       "      <th>80</th>\n",
       "      <td>22K535</td>\n",
       "      <td>LEON M. GOLDSTEIN HIGH SCHOOL FOR THE SCIENCES</td>\n",
       "      <td>259</td>\n",
       "      <td>524.0</td>\n",
       "      <td>561.0</td>\n",
       "      <td>542.0</td>\n",
       "      <td>3</td>\n",
       "      <td>5</td>\n",
       "      <td>5</td>\n",
       "    </tr>\n",
       "    <tr>\n",
       "      <th>81</th>\n",
       "      <td>02M418</td>\n",
       "      <td>MILLENNIUM HIGH SCHOOL</td>\n",
       "      <td>144</td>\n",
       "      <td>528.0</td>\n",
       "      <td>553.0</td>\n",
       "      <td>533.0</td>\n",
       "      <td>2</td>\n",
       "      <td>5</td>\n",
       "      <td>5</td>\n",
       "    </tr>\n",
       "    <tr>\n",
       "      <th>82</th>\n",
       "      <td>31R605</td>\n",
       "      <td>STATEN ISLAND TECHNICAL HIGH SCHOOL</td>\n",
       "      <td>227</td>\n",
       "      <td>635.0</td>\n",
       "      <td>682.0</td>\n",
       "      <td>636.0</td>\n",
       "      <td>3</td>\n",
       "      <td>5</td>\n",
       "      <td>5</td>\n",
       "    </tr>\n",
       "    <tr>\n",
       "      <th>83</th>\n",
       "      <td>14K449</td>\n",
       "      <td>BROOKLYN LATIN SCHOOL, THE</td>\n",
       "      <td>72</td>\n",
       "      <td>586.0</td>\n",
       "      <td>584.0</td>\n",
       "      <td>570.0</td>\n",
       "      <td>1</td>\n",
       "      <td>5</td>\n",
       "      <td>5</td>\n",
       "    </tr>\n",
       "  </tbody>\n",
       "</table>\n",
       "<p>84 rows × 9 columns</p>\n",
       "</div>"
      ],
      "text/plain": [
       "       DBN                                        SCHOOL NAME  \\\n",
       "0   13K350        URBAN ASSEMBLY HIGH SCHOOL OF MUSIC AND ART   \n",
       "1   18K569            KURT HAHN EXPEDITIONARY LEARNING SCHOOL   \n",
       "2   02M305  URBAN ASSEMBLY ACADEMY OF GOVERNMENT AND LAW, THE   \n",
       "3   15K520                                PACIFIC HIGH SCHOOL   \n",
       "4   05M685          BREAD & ROSES INTEGRATED ARTS HIGH SCHOOL   \n",
       "..     ...                                                ...   \n",
       "79  30Q580          BACCALAUREATE SCHOOL FOR GLOBAL EDUCATION   \n",
       "80  22K535     LEON M. GOLDSTEIN HIGH SCHOOL FOR THE SCIENCES   \n",
       "81  02M418                             MILLENNIUM HIGH SCHOOL   \n",
       "82  31R605                STATEN ISLAND TECHNICAL HIGH SCHOOL   \n",
       "83  14K449                         BROOKLYN LATIN SCHOOL, THE   \n",
       "\n",
       "    Num of SAT Test Takers  SAT Critical Reading Avg. Score  \\\n",
       "0                       52                            360.0   \n",
       "1                       43                            368.0   \n",
       "2                       50                            375.0   \n",
       "3                        9                            352.0   \n",
       "4                       61                            369.0   \n",
       "..                     ...                              ...   \n",
       "79                      61                            524.0   \n",
       "80                     259                            524.0   \n",
       "81                     144                            528.0   \n",
       "82                     227                            635.0   \n",
       "83                      72                            586.0   \n",
       "\n",
       "    SAT Math Avg. Score  SAT Writing Avg. Score Testers_Stratum  \\\n",
       "0                 364.0                   356.0               1   \n",
       "1                 378.0                   346.0               0   \n",
       "2                 388.0                   385.0               0   \n",
       "3                 341.0                   300.0               0   \n",
       "4                 361.0                   355.0               1   \n",
       "..                  ...                     ...             ...   \n",
       "79                568.0                   544.0               1   \n",
       "80                561.0                   542.0               3   \n",
       "81                553.0                   533.0               2   \n",
       "82                682.0                   636.0               3   \n",
       "83                584.0                   570.0               1   \n",
       "\n",
       "   Reading_Stratum Math_Stratum  \n",
       "0                0            0  \n",
       "1                0            1  \n",
       "2                0            1  \n",
       "3                0          NaN  \n",
       "4                0            0  \n",
       "..             ...          ...  \n",
       "79               5            5  \n",
       "80               5            5  \n",
       "81               5            5  \n",
       "82               5            5  \n",
       "83               5            5  \n",
       "\n",
       "[84 rows x 9 columns]"
      ]
     },
     "execution_count": 12,
     "metadata": {},
     "output_type": "execute_result"
    }
   ],
   "source": [
    "# take samples\n",
    "stratified_samples = []\n",
    "\n",
    "for stratum_label in range(L):\n",
    "    stratum = df[df[\"Reading_Stratum\"] == stratum_label]\n",
    "    stratified_samples.append(stratum.sample(n=n_h, replace=False))\n",
    "stratified_sample_df = pd.concat(stratified_samples).reset_index(drop=True)\n",
    "stratified_sample_df"
   ]
  },
  {
   "attachments": {},
   "cell_type": "markdown",
   "id": "2a4e85d3",
   "metadata": {},
   "source": [
    "# 4. Parameter Estimation and Variance\n",
    "\n",
    "### a) Estimate your parameter of interest using an unbiased estimator\n",
    "$\\hat{\\tau_{\\text{st}}} = \\sum_{h=1}^L N_h\\bar{y}_h$\n",
    "\n",
    "$\\hat{\\mu_{\\text{st}}} = \\frac{1}{N}\\hat{\\tau_{\\text{st}}}$"
   ]
  },
  {
   "cell_type": "code",
   "execution_count": 13,
   "id": "42cce03a",
   "metadata": {},
   "outputs": [
    {
     "data": {
      "text/plain": [
       "359.87"
      ]
     },
     "execution_count": 13,
     "metadata": {},
     "output_type": "execute_result"
    }
   ],
   "source": [
    "# mu_st_hat = tau_st_hat / N\n",
    "# tau_st_hat = sum from 1 to L of (N_h * ybar_h)\n",
    "# ybar_h = (sum from 1 to n_h of (y_hi)) / n_h\n",
    "\n",
    "ybar_h = stratified_sample_df.groupby(\"Reading_Stratum\", observed=False)[\"SAT Writing Avg. Score\"].mean().tolist()\n",
    "tau_st_hat = sum(N_h * ybar_h)\n",
    "mu_st_hat = tau_st_hat / N\n",
    "round(float(mu_st_hat), 2)"
   ]
  },
  {
   "attachments": {},
   "cell_type": "markdown",
   "id": "e978e3ec",
   "metadata": {},
   "source": [
    "### b) Estimate its variance and provide a confidence interval at the alpha level chosen in Report 2.\n",
    "$\\hat{\\text{var}}(\\hat{\\tau_{\\text{st}}}) = \\sum_{h=1}^L N_h(N_h - n_h)\\frac{\\sigma^2_h}{n_h}$\n",
    "\n",
    "$\\hat{\\text{var}}(\\hat{\\mu_{\\text{st}}}) = \\frac{1}{N^2}\\hat{\\text{var}}(\\hat{\\tau_{\\text{st}}})$"
   ]
  },
  {
   "cell_type": "code",
   "execution_count": 14,
   "id": "6690834c",
   "metadata": {},
   "outputs": [
    {
     "data": {
      "text/plain": [
       "0.76"
      ]
     },
     "execution_count": 14,
     "metadata": {},
     "output_type": "execute_result"
    }
   ],
   "source": [
    "# variance\n",
    "# var_hat_mu_st_hat = (1/N^2) * var_hat_tau_st_hat\n",
    "# var_hat_tau_st_hat = sum from 1 to L ((N_h * (N_h - n_h) * (sigma_h^2 / n_h)))\n",
    "\n",
    "var_hat_tau_st_hat = sum(N_h * (N_h - n_h) * (sigma_sq_h / n_h))\n",
    "var_hat_mu_st_hat = (1 / N**2) * var_hat_tau_st_hat\n",
    "round(float(var_hat_mu_st_hat), 2)"
   ]
  },
  {
   "cell_type": "markdown",
   "id": "d1791822",
   "metadata": {},
   "source": [
    "### c) Use the Satterthwaite formula for adjusted degrees of freedom\n",
    "$\\large a_h = \\frac{N_h(N_h - n_h)}{n_h}$\n",
    "\n",
    "$\\large d = \\frac{(\\sum_{h=1}^L a_h s^2_h)^2}{\\sum_{h=1}^L \\frac{(a_h s^2_h)^2}{n_h - 1}}$"
   ]
  },
  {
   "cell_type": "code",
   "execution_count": 15,
   "id": "da9b9650",
   "metadata": {},
   "outputs": [
    {
     "data": {
      "text/plain": [
       "42.581783064386144"
      ]
     },
     "execution_count": 15,
     "metadata": {},
     "output_type": "execute_result"
    }
   ],
   "source": [
    "# adjusted degrees of freedom\n",
    "# d = (sum of 1 to L of (a_h * s_h^2))\n",
    "#      / (sum of 1 to L of (a_h * s_h^2) / (n_h - 1))\n",
    "# a_h = (N_h * (N_h - n_h)) / n_h\n",
    "s_h_squared = (\n",
    "    stratified_sample_df\n",
    "    .groupby(\"Reading_Stratum\", observed=False)[\"SAT Writing Avg. Score\"]\n",
    "    .var(ddof=1)\n",
    "    .tolist()\n",
    ")\n",
    "s_h_squared = np.array(s_h_squared)\n",
    "a_h = N_h * (N_h - n_h) / n_h\n",
    "d = sum(a_h * s_h_squared)**2 / sum((a_h * s_h_squared)**2 / (n_h - 1))\n",
    "float(d)"
   ]
  },
  {
   "cell_type": "code",
   "execution_count": 16,
   "id": "b990e56d",
   "metadata": {},
   "outputs": [
    {
     "name": "stdout",
     "output_type": "stream",
     "text": [
      "95% CI for mu with Stratified Random Sample with Equal Allocation is: (358.11, 361.62) \n",
      "\n"
     ]
    }
   ],
   "source": [
    "from scipy.stats import t\n",
    "# Confidence Interval with alpha = .05\n",
    "# mu_st_hat +- t(alpha/2, d) * sqrt(var_hat_mu_st_hat)\n",
    "alpha = .05\n",
    "t_crit = t.ppf(1-(alpha/2), d)\n",
    "SDE = t_crit * np.sqrt(var_hat_mu_st_hat)\n",
    "\n",
    "CI = mu_st_hat - SDE, mu_st_hat + SDE\n",
    "print(f\"95% CI for mu with Stratified Random Sample with Equal Allocation is: ({CI[0].round(2)}, {CI[1].round(2)}) \\n\")"
   ]
  },
  {
   "cell_type": "markdown",
   "id": "5539dd0e",
   "metadata": {},
   "source": [
    "# 5. Stratified Random Sample with Proportional Allocation\n",
    "\n",
    "$n_h = \\frac{nN_h}{N}$"
   ]
  },
  {
   "cell_type": "code",
   "execution_count": 17,
   "id": "11d0683f",
   "metadata": {},
   "outputs": [
    {
     "data": {
      "text/plain": [
       "[19, 22, 14, 6, 7, 4]"
      ]
     },
     "execution_count": 17,
     "metadata": {},
     "output_type": "execute_result"
    }
   ],
   "source": [
    "nh_proportional = [\n",
    "    int(round((n * Nh) / N))\n",
    "    for Nh in reading[\"Nh\"]\n",
    "]\n",
    "nh_proportional"
   ]
  },
  {
   "cell_type": "code",
   "execution_count": 18,
   "id": "225d6362-2991-4bdb-9381-f1c41f84997f",
   "metadata": {},
   "outputs": [
    {
     "data": {
      "text/html": [
       "<div>\n",
       "<style scoped>\n",
       "    .dataframe tbody tr th:only-of-type {\n",
       "        vertical-align: middle;\n",
       "    }\n",
       "\n",
       "    .dataframe tbody tr th {\n",
       "        vertical-align: top;\n",
       "    }\n",
       "\n",
       "    .dataframe thead th {\n",
       "        text-align: right;\n",
       "    }\n",
       "</style>\n",
       "<table border=\"1\" class=\"dataframe\">\n",
       "  <thead>\n",
       "    <tr style=\"text-align: right;\">\n",
       "      <th></th>\n",
       "      <th>DBN</th>\n",
       "      <th>SCHOOL NAME</th>\n",
       "      <th>Num of SAT Test Takers</th>\n",
       "      <th>SAT Critical Reading Avg. Score</th>\n",
       "      <th>SAT Math Avg. Score</th>\n",
       "      <th>SAT Writing Avg. Score</th>\n",
       "      <th>Testers_Stratum</th>\n",
       "      <th>Reading_Stratum</th>\n",
       "      <th>Math_Stratum</th>\n",
       "    </tr>\n",
       "  </thead>\n",
       "  <tbody>\n",
       "    <tr>\n",
       "      <th>0</th>\n",
       "      <td>13K350</td>\n",
       "      <td>URBAN ASSEMBLY HIGH SCHOOL OF MUSIC AND ART</td>\n",
       "      <td>52</td>\n",
       "      <td>360.0</td>\n",
       "      <td>364.0</td>\n",
       "      <td>356.0</td>\n",
       "      <td>1</td>\n",
       "      <td>0</td>\n",
       "      <td>0</td>\n",
       "    </tr>\n",
       "    <tr>\n",
       "      <th>1</th>\n",
       "      <td>07X670</td>\n",
       "      <td>HEALTH OPPORTUNITIES HIGH SCHOOL</td>\n",
       "      <td>114</td>\n",
       "      <td>363.0</td>\n",
       "      <td>368.0</td>\n",
       "      <td>364.0</td>\n",
       "      <td>2</td>\n",
       "      <td>0</td>\n",
       "      <td>0</td>\n",
       "    </tr>\n",
       "    <tr>\n",
       "      <th>2</th>\n",
       "      <td>02M620</td>\n",
       "      <td>NORMAN THOMAS HIGH SCHOOL</td>\n",
       "      <td>154</td>\n",
       "      <td>370.0</td>\n",
       "      <td>379.0</td>\n",
       "      <td>359.0</td>\n",
       "      <td>2</td>\n",
       "      <td>0</td>\n",
       "      <td>1</td>\n",
       "    </tr>\n",
       "    <tr>\n",
       "      <th>3</th>\n",
       "      <td>02M303</td>\n",
       "      <td>FACING HISTORY SCHOOL, THE</td>\n",
       "      <td>76</td>\n",
       "      <td>353.0</td>\n",
       "      <td>358.0</td>\n",
       "      <td>340.0</td>\n",
       "      <td>1</td>\n",
       "      <td>0</td>\n",
       "      <td>0</td>\n",
       "    </tr>\n",
       "    <tr>\n",
       "      <th>4</th>\n",
       "      <td>02M460</td>\n",
       "      <td>WASHINGTON IRVING HIGH SCHOOL</td>\n",
       "      <td>151</td>\n",
       "      <td>373.0</td>\n",
       "      <td>387.0</td>\n",
       "      <td>360.0</td>\n",
       "      <td>2</td>\n",
       "      <td>0</td>\n",
       "      <td>1</td>\n",
       "    </tr>\n",
       "    <tr>\n",
       "      <th>...</th>\n",
       "      <td>...</td>\n",
       "      <td>...</td>\n",
       "      <td>...</td>\n",
       "      <td>...</td>\n",
       "      <td>...</td>\n",
       "      <td>...</td>\n",
       "      <td>...</td>\n",
       "      <td>...</td>\n",
       "      <td>...</td>\n",
       "    </tr>\n",
       "    <tr>\n",
       "      <th>75</th>\n",
       "      <td>25Q525</td>\n",
       "      <td>TOWNSEND HARRIS HIGH SCHOOL</td>\n",
       "      <td>278</td>\n",
       "      <td>621.0</td>\n",
       "      <td>651.0</td>\n",
       "      <td>638.0</td>\n",
       "      <td>3</td>\n",
       "      <td>5</td>\n",
       "      <td>5</td>\n",
       "    </tr>\n",
       "    <tr>\n",
       "      <th>76</th>\n",
       "      <td>14K449</td>\n",
       "      <td>BROOKLYN LATIN SCHOOL, THE</td>\n",
       "      <td>72</td>\n",
       "      <td>586.0</td>\n",
       "      <td>584.0</td>\n",
       "      <td>570.0</td>\n",
       "      <td>1</td>\n",
       "      <td>5</td>\n",
       "      <td>5</td>\n",
       "    </tr>\n",
       "    <tr>\n",
       "      <th>77</th>\n",
       "      <td>03M485</td>\n",
       "      <td>FIORELLO H. LAGUARDIA HIGH SCHOOL OF MUSIC &amp; A...</td>\n",
       "      <td>531</td>\n",
       "      <td>566.0</td>\n",
       "      <td>564.0</td>\n",
       "      <td>577.0</td>\n",
       "      <td>4</td>\n",
       "      <td>5</td>\n",
       "      <td>5</td>\n",
       "    </tr>\n",
       "    <tr>\n",
       "      <th>78</th>\n",
       "      <td>10X445</td>\n",
       "      <td>BRONX HIGH SCHOOL OF SCIENCE</td>\n",
       "      <td>731</td>\n",
       "      <td>632.0</td>\n",
       "      <td>688.0</td>\n",
       "      <td>649.0</td>\n",
       "      <td>4</td>\n",
       "      <td>5</td>\n",
       "      <td>5</td>\n",
       "    </tr>\n",
       "    <tr>\n",
       "      <th>79</th>\n",
       "      <td>01M696</td>\n",
       "      <td>BARD HIGH SCHOOL EARLY COLLEGE</td>\n",
       "      <td>130</td>\n",
       "      <td>624.0</td>\n",
       "      <td>604.0</td>\n",
       "      <td>628.0</td>\n",
       "      <td>2</td>\n",
       "      <td>5</td>\n",
       "      <td>5</td>\n",
       "    </tr>\n",
       "  </tbody>\n",
       "</table>\n",
       "<p>80 rows × 9 columns</p>\n",
       "</div>"
      ],
      "text/plain": [
       "       DBN                                        SCHOOL NAME  \\\n",
       "0   13K350        URBAN ASSEMBLY HIGH SCHOOL OF MUSIC AND ART   \n",
       "1   07X670                   HEALTH OPPORTUNITIES HIGH SCHOOL   \n",
       "2   02M620                          NORMAN THOMAS HIGH SCHOOL   \n",
       "3   02M303                         FACING HISTORY SCHOOL, THE   \n",
       "4   02M460                      WASHINGTON IRVING HIGH SCHOOL   \n",
       "..     ...                                                ...   \n",
       "75  25Q525                        TOWNSEND HARRIS HIGH SCHOOL   \n",
       "76  14K449                         BROOKLYN LATIN SCHOOL, THE   \n",
       "77  03M485  FIORELLO H. LAGUARDIA HIGH SCHOOL OF MUSIC & A...   \n",
       "78  10X445                       BRONX HIGH SCHOOL OF SCIENCE   \n",
       "79  01M696                     BARD HIGH SCHOOL EARLY COLLEGE   \n",
       "\n",
       "    Num of SAT Test Takers  SAT Critical Reading Avg. Score  \\\n",
       "0                       52                            360.0   \n",
       "1                      114                            363.0   \n",
       "2                      154                            370.0   \n",
       "3                       76                            353.0   \n",
       "4                      151                            373.0   \n",
       "..                     ...                              ...   \n",
       "75                     278                            621.0   \n",
       "76                      72                            586.0   \n",
       "77                     531                            566.0   \n",
       "78                     731                            632.0   \n",
       "79                     130                            624.0   \n",
       "\n",
       "    SAT Math Avg. Score  SAT Writing Avg. Score Testers_Stratum  \\\n",
       "0                 364.0                   356.0               1   \n",
       "1                 368.0                   364.0               2   \n",
       "2                 379.0                   359.0               2   \n",
       "3                 358.0                   340.0               1   \n",
       "4                 387.0                   360.0               2   \n",
       "..                  ...                     ...             ...   \n",
       "75                651.0                   638.0               3   \n",
       "76                584.0                   570.0               1   \n",
       "77                564.0                   577.0               4   \n",
       "78                688.0                   649.0               4   \n",
       "79                604.0                   628.0               2   \n",
       "\n",
       "   Reading_Stratum Math_Stratum  \n",
       "0                0            0  \n",
       "1                0            0  \n",
       "2                0            1  \n",
       "3                0            0  \n",
       "4                0            1  \n",
       "..             ...          ...  \n",
       "75               5            5  \n",
       "76               5            5  \n",
       "77               5            5  \n",
       "78               5            5  \n",
       "79               5            5  \n",
       "\n",
       "[80 rows x 9 columns]"
      ]
     },
     "execution_count": 18,
     "metadata": {},
     "output_type": "execute_result"
    }
   ],
   "source": [
    "while sum(nh_proportional) != n:\n",
    "    if sum(nh_proportional) < n:\n",
    "        nh_proportional[nh_proportional.index(min(nh_proportional))] += 1\n",
    "    else:\n",
    "        nh_proportional[nh_proportional.index(max(nh_proportional))] -= 1\n",
    "\n",
    "stratified_samples_prop = []\n",
    "for stratum_label in range(L):\n",
    "    stratum_data = df[df[\"Reading_Stratum\"] == stratum_label]\n",
    "    sample_size = nh_proportional[stratum_label]\n",
    "\n",
    "    if sample_size > 0:\n",
    "        sample = stratum_data.sample(n=sample_size, replace=False)\n",
    "        stratified_samples_prop.append(sample)\n",
    "stratified_sample_prop_df = pd.concat(stratified_samples_prop).reset_index(drop=True)\n",
    "\n",
    "stratified_sample_prop_df"
   ]
  },
  {
   "cell_type": "markdown",
   "id": "401f05bc-d3d3-405c-9a21-92a7595d9349",
   "metadata": {},
   "source": [
    " ## 6. Parameter Estimation and Variance"
   ]
  },
  {
   "cell_type": "markdown",
   "id": "ea7ffcc4-733d-4ac8-a9f1-6b346242093e",
   "metadata": {},
   "source": [
    "### a) Estimate your parameter of interest using an unbiased estimator\n",
    "$\\hat{\\tau_{\\text{st}}} = \\sum_{h=1}^L N_h\\bar{y}_h$\n",
    "\n",
    "$\\hat{\\mu_{\\text{st}}} = \\frac{1}{N}\\hat{\\tau_{\\text{st}}}$"
   ]
  },
  {
   "cell_type": "code",
   "execution_count": 19,
   "id": "b376b5d0-a490-4f9a-93a6-3b3111d5d76e",
   "metadata": {},
   "outputs": [
    {
     "data": {
      "text/plain": [
       "364.34"
      ]
     },
     "execution_count": 19,
     "metadata": {},
     "output_type": "execute_result"
    }
   ],
   "source": [
    "ybar_h_prop= stratified_sample_prop_df.groupby(\"Reading_Stratum\", observed=False)[\"SAT Writing Avg. Score\"].mean().tolist()\n",
    "\n",
    "tau_st_hat_prop=sum(N_h * ybar_h_prop)\n",
    "mu_st_hat_prop = tau_st_hat_prop/N\n",
    "\n",
    "round(float(mu_st_hat_prop), 2)"
   ]
  },
  {
   "cell_type": "markdown",
   "id": "b4e11a10-800d-4882-bd4f-3280d089a57f",
   "metadata": {},
   "source": [
    "### b) Estimate its variance and provide a confidence interval at the α level chosen in Report 2.\n",
    "$\\hat{\\text{var}}(\\hat{\\tau_{\\text{st}}}) = \\sum_{h=1}^L N_h(N_h - n_h)\\frac{\\sigma^2_h}{n_h}$\n",
    "\n",
    "$\\hat{\\text{var}}(\\hat{\\mu_{\\text{st}}}) = \\frac{1}{N^2}\\hat{\\text{var}}(\\hat{\\tau_{\\text{st}}})$"
   ]
  },
  {
   "cell_type": "code",
   "execution_count": 20,
   "id": "3075e649-ec9e-453c-a360-ec92e931e5cc",
   "metadata": {},
   "outputs": [
    {
     "data": {
      "text/plain": [
       "1.02"
      ]
     },
     "execution_count": 20,
     "metadata": {},
     "output_type": "execute_result"
    }
   ],
   "source": [
    "var_hat_tau_st_hat_prop = sum(N_h * (N_h - nh_proportional) * (sigma_sq_h / nh_proportional))\n",
    "var_hat_mu_st_hat_prop = (1/(N**2)) * var_hat_tau_st_hat_prop\n",
    "\n",
    "round(float(var_hat_mu_st_hat_prop), 2)"
   ]
  },
  {
   "cell_type": "markdown",
   "id": "3ff52ba7-de74-4c0a-95b9-1cab0bfcc968",
   "metadata": {},
   "source": [
    "### c) Use the Satterthwaite formula for adjusted degrees of freedom.\n",
    "$\\large a_h = \\frac{N_h(N_h - n_h)}{n_h}$\n",
    "\n",
    "$\\large d = \\frac{(\\sum_{h=1}^L a_h s^2_h)^2}{\\sum_{h=1}^L \\frac{(a_h s^2_h)^2}{n_h - 1}}$"
   ]
  },
  {
   "cell_type": "code",
   "execution_count": 21,
   "id": "d0599b19",
   "metadata": {},
   "outputs": [
    {
     "data": {
      "text/plain": [
       "60.804577631331036"
      ]
     },
     "execution_count": 21,
     "metadata": {},
     "output_type": "execute_result"
    }
   ],
   "source": [
    "s_h_squared_prop = (\n",
    "    stratified_sample_prop_df\n",
    "    .groupby(\"Reading_Stratum\", observed=False)[\"SAT Writing Avg. Score\"]\n",
    "    .var(ddof=1)\n",
    "    .tolist()\n",
    ")\n",
    "s_h_squared_prop = np.array(s_h_squared_prop)\n",
    "nh_proportional = np.array(nh_proportional)\n",
    "a_h = N_h * (N_h - nh_proportional) / nh_proportional\n",
    "d_prop = sum(a_h * s_h_squared_prop)**2 / sum((a_h * s_h_squared_prop)**2 / (nh_proportional - 1))\n",
    "float(d_prop)"
   ]
  },
  {
   "cell_type": "code",
   "execution_count": 30,
   "id": "165447f3",
   "metadata": {},
   "outputs": [
    {
     "name": "stdout",
     "output_type": "stream",
     "text": [
      "95% CI for mu with Stratified Random Sample with Proportional Allocation is: (362.32, 366.35) \n",
      "\n"
     ]
    }
   ],
   "source": [
    "from scipy.stats import t\n",
    "\n",
    "alpha = 0.05\n",
    "t_crit = t.ppf(1-(alpha/2), d_prop)\n",
    "\n",
    "SDE = t_crit*np.sqrt(var_hat_mu_st_hat_prop)\n",
    "CI_prop = mu_st_hat_prop - SDE, mu_st_hat_prop + SDE\n",
    "print(f\"95% CI for mu with Stratified Random Sample with Proportional Allocation is: ({CI_prop[0].round(2)}, {CI_prop[1].round(2)}) \\n\")"
   ]
  },
  {
   "cell_type": "markdown",
   "id": "70a622fc",
   "metadata": {},
   "source": [
    "# 7. Stratified Random Sample with Optimum Allocation\n",
    "\n",
    "$n_h = \\frac{nN_h\\sigma_h}{\\sum_{h=1}^L N_h\\sigma_h}$"
   ]
  },
  {
   "cell_type": "code",
   "execution_count": 23,
   "id": "3c4218be",
   "metadata": {},
   "outputs": [
    {
     "data": {
      "text/plain": [
       "[15, 17, 11, 4, 13, 20]"
      ]
     },
     "execution_count": 23,
     "metadata": {},
     "output_type": "execute_result"
    }
   ],
   "source": [
    "N_h = np.array(reading['Nh'])\n",
    "sigma2_h = np.array(reading['sigma_sq_h'])\n",
    "sigma_h = np.sqrt(sigma2_h)\n",
    "\n",
    "N = len(df)\n",
    "L = len(N_h)\n",
    "n = 80\n",
    "\n",
    "n_h_opt = ((n * N_h * sigma_h) / sum(N_h * sigma_h)).round()\n",
    "n_h_opt = n_h_opt.astype(int).tolist()\n",
    "n_h_opt"
   ]
  },
  {
   "cell_type": "code",
   "execution_count": 24,
   "id": "6d5537c7",
   "metadata": {},
   "outputs": [
    {
     "data": {
      "text/html": [
       "<div>\n",
       "<style scoped>\n",
       "    .dataframe tbody tr th:only-of-type {\n",
       "        vertical-align: middle;\n",
       "    }\n",
       "\n",
       "    .dataframe tbody tr th {\n",
       "        vertical-align: top;\n",
       "    }\n",
       "\n",
       "    .dataframe thead th {\n",
       "        text-align: right;\n",
       "    }\n",
       "</style>\n",
       "<table border=\"1\" class=\"dataframe\">\n",
       "  <thead>\n",
       "    <tr style=\"text-align: right;\">\n",
       "      <th></th>\n",
       "      <th>DBN</th>\n",
       "      <th>SCHOOL NAME</th>\n",
       "      <th>Num of SAT Test Takers</th>\n",
       "      <th>SAT Critical Reading Avg. Score</th>\n",
       "      <th>SAT Math Avg. Score</th>\n",
       "      <th>SAT Writing Avg. Score</th>\n",
       "      <th>Testers_Stratum</th>\n",
       "      <th>Reading_Stratum</th>\n",
       "      <th>Math_Stratum</th>\n",
       "    </tr>\n",
       "  </thead>\n",
       "  <tbody>\n",
       "    <tr>\n",
       "      <th>0</th>\n",
       "      <td>10X667</td>\n",
       "      <td>GRACE DODGE YABC</td>\n",
       "      <td>10</td>\n",
       "      <td>350.0</td>\n",
       "      <td>356.0</td>\n",
       "      <td>317.0</td>\n",
       "      <td>0</td>\n",
       "      <td>0</td>\n",
       "      <td>0</td>\n",
       "    </tr>\n",
       "    <tr>\n",
       "      <th>1</th>\n",
       "      <td>14K474</td>\n",
       "      <td>PROGRESS HIGH SCHOOL FOR PROFESSIONAL CAREERS</td>\n",
       "      <td>144</td>\n",
       "      <td>364.0</td>\n",
       "      <td>379.0</td>\n",
       "      <td>371.0</td>\n",
       "      <td>2</td>\n",
       "      <td>0</td>\n",
       "      <td>1</td>\n",
       "    </tr>\n",
       "    <tr>\n",
       "      <th>2</th>\n",
       "      <td>02M460</td>\n",
       "      <td>WASHINGTON IRVING HIGH SCHOOL</td>\n",
       "      <td>151</td>\n",
       "      <td>373.0</td>\n",
       "      <td>387.0</td>\n",
       "      <td>360.0</td>\n",
       "      <td>2</td>\n",
       "      <td>0</td>\n",
       "      <td>1</td>\n",
       "    </tr>\n",
       "    <tr>\n",
       "      <th>3</th>\n",
       "      <td>23K514</td>\n",
       "      <td>FREDERICK DOUGLASS ACADEMY VII HIGH SCHOOL</td>\n",
       "      <td>55</td>\n",
       "      <td>361.0</td>\n",
       "      <td>371.0</td>\n",
       "      <td>359.0</td>\n",
       "      <td>1</td>\n",
       "      <td>0</td>\n",
       "      <td>0</td>\n",
       "    </tr>\n",
       "    <tr>\n",
       "      <th>4</th>\n",
       "      <td>12X690</td>\n",
       "      <td>MONROE ACADEMY FOR BUSINESS/LAW</td>\n",
       "      <td>31</td>\n",
       "      <td>375.0</td>\n",
       "      <td>387.0</td>\n",
       "      <td>376.0</td>\n",
       "      <td>0</td>\n",
       "      <td>0</td>\n",
       "      <td>1</td>\n",
       "    </tr>\n",
       "    <tr>\n",
       "      <th>...</th>\n",
       "      <td>...</td>\n",
       "      <td>...</td>\n",
       "      <td>...</td>\n",
       "      <td>...</td>\n",
       "      <td>...</td>\n",
       "      <td>...</td>\n",
       "      <td>...</td>\n",
       "      <td>...</td>\n",
       "      <td>...</td>\n",
       "    </tr>\n",
       "    <tr>\n",
       "      <th>75</th>\n",
       "      <td>02M418</td>\n",
       "      <td>MILLENNIUM HIGH SCHOOL</td>\n",
       "      <td>144</td>\n",
       "      <td>528.0</td>\n",
       "      <td>553.0</td>\n",
       "      <td>533.0</td>\n",
       "      <td>2</td>\n",
       "      <td>5</td>\n",
       "      <td>5</td>\n",
       "    </tr>\n",
       "    <tr>\n",
       "      <th>76</th>\n",
       "      <td>31R605</td>\n",
       "      <td>STATEN ISLAND TECHNICAL HIGH SCHOOL</td>\n",
       "      <td>227</td>\n",
       "      <td>635.0</td>\n",
       "      <td>682.0</td>\n",
       "      <td>636.0</td>\n",
       "      <td>3</td>\n",
       "      <td>5</td>\n",
       "      <td>5</td>\n",
       "    </tr>\n",
       "    <tr>\n",
       "      <th>77</th>\n",
       "      <td>03M479</td>\n",
       "      <td>BEACON HIGH SCHOOL</td>\n",
       "      <td>261</td>\n",
       "      <td>577.0</td>\n",
       "      <td>575.0</td>\n",
       "      <td>592.0</td>\n",
       "      <td>3</td>\n",
       "      <td>5</td>\n",
       "      <td>5</td>\n",
       "    </tr>\n",
       "    <tr>\n",
       "      <th>78</th>\n",
       "      <td>22K535</td>\n",
       "      <td>LEON M. GOLDSTEIN HIGH SCHOOL FOR THE SCIENCES</td>\n",
       "      <td>259</td>\n",
       "      <td>524.0</td>\n",
       "      <td>561.0</td>\n",
       "      <td>542.0</td>\n",
       "      <td>3</td>\n",
       "      <td>5</td>\n",
       "      <td>5</td>\n",
       "    </tr>\n",
       "    <tr>\n",
       "      <th>79</th>\n",
       "      <td>02M565</td>\n",
       "      <td>URBAN ACADEMY LABORATORY HIGH SCHOOL</td>\n",
       "      <td>30</td>\n",
       "      <td>527.0</td>\n",
       "      <td>508.0</td>\n",
       "      <td>512.0</td>\n",
       "      <td>0</td>\n",
       "      <td>5</td>\n",
       "      <td>4</td>\n",
       "    </tr>\n",
       "  </tbody>\n",
       "</table>\n",
       "<p>80 rows × 9 columns</p>\n",
       "</div>"
      ],
      "text/plain": [
       "       DBN                                     SCHOOL NAME  \\\n",
       "0   10X667                                GRACE DODGE YABC   \n",
       "1   14K474   PROGRESS HIGH SCHOOL FOR PROFESSIONAL CAREERS   \n",
       "2   02M460                   WASHINGTON IRVING HIGH SCHOOL   \n",
       "3   23K514      FREDERICK DOUGLASS ACADEMY VII HIGH SCHOOL   \n",
       "4   12X690                 MONROE ACADEMY FOR BUSINESS/LAW   \n",
       "..     ...                                             ...   \n",
       "75  02M418                          MILLENNIUM HIGH SCHOOL   \n",
       "76  31R605             STATEN ISLAND TECHNICAL HIGH SCHOOL   \n",
       "77  03M479                              BEACON HIGH SCHOOL   \n",
       "78  22K535  LEON M. GOLDSTEIN HIGH SCHOOL FOR THE SCIENCES   \n",
       "79  02M565            URBAN ACADEMY LABORATORY HIGH SCHOOL   \n",
       "\n",
       "    Num of SAT Test Takers  SAT Critical Reading Avg. Score  \\\n",
       "0                       10                            350.0   \n",
       "1                      144                            364.0   \n",
       "2                      151                            373.0   \n",
       "3                       55                            361.0   \n",
       "4                       31                            375.0   \n",
       "..                     ...                              ...   \n",
       "75                     144                            528.0   \n",
       "76                     227                            635.0   \n",
       "77                     261                            577.0   \n",
       "78                     259                            524.0   \n",
       "79                      30                            527.0   \n",
       "\n",
       "    SAT Math Avg. Score  SAT Writing Avg. Score Testers_Stratum  \\\n",
       "0                 356.0                   317.0               0   \n",
       "1                 379.0                   371.0               2   \n",
       "2                 387.0                   360.0               2   \n",
       "3                 371.0                   359.0               1   \n",
       "4                 387.0                   376.0               0   \n",
       "..                  ...                     ...             ...   \n",
       "75                553.0                   533.0               2   \n",
       "76                682.0                   636.0               3   \n",
       "77                575.0                   592.0               3   \n",
       "78                561.0                   542.0               3   \n",
       "79                508.0                   512.0               0   \n",
       "\n",
       "   Reading_Stratum Math_Stratum  \n",
       "0                0            0  \n",
       "1                0            1  \n",
       "2                0            1  \n",
       "3                0            0  \n",
       "4                0            1  \n",
       "..             ...          ...  \n",
       "75               5            5  \n",
       "76               5            5  \n",
       "77               5            5  \n",
       "78               5            5  \n",
       "79               5            4  \n",
       "\n",
       "[80 rows x 9 columns]"
      ]
     },
     "execution_count": 24,
     "metadata": {},
     "output_type": "execute_result"
    }
   ],
   "source": [
    "stratified_samples_opt = []\n",
    "for strata in range(L):\n",
    "    stratum_data = df[df[\"Reading_Stratum\"] == strata]\n",
    "    n = n_h_opt[strata]\n",
    "\n",
    "    if n > 0:\n",
    "        sample = stratum_data.sample(n=n, replace=False)\n",
    "        stratified_samples_opt.append(sample)\n",
    "\n",
    "stratified_sample_opt_df = pd.concat(stratified_samples_opt).reset_index(drop=True)\n",
    "stratified_sample_opt_df"
   ]
  },
  {
   "cell_type": "markdown",
   "id": "e8131fc7",
   "metadata": {},
   "source": [
    "### 7a) Parameter Estimation and Variance"
   ]
  },
  {
   "cell_type": "markdown",
   "id": "05c3a533",
   "metadata": {},
   "source": [
    "### b) Estimate your parameter of interest using an unbiased estimator\n",
    "$\\hat{\\tau_{\\text{st}}} = \\sum_{h=1}^L N_h\\bar{y}_h$\n",
    "\n",
    "$\\hat{\\mu_{\\text{st}}} = \\frac{1}{N}\\hat{\\tau_{\\text{st}}}$"
   ]
  },
  {
   "cell_type": "code",
   "execution_count": 25,
   "id": "b3abb405",
   "metadata": {},
   "outputs": [
    {
     "data": {
      "text/plain": [
       "364.34"
      ]
     },
     "execution_count": 25,
     "metadata": {},
     "output_type": "execute_result"
    }
   ],
   "source": [
    "y_bar_h_opt = stratified_sample_opt_df.groupby(\"Reading_Stratum\", observed=False)[\"SAT Writing Avg. Score\"].mean().tolist()\n",
    "\n",
    "tau_st_hat_opt = sum(N_h * y_bar_h_opt)\n",
    "mu_st_hat_opt = tau_st_hat_opt / N\n",
    "\n",
    "round(float(mu_st_hat_prop), 2)"
   ]
  },
  {
   "cell_type": "markdown",
   "id": "b5c984be",
   "metadata": {},
   "source": [
    "### c) Estimate its variance and provide a confidence interval at the $\\alpha$ level chosen in Report 2.\n",
    "$\\hat{\\text{var}}(\\hat{\\tau_{\\text{st}}}) = \\sum_{h=1}^L N_h(N_h - n_h)\\frac{\\sigma^2_h}{n_h}$\n",
    "\n",
    "$\\hat{\\text{var}}(\\hat{\\mu_{\\text{st}}}) = \\frac{1}{N^2}\\hat{\\text{var}}(\\hat{\\tau_{\\text{st}}})$"
   ]
  },
  {
   "cell_type": "code",
   "execution_count": 26,
   "id": "81b1d9f6",
   "metadata": {},
   "outputs": [
    {
     "data": {
      "text/plain": [
       "0.65"
      ]
     },
     "execution_count": 26,
     "metadata": {},
     "output_type": "execute_result"
    }
   ],
   "source": [
    "var_hat_tau_st_hat_opt = sum(N_h * (N_h - n_h_opt) * (sigma2_h / n_h_opt))\n",
    "\n",
    "var_hat_mu_st_hat_opt = (1 / (N**2)) * var_hat_tau_st_hat_opt\n",
    "\n",
    "round(float(var_hat_mu_st_hat_opt), 2)"
   ]
  },
  {
   "cell_type": "markdown",
   "id": "a23d2af3",
   "metadata": {},
   "source": [
    "### d) Use the Satterthwaite formula for adjusted degrees of freedom\n",
    "$\\large a_h = \\frac{N_h(N_h - n_h)}{n_h}$\n",
    "\n",
    "$\\large d = \\frac{(\\sum_{h=1}^L a_h s^2_h)^2}{\\sum_{h=1}^L \\frac{(a_h s^2_h)^2}{n_h - 1}}$"
   ]
  },
  {
   "cell_type": "code",
   "execution_count": 27,
   "id": "90dbbf34",
   "metadata": {},
   "outputs": [
    {
     "data": {
      "text/plain": [
       "63.87955638584482"
      ]
     },
     "execution_count": 27,
     "metadata": {},
     "output_type": "execute_result"
    }
   ],
   "source": [
    "s2_h_opt = (\n",
    "    stratified_sample_opt_df\n",
    "    .groupby(\"Reading_Stratum\", observed=False)[\"SAT Writing Avg. Score\"]\n",
    "    .var(ddof=1)\n",
    "    .tolist()\n",
    ")\n",
    "s2_h_opt = np.array(s2_h_opt)\n",
    "n_h_opt = np.array(n_h_opt)\n",
    "\n",
    "a_h_opt = N_h * (N_h - n_h_opt) / n_h_opt\n",
    "\n",
    "d_opt = sum(a_h * s2_h_opt)**2 / sum((a_h * s2_h_opt)**2 / (n_h_opt - 1))\n",
    "float(d_opt)"
   ]
  },
  {
   "cell_type": "code",
   "execution_count": 28,
   "id": "96a8c9cf",
   "metadata": {},
   "outputs": [
    {
     "name": "stdout",
     "output_type": "stream",
     "text": [
      "95% CI for mu with Stratified Random Sample with Optimum Allocation is: (360.3, 363.53) \n",
      "\n"
     ]
    }
   ],
   "source": [
    "from scipy.stats import t\n",
    "\n",
    "alpha = 0.05\n",
    "t_crit = t.ppf(1-alpha/2, d_opt)\n",
    "\n",
    "SDE = t_crit * float(np.sqrt(var_hat_mu_st_hat_opt))\n",
    "\n",
    "CI_opt = mu_st_hat_opt - SDE, mu_st_hat_opt + SDE\n",
    "print(f\"95% CI for mu with Stratified Random Sample with Optimum Allocation is: ({CI_opt[0].round(2)}, {CI_opt[1].round(2)}) \\n\")"
   ]
  },
  {
   "cell_type": "markdown",
   "id": "6d460132",
   "metadata": {},
   "source": [
    "# 8. Best Estimator Selection"
   ]
  },
  {
   "cell_type": "code",
   "execution_count": 29,
   "id": "a870cc57",
   "metadata": {},
   "outputs": [
    {
     "name": "stdout",
     "output_type": "stream",
     "text": [
      "358.11 361.62\n",
      "362.32 366.35\n",
      "360.3 363.53\n",
      "\n",
      "Variance of mu estimate for Equal allocation: 0.76\n",
      "Variance of mu estimate for Proportional allocation: 1.015\n",
      "Variance of mu estimate for Optimal allocation: 0.652\n"
     ]
    }
   ],
   "source": [
    "print(CI[0].round(2).astype(float), CI[1].round(2).astype(float))\n",
    "print(CI_prop[0].round(2).astype(float), CI_prop[1].round(2).astype(float))\n",
    "print(CI_opt[0].round(2).astype(float), CI_opt[1].round(2).astype(float))\n",
    "print()\n",
    "print(\"Variance of mu estimate for Equal allocation:\", round(var_hat_mu_st_hat, 3))\n",
    "print(\"Variance of mu estimate for Proportional allocation:\", round(var_hat_mu_st_hat_prop, 3))\n",
    "print(\"Variance of mu estimate for Optimal allocation:\", round(var_hat_mu_st_hat_opt, 3))"
   ]
  },
  {
   "cell_type": "markdown",
   "id": "bdbf082b",
   "metadata": {},
   "source": [
    "Of the three estimators, the estimator for $\\mu$ under Stratified Random Sampling via Optimal Allocation has the lowest variance of $0.652$. Therefore it is the best Estimator of the three."
   ]
  }
 ],
 "metadata": {
  "kernelspec": {
   "display_name": "Python 3 (ipykernel)",
   "language": "python",
   "name": "python3"
  },
  "language_info": {
   "codemirror_mode": {
    "name": "ipython",
    "version": 3
   },
   "file_extension": ".py",
   "mimetype": "text/x-python",
   "name": "python",
   "nbconvert_exporter": "python",
   "pygments_lexer": "ipython3",
   "version": "3.10.12"
  }
 },
 "nbformat": 4,
 "nbformat_minor": 5
}
