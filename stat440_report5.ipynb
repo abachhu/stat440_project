{
 "cells": [
  {
   "cell_type": "code",
   "execution_count": 1,
   "id": "bae85931-8b41-41fa-93aa-f0637926e75b",
   "metadata": {},
   "outputs": [
    {
     "name": "stdout",
     "output_type": "stream",
     "text": [
      "<class 'pandas.core.frame.DataFrame'>\n",
      "RangeIndex: 478 entries, 0 to 477\n",
      "Data columns (total 6 columns):\n",
      " #   Column                           Non-Null Count  Dtype \n",
      "---  ------                           --------------  ----- \n",
      " 0   DBN                              478 non-null    object\n",
      " 1   SCHOOL NAME                      478 non-null    object\n",
      " 2   Num of SAT Test Takers           478 non-null    object\n",
      " 3   SAT Critical Reading Avg. Score  478 non-null    object\n",
      " 4   SAT Math Avg. Score              478 non-null    object\n",
      " 5   SAT Writing Avg. Score           478 non-null    object\n",
      "dtypes: object(6)\n",
      "memory usage: 22.5+ KB\n",
      "None\n",
      "\n",
      "<class 'pandas.core.frame.DataFrame'>\n",
      "Index: 421 entries, 0 to 477\n",
      "Data columns (total 6 columns):\n",
      " #   Column                           Non-Null Count  Dtype  \n",
      "---  ------                           --------------  -----  \n",
      " 0   DBN                              421 non-null    object \n",
      " 1   SCHOOL NAME                      421 non-null    object \n",
      " 2   Num of SAT Test Takers           421 non-null    object \n",
      " 3   SAT Critical Reading Avg. Score  421 non-null    float64\n",
      " 4   SAT Math Avg. Score              421 non-null    float64\n",
      " 5   SAT Writing Avg. Score           421 non-null    float64\n",
      "dtypes: float64(3), object(3)\n",
      "memory usage: 23.0+ KB\n",
      "None\n",
      "\n",
      "The mu is: 393.9857482185273\n",
      "The tao is: 165868.0\n",
      "The sigma^2 is: 3429.9095356040657\n",
      "\n"
     ]
    }
   ],
   "source": [
    "import numpy as np\n",
    "import pandas as pd\n",
    "import matplotlib.pyplot as plt\n",
    "import seaborn as sns\n",
    "\n",
    "#  read the dataset\n",
    "df = pd.read_csv(\"2012-sat-results.csv\")\n",
    "\n",
    "print(df.info())\n",
    "print(\"\")\n",
    "\n",
    "# convert all values to numeric\n",
    "df[\"SAT Critical Reading Avg. Score\"] = pd.to_numeric(df[\"SAT Critical Reading Avg. Score\"], errors=\"coerce\")\n",
    "df[\"SAT Math Avg. Score\"] = pd.to_numeric(df[\"SAT Math Avg. Score\"], errors=\"coerce\")\n",
    "df[\"SAT Writing Avg. Score\"] = pd.to_numeric(df[\"SAT Writing Avg. Score\"], errors=\"coerce\")\n",
    "\n",
    "# Drop rows with NaN values\n",
    "df = df.dropna(subset=[\"SAT Critical Reading Avg. Score\", \"SAT Math Avg. Score\", \"SAT Writing Avg. Score\"])\n",
    "\n",
    "print(df.info())\n",
    "print(\"\")\n",
    "\n",
    "# population params\n",
    "mu = df[\"SAT Writing Avg. Score\"].mean()\n",
    "tao = df[\"SAT Writing Avg. Score\"].sum()\n",
    "sigmasq = df[\"SAT Writing Avg. Score\"].var(ddof=0)\n",
    "\n",
    "print(f\"The mu is: {mu}\")\n",
    "print(f\"The tao is: {tao}\")\n",
    "print(f\"The sigma^2 is: {sigmasq}\")\n",
    "\n",
    "print(\"\")"
   ]
  },
  {
   "cell_type": "code",
   "execution_count": 2,
   "id": "907610f0-6841-4ceb-964f-5c33ea43cb73",
   "metadata": {},
   "outputs": [
    {
     "data": {
      "text/html": [
       "<div>\n",
       "<style scoped>\n",
       "    .dataframe tbody tr th:only-of-type {\n",
       "        vertical-align: middle;\n",
       "    }\n",
       "\n",
       "    .dataframe tbody tr th {\n",
       "        vertical-align: top;\n",
       "    }\n",
       "\n",
       "    .dataframe thead th {\n",
       "        text-align: right;\n",
       "    }\n",
       "</style>\n",
       "<table border=\"1\" class=\"dataframe\">\n",
       "  <thead>\n",
       "    <tr style=\"text-align: right;\">\n",
       "      <th></th>\n",
       "      <th>DBN</th>\n",
       "      <th>SCHOOL NAME</th>\n",
       "      <th>Num of SAT Test Takers</th>\n",
       "      <th>SAT Critical Reading Avg. Score</th>\n",
       "      <th>SAT Math Avg. Score</th>\n",
       "      <th>SAT Writing Avg. Score</th>\n",
       "    </tr>\n",
       "  </thead>\n",
       "  <tbody>\n",
       "    <tr>\n",
       "      <th>0</th>\n",
       "      <td>01M292</td>\n",
       "      <td>HENRY STREET SCHOOL FOR INTERNATIONAL STUDIES</td>\n",
       "      <td>29</td>\n",
       "      <td>355.0</td>\n",
       "      <td>404.0</td>\n",
       "      <td>363.0</td>\n",
       "    </tr>\n",
       "    <tr>\n",
       "      <th>1</th>\n",
       "      <td>01M448</td>\n",
       "      <td>UNIVERSITY NEIGHBORHOOD HIGH SCHOOL</td>\n",
       "      <td>91</td>\n",
       "      <td>383.0</td>\n",
       "      <td>423.0</td>\n",
       "      <td>366.0</td>\n",
       "    </tr>\n",
       "    <tr>\n",
       "      <th>2</th>\n",
       "      <td>01M450</td>\n",
       "      <td>EAST SIDE COMMUNITY SCHOOL</td>\n",
       "      <td>70</td>\n",
       "      <td>377.0</td>\n",
       "      <td>402.0</td>\n",
       "      <td>370.0</td>\n",
       "    </tr>\n",
       "    <tr>\n",
       "      <th>3</th>\n",
       "      <td>01M458</td>\n",
       "      <td>FORSYTH SATELLITE ACADEMY</td>\n",
       "      <td>7</td>\n",
       "      <td>414.0</td>\n",
       "      <td>401.0</td>\n",
       "      <td>359.0</td>\n",
       "    </tr>\n",
       "    <tr>\n",
       "      <th>4</th>\n",
       "      <td>01M509</td>\n",
       "      <td>MARTA VALLE HIGH SCHOOL</td>\n",
       "      <td>44</td>\n",
       "      <td>390.0</td>\n",
       "      <td>433.0</td>\n",
       "      <td>384.0</td>\n",
       "    </tr>\n",
       "  </tbody>\n",
       "</table>\n",
       "</div>"
      ],
      "text/plain": [
       "      DBN                                    SCHOOL NAME  \\\n",
       "0  01M292  HENRY STREET SCHOOL FOR INTERNATIONAL STUDIES   \n",
       "1  01M448            UNIVERSITY NEIGHBORHOOD HIGH SCHOOL   \n",
       "2  01M450                     EAST SIDE COMMUNITY SCHOOL   \n",
       "3  01M458                      FORSYTH SATELLITE ACADEMY   \n",
       "4  01M509                        MARTA VALLE HIGH SCHOOL   \n",
       "\n",
       "  Num of SAT Test Takers  SAT Critical Reading Avg. Score  \\\n",
       "0                     29                            355.0   \n",
       "1                     91                            383.0   \n",
       "2                     70                            377.0   \n",
       "3                      7                            414.0   \n",
       "4                     44                            390.0   \n",
       "\n",
       "   SAT Math Avg. Score  SAT Writing Avg. Score  \n",
       "0                404.0                   363.0  \n",
       "1                423.0                   366.0  \n",
       "2                402.0                   370.0  \n",
       "3                401.0                   359.0  \n",
       "4                433.0                   384.0  "
      ]
     },
     "execution_count": 2,
     "metadata": {},
     "output_type": "execute_result"
    }
   ],
   "source": [
    "df.head()"
   ]
  },
  {
   "cell_type": "markdown",
   "id": "c65337f7-e6cf-43d1-bc25-807e527a1aad",
   "metadata": {},
   "source": [
    "# 1. Divide your population into strata"
   ]
  },
  {
   "cell_type": "code",
   "execution_count": 4,
   "id": "ff9cad6f-62ab-426d-b94a-f1c52290eed4",
   "metadata": {},
   "outputs": [
    {
     "name": "stderr",
     "output_type": "stream",
     "text": [
      "/var/folders/xx/kq65n2bs46zfct40mfzqshzm0000gp/T/ipykernel_8761/3740391049.py:12: FutureWarning: The default of observed=False is deprecated and will be changed to True in a future version of pandas. Pass observed=False to retain current behavior or observed=True to adopt the future default and silence this warning.\n",
      "  \"Nh\": df.groupby(\"Testers_Stratum\").size().tolist(),\n",
      "/var/folders/xx/kq65n2bs46zfct40mfzqshzm0000gp/T/ipykernel_8761/3740391049.py:13: FutureWarning: The default of observed=False is deprecated and will be changed to True in a future version of pandas. Pass observed=False to retain current behavior or observed=True to adopt the future default and silence this warning.\n",
      "  \"sigma_sq_h\": df.groupby(\"Testers_Stratum\")[\"Num of SAT Test Takers\"].var(ddof=0).tolist()\n"
     ]
    },
    {
     "data": {
      "text/plain": [
       "{'Nh': [148, 173, 50, 26, 24],\n",
       " 'sigma_sq_h': [191.754930606282,\n",
       "  166.8447325336631,\n",
       "  688.8196000000003,\n",
       "  3789.940828402369,\n",
       "  46378.74305555556]}"
      ]
     },
     "execution_count": 4,
     "metadata": {},
     "output_type": "execute_result"
    }
   ],
   "source": [
    "# Creating Strata based on Number of SAT Test Takers per school\n",
    "\n",
    "df[\"Num of SAT Test Takers\"] = pd.to_numeric(df[\"Num of SAT Test Takers\"], errors='coerce')\n",
    "\n",
    "# strata ranges\n",
    "bins = [0, 50, 100, 200, 400, df[\"Num of SAT Test Takers\"].max()]\n",
    "labels = [0, 1, 2, 3, 4]\n",
    "\n",
    "df[\"Testers_Stratum\"] = pd.cut(df[\"Num of SAT Test Takers\"], bins=bins, labels=labels, include_lowest=True)\n",
    "\n",
    "testers = {\n",
    "    \"Nh\": df.groupby(\"Testers_Stratum\").size().tolist(),\n",
    "    \"sigma_sq_h\": df.groupby(\"Testers_Stratum\")[\"Num of SAT Test Takers\"].var(ddof=0).tolist()\n",
    "}\n",
    "testers"
   ]
  },
  {
   "cell_type": "code",
   "execution_count": 5,
   "id": "007ab1b9-7448-4fd8-b7fd-4748215bb4f0",
   "metadata": {},
   "outputs": [
    {
     "name": "stderr",
     "output_type": "stream",
     "text": [
      "/var/folders/xx/kq65n2bs46zfct40mfzqshzm0000gp/T/ipykernel_8761/2721831635.py:11: FutureWarning: The default of observed=False is deprecated and will be changed to True in a future version of pandas. Pass observed=False to retain current behavior or observed=True to adopt the future default and silence this warning.\n",
      "  \"Nh\": df.groupby(\"Reading_Stratum\").size().tolist(),\n",
      "/var/folders/xx/kq65n2bs46zfct40mfzqshzm0000gp/T/ipykernel_8761/2721831635.py:12: FutureWarning: The default of observed=False is deprecated and will be changed to True in a future version of pandas. Pass observed=False to retain current behavior or observed=True to adopt the future default and silence this warning.\n",
      "  \"sigma_sq_h\": df.groupby(\"Reading_Stratum\")[\"SAT Critical Reading Avg. Score\"].var(ddof=0).tolist()\n"
     ]
    },
    {
     "data": {
      "text/plain": [
       "{'Nh': [102, 116, 75, 31, 36, 21],\n",
       " 'sigma_sq_h': [49.47260668973475,\n",
       "  53.543029131985755,\n",
       "  51.17582222222231,\n",
       "  33.33402705515095,\n",
       "  290.65663580246917,\n",
       "  2211.9319727891143]}"
      ]
     },
     "execution_count": 5,
     "metadata": {},
     "output_type": "execute_result"
    }
   ],
   "source": [
    "# Creating Strata based on SAT Critical Reading Avg. Score\n",
    "\n",
    "# Intervals for stratum and labels for the intervals\n",
    "bins = [350, 375, 400, 425, 450, 515, df[\"SAT Critical Reading Avg. Score\"].max()]\n",
    "labels = [0, 1, 2, 3, 4, 5]\n",
    "\n",
    "df[\"Reading_Stratum\"] = pd.cut(df[\"SAT Critical Reading Avg. Score\"], bins=bins, labels=labels, include_lowest=True)\n",
    "\n",
    "# Grouping by stratum, and calculating variances for each stratum\n",
    "reading = {\n",
    "    \"Nh\": df.groupby(\"Reading_Stratum\").size().tolist(),\n",
    "    \"sigma_sq_h\": df.groupby(\"Reading_Stratum\")[\"SAT Critical Reading Avg. Score\"].var(ddof=0).tolist()\n",
    "}\n",
    "reading"
   ]
  },
  {
   "cell_type": "code",
   "execution_count": 6,
   "id": "79d39712-b4e4-4525-946d-afaace312b5c",
   "metadata": {},
   "outputs": [
    {
     "name": "stderr",
     "output_type": "stream",
     "text": [
      "/var/folders/xx/kq65n2bs46zfct40mfzqshzm0000gp/T/ipykernel_8761/2098692543.py:11: FutureWarning: The default of observed=False is deprecated and will be changed to True in a future version of pandas. Pass observed=False to retain current behavior or observed=True to adopt the future default and silence this warning.\n",
      "  \"Nh\": df.groupby(\"Math_Stratum\").size().tolist(),\n",
      "/var/folders/xx/kq65n2bs46zfct40mfzqshzm0000gp/T/ipykernel_8761/2098692543.py:12: FutureWarning: The default of observed=False is deprecated and will be changed to True in a future version of pandas. Pass observed=False to retain current behavior or observed=True to adopt the future default and silence this warning.\n",
      "  \"sigma_sq_h\": df.groupby(\"Math_Stratum\")[\"SAT Math Avg. Score\"].var(ddof=0).tolist()\n"
     ]
    },
    {
     "data": {
      "text/plain": [
       "{'Nh': [96, 109, 65, 43, 52, 30],\n",
       " 'sigma_sq_h': [45.99728732638883,\n",
       "  52.81440956148471,\n",
       "  52.962366863905295,\n",
       "  51.59221200648994,\n",
       "  280.4715236686394,\n",
       "  3212.0766666666673]}"
      ]
     },
     "execution_count": 6,
     "metadata": {},
     "output_type": "execute_result"
    }
   ],
   "source": [
    "# Creating Strata based on SAT Math Avg. Score\n",
    "\n",
    "# Intervals for stratum and labels for the intervals\n",
    "bins = [350, 375, 400, 425, 450, 515, df[\"SAT Math Avg. Score\"].max()]\n",
    "labels = [0, 1, 2, 3, 4, 5]\n",
    "\n",
    "df[\"Math_Stratum\"] = pd.cut(df[\"SAT Math Avg. Score\"], bins=bins, labels=labels, include_lowest=True)\n",
    "\n",
    "# Grouping by stratum, and calculating variances for each stratum\n",
    "math = {\n",
    "    \"Nh\": df.groupby(\"Math_Stratum\").size().tolist(),\n",
    "    \"sigma_sq_h\": df.groupby(\"Math_Stratum\")[\"SAT Math Avg. Score\"].var(ddof=0).tolist()\n",
    "}\n",
    "math"
   ]
  },
  {
   "cell_type": "markdown",
   "id": "5468a119-2c14-42d6-ab5f-40c3109a209a",
   "metadata": {},
   "source": [
    "# 2. Evaluate Population Stratification"
   ]
  },
  {
   "cell_type": "code",
   "execution_count": 8,
   "id": "f8a08e5e-8374-47c1-9af6-361169b3ee03",
   "metadata": {},
   "outputs": [
    {
     "data": {
      "text/plain": [
       "188464.9647709569"
      ]
     },
     "execution_count": 8,
     "metadata": {},
     "output_type": "execute_result"
    }
   ],
   "source": [
    "sigma_sq = df[\"SAT Writing Avg. Score\"].var(ddof=0)\n",
    "N = len(df)\n",
    "n= 80\n",
    "\n",
    "Nh = np.array(testers[\"Nh\"])\n",
    "sigma_sq_h = np.array(testers[\"sigma_sq_h\"])\n",
    "\n",
    "delta_testers = (N - 1) * sigma_sq - np.sum((Nh - 1) * sigma_sq_h)\n",
    "delta_testers"
   ]
  },
  {
   "cell_type": "code",
   "execution_count": 9,
   "id": "fca73f30-3e54-41cc-9119-e9f61e99df2c",
   "metadata": {},
   "outputs": [
    {
     "data": {
      "text/plain": [
       "1370209.1699628984"
      ]
     },
     "execution_count": 9,
     "metadata": {},
     "output_type": "execute_result"
    }
   ],
   "source": [
    "sigma_sq = df[\"SAT Writing Avg. Score\"].var(ddof=0)\n",
    "N = len(df)\n",
    "n= 80\n",
    "\n",
    "Nh = np.array(reading[\"Nh\"])\n",
    "sigma_sq_h = np.array(reading[\"sigma_sq_h\"])\n",
    "\n",
    "delta_reading = (N - 1) * sigma_sq - np.sum((Nh - 1) * sigma_sq_h)\n",
    "delta_reading"
   ]
  },
  {
   "cell_type": "code",
   "execution_count": 10,
   "id": "ed8ba7ad-461f-44c4-bde6-320a5a7714d1",
   "metadata": {},
   "outputs": [
    {
     "data": {
      "text/plain": [
       "1317477.5710010638"
      ]
     },
     "execution_count": 10,
     "metadata": {},
     "output_type": "execute_result"
    }
   ],
   "source": [
    "sigma_sq = df[\"SAT Writing Avg. Score\"].var(ddof=0)\n",
    "N = len(df)\n",
    "n= 80\n",
    "\n",
    "Nh = np.array(math[\"Nh\"])\n",
    "sigma_sq_h = np.array(math[\"sigma_sq_h\"])\n",
    "\n",
    "delta_math = (N - 1) * sigma_sq - np.sum((Nh - 1) * sigma_sq_h)\n",
    "delta_math"
   ]
  },
  {
   "cell_type": "code",
   "execution_count": 11,
   "id": "2f826516-ffde-4884-9e34-ef0ab21e983e",
   "metadata": {},
   "outputs": [
    {
     "name": "stdout",
     "output_type": "stream",
     "text": [
      "Largest delta 1370209.1699628984\n"
     ]
    }
   ],
   "source": [
    "max_delta =  max( max(delta_math, delta_reading), delta_testers )\n",
    "print(f\"Largest delta {max_delta}\")"
   ]
  },
  {
   "cell_type": "markdown",
   "id": "309d3c57-e14a-4cf3-8930-2a6c448047fd",
   "metadata": {},
   "source": [
    "#### Use SAT Critical Reading Avg. Score strata from here on"
   ]
  },
  {
   "cell_type": "code",
   "execution_count": null,
   "id": "40ad4c7d-5764-412d-b443-5c25b0b764d1",
   "metadata": {},
   "outputs": [],
   "source": []
  }
 ],
 "metadata": {
  "kernelspec": {
   "display_name": "Python 3 (ipykernel)",
   "language": "python",
   "name": "python3"
  },
  "language_info": {
   "codemirror_mode": {
    "name": "ipython",
    "version": 3
   },
   "file_extension": ".py",
   "mimetype": "text/x-python",
   "name": "python",
   "nbconvert_exporter": "python",
   "pygments_lexer": "ipython3",
   "version": "3.12.2"
  }
 },
 "nbformat": 4,
 "nbformat_minor": 5
}
