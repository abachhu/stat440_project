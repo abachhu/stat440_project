{
 "cells": [
  {
   "cell_type": "code",
   "execution_count": 23,
   "id": "bae85931-8b41-41fa-93aa-f0637926e75b",
   "metadata": {},
   "outputs": [
    {
     "name": "stdout",
     "output_type": "stream",
     "text": [
      "<class 'pandas.core.frame.DataFrame'>\n",
      "RangeIndex: 478 entries, 0 to 477\n",
      "Data columns (total 6 columns):\n",
      " #   Column                           Non-Null Count  Dtype \n",
      "---  ------                           --------------  ----- \n",
      " 0   DBN                              478 non-null    object\n",
      " 1   SCHOOL NAME                      478 non-null    object\n",
      " 2   Num of SAT Test Takers           478 non-null    object\n",
      " 3   SAT Critical Reading Avg. Score  478 non-null    object\n",
      " 4   SAT Math Avg. Score              478 non-null    object\n",
      " 5   SAT Writing Avg. Score           478 non-null    object\n",
      "dtypes: object(6)\n",
      "memory usage: 22.5+ KB\n",
      "None\n",
      "\n",
      "<class 'pandas.core.frame.DataFrame'>\n",
      "Index: 421 entries, 0 to 477\n",
      "Data columns (total 6 columns):\n",
      " #   Column                           Non-Null Count  Dtype  \n",
      "---  ------                           --------------  -----  \n",
      " 0   DBN                              421 non-null    object \n",
      " 1   SCHOOL NAME                      421 non-null    object \n",
      " 2   Num of SAT Test Takers           421 non-null    object \n",
      " 3   SAT Critical Reading Avg. Score  421 non-null    float64\n",
      " 4   SAT Math Avg. Score              421 non-null    float64\n",
      " 5   SAT Writing Avg. Score           421 non-null    float64\n",
      "dtypes: float64(3), object(3)\n",
      "memory usage: 23.0+ KB\n",
      "None\n",
      "\n",
      "The mu is: 393.9857482185273\n",
      "The tao is: 165868.0\n",
      "The sigma^2 is: 3429.9095356040643\n",
      "\n"
     ]
    }
   ],
   "source": [
    "import numpy as np\n",
    "import pandas as pd\n",
    "import matplotlib.pyplot as plt\n",
    "import seaborn as sns\n",
    "\n",
    "#  read the dataset\n",
    "df = pd.read_csv(\"2012-sat-results.csv\")\n",
    "\n",
    "print(df.info())\n",
    "print(\"\")\n",
    "\n",
    "# convert all values to numeric\n",
    "df[\"SAT Critical Reading Avg. Score\"] = pd.to_numeric(df[\"SAT Critical Reading Avg. Score\"], errors=\"coerce\")\n",
    "df[\"SAT Math Avg. Score\"] = pd.to_numeric(df[\"SAT Math Avg. Score\"], errors=\"coerce\")\n",
    "df[\"SAT Writing Avg. Score\"] = pd.to_numeric(df[\"SAT Writing Avg. Score\"], errors=\"coerce\")\n",
    "\n",
    "# Drop rows with NaN values\n",
    "df = df.dropna(subset=[\"SAT Critical Reading Avg. Score\", \"SAT Math Avg. Score\", \"SAT Writing Avg. Score\"])\n",
    "\n",
    "print(df.info())\n",
    "print(\"\")\n",
    "\n",
    "# population params\n",
    "mu = df[\"SAT Writing Avg. Score\"].mean()\n",
    "tao = df[\"SAT Writing Avg. Score\"].sum()\n",
    "sigmasq = df[\"SAT Writing Avg. Score\"].var(ddof=0)\n",
    "\n",
    "print(f\"The mu is: {mu}\")\n",
    "print(f\"The tao is: {tao}\")\n",
    "print(f\"The sigma^2 is: {sigmasq}\")\n",
    "\n",
    "print(\"\")"
   ]
  },
  {
   "cell_type": "code",
   "execution_count": 24,
   "id": "907610f0-6841-4ceb-964f-5c33ea43cb73",
   "metadata": {},
   "outputs": [
    {
     "data": {
      "text/html": [
       "<div>\n",
       "<style scoped>\n",
       "    .dataframe tbody tr th:only-of-type {\n",
       "        vertical-align: middle;\n",
       "    }\n",
       "\n",
       "    .dataframe tbody tr th {\n",
       "        vertical-align: top;\n",
       "    }\n",
       "\n",
       "    .dataframe thead th {\n",
       "        text-align: right;\n",
       "    }\n",
       "</style>\n",
       "<table border=\"1\" class=\"dataframe\">\n",
       "  <thead>\n",
       "    <tr style=\"text-align: right;\">\n",
       "      <th></th>\n",
       "      <th>DBN</th>\n",
       "      <th>SCHOOL NAME</th>\n",
       "      <th>Num of SAT Test Takers</th>\n",
       "      <th>SAT Critical Reading Avg. Score</th>\n",
       "      <th>SAT Math Avg. Score</th>\n",
       "      <th>SAT Writing Avg. Score</th>\n",
       "    </tr>\n",
       "  </thead>\n",
       "  <tbody>\n",
       "    <tr>\n",
       "      <th>0</th>\n",
       "      <td>01M292</td>\n",
       "      <td>HENRY STREET SCHOOL FOR INTERNATIONAL STUDIES</td>\n",
       "      <td>29</td>\n",
       "      <td>355.0</td>\n",
       "      <td>404.0</td>\n",
       "      <td>363.0</td>\n",
       "    </tr>\n",
       "    <tr>\n",
       "      <th>1</th>\n",
       "      <td>01M448</td>\n",
       "      <td>UNIVERSITY NEIGHBORHOOD HIGH SCHOOL</td>\n",
       "      <td>91</td>\n",
       "      <td>383.0</td>\n",
       "      <td>423.0</td>\n",
       "      <td>366.0</td>\n",
       "    </tr>\n",
       "    <tr>\n",
       "      <th>2</th>\n",
       "      <td>01M450</td>\n",
       "      <td>EAST SIDE COMMUNITY SCHOOL</td>\n",
       "      <td>70</td>\n",
       "      <td>377.0</td>\n",
       "      <td>402.0</td>\n",
       "      <td>370.0</td>\n",
       "    </tr>\n",
       "    <tr>\n",
       "      <th>3</th>\n",
       "      <td>01M458</td>\n",
       "      <td>FORSYTH SATELLITE ACADEMY</td>\n",
       "      <td>7</td>\n",
       "      <td>414.0</td>\n",
       "      <td>401.0</td>\n",
       "      <td>359.0</td>\n",
       "    </tr>\n",
       "    <tr>\n",
       "      <th>4</th>\n",
       "      <td>01M509</td>\n",
       "      <td>MARTA VALLE HIGH SCHOOL</td>\n",
       "      <td>44</td>\n",
       "      <td>390.0</td>\n",
       "      <td>433.0</td>\n",
       "      <td>384.0</td>\n",
       "    </tr>\n",
       "  </tbody>\n",
       "</table>\n",
       "</div>"
      ],
      "text/plain": [
       "      DBN                                    SCHOOL NAME  \\\n",
       "0  01M292  HENRY STREET SCHOOL FOR INTERNATIONAL STUDIES   \n",
       "1  01M448            UNIVERSITY NEIGHBORHOOD HIGH SCHOOL   \n",
       "2  01M450                     EAST SIDE COMMUNITY SCHOOL   \n",
       "3  01M458                      FORSYTH SATELLITE ACADEMY   \n",
       "4  01M509                        MARTA VALLE HIGH SCHOOL   \n",
       "\n",
       "  Num of SAT Test Takers  SAT Critical Reading Avg. Score  \\\n",
       "0                     29                            355.0   \n",
       "1                     91                            383.0   \n",
       "2                     70                            377.0   \n",
       "3                      7                            414.0   \n",
       "4                     44                            390.0   \n",
       "\n",
       "   SAT Math Avg. Score  SAT Writing Avg. Score  \n",
       "0                404.0                   363.0  \n",
       "1                423.0                   366.0  \n",
       "2                402.0                   370.0  \n",
       "3                401.0                   359.0  \n",
       "4                433.0                   384.0  "
      ]
     },
     "execution_count": 24,
     "metadata": {},
     "output_type": "execute_result"
    }
   ],
   "source": [
    "df.head()"
   ]
  },
  {
   "attachments": {},
   "cell_type": "markdown",
   "id": "c65337f7-e6cf-43d1-bc25-807e527a1aad",
   "metadata": {},
   "source": [
    "# 1. Divide your population into strata"
   ]
  },
  {
   "cell_type": "code",
   "execution_count": 25,
   "id": "ff9cad6f-62ab-426d-b94a-f1c52290eed4",
   "metadata": {},
   "outputs": [
    {
     "data": {
      "text/plain": [
       "{'Nh': [148, 173, 50, 26, 24],\n",
       " 'sigma_sq_h': [191.754930606282,\n",
       "  166.8447325336631,\n",
       "  688.8196000000003,\n",
       "  3789.940828402369,\n",
       "  46378.74305555556]}"
      ]
     },
     "execution_count": 25,
     "metadata": {},
     "output_type": "execute_result"
    }
   ],
   "source": [
    "# Creating Strata based on Number of SAT Test Takers per school\n",
    "\n",
    "df[\"Num of SAT Test Takers\"] = pd.to_numeric(df[\"Num of SAT Test Takers\"], errors='coerce')\n",
    "\n",
    "# strata ranges\n",
    "bins = [0, 50, 100, 200, 400, df[\"Num of SAT Test Takers\"].max()]\n",
    "labels = [0, 1, 2, 3, 4]\n",
    "\n",
    "df[\"Testers_Stratum\"] = pd.cut(df[\"Num of SAT Test Takers\"], bins=bins, labels=labels, include_lowest=True)\n",
    "\n",
    "testers = {\n",
    "    \"Nh\": df.groupby(\"Testers_Stratum\").size().tolist(),\n",
    "    \"sigma_sq_h\": df.groupby(\"Testers_Stratum\")[\"Num of SAT Test Takers\"].var(ddof=0).tolist()\n",
    "}\n",
    "testers"
   ]
  },
  {
   "cell_type": "code",
   "execution_count": 26,
   "id": "007ab1b9-7448-4fd8-b7fd-4748215bb4f0",
   "metadata": {},
   "outputs": [
    {
     "data": {
      "text/plain": [
       "{'Nh': [102, 116, 75, 31, 36, 21],\n",
       " 'sigma_sq_h': [49.47260668973475,\n",
       "  53.543029131985755,\n",
       "  51.17582222222231,\n",
       "  33.33402705515095,\n",
       "  290.65663580246917,\n",
       "  2211.9319727891143]}"
      ]
     },
     "execution_count": 26,
     "metadata": {},
     "output_type": "execute_result"
    }
   ],
   "source": [
    "# Creating Strata based on SAT Critical Reading Avg. Score\n",
    "\n",
    "# Intervals for stratum and labels for the intervals\n",
    "bins = [350, 375, 400, 425, 450, 515, df[\"SAT Critical Reading Avg. Score\"].max()]\n",
    "labels = [0, 1, 2, 3, 4, 5]\n",
    "\n",
    "df[\"Reading_Stratum\"] = pd.cut(df[\"SAT Critical Reading Avg. Score\"], bins=bins, labels=labels, include_lowest=True)\n",
    "\n",
    "# Grouping by stratum, and calculating variances for each stratum\n",
    "reading = {\n",
    "    \"Nh\": df.groupby(\"Reading_Stratum\").size().tolist(),\n",
    "    \"sigma_sq_h\": df.groupby(\"Reading_Stratum\")[\"SAT Critical Reading Avg. Score\"].var(ddof=0).tolist()\n",
    "}\n",
    "reading"
   ]
  },
  {
   "cell_type": "code",
   "execution_count": 27,
   "id": "79d39712-b4e4-4525-946d-afaace312b5c",
   "metadata": {},
   "outputs": [
    {
     "data": {
      "text/plain": [
       "{'Nh': [96, 109, 65, 43, 52, 30],\n",
       " 'sigma_sq_h': [45.99728732638883,\n",
       "  52.81440956148471,\n",
       "  52.962366863905295,\n",
       "  51.59221200648994,\n",
       "  280.4715236686394,\n",
       "  3212.0766666666673]}"
      ]
     },
     "execution_count": 27,
     "metadata": {},
     "output_type": "execute_result"
    }
   ],
   "source": [
    "# Creating Strata based on SAT Math Avg. Score\n",
    "\n",
    "# Intervals for stratum and labels for the intervals\n",
    "bins = [350, 375, 400, 425, 450, 515, df[\"SAT Math Avg. Score\"].max()]\n",
    "labels = [0, 1, 2, 3, 4, 5]\n",
    "\n",
    "df[\"Math_Stratum\"] = pd.cut(df[\"SAT Math Avg. Score\"], bins=bins, labels=labels, include_lowest=True)\n",
    "\n",
    "# Grouping by stratum, and calculating variances for each stratum\n",
    "math = {\n",
    "    \"Nh\": df.groupby(\"Math_Stratum\").size().tolist(),\n",
    "    \"sigma_sq_h\": df.groupby(\"Math_Stratum\")[\"SAT Math Avg. Score\"].var(ddof=0).tolist()\n",
    "}\n",
    "math"
   ]
  },
  {
   "attachments": {},
   "cell_type": "markdown",
   "id": "5468a119-2c14-42d6-ab5f-40c3109a209a",
   "metadata": {},
   "source": [
    "# 2. Evaluate Population Stratification"
   ]
  },
  {
   "cell_type": "code",
   "execution_count": 28,
   "id": "f8a08e5e-8374-47c1-9af6-361169b3ee03",
   "metadata": {},
   "outputs": [
    {
     "data": {
      "text/plain": [
       "188464.96477095643"
      ]
     },
     "execution_count": 28,
     "metadata": {},
     "output_type": "execute_result"
    }
   ],
   "source": [
    "sigma_sq = df[\"SAT Writing Avg. Score\"].var(ddof=0)\n",
    "N = len(df)\n",
    "n= 80\n",
    "\n",
    "Nh = np.array(testers[\"Nh\"])\n",
    "sigma_sq_h = np.array(testers[\"sigma_sq_h\"])\n",
    "\n",
    "delta_testers = (N - 1) * sigma_sq - np.sum((Nh - 1) * sigma_sq_h)\n",
    "delta_testers"
   ]
  },
  {
   "cell_type": "code",
   "execution_count": 29,
   "id": "fca73f30-3e54-41cc-9119-e9f61e99df2c",
   "metadata": {},
   "outputs": [
    {
     "data": {
      "text/plain": [
       "1370209.169962898"
      ]
     },
     "execution_count": 29,
     "metadata": {},
     "output_type": "execute_result"
    }
   ],
   "source": [
    "sigma_sq = df[\"SAT Writing Avg. Score\"].var(ddof=0)\n",
    "N = len(df)\n",
    "n= 80\n",
    "\n",
    "Nh = np.array(reading[\"Nh\"])\n",
    "sigma_sq_h = np.array(reading[\"sigma_sq_h\"])\n",
    "\n",
    "delta_reading = (N - 1) * sigma_sq - np.sum((Nh - 1) * sigma_sq_h)\n",
    "delta_reading"
   ]
  },
  {
   "cell_type": "code",
   "execution_count": 30,
   "id": "ed8ba7ad-461f-44c4-bde6-320a5a7714d1",
   "metadata": {},
   "outputs": [
    {
     "data": {
      "text/plain": [
       "1317477.5710010633"
      ]
     },
     "execution_count": 30,
     "metadata": {},
     "output_type": "execute_result"
    }
   ],
   "source": [
    "sigma_sq = df[\"SAT Writing Avg. Score\"].var(ddof=0)\n",
    "N = len(df)\n",
    "n= 80\n",
    "\n",
    "Nh = np.array(math[\"Nh\"])\n",
    "sigma_sq_h = np.array(math[\"sigma_sq_h\"])\n",
    "\n",
    "delta_math = (N - 1) * sigma_sq - np.sum((Nh - 1) * sigma_sq_h)\n",
    "delta_math"
   ]
  },
  {
   "cell_type": "code",
   "execution_count": 31,
   "id": "2f826516-ffde-4884-9e34-ef0ab21e983e",
   "metadata": {},
   "outputs": [
    {
     "name": "stdout",
     "output_type": "stream",
     "text": [
      "Largest delta 1370209.169962898\n"
     ]
    }
   ],
   "source": [
    "max_delta =  max( max(delta_math, delta_reading), delta_testers )\n",
    "print(f\"Largest delta {max_delta}\")"
   ]
  },
  {
   "attachments": {},
   "cell_type": "markdown",
   "id": "309d3c57-e14a-4cf3-8930-2a6c448047fd",
   "metadata": {},
   "source": [
    "#### Use SAT Critical Reading Avg. Score strata from here on"
   ]
  },
  {
   "attachments": {},
   "cell_type": "markdown",
   "id": "8762f418",
   "metadata": {},
   "source": [
    "# Sampling Procedures\n",
    "\n",
    "### 3. Stratified Random Sample with Equal Allocation:\n",
    "Take stratified random sample with size n (chosen in Report 2) with equal allocation. n_h = n / L"
   ]
  },
  {
   "cell_type": "code",
   "execution_count": 32,
   "id": "5e93dd9b",
   "metadata": {},
   "outputs": [
    {
     "data": {
      "text/plain": [
       "{'Nh': [102, 116, 75, 31, 36, 21],\n",
       " 'sigma_sq_h': [49.47260668973475,\n",
       "  53.543029131985755,\n",
       "  51.17582222222231,\n",
       "  33.33402705515095,\n",
       "  290.65663580246917,\n",
       "  2211.9319727891143]}"
      ]
     },
     "execution_count": 32,
     "metadata": {},
     "output_type": "execute_result"
    }
   ],
   "source": [
    "# use reading strata divisions\n",
    "reading"
   ]
  },
  {
   "cell_type": "code",
   "execution_count": 33,
   "id": "18ba9042",
   "metadata": {},
   "outputs": [
    {
     "data": {
      "text/plain": [
       "14"
      ]
     },
     "execution_count": 33,
     "metadata": {},
     "output_type": "execute_result"
    }
   ],
   "source": [
    "# n chosen in report 2 is 80. \n",
    "n = 80\n",
    "L = len(reading[\"Nh\"])\n",
    "n_h = int(np.ceil(n / L))\n",
    "n_h"
   ]
  },
  {
   "cell_type": "code",
   "execution_count": 34,
   "id": "867da1dc",
   "metadata": {},
   "outputs": [
    {
     "data": {
      "text/html": [
       "<div>\n",
       "<style scoped>\n",
       "    .dataframe tbody tr th:only-of-type {\n",
       "        vertical-align: middle;\n",
       "    }\n",
       "\n",
       "    .dataframe tbody tr th {\n",
       "        vertical-align: top;\n",
       "    }\n",
       "\n",
       "    .dataframe thead th {\n",
       "        text-align: right;\n",
       "    }\n",
       "</style>\n",
       "<table border=\"1\" class=\"dataframe\">\n",
       "  <thead>\n",
       "    <tr style=\"text-align: right;\">\n",
       "      <th></th>\n",
       "      <th>DBN</th>\n",
       "      <th>SCHOOL NAME</th>\n",
       "      <th>Num of SAT Test Takers</th>\n",
       "      <th>SAT Critical Reading Avg. Score</th>\n",
       "      <th>SAT Math Avg. Score</th>\n",
       "      <th>SAT Writing Avg. Score</th>\n",
       "      <th>Testers_Stratum</th>\n",
       "      <th>Reading_Stratum</th>\n",
       "      <th>Math_Stratum</th>\n",
       "    </tr>\n",
       "  </thead>\n",
       "  <tbody>\n",
       "    <tr>\n",
       "      <th>0</th>\n",
       "      <td>17K539</td>\n",
       "      <td>HIGH SCHOOL FOR SERVICE &amp; LEARNING AT ERASMUS</td>\n",
       "      <td>61</td>\n",
       "      <td>362.0</td>\n",
       "      <td>375.0</td>\n",
       "      <td>368.0</td>\n",
       "      <td>1</td>\n",
       "      <td>0</td>\n",
       "      <td>0</td>\n",
       "    </tr>\n",
       "    <tr>\n",
       "      <th>1</th>\n",
       "      <td>05M685</td>\n",
       "      <td>BREAD &amp; ROSES INTEGRATED ARTS HIGH SCHOOL</td>\n",
       "      <td>61</td>\n",
       "      <td>369.0</td>\n",
       "      <td>361.0</td>\n",
       "      <td>355.0</td>\n",
       "      <td>1</td>\n",
       "      <td>0</td>\n",
       "      <td>0</td>\n",
       "    </tr>\n",
       "    <tr>\n",
       "      <th>2</th>\n",
       "      <td>19K639</td>\n",
       "      <td>BROOKLYN LAB SCHOOL</td>\n",
       "      <td>57</td>\n",
       "      <td>360.0</td>\n",
       "      <td>385.0</td>\n",
       "      <td>363.0</td>\n",
       "      <td>1</td>\n",
       "      <td>0</td>\n",
       "      <td>1</td>\n",
       "    </tr>\n",
       "    <tr>\n",
       "      <th>3</th>\n",
       "      <td>10X213</td>\n",
       "      <td>BRONX ENGINEERING AND TECHNOLOGY ACADEMY</td>\n",
       "      <td>86</td>\n",
       "      <td>373.0</td>\n",
       "      <td>412.0</td>\n",
       "      <td>365.0</td>\n",
       "      <td>1</td>\n",
       "      <td>0</td>\n",
       "      <td>2</td>\n",
       "    </tr>\n",
       "    <tr>\n",
       "      <th>4</th>\n",
       "      <td>10X549</td>\n",
       "      <td>DISCOVERY HIGH SCHOOL</td>\n",
       "      <td>55</td>\n",
       "      <td>372.0</td>\n",
       "      <td>379.0</td>\n",
       "      <td>364.0</td>\n",
       "      <td>1</td>\n",
       "      <td>0</td>\n",
       "      <td>1</td>\n",
       "    </tr>\n",
       "    <tr>\n",
       "      <th>...</th>\n",
       "      <td>...</td>\n",
       "      <td>...</td>\n",
       "      <td>...</td>\n",
       "      <td>...</td>\n",
       "      <td>...</td>\n",
       "      <td>...</td>\n",
       "      <td>...</td>\n",
       "      <td>...</td>\n",
       "      <td>...</td>\n",
       "    </tr>\n",
       "    <tr>\n",
       "      <th>79</th>\n",
       "      <td>05M692</td>\n",
       "      <td>HIGH SCHOOL FOR MATHEMATICS, SCIENCE AND ENGIN...</td>\n",
       "      <td>101</td>\n",
       "      <td>605.0</td>\n",
       "      <td>654.0</td>\n",
       "      <td>588.0</td>\n",
       "      <td>2</td>\n",
       "      <td>5</td>\n",
       "      <td>5</td>\n",
       "    </tr>\n",
       "    <tr>\n",
       "      <th>80</th>\n",
       "      <td>02M418</td>\n",
       "      <td>MILLENNIUM HIGH SCHOOL</td>\n",
       "      <td>144</td>\n",
       "      <td>528.0</td>\n",
       "      <td>553.0</td>\n",
       "      <td>533.0</td>\n",
       "      <td>2</td>\n",
       "      <td>5</td>\n",
       "      <td>5</td>\n",
       "    </tr>\n",
       "    <tr>\n",
       "      <th>81</th>\n",
       "      <td>28Q687</td>\n",
       "      <td>QUEENS HIGH SCHOOL FOR THE SCIENCES AT YORK CO...</td>\n",
       "      <td>121</td>\n",
       "      <td>612.0</td>\n",
       "      <td>660.0</td>\n",
       "      <td>596.0</td>\n",
       "      <td>2</td>\n",
       "      <td>5</td>\n",
       "      <td>5</td>\n",
       "    </tr>\n",
       "    <tr>\n",
       "      <th>82</th>\n",
       "      <td>03M479</td>\n",
       "      <td>BEACON HIGH SCHOOL</td>\n",
       "      <td>261</td>\n",
       "      <td>577.0</td>\n",
       "      <td>575.0</td>\n",
       "      <td>592.0</td>\n",
       "      <td>3</td>\n",
       "      <td>5</td>\n",
       "      <td>5</td>\n",
       "    </tr>\n",
       "    <tr>\n",
       "      <th>83</th>\n",
       "      <td>01M696</td>\n",
       "      <td>BARD HIGH SCHOOL EARLY COLLEGE</td>\n",
       "      <td>130</td>\n",
       "      <td>624.0</td>\n",
       "      <td>604.0</td>\n",
       "      <td>628.0</td>\n",
       "      <td>2</td>\n",
       "      <td>5</td>\n",
       "      <td>5</td>\n",
       "    </tr>\n",
       "  </tbody>\n",
       "</table>\n",
       "<p>84 rows × 9 columns</p>\n",
       "</div>"
      ],
      "text/plain": [
       "       DBN                                        SCHOOL NAME  \\\n",
       "0   17K539      HIGH SCHOOL FOR SERVICE & LEARNING AT ERASMUS   \n",
       "1   05M685          BREAD & ROSES INTEGRATED ARTS HIGH SCHOOL   \n",
       "2   19K639                                BROOKLYN LAB SCHOOL   \n",
       "3   10X213           BRONX ENGINEERING AND TECHNOLOGY ACADEMY   \n",
       "4   10X549                              DISCOVERY HIGH SCHOOL   \n",
       "..     ...                                                ...   \n",
       "79  05M692  HIGH SCHOOL FOR MATHEMATICS, SCIENCE AND ENGIN...   \n",
       "80  02M418                             MILLENNIUM HIGH SCHOOL   \n",
       "81  28Q687  QUEENS HIGH SCHOOL FOR THE SCIENCES AT YORK CO...   \n",
       "82  03M479                                 BEACON HIGH SCHOOL   \n",
       "83  01M696                     BARD HIGH SCHOOL EARLY COLLEGE   \n",
       "\n",
       "    Num of SAT Test Takers  SAT Critical Reading Avg. Score  \\\n",
       "0                       61                            362.0   \n",
       "1                       61                            369.0   \n",
       "2                       57                            360.0   \n",
       "3                       86                            373.0   \n",
       "4                       55                            372.0   \n",
       "..                     ...                              ...   \n",
       "79                     101                            605.0   \n",
       "80                     144                            528.0   \n",
       "81                     121                            612.0   \n",
       "82                     261                            577.0   \n",
       "83                     130                            624.0   \n",
       "\n",
       "    SAT Math Avg. Score  SAT Writing Avg. Score Testers_Stratum  \\\n",
       "0                 375.0                   368.0               1   \n",
       "1                 361.0                   355.0               1   \n",
       "2                 385.0                   363.0               1   \n",
       "3                 412.0                   365.0               1   \n",
       "4                 379.0                   364.0               1   \n",
       "..                  ...                     ...             ...   \n",
       "79                654.0                   588.0               2   \n",
       "80                553.0                   533.0               2   \n",
       "81                660.0                   596.0               2   \n",
       "82                575.0                   592.0               3   \n",
       "83                604.0                   628.0               2   \n",
       "\n",
       "   Reading_Stratum Math_Stratum  \n",
       "0                0            0  \n",
       "1                0            0  \n",
       "2                0            1  \n",
       "3                0            2  \n",
       "4                0            1  \n",
       "..             ...          ...  \n",
       "79               5            5  \n",
       "80               5            5  \n",
       "81               5            5  \n",
       "82               5            5  \n",
       "83               5            5  \n",
       "\n",
       "[84 rows x 9 columns]"
      ]
     },
     "execution_count": 34,
     "metadata": {},
     "output_type": "execute_result"
    }
   ],
   "source": [
    "# take samples\n",
    "stratified_samples = []\n",
    "\n",
    "for stratum_label in range(L):\n",
    "    stratum = df[df[\"Reading_Stratum\"] == stratum_label]\n",
    "    stratified_samples.append(stratum.sample(n=n_h, replace=False))\n",
    "stratified_sample_df = pd.concat(stratified_samples).reset_index(drop=True)\n",
    "stratified_sample_df"
   ]
  },
  {
   "attachments": {},
   "cell_type": "markdown",
   "id": "2a4e85d3",
   "metadata": {},
   "source": [
    "### 4. Parameter Estimation and Variance\n",
    "\n",
    "a) Estimate your parameter of interest using an unbiased estimator\n"
   ]
  },
  {
   "cell_type": "code",
   "execution_count": 35,
   "id": "42cce03a",
   "metadata": {},
   "outputs": [
    {
     "data": {
      "text/plain": [
       "363.8199864268747"
      ]
     },
     "execution_count": 35,
     "metadata": {},
     "output_type": "execute_result"
    }
   ],
   "source": [
    "# mu_st_hat = tau_st_hat / N\n",
    "# tau_st_hat = sum from 1 to L of (N_h * ybar_h)\n",
    "# ybar_h = (sum from 1 to n_h of (y_hi)) / n_h\n",
    "\n",
    "ybar_h = stratified_sample_df.groupby(\"Reading_Stratum\")[\"SAT Writing Avg. Score\"].mean().tolist()\n",
    "tau_st_hat = sum(reading[\"Nh\"][i] * ybar_h[i] for i in range(len(reading[\"Nh\"])))\n",
    "mu_st_hat = tau_st_hat / N\n",
    "mu_st_hat"
   ]
  },
  {
   "attachments": {},
   "cell_type": "markdown",
   "id": "e978e3ec",
   "metadata": {},
   "source": [
    "b) Estimate its variance and provide a confidence interval at the alpha level chosen in Report 2. Use the Satterthwaite formula for adjusted degrees of freedom. "
   ]
  },
  {
   "cell_type": "code",
   "execution_count": 36,
   "id": "6690834c",
   "metadata": {},
   "outputs": [
    {
     "data": {
      "text/plain": [
       "0.7595137664926777"
      ]
     },
     "execution_count": 36,
     "metadata": {},
     "output_type": "execute_result"
    }
   ],
   "source": [
    "# variance\n",
    "# var_hat_mu_st_hat = (1/N^2) * var_hat_tau_st_hat\n",
    "# var_hat_tau_st_hat = sum from 1 to L ((N_h * (N_h - n_h) * (sigma_h^2 / n_h)))\n",
    "var_hat_tau_st_hat = sum(\n",
    "    reading[\"Nh\"][i] * (reading[\"Nh\"][i] - n_h) * (reading[\"sigma_sq_h\"][i] / n_h) \n",
    "    for i in range(len(reading[\"Nh\"]))\n",
    ")\n",
    "var_hat_mu_st_hat = (1 / N**2) * var_hat_tau_st_hat\n",
    "var_hat_mu_st_hat\n"
   ]
  },
  {
   "cell_type": "code",
   "execution_count": 37,
   "id": "da9b9650",
   "metadata": {},
   "outputs": [
    {
     "data": {
      "text/plain": [
       "13.0"
      ]
     },
     "execution_count": 37,
     "metadata": {},
     "output_type": "execute_result"
    }
   ],
   "source": [
    "# adjusted degrees of freedom\n",
    "# d = (sum of 1 to L of (a_h * s_h^2)) \n",
    "#      / (sum of 1 to L of (a_h * s_h^2) / (n_h - 1))\n",
    "# a_h = (N_h * (N_h - n_h)) / n_h\n",
    "s_h_squared = (\n",
    "    stratified_sample_df\n",
    "    .groupby(\"Reading_Stratum\")[\"SAT Writing Avg. Score\"]\n",
    "    .var(ddof=1)\n",
    "    .tolist()\n",
    ")\n",
    "a_h = [reading[\"Nh\"][i] * (reading[\"Nh\"][i] - n_h) / n_h for i in range(len(reading[\"Nh\"]))]\n",
    "d = (sum(a_h[i] * s_h_squared[i] for i in range(len(a_h))) / (sum(a_h[i] * s_h_squared[i] \n",
    "                                                                  for i in range(len(a_h))) / (n_h - 1)))\n",
    "d\n"
   ]
  },
  {
   "cell_type": "code",
   "execution_count": 38,
   "id": "b990e56d",
   "metadata": {},
   "outputs": [
    {
     "name": "stdout",
     "output_type": "stream",
     "text": [
      "95% CI for mu_st_hat is: (361.9372232631467, 365.70274959060276) \n",
      "\n"
     ]
    }
   ],
   "source": [
    "from scipy.stats import t\n",
    "# Confidence Interval with alpha = .05\n",
    "# mu_st_hat +- t(alpha/2, d) * sqrt(var_hat_mu_st_hat)\n",
    "alpha = .05\n",
    "t_crit = t.ppf(1-(alpha/2), d)\n",
    "lowerBound = mu_st_hat - t_crit * np.sqrt(var_hat_mu_st_hat)\n",
    "upperBound = mu_st_hat + t_crit * np.sqrt(var_hat_mu_st_hat)\n",
    "print(f\"95% CI for mu_st_hat is: ({lowerBound}, {upperBound}) \\n\")"
   ]
  },
  {
   "cell_type": "code",
   "execution_count": 39,
   "id": "225d6362-2991-4bdb-9381-f1c41f84997f",
   "metadata": {},
   "outputs": [
    {
     "data": {
      "text/html": [
       "<div>\n",
       "<style scoped>\n",
       "    .dataframe tbody tr th:only-of-type {\n",
       "        vertical-align: middle;\n",
       "    }\n",
       "\n",
       "    .dataframe tbody tr th {\n",
       "        vertical-align: top;\n",
       "    }\n",
       "\n",
       "    .dataframe thead th {\n",
       "        text-align: right;\n",
       "    }\n",
       "</style>\n",
       "<table border=\"1\" class=\"dataframe\">\n",
       "  <thead>\n",
       "    <tr style=\"text-align: right;\">\n",
       "      <th></th>\n",
       "      <th>DBN</th>\n",
       "      <th>SCHOOL NAME</th>\n",
       "      <th>Num of SAT Test Takers</th>\n",
       "      <th>SAT Critical Reading Avg. Score</th>\n",
       "      <th>SAT Math Avg. Score</th>\n",
       "      <th>SAT Writing Avg. Score</th>\n",
       "      <th>Testers_Stratum</th>\n",
       "      <th>Reading_Stratum</th>\n",
       "      <th>Math_Stratum</th>\n",
       "    </tr>\n",
       "  </thead>\n",
       "  <tbody>\n",
       "    <tr>\n",
       "      <th>0</th>\n",
       "      <td>08X377</td>\n",
       "      <td>BRONX COMMUNITY HIGH SCHOOL</td>\n",
       "      <td>9</td>\n",
       "      <td>367.0</td>\n",
       "      <td>369.0</td>\n",
       "      <td>376.0</td>\n",
       "      <td>0</td>\n",
       "      <td>0</td>\n",
       "      <td>0</td>\n",
       "    </tr>\n",
       "    <tr>\n",
       "      <th>1</th>\n",
       "      <td>14K488</td>\n",
       "      <td>BROOKLYN PREPARATORY HIGH SCHOOL</td>\n",
       "      <td>42</td>\n",
       "      <td>367.0</td>\n",
       "      <td>373.0</td>\n",
       "      <td>350.0</td>\n",
       "      <td>0</td>\n",
       "      <td>0</td>\n",
       "      <td>0</td>\n",
       "    </tr>\n",
       "    <tr>\n",
       "      <th>2</th>\n",
       "      <td>17K625</td>\n",
       "      <td>PAUL ROBESON HIGH SCHOOL</td>\n",
       "      <td>53</td>\n",
       "      <td>365.0</td>\n",
       "      <td>363.0</td>\n",
       "      <td>355.0</td>\n",
       "      <td>1</td>\n",
       "      <td>0</td>\n",
       "      <td>0</td>\n",
       "    </tr>\n",
       "    <tr>\n",
       "      <th>3</th>\n",
       "      <td>02M460</td>\n",
       "      <td>WASHINGTON IRVING HIGH SCHOOL</td>\n",
       "      <td>151</td>\n",
       "      <td>373.0</td>\n",
       "      <td>387.0</td>\n",
       "      <td>360.0</td>\n",
       "      <td>2</td>\n",
       "      <td>0</td>\n",
       "      <td>1</td>\n",
       "    </tr>\n",
       "    <tr>\n",
       "      <th>4</th>\n",
       "      <td>11X541</td>\n",
       "      <td>GLOBAL ENTERPRISE HIGH SCHOOL</td>\n",
       "      <td>57</td>\n",
       "      <td>372.0</td>\n",
       "      <td>382.0</td>\n",
       "      <td>375.0</td>\n",
       "      <td>1</td>\n",
       "      <td>0</td>\n",
       "      <td>1</td>\n",
       "    </tr>\n",
       "    <tr>\n",
       "      <th>...</th>\n",
       "      <td>...</td>\n",
       "      <td>...</td>\n",
       "      <td>...</td>\n",
       "      <td>...</td>\n",
       "      <td>...</td>\n",
       "      <td>...</td>\n",
       "      <td>...</td>\n",
       "      <td>...</td>\n",
       "      <td>...</td>\n",
       "    </tr>\n",
       "    <tr>\n",
       "      <th>75</th>\n",
       "      <td>30Q580</td>\n",
       "      <td>BACCALAUREATE SCHOOL FOR GLOBAL EDUCATION</td>\n",
       "      <td>61</td>\n",
       "      <td>524.0</td>\n",
       "      <td>568.0</td>\n",
       "      <td>544.0</td>\n",
       "      <td>1</td>\n",
       "      <td>5</td>\n",
       "      <td>5</td>\n",
       "    </tr>\n",
       "    <tr>\n",
       "      <th>76</th>\n",
       "      <td>25Q525</td>\n",
       "      <td>TOWNSEND HARRIS HIGH SCHOOL</td>\n",
       "      <td>278</td>\n",
       "      <td>621.0</td>\n",
       "      <td>651.0</td>\n",
       "      <td>638.0</td>\n",
       "      <td>3</td>\n",
       "      <td>5</td>\n",
       "      <td>5</td>\n",
       "    </tr>\n",
       "    <tr>\n",
       "      <th>77</th>\n",
       "      <td>02M416</td>\n",
       "      <td>ELEANOR ROOSEVELT HIGH SCHOOL</td>\n",
       "      <td>127</td>\n",
       "      <td>572.0</td>\n",
       "      <td>594.0</td>\n",
       "      <td>592.0</td>\n",
       "      <td>2</td>\n",
       "      <td>5</td>\n",
       "      <td>5</td>\n",
       "    </tr>\n",
       "    <tr>\n",
       "      <th>78</th>\n",
       "      <td>02M413</td>\n",
       "      <td>SCHOOL OF THE FUTURE HIGH SCHOOL</td>\n",
       "      <td>66</td>\n",
       "      <td>517.0</td>\n",
       "      <td>533.0</td>\n",
       "      <td>515.0</td>\n",
       "      <td>1</td>\n",
       "      <td>5</td>\n",
       "      <td>5</td>\n",
       "    </tr>\n",
       "    <tr>\n",
       "      <th>79</th>\n",
       "      <td>22K535</td>\n",
       "      <td>LEON M. GOLDSTEIN HIGH SCHOOL FOR THE SCIENCES</td>\n",
       "      <td>259</td>\n",
       "      <td>524.0</td>\n",
       "      <td>561.0</td>\n",
       "      <td>542.0</td>\n",
       "      <td>3</td>\n",
       "      <td>5</td>\n",
       "      <td>5</td>\n",
       "    </tr>\n",
       "  </tbody>\n",
       "</table>\n",
       "<p>80 rows × 9 columns</p>\n",
       "</div>"
      ],
      "text/plain": [
       "       DBN                                     SCHOOL NAME  \\\n",
       "0   08X377                     BRONX COMMUNITY HIGH SCHOOL   \n",
       "1   14K488                BROOKLYN PREPARATORY HIGH SCHOOL   \n",
       "2   17K625                        PAUL ROBESON HIGH SCHOOL   \n",
       "3   02M460                   WASHINGTON IRVING HIGH SCHOOL   \n",
       "4   11X541                   GLOBAL ENTERPRISE HIGH SCHOOL   \n",
       "..     ...                                             ...   \n",
       "75  30Q580       BACCALAUREATE SCHOOL FOR GLOBAL EDUCATION   \n",
       "76  25Q525                     TOWNSEND HARRIS HIGH SCHOOL   \n",
       "77  02M416                   ELEANOR ROOSEVELT HIGH SCHOOL   \n",
       "78  02M413                SCHOOL OF THE FUTURE HIGH SCHOOL   \n",
       "79  22K535  LEON M. GOLDSTEIN HIGH SCHOOL FOR THE SCIENCES   \n",
       "\n",
       "    Num of SAT Test Takers  SAT Critical Reading Avg. Score  \\\n",
       "0                        9                            367.0   \n",
       "1                       42                            367.0   \n",
       "2                       53                            365.0   \n",
       "3                      151                            373.0   \n",
       "4                       57                            372.0   \n",
       "..                     ...                              ...   \n",
       "75                      61                            524.0   \n",
       "76                     278                            621.0   \n",
       "77                     127                            572.0   \n",
       "78                      66                            517.0   \n",
       "79                     259                            524.0   \n",
       "\n",
       "    SAT Math Avg. Score  SAT Writing Avg. Score Testers_Stratum  \\\n",
       "0                 369.0                   376.0               0   \n",
       "1                 373.0                   350.0               0   \n",
       "2                 363.0                   355.0               1   \n",
       "3                 387.0                   360.0               2   \n",
       "4                 382.0                   375.0               1   \n",
       "..                  ...                     ...             ...   \n",
       "75                568.0                   544.0               1   \n",
       "76                651.0                   638.0               3   \n",
       "77                594.0                   592.0               2   \n",
       "78                533.0                   515.0               1   \n",
       "79                561.0                   542.0               3   \n",
       "\n",
       "   Reading_Stratum Math_Stratum  \n",
       "0                0            0  \n",
       "1                0            0  \n",
       "2                0            0  \n",
       "3                0            1  \n",
       "4                0            1  \n",
       "..             ...          ...  \n",
       "75               5            5  \n",
       "76               5            5  \n",
       "77               5            5  \n",
       "78               5            5  \n",
       "79               5            5  \n",
       "\n",
       "[80 rows x 9 columns]"
      ]
     },
     "execution_count": 39,
     "metadata": {},
     "output_type": "execute_result"
    }
   ],
   "source": [
    "nh_proportional = [\n",
    "    int(round((n * Nh) / N)) \n",
    "    for Nh in reading[\"Nh\"]\n",
    "]\n",
    "while sum(nh_proportional) != n:\n",
    "    if sum(nh_proportional) < n:\n",
    "        nh_proportional[nh_proportional.index(min(nh_proportional))] += 1\n",
    "    else:\n",
    "        nh_proportional[nh_proportional.index(max(nh_proportional))] -= 1\n",
    "stratified_samples_prop = []\n",
    "for stratum_label in range(L):\n",
    "    stratum_data = df[df[\"Reading_Stratum\"] == stratum_label]\n",
    "    sample_size = nh_proportional[stratum_label]\n",
    "    \n",
    "    if sample_size > 0:\n",
    "        sample = stratum_data.sample(n=sample_size, replace=False)\n",
    "        stratified_samples_prop.append(sample)\n",
    "stratified_sample_prop_df = pd.concat(stratified_samples_prop).reset_index(drop=True)\n",
    "\n",
    "stratified_sample_prop_df\n"
   ]
  },
  {
   "cell_type": "markdown",
   "id": "401f05bc-d3d3-405c-9a21-92a7595d9349",
   "metadata": {},
   "source": [
    " ## 6. Parameter Estimation and Variance"
   ]
  },
  {
   "cell_type": "markdown",
   "id": "ea7ffcc4-733d-4ac8-a9f1-6b346242093e",
   "metadata": {},
   "source": [
    "### a) Estimate your parameter of interest using an unbiased estimator"
   ]
  },
  {
   "cell_type": "code",
   "execution_count": 40,
   "id": "b376b5d0-a490-4f9a-93a6-3b3111d5d76e",
   "metadata": {},
   "outputs": [
    {
     "data": {
      "text/plain": [
       "362.54400446340065"
      ]
     },
     "execution_count": 40,
     "metadata": {},
     "output_type": "execute_result"
    }
   ],
   "source": [
    "ybar_h_prop= stratified_sample_prop_df.groupby(\"Reading_Stratum\")[\"SAT Writing Avg. Score\"].mean().tolist()\n",
    "tau_st_hat_prop=sum(reading[\"Nh\"][i]*ybar_h_prop[i] for i in range(len(reading[\"Nh\"])))\n",
    "mu_st_hat_prop = tau_st_hat_prop/N\n",
    "mu_st_hat_prop"
   ]
  },
  {
   "cell_type": "markdown",
   "id": "b4e11a10-800d-4882-bd4f-3280d089a57f",
   "metadata": {},
   "source": [
    "### b) Estimate its variance and provide a confidence interval at the α level chosen in Report 2."
   ]
  },
  {
   "cell_type": "code",
   "execution_count": 52,
   "id": "3075e649-ec9e-453c-a360-ec92e931e5cc",
   "metadata": {},
   "outputs": [
    {
     "data": {
      "text/plain": [
       "1.0152066681278495"
      ]
     },
     "execution_count": 52,
     "metadata": {},
     "output_type": "execute_result"
    }
   ],
   "source": [
    "var_hat_tau_st_hat_prop = sum(\n",
    "    reading[\"Nh\"][i]*(reading[\"Nh\"][i]-nh_proportional[i])*(reading[\"sigma_sq_h\"][i]/nh_proportional[i])\n",
    "    for i in range(len(reading[\"Nh\"]))\n",
    ")\n",
    "\n",
    "var_hat_mu_st_hat_prop = (1/(N**2)) * var_hat_tau_st_hat_prop\n",
    "var_hat_mu_st_hat_prop"
   ]
  },
  {
   "cell_type": "code",
   "execution_count": 53,
   "id": "2bd97547-1c8e-4cbf-ba0e-e85ecf82c245",
   "metadata": {},
   "outputs": [
    {
     "name": "stdout",
     "output_type": "stream",
     "text": [
      "95% CI for mu_st_hat_prop is: (360.3672717782092, 364.7207371485921) \n",
      "\n"
     ]
    }
   ],
   "source": [
    "from scipy.stats import t\n",
    "\n",
    "alpha = 0.05\n",
    "t_crit = t.ppf(1-(alpha/2),d)\n",
    "\n",
    "lb = mu_st_hat_prop - t_crit*np.sqrt(var_hat_mu_st_hat_prop)\n",
    "ub = mu_st_hat_prop + t_crit*np.sqrt(var_hat_mu_st_hat_prop)\n",
    "print(f\"95% CI for mu_st_hat_prop is: ({lb}, {ub}) \\n\")"
   ]
  },
  {
   "cell_type": "markdown",
   "id": "3ff52ba7-de74-4c0a-95b9-1cab0bfcc968",
   "metadata": {},
   "source": [
    "### c) Use the Satterthwaite formula for adjusted degrees of freedom."
   ]
  },
  {
   "cell_type": "code",
   "execution_count": 54,
   "id": "90ae69dc-6974-4b57-9205-05e590bf4d65",
   "metadata": {},
   "outputs": [
    {
     "data": {
      "text/plain": [
       "13.0"
      ]
     },
     "execution_count": 54,
     "metadata": {},
     "output_type": "execute_result"
    }
   ],
   "source": [
    "s_h_squared_prop = (\n",
    "    stratified_sample_prop_df\n",
    "    .groupby(\"Reading_Stratum\")[\"SAT Writing Avg. Score\"]\n",
    "    .var(ddof=1)\n",
    "    .tolist()\n",
    ")\n",
    "a_h_prop = [reading[\"Nh\"][i] * (reading[\"Nh\"][i] - nh_proportional[i]) / nh_proportional[i] \n",
    "            for i in range(len(reading[\"Nh\"]))]\n",
    "\n",
    "d = (sum(a_h_prop[i] * s_h_squared_prop[i] for i in range(len(a_h_prop))) \n",
    "     / (sum(a_h_prop[i] * s_h_squared_prop[i] for i in range(len(a_h_prop))) / (n_h - 1)))\n",
    "d"
   ]
  }
 ],
 "metadata": {
  "kernelspec": {
   "display_name": "Python 3 (ipykernel)",
   "language": "python",
   "name": "python3"
  },
  "language_info": {
   "codemirror_mode": {
    "name": "ipython",
    "version": 3
   },
   "file_extension": ".py",
   "mimetype": "text/x-python",
   "name": "python",
   "nbconvert_exporter": "python",
   "pygments_lexer": "ipython3",
   "version": "3.11.4"
  }
 },
 "nbformat": 4,
 "nbformat_minor": 5
}
