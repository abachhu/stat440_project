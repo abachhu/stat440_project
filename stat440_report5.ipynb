{
 "cells": [
  {
   "cell_type": "code",
   "execution_count": 111,
   "id": "bae85931-8b41-41fa-93aa-f0637926e75b",
   "metadata": {},
   "outputs": [
    {
     "name": "stdout",
     "output_type": "stream",
     "text": [
      "<class 'pandas.core.frame.DataFrame'>\n",
      "RangeIndex: 478 entries, 0 to 477\n",
      "Data columns (total 6 columns):\n",
      " #   Column                           Non-Null Count  Dtype \n",
      "---  ------                           --------------  ----- \n",
      " 0   DBN                              478 non-null    object\n",
      " 1   SCHOOL NAME                      478 non-null    object\n",
      " 2   Num of SAT Test Takers           478 non-null    object\n",
      " 3   SAT Critical Reading Avg. Score  478 non-null    object\n",
      " 4   SAT Math Avg. Score              478 non-null    object\n",
      " 5   SAT Writing Avg. Score           478 non-null    object\n",
      "dtypes: object(6)\n",
      "memory usage: 22.5+ KB\n",
      "None\n",
      "\n",
      "<class 'pandas.core.frame.DataFrame'>\n",
      "Index: 421 entries, 0 to 477\n",
      "Data columns (total 6 columns):\n",
      " #   Column                           Non-Null Count  Dtype  \n",
      "---  ------                           --------------  -----  \n",
      " 0   DBN                              421 non-null    object \n",
      " 1   SCHOOL NAME                      421 non-null    object \n",
      " 2   Num of SAT Test Takers           421 non-null    object \n",
      " 3   SAT Critical Reading Avg. Score  421 non-null    float64\n",
      " 4   SAT Math Avg. Score              421 non-null    float64\n",
      " 5   SAT Writing Avg. Score           421 non-null    float64\n",
      "dtypes: float64(3), object(3)\n",
      "memory usage: 23.0+ KB\n",
      "None\n",
      "\n",
      "The mu is: 393.9857482185273\n",
      "The tao is: 165868.0\n",
      "The sigma^2 is: 3429.9095356040643\n",
      "\n"
     ]
    }
   ],
   "source": [
    "import numpy as np\n",
    "import pandas as pd\n",
    "import matplotlib.pyplot as plt\n",
    "import seaborn as sns\n",
    "\n",
    "#  read the dataset\n",
    "df = pd.read_csv(\"2012-sat-results.csv\")\n",
    "\n",
    "print(df.info())\n",
    "print(\"\")\n",
    "\n",
    "# convert all values to numeric\n",
    "df[\"SAT Critical Reading Avg. Score\"] = pd.to_numeric(df[\"SAT Critical Reading Avg. Score\"], errors=\"coerce\")\n",
    "df[\"SAT Math Avg. Score\"] = pd.to_numeric(df[\"SAT Math Avg. Score\"], errors=\"coerce\")\n",
    "df[\"SAT Writing Avg. Score\"] = pd.to_numeric(df[\"SAT Writing Avg. Score\"], errors=\"coerce\")\n",
    "\n",
    "# Drop rows with NaN values\n",
    "df = df.dropna(subset=[\"SAT Critical Reading Avg. Score\", \"SAT Math Avg. Score\", \"SAT Writing Avg. Score\"])\n",
    "\n",
    "print(df.info())\n",
    "print(\"\")\n",
    "\n",
    "# population params\n",
    "mu = df[\"SAT Writing Avg. Score\"].mean()\n",
    "tao = df[\"SAT Writing Avg. Score\"].sum()\n",
    "sigmasq = df[\"SAT Writing Avg. Score\"].var(ddof=0)\n",
    "\n",
    "print(f\"The mu is: {mu}\")\n",
    "print(f\"The tao is: {tao}\")\n",
    "print(f\"The sigma^2 is: {sigmasq}\")\n",
    "\n",
    "print(\"\")"
   ]
  },
  {
   "cell_type": "code",
   "execution_count": 112,
   "id": "907610f0-6841-4ceb-964f-5c33ea43cb73",
   "metadata": {},
   "outputs": [
    {
     "data": {
      "text/html": [
       "<div>\n",
       "<style scoped>\n",
       "    .dataframe tbody tr th:only-of-type {\n",
       "        vertical-align: middle;\n",
       "    }\n",
       "\n",
       "    .dataframe tbody tr th {\n",
       "        vertical-align: top;\n",
       "    }\n",
       "\n",
       "    .dataframe thead th {\n",
       "        text-align: right;\n",
       "    }\n",
       "</style>\n",
       "<table border=\"1\" class=\"dataframe\">\n",
       "  <thead>\n",
       "    <tr style=\"text-align: right;\">\n",
       "      <th></th>\n",
       "      <th>DBN</th>\n",
       "      <th>SCHOOL NAME</th>\n",
       "      <th>Num of SAT Test Takers</th>\n",
       "      <th>SAT Critical Reading Avg. Score</th>\n",
       "      <th>SAT Math Avg. Score</th>\n",
       "      <th>SAT Writing Avg. Score</th>\n",
       "    </tr>\n",
       "  </thead>\n",
       "  <tbody>\n",
       "    <tr>\n",
       "      <th>0</th>\n",
       "      <td>01M292</td>\n",
       "      <td>HENRY STREET SCHOOL FOR INTERNATIONAL STUDIES</td>\n",
       "      <td>29</td>\n",
       "      <td>355.0</td>\n",
       "      <td>404.0</td>\n",
       "      <td>363.0</td>\n",
       "    </tr>\n",
       "    <tr>\n",
       "      <th>1</th>\n",
       "      <td>01M448</td>\n",
       "      <td>UNIVERSITY NEIGHBORHOOD HIGH SCHOOL</td>\n",
       "      <td>91</td>\n",
       "      <td>383.0</td>\n",
       "      <td>423.0</td>\n",
       "      <td>366.0</td>\n",
       "    </tr>\n",
       "    <tr>\n",
       "      <th>2</th>\n",
       "      <td>01M450</td>\n",
       "      <td>EAST SIDE COMMUNITY SCHOOL</td>\n",
       "      <td>70</td>\n",
       "      <td>377.0</td>\n",
       "      <td>402.0</td>\n",
       "      <td>370.0</td>\n",
       "    </tr>\n",
       "    <tr>\n",
       "      <th>3</th>\n",
       "      <td>01M458</td>\n",
       "      <td>FORSYTH SATELLITE ACADEMY</td>\n",
       "      <td>7</td>\n",
       "      <td>414.0</td>\n",
       "      <td>401.0</td>\n",
       "      <td>359.0</td>\n",
       "    </tr>\n",
       "    <tr>\n",
       "      <th>4</th>\n",
       "      <td>01M509</td>\n",
       "      <td>MARTA VALLE HIGH SCHOOL</td>\n",
       "      <td>44</td>\n",
       "      <td>390.0</td>\n",
       "      <td>433.0</td>\n",
       "      <td>384.0</td>\n",
       "    </tr>\n",
       "  </tbody>\n",
       "</table>\n",
       "</div>"
      ],
      "text/plain": [
       "      DBN                                    SCHOOL NAME  \\\n",
       "0  01M292  HENRY STREET SCHOOL FOR INTERNATIONAL STUDIES   \n",
       "1  01M448            UNIVERSITY NEIGHBORHOOD HIGH SCHOOL   \n",
       "2  01M450                     EAST SIDE COMMUNITY SCHOOL   \n",
       "3  01M458                      FORSYTH SATELLITE ACADEMY   \n",
       "4  01M509                        MARTA VALLE HIGH SCHOOL   \n",
       "\n",
       "  Num of SAT Test Takers  SAT Critical Reading Avg. Score  \\\n",
       "0                     29                            355.0   \n",
       "1                     91                            383.0   \n",
       "2                     70                            377.0   \n",
       "3                      7                            414.0   \n",
       "4                     44                            390.0   \n",
       "\n",
       "   SAT Math Avg. Score  SAT Writing Avg. Score  \n",
       "0                404.0                   363.0  \n",
       "1                423.0                   366.0  \n",
       "2                402.0                   370.0  \n",
       "3                401.0                   359.0  \n",
       "4                433.0                   384.0  "
      ]
     },
     "execution_count": 112,
     "metadata": {},
     "output_type": "execute_result"
    }
   ],
   "source": [
    "df.head()"
   ]
  },
  {
   "attachments": {},
   "cell_type": "markdown",
   "id": "c65337f7-e6cf-43d1-bc25-807e527a1aad",
   "metadata": {},
   "source": [
    "# 1. Divide your population into strata"
   ]
  },
  {
   "cell_type": "code",
   "execution_count": 113,
   "id": "ff9cad6f-62ab-426d-b94a-f1c52290eed4",
   "metadata": {},
   "outputs": [
    {
     "name": "stderr",
     "output_type": "stream",
     "text": [
      "/var/folders/sd/94f0j_590jlf95lxw1njgbq40000gn/T/ipykernel_66165/3740391049.py:12: FutureWarning: The default of observed=False is deprecated and will be changed to True in a future version of pandas. Pass observed=False to retain current behavior or observed=True to adopt the future default and silence this warning.\n",
      "  \"Nh\": df.groupby(\"Testers_Stratum\").size().tolist(),\n",
      "/var/folders/sd/94f0j_590jlf95lxw1njgbq40000gn/T/ipykernel_66165/3740391049.py:13: FutureWarning: The default of observed=False is deprecated and will be changed to True in a future version of pandas. Pass observed=False to retain current behavior or observed=True to adopt the future default and silence this warning.\n",
      "  \"sigma_sq_h\": df.groupby(\"Testers_Stratum\")[\"Num of SAT Test Takers\"].var(ddof=0).tolist()\n"
     ]
    },
    {
     "data": {
      "text/plain": [
       "{'Nh': [148, 173, 50, 26, 24],\n",
       " 'sigma_sq_h': [191.754930606282,\n",
       "  166.8447325336631,\n",
       "  688.8196000000003,\n",
       "  3789.940828402369,\n",
       "  46378.74305555556]}"
      ]
     },
     "execution_count": 113,
     "metadata": {},
     "output_type": "execute_result"
    }
   ],
   "source": [
    "# Creating Strata based on Number of SAT Test Takers per school\n",
    "\n",
    "df[\"Num of SAT Test Takers\"] = pd.to_numeric(df[\"Num of SAT Test Takers\"], errors='coerce')\n",
    "\n",
    "# strata ranges\n",
    "bins = [0, 50, 100, 200, 400, df[\"Num of SAT Test Takers\"].max()]\n",
    "labels = [0, 1, 2, 3, 4]\n",
    "\n",
    "df[\"Testers_Stratum\"] = pd.cut(df[\"Num of SAT Test Takers\"], bins=bins, labels=labels, include_lowest=True)\n",
    "\n",
    "testers = {\n",
    "    \"Nh\": df.groupby(\"Testers_Stratum\").size().tolist(),\n",
    "    \"sigma_sq_h\": df.groupby(\"Testers_Stratum\")[\"Num of SAT Test Takers\"].var(ddof=0).tolist()\n",
    "}\n",
    "testers"
   ]
  },
  {
   "cell_type": "code",
   "execution_count": 114,
   "id": "007ab1b9-7448-4fd8-b7fd-4748215bb4f0",
   "metadata": {},
   "outputs": [
    {
     "name": "stderr",
     "output_type": "stream",
     "text": [
      "/var/folders/sd/94f0j_590jlf95lxw1njgbq40000gn/T/ipykernel_66165/2721831635.py:11: FutureWarning: The default of observed=False is deprecated and will be changed to True in a future version of pandas. Pass observed=False to retain current behavior or observed=True to adopt the future default and silence this warning.\n",
      "  \"Nh\": df.groupby(\"Reading_Stratum\").size().tolist(),\n",
      "/var/folders/sd/94f0j_590jlf95lxw1njgbq40000gn/T/ipykernel_66165/2721831635.py:12: FutureWarning: The default of observed=False is deprecated and will be changed to True in a future version of pandas. Pass observed=False to retain current behavior or observed=True to adopt the future default and silence this warning.\n",
      "  \"sigma_sq_h\": df.groupby(\"Reading_Stratum\")[\"SAT Critical Reading Avg. Score\"].var(ddof=0).tolist()\n"
     ]
    },
    {
     "data": {
      "text/plain": [
       "{'Nh': [102, 116, 75, 31, 36, 21],\n",
       " 'sigma_sq_h': [49.47260668973475,\n",
       "  53.543029131985755,\n",
       "  51.17582222222231,\n",
       "  33.33402705515095,\n",
       "  290.65663580246917,\n",
       "  2211.9319727891143]}"
      ]
     },
     "execution_count": 114,
     "metadata": {},
     "output_type": "execute_result"
    }
   ],
   "source": [
    "# Creating Strata based on SAT Critical Reading Avg. Score\n",
    "\n",
    "# Intervals for stratum and labels for the intervals\n",
    "bins = [350, 375, 400, 425, 450, 515, df[\"SAT Critical Reading Avg. Score\"].max()]\n",
    "labels = [0, 1, 2, 3, 4, 5]\n",
    "\n",
    "df[\"Reading_Stratum\"] = pd.cut(df[\"SAT Critical Reading Avg. Score\"], bins=bins, labels=labels, include_lowest=True)\n",
    "\n",
    "# Grouping by stratum, and calculating variances for each stratum\n",
    "reading = {\n",
    "    \"Nh\": df.groupby(\"Reading_Stratum\").size().tolist(),\n",
    "    \"sigma_sq_h\": df.groupby(\"Reading_Stratum\")[\"SAT Critical Reading Avg. Score\"].var(ddof=0).tolist()\n",
    "}\n",
    "reading"
   ]
  },
  {
   "cell_type": "code",
   "execution_count": 115,
   "id": "79d39712-b4e4-4525-946d-afaace312b5c",
   "metadata": {},
   "outputs": [
    {
     "name": "stderr",
     "output_type": "stream",
     "text": [
      "/var/folders/sd/94f0j_590jlf95lxw1njgbq40000gn/T/ipykernel_66165/2098692543.py:11: FutureWarning: The default of observed=False is deprecated and will be changed to True in a future version of pandas. Pass observed=False to retain current behavior or observed=True to adopt the future default and silence this warning.\n",
      "  \"Nh\": df.groupby(\"Math_Stratum\").size().tolist(),\n",
      "/var/folders/sd/94f0j_590jlf95lxw1njgbq40000gn/T/ipykernel_66165/2098692543.py:12: FutureWarning: The default of observed=False is deprecated and will be changed to True in a future version of pandas. Pass observed=False to retain current behavior or observed=True to adopt the future default and silence this warning.\n",
      "  \"sigma_sq_h\": df.groupby(\"Math_Stratum\")[\"SAT Math Avg. Score\"].var(ddof=0).tolist()\n"
     ]
    },
    {
     "data": {
      "text/plain": [
       "{'Nh': [96, 109, 65, 43, 52, 30],\n",
       " 'sigma_sq_h': [45.99728732638883,\n",
       "  52.81440956148471,\n",
       "  52.962366863905295,\n",
       "  51.59221200648994,\n",
       "  280.4715236686394,\n",
       "  3212.0766666666673]}"
      ]
     },
     "execution_count": 115,
     "metadata": {},
     "output_type": "execute_result"
    }
   ],
   "source": [
    "# Creating Strata based on SAT Math Avg. Score\n",
    "\n",
    "# Intervals for stratum and labels for the intervals\n",
    "bins = [350, 375, 400, 425, 450, 515, df[\"SAT Math Avg. Score\"].max()]\n",
    "labels = [0, 1, 2, 3, 4, 5]\n",
    "\n",
    "df[\"Math_Stratum\"] = pd.cut(df[\"SAT Math Avg. Score\"], bins=bins, labels=labels, include_lowest=True)\n",
    "\n",
    "# Grouping by stratum, and calculating variances for each stratum\n",
    "math = {\n",
    "    \"Nh\": df.groupby(\"Math_Stratum\").size().tolist(),\n",
    "    \"sigma_sq_h\": df.groupby(\"Math_Stratum\")[\"SAT Math Avg. Score\"].var(ddof=0).tolist()\n",
    "}\n",
    "math"
   ]
  },
  {
   "attachments": {},
   "cell_type": "markdown",
   "id": "5468a119-2c14-42d6-ab5f-40c3109a209a",
   "metadata": {},
   "source": [
    "# 2. Evaluate Population Stratification"
   ]
  },
  {
   "cell_type": "code",
   "execution_count": 116,
   "id": "f8a08e5e-8374-47c1-9af6-361169b3ee03",
   "metadata": {},
   "outputs": [
    {
     "data": {
      "text/plain": [
       "188464.96477095643"
      ]
     },
     "execution_count": 116,
     "metadata": {},
     "output_type": "execute_result"
    }
   ],
   "source": [
    "sigma_sq = df[\"SAT Writing Avg. Score\"].var(ddof=0)\n",
    "N = len(df)\n",
    "n= 80\n",
    "\n",
    "Nh = np.array(testers[\"Nh\"])\n",
    "sigma_sq_h = np.array(testers[\"sigma_sq_h\"])\n",
    "\n",
    "delta_testers = (N - 1) * sigma_sq - np.sum((Nh - 1) * sigma_sq_h)\n",
    "delta_testers"
   ]
  },
  {
   "cell_type": "code",
   "execution_count": 117,
   "id": "fca73f30-3e54-41cc-9119-e9f61e99df2c",
   "metadata": {},
   "outputs": [
    {
     "data": {
      "text/plain": [
       "1370209.169962898"
      ]
     },
     "execution_count": 117,
     "metadata": {},
     "output_type": "execute_result"
    }
   ],
   "source": [
    "sigma_sq = df[\"SAT Writing Avg. Score\"].var(ddof=0)\n",
    "N = len(df)\n",
    "n= 80\n",
    "\n",
    "Nh = np.array(reading[\"Nh\"])\n",
    "sigma_sq_h = np.array(reading[\"sigma_sq_h\"])\n",
    "\n",
    "delta_reading = (N - 1) * sigma_sq - np.sum((Nh - 1) * sigma_sq_h)\n",
    "delta_reading"
   ]
  },
  {
   "cell_type": "code",
   "execution_count": 118,
   "id": "ed8ba7ad-461f-44c4-bde6-320a5a7714d1",
   "metadata": {},
   "outputs": [
    {
     "data": {
      "text/plain": [
       "1317477.5710010633"
      ]
     },
     "execution_count": 118,
     "metadata": {},
     "output_type": "execute_result"
    }
   ],
   "source": [
    "sigma_sq = df[\"SAT Writing Avg. Score\"].var(ddof=0)\n",
    "N = len(df)\n",
    "n= 80\n",
    "\n",
    "Nh = np.array(math[\"Nh\"])\n",
    "sigma_sq_h = np.array(math[\"sigma_sq_h\"])\n",
    "\n",
    "delta_math = (N - 1) * sigma_sq - np.sum((Nh - 1) * sigma_sq_h)\n",
    "delta_math"
   ]
  },
  {
   "cell_type": "code",
   "execution_count": 119,
   "id": "2f826516-ffde-4884-9e34-ef0ab21e983e",
   "metadata": {},
   "outputs": [
    {
     "name": "stdout",
     "output_type": "stream",
     "text": [
      "Largest delta 1370209.169962898\n"
     ]
    }
   ],
   "source": [
    "max_delta =  max( max(delta_math, delta_reading), delta_testers )\n",
    "print(f\"Largest delta {max_delta}\")"
   ]
  },
  {
   "attachments": {},
   "cell_type": "markdown",
   "id": "309d3c57-e14a-4cf3-8930-2a6c448047fd",
   "metadata": {},
   "source": [
    "#### Use SAT Critical Reading Avg. Score strata from here on"
   ]
  },
  {
   "attachments": {},
   "cell_type": "markdown",
   "id": "8762f418",
   "metadata": {},
   "source": [
    "# Sampling Procedures\n",
    "\n",
    "### 3. Stratified Random Sample with Equal Allocation:\n",
    "Take stratified random sample with size n (chosen in Report 2) with equal allocation. n_h = n / L"
   ]
  },
  {
   "cell_type": "code",
   "execution_count": 120,
   "id": "5e93dd9b",
   "metadata": {},
   "outputs": [
    {
     "data": {
      "text/plain": [
       "{'Nh': [102, 116, 75, 31, 36, 21],\n",
       " 'sigma_sq_h': [49.47260668973475,\n",
       "  53.543029131985755,\n",
       "  51.17582222222231,\n",
       "  33.33402705515095,\n",
       "  290.65663580246917,\n",
       "  2211.9319727891143]}"
      ]
     },
     "execution_count": 120,
     "metadata": {},
     "output_type": "execute_result"
    }
   ],
   "source": [
    "# use reading strata divisions\n",
    "reading"
   ]
  },
  {
   "cell_type": "code",
   "execution_count": 121,
   "id": "18ba9042",
   "metadata": {},
   "outputs": [
    {
     "data": {
      "text/plain": [
       "14"
      ]
     },
     "execution_count": 121,
     "metadata": {},
     "output_type": "execute_result"
    }
   ],
   "source": [
    "# n chosen in report 2 is 80. \n",
    "n = 80\n",
    "L = len(reading[\"Nh\"])\n",
    "n_h = int(np.ceil(n / L))\n",
    "n_h"
   ]
  },
  {
   "cell_type": "code",
   "execution_count": 122,
   "id": "867da1dc",
   "metadata": {},
   "outputs": [
    {
     "data": {
      "text/html": [
       "<div>\n",
       "<style scoped>\n",
       "    .dataframe tbody tr th:only-of-type {\n",
       "        vertical-align: middle;\n",
       "    }\n",
       "\n",
       "    .dataframe tbody tr th {\n",
       "        vertical-align: top;\n",
       "    }\n",
       "\n",
       "    .dataframe thead th {\n",
       "        text-align: right;\n",
       "    }\n",
       "</style>\n",
       "<table border=\"1\" class=\"dataframe\">\n",
       "  <thead>\n",
       "    <tr style=\"text-align: right;\">\n",
       "      <th></th>\n",
       "      <th>DBN</th>\n",
       "      <th>SCHOOL NAME</th>\n",
       "      <th>Num of SAT Test Takers</th>\n",
       "      <th>SAT Critical Reading Avg. Score</th>\n",
       "      <th>SAT Math Avg. Score</th>\n",
       "      <th>SAT Writing Avg. Score</th>\n",
       "      <th>Testers_Stratum</th>\n",
       "      <th>Reading_Stratum</th>\n",
       "      <th>Math_Stratum</th>\n",
       "    </tr>\n",
       "  </thead>\n",
       "  <tbody>\n",
       "    <tr>\n",
       "      <th>0</th>\n",
       "      <td>04M495</td>\n",
       "      <td>PARK EAST HIGH SCHOOL</td>\n",
       "      <td>51</td>\n",
       "      <td>373.0</td>\n",
       "      <td>379.0</td>\n",
       "      <td>376.0</td>\n",
       "      <td>1</td>\n",
       "      <td>0</td>\n",
       "      <td>1</td>\n",
       "    </tr>\n",
       "    <tr>\n",
       "      <th>1</th>\n",
       "      <td>09X276</td>\n",
       "      <td>LEADERSHIP INSTITUTE</td>\n",
       "      <td>30</td>\n",
       "      <td>361.0</td>\n",
       "      <td>353.0</td>\n",
       "      <td>367.0</td>\n",
       "      <td>0</td>\n",
       "      <td>0</td>\n",
       "      <td>0</td>\n",
       "    </tr>\n",
       "    <tr>\n",
       "      <th>2</th>\n",
       "      <td>05M367</td>\n",
       "      <td>ACADEMY FOR SOCIAL ACTION: A COLLEGE BOARD SCHOOL</td>\n",
       "      <td>33</td>\n",
       "      <td>354.0</td>\n",
       "      <td>366.0</td>\n",
       "      <td>342.0</td>\n",
       "      <td>0</td>\n",
       "      <td>0</td>\n",
       "      <td>0</td>\n",
       "    </tr>\n",
       "    <tr>\n",
       "      <th>3</th>\n",
       "      <td>08X377</td>\n",
       "      <td>BRONX COMMUNITY HIGH SCHOOL</td>\n",
       "      <td>9</td>\n",
       "      <td>367.0</td>\n",
       "      <td>369.0</td>\n",
       "      <td>376.0</td>\n",
       "      <td>0</td>\n",
       "      <td>0</td>\n",
       "      <td>0</td>\n",
       "    </tr>\n",
       "    <tr>\n",
       "      <th>4</th>\n",
       "      <td>06M463</td>\n",
       "      <td>HIGH SCHOOL FOR MEDIA AND COMMUNICATIONS</td>\n",
       "      <td>63</td>\n",
       "      <td>369.0</td>\n",
       "      <td>380.0</td>\n",
       "      <td>349.0</td>\n",
       "      <td>1</td>\n",
       "      <td>0</td>\n",
       "      <td>1</td>\n",
       "    </tr>\n",
       "    <tr>\n",
       "      <th>...</th>\n",
       "      <td>...</td>\n",
       "      <td>...</td>\n",
       "      <td>...</td>\n",
       "      <td>...</td>\n",
       "      <td>...</td>\n",
       "      <td>...</td>\n",
       "      <td>...</td>\n",
       "      <td>...</td>\n",
       "      <td>...</td>\n",
       "    </tr>\n",
       "    <tr>\n",
       "      <th>79</th>\n",
       "      <td>02M413</td>\n",
       "      <td>SCHOOL OF THE FUTURE HIGH SCHOOL</td>\n",
       "      <td>66</td>\n",
       "      <td>517.0</td>\n",
       "      <td>533.0</td>\n",
       "      <td>515.0</td>\n",
       "      <td>1</td>\n",
       "      <td>5</td>\n",
       "      <td>5</td>\n",
       "    </tr>\n",
       "    <tr>\n",
       "      <th>80</th>\n",
       "      <td>25Q525</td>\n",
       "      <td>TOWNSEND HARRIS HIGH SCHOOL</td>\n",
       "      <td>278</td>\n",
       "      <td>621.0</td>\n",
       "      <td>651.0</td>\n",
       "      <td>638.0</td>\n",
       "      <td>3</td>\n",
       "      <td>5</td>\n",
       "      <td>5</td>\n",
       "    </tr>\n",
       "    <tr>\n",
       "      <th>81</th>\n",
       "      <td>28Q687</td>\n",
       "      <td>QUEENS HIGH SCHOOL FOR THE SCIENCES AT YORK CO...</td>\n",
       "      <td>121</td>\n",
       "      <td>612.0</td>\n",
       "      <td>660.0</td>\n",
       "      <td>596.0</td>\n",
       "      <td>2</td>\n",
       "      <td>5</td>\n",
       "      <td>5</td>\n",
       "    </tr>\n",
       "    <tr>\n",
       "      <th>82</th>\n",
       "      <td>01M696</td>\n",
       "      <td>BARD HIGH SCHOOL EARLY COLLEGE</td>\n",
       "      <td>130</td>\n",
       "      <td>624.0</td>\n",
       "      <td>604.0</td>\n",
       "      <td>628.0</td>\n",
       "      <td>2</td>\n",
       "      <td>5</td>\n",
       "      <td>5</td>\n",
       "    </tr>\n",
       "    <tr>\n",
       "      <th>83</th>\n",
       "      <td>31R605</td>\n",
       "      <td>STATEN ISLAND TECHNICAL HIGH SCHOOL</td>\n",
       "      <td>227</td>\n",
       "      <td>635.0</td>\n",
       "      <td>682.0</td>\n",
       "      <td>636.0</td>\n",
       "      <td>3</td>\n",
       "      <td>5</td>\n",
       "      <td>5</td>\n",
       "    </tr>\n",
       "  </tbody>\n",
       "</table>\n",
       "<p>84 rows × 9 columns</p>\n",
       "</div>"
      ],
      "text/plain": [
       "       DBN                                        SCHOOL NAME  \\\n",
       "0   04M495                              PARK EAST HIGH SCHOOL   \n",
       "1   09X276                               LEADERSHIP INSTITUTE   \n",
       "2   05M367  ACADEMY FOR SOCIAL ACTION: A COLLEGE BOARD SCHOOL   \n",
       "3   08X377                        BRONX COMMUNITY HIGH SCHOOL   \n",
       "4   06M463           HIGH SCHOOL FOR MEDIA AND COMMUNICATIONS   \n",
       "..     ...                                                ...   \n",
       "79  02M413                   SCHOOL OF THE FUTURE HIGH SCHOOL   \n",
       "80  25Q525                        TOWNSEND HARRIS HIGH SCHOOL   \n",
       "81  28Q687  QUEENS HIGH SCHOOL FOR THE SCIENCES AT YORK CO...   \n",
       "82  01M696                     BARD HIGH SCHOOL EARLY COLLEGE   \n",
       "83  31R605                STATEN ISLAND TECHNICAL HIGH SCHOOL   \n",
       "\n",
       "    Num of SAT Test Takers  SAT Critical Reading Avg. Score  \\\n",
       "0                       51                            373.0   \n",
       "1                       30                            361.0   \n",
       "2                       33                            354.0   \n",
       "3                        9                            367.0   \n",
       "4                       63                            369.0   \n",
       "..                     ...                              ...   \n",
       "79                      66                            517.0   \n",
       "80                     278                            621.0   \n",
       "81                     121                            612.0   \n",
       "82                     130                            624.0   \n",
       "83                     227                            635.0   \n",
       "\n",
       "    SAT Math Avg. Score  SAT Writing Avg. Score Testers_Stratum  \\\n",
       "0                 379.0                   376.0               1   \n",
       "1                 353.0                   367.0               0   \n",
       "2                 366.0                   342.0               0   \n",
       "3                 369.0                   376.0               0   \n",
       "4                 380.0                   349.0               1   \n",
       "..                  ...                     ...             ...   \n",
       "79                533.0                   515.0               1   \n",
       "80                651.0                   638.0               3   \n",
       "81                660.0                   596.0               2   \n",
       "82                604.0                   628.0               2   \n",
       "83                682.0                   636.0               3   \n",
       "\n",
       "   Reading_Stratum Math_Stratum  \n",
       "0                0            1  \n",
       "1                0            0  \n",
       "2                0            0  \n",
       "3                0            0  \n",
       "4                0            1  \n",
       "..             ...          ...  \n",
       "79               5            5  \n",
       "80               5            5  \n",
       "81               5            5  \n",
       "82               5            5  \n",
       "83               5            5  \n",
       "\n",
       "[84 rows x 9 columns]"
      ]
     },
     "execution_count": 122,
     "metadata": {},
     "output_type": "execute_result"
    }
   ],
   "source": [
    "# take samples\n",
    "stratified_samples = []\n",
    "\n",
    "for stratum_label in range(L):\n",
    "    stratum = df[df[\"Reading_Stratum\"] == stratum_label]\n",
    "    stratified_samples.append(stratum.sample(n=n_h, replace=False))\n",
    "stratified_sample_df = pd.concat(stratified_samples).reset_index(drop=True)\n",
    "stratified_sample_df"
   ]
  },
  {
   "attachments": {},
   "cell_type": "markdown",
   "id": "2a4e85d3",
   "metadata": {},
   "source": [
    "### 4. Parameter Estimation and Variance\n",
    "\n",
    "a) Estimate your parameter of interest using an unbiased estimator\n"
   ]
  },
  {
   "cell_type": "code",
   "execution_count": 123,
   "id": "42cce03a",
   "metadata": {},
   "outputs": [
    {
     "name": "stderr",
     "output_type": "stream",
     "text": [
      "/var/folders/sd/94f0j_590jlf95lxw1njgbq40000gn/T/ipykernel_66165/3971435269.py:5: FutureWarning: The default of observed=False is deprecated and will be changed to True in a future version of pandas. Pass observed=False to retain current behavior or observed=True to adopt the future default and silence this warning.\n",
      "  ybar_h = stratified_sample_df.groupby(\"Reading_Stratum\")[\"SAT Writing Avg. Score\"].mean().tolist()\n"
     ]
    },
    {
     "data": {
      "text/plain": [
       "362.798948082796"
      ]
     },
     "execution_count": 123,
     "metadata": {},
     "output_type": "execute_result"
    }
   ],
   "source": [
    "# mu_st_hat = tau_st_hat / N\n",
    "# tau_st_hat = sum from 1 to L of (N_h * ybar_h)\n",
    "# ybar_h = (sum from 1 to n_h of (y_hi)) / n_h\n",
    "\n",
    "ybar_h = stratified_sample_df.groupby(\"Reading_Stratum\")[\"SAT Writing Avg. Score\"].mean().tolist()\n",
    "tau_st_hat = sum(reading[\"Nh\"][i] * ybar_h[i] for i in range(len(reading[\"Nh\"])))\n",
    "mu_st_hat = tau_st_hat / N\n",
    "mu_st_hat"
   ]
  },
  {
   "attachments": {},
   "cell_type": "markdown",
   "id": "e978e3ec",
   "metadata": {},
   "source": [
    "b) Estimate its variance and provide a confidence interval at the alpha level chosen in Report 2. Use the Satterthwaite formula for adjusted degrees of freedom. "
   ]
  },
  {
   "cell_type": "code",
   "execution_count": 124,
   "id": "6690834c",
   "metadata": {},
   "outputs": [
    {
     "data": {
      "text/plain": [
       "0.7595137664926777"
      ]
     },
     "execution_count": 124,
     "metadata": {},
     "output_type": "execute_result"
    }
   ],
   "source": [
    "# variance\n",
    "# var_hat_mu_st_hat = (1/N^2) * var_hat_tau_st_hat\n",
    "# var_hat_tau_st_hat = sum from 1 to L ((N_h * (N_h - n_h) * (sigma_h^2 / n_h)))\n",
    "var_hat_tau_st_hat = sum(\n",
    "    reading[\"Nh\"][i] * (reading[\"Nh\"][i] - n_h) * (reading[\"sigma_sq_h\"][i] / n_h) \n",
    "    for i in range(len(reading[\"Nh\"]))\n",
    ")\n",
    "var_hat_mu_st_hat = (1 / N**2) * var_hat_tau_st_hat\n",
    "var_hat_mu_st_hat\n"
   ]
  },
  {
   "cell_type": "code",
   "execution_count": 125,
   "id": "da9b9650",
   "metadata": {},
   "outputs": [
    {
     "name": "stderr",
     "output_type": "stream",
     "text": [
      "/var/folders/sd/94f0j_590jlf95lxw1njgbq40000gn/T/ipykernel_66165/4228466091.py:7: FutureWarning: The default of observed=False is deprecated and will be changed to True in a future version of pandas. Pass observed=False to retain current behavior or observed=True to adopt the future default and silence this warning.\n",
      "  .groupby(\"Reading_Stratum\")[\"SAT Writing Avg. Score\"]\n"
     ]
    },
    {
     "data": {
      "text/plain": [
       "12.999999999999998"
      ]
     },
     "execution_count": 125,
     "metadata": {},
     "output_type": "execute_result"
    }
   ],
   "source": [
    "# adjusted degrees of freedom\n",
    "# d = (sum of 1 to L of (a_h * s_h^2)) \n",
    "#      / (sum of 1 to L of (a_h * s_h^2) / (n_h - 1))\n",
    "# a_h = (N_h * (N_h - n_h)) / n_h\n",
    "s_h_squared = (\n",
    "    stratified_sample_df\n",
    "    .groupby(\"Reading_Stratum\")[\"SAT Writing Avg. Score\"]\n",
    "    .var(ddof=1)\n",
    "    .tolist()\n",
    ")\n",
    "a_h = [reading[\"Nh\"][i] * (reading[\"Nh\"][i] - n_h) / n_h for i in range(len(reading[\"Nh\"]))]\n",
    "d = (sum(a_h[i] * s_h_squared[i] for i in range(len(a_h))) / (sum(a_h[i] * s_h_squared[i] \n",
    "                                                                  for i in range(len(a_h))) / (n_h - 1)))\n",
    "d\n"
   ]
  },
  {
   "cell_type": "code",
   "execution_count": 126,
   "id": "b990e56d",
   "metadata": {},
   "outputs": [
    {
     "name": "stdout",
     "output_type": "stream",
     "text": [
      "95% CI for mu_st_hat is: (360.916184919068, 364.68171124652406) \n",
      "\n"
     ]
    }
   ],
   "source": [
    "from scipy.stats import t\n",
    "# Confidence Interval with alpha = .05\n",
    "# mu_st_hat +- t(alpha/2, d) * sqrt(var_hat_mu_st_hat)\n",
    "alpha = .05\n",
    "t_crit = t.ppf(1-(alpha/2), d)\n",
    "lowerBound = mu_st_hat - t_crit * np.sqrt(var_hat_mu_st_hat)\n",
    "upperBound = mu_st_hat + t_crit * np.sqrt(var_hat_mu_st_hat)\n",
    "print(f\"95% CI for mu_st_hat is: ({lowerBound}, {upperBound}) \\n\")"
   ]
  },
  {
   "cell_type": "code",
   "execution_count": 127,
   "id": "225d6362-2991-4bdb-9381-f1c41f84997f",
   "metadata": {},
   "outputs": [
    {
     "data": {
      "text/html": [
       "<div>\n",
       "<style scoped>\n",
       "    .dataframe tbody tr th:only-of-type {\n",
       "        vertical-align: middle;\n",
       "    }\n",
       "\n",
       "    .dataframe tbody tr th {\n",
       "        vertical-align: top;\n",
       "    }\n",
       "\n",
       "    .dataframe thead th {\n",
       "        text-align: right;\n",
       "    }\n",
       "</style>\n",
       "<table border=\"1\" class=\"dataframe\">\n",
       "  <thead>\n",
       "    <tr style=\"text-align: right;\">\n",
       "      <th></th>\n",
       "      <th>DBN</th>\n",
       "      <th>SCHOOL NAME</th>\n",
       "      <th>Num of SAT Test Takers</th>\n",
       "      <th>SAT Critical Reading Avg. Score</th>\n",
       "      <th>SAT Math Avg. Score</th>\n",
       "      <th>SAT Writing Avg. Score</th>\n",
       "      <th>Testers_Stratum</th>\n",
       "      <th>Reading_Stratum</th>\n",
       "      <th>Math_Stratum</th>\n",
       "    </tr>\n",
       "  </thead>\n",
       "  <tbody>\n",
       "    <tr>\n",
       "      <th>0</th>\n",
       "      <td>10X437</td>\n",
       "      <td>FORDHAM HIGH SCHOOL FOR THE ARTS</td>\n",
       "      <td>48</td>\n",
       "      <td>355.0</td>\n",
       "      <td>350.0</td>\n",
       "      <td>372.0</td>\n",
       "      <td>0</td>\n",
       "      <td>0</td>\n",
       "      <td>0</td>\n",
       "    </tr>\n",
       "    <tr>\n",
       "      <th>1</th>\n",
       "      <td>02M550</td>\n",
       "      <td>LIBERTY HIGH SCHOOL ACADEMY FOR NEWCOMERS</td>\n",
       "      <td>26</td>\n",
       "      <td>368.0</td>\n",
       "      <td>436.0</td>\n",
       "      <td>352.0</td>\n",
       "      <td>0</td>\n",
       "      <td>0</td>\n",
       "      <td>3</td>\n",
       "    </tr>\n",
       "    <tr>\n",
       "      <th>2</th>\n",
       "      <td>09X412</td>\n",
       "      <td>BRONX HIGH SCHOOL OF BUSINESS</td>\n",
       "      <td>34</td>\n",
       "      <td>356.0</td>\n",
       "      <td>376.0</td>\n",
       "      <td>351.0</td>\n",
       "      <td>0</td>\n",
       "      <td>0</td>\n",
       "      <td>1</td>\n",
       "    </tr>\n",
       "    <tr>\n",
       "      <th>3</th>\n",
       "      <td>04M409</td>\n",
       "      <td>COALITION SCHOOL FOR SOCIAL CHANGE</td>\n",
       "      <td>48</td>\n",
       "      <td>354.0</td>\n",
       "      <td>357.0</td>\n",
       "      <td>373.0</td>\n",
       "      <td>0</td>\n",
       "      <td>0</td>\n",
       "      <td>0</td>\n",
       "    </tr>\n",
       "    <tr>\n",
       "      <th>4</th>\n",
       "      <td>11X249</td>\n",
       "      <td>BRONX HEALTH SCIENCES HIGH SCHOOL</td>\n",
       "      <td>74</td>\n",
       "      <td>370.0</td>\n",
       "      <td>381.0</td>\n",
       "      <td>382.0</td>\n",
       "      <td>1</td>\n",
       "      <td>0</td>\n",
       "      <td>1</td>\n",
       "    </tr>\n",
       "    <tr>\n",
       "      <th>...</th>\n",
       "      <td>...</td>\n",
       "      <td>...</td>\n",
       "      <td>...</td>\n",
       "      <td>...</td>\n",
       "      <td>...</td>\n",
       "      <td>...</td>\n",
       "      <td>...</td>\n",
       "      <td>...</td>\n",
       "      <td>...</td>\n",
       "    </tr>\n",
       "    <tr>\n",
       "      <th>75</th>\n",
       "      <td>30Q580</td>\n",
       "      <td>BACCALAUREATE SCHOOL FOR GLOBAL EDUCATION</td>\n",
       "      <td>61</td>\n",
       "      <td>524.0</td>\n",
       "      <td>568.0</td>\n",
       "      <td>544.0</td>\n",
       "      <td>1</td>\n",
       "      <td>5</td>\n",
       "      <td>5</td>\n",
       "    </tr>\n",
       "    <tr>\n",
       "      <th>76</th>\n",
       "      <td>03M479</td>\n",
       "      <td>BEACON HIGH SCHOOL</td>\n",
       "      <td>261</td>\n",
       "      <td>577.0</td>\n",
       "      <td>575.0</td>\n",
       "      <td>592.0</td>\n",
       "      <td>3</td>\n",
       "      <td>5</td>\n",
       "      <td>5</td>\n",
       "    </tr>\n",
       "    <tr>\n",
       "      <th>77</th>\n",
       "      <td>02M416</td>\n",
       "      <td>ELEANOR ROOSEVELT HIGH SCHOOL</td>\n",
       "      <td>127</td>\n",
       "      <td>572.0</td>\n",
       "      <td>594.0</td>\n",
       "      <td>592.0</td>\n",
       "      <td>2</td>\n",
       "      <td>5</td>\n",
       "      <td>5</td>\n",
       "    </tr>\n",
       "    <tr>\n",
       "      <th>78</th>\n",
       "      <td>02M412</td>\n",
       "      <td>N.Y.C. LAB SCHOOL FOR COLLABORATIVE STUDIES</td>\n",
       "      <td>114</td>\n",
       "      <td>537.0</td>\n",
       "      <td>590.0</td>\n",
       "      <td>550.0</td>\n",
       "      <td>2</td>\n",
       "      <td>5</td>\n",
       "      <td>5</td>\n",
       "    </tr>\n",
       "    <tr>\n",
       "      <th>79</th>\n",
       "      <td>22K535</td>\n",
       "      <td>LEON M. GOLDSTEIN HIGH SCHOOL FOR THE SCIENCES</td>\n",
       "      <td>259</td>\n",
       "      <td>524.0</td>\n",
       "      <td>561.0</td>\n",
       "      <td>542.0</td>\n",
       "      <td>3</td>\n",
       "      <td>5</td>\n",
       "      <td>5</td>\n",
       "    </tr>\n",
       "  </tbody>\n",
       "</table>\n",
       "<p>80 rows × 9 columns</p>\n",
       "</div>"
      ],
      "text/plain": [
       "       DBN                                     SCHOOL NAME  \\\n",
       "0   10X437                FORDHAM HIGH SCHOOL FOR THE ARTS   \n",
       "1   02M550       LIBERTY HIGH SCHOOL ACADEMY FOR NEWCOMERS   \n",
       "2   09X412                   BRONX HIGH SCHOOL OF BUSINESS   \n",
       "3   04M409              COALITION SCHOOL FOR SOCIAL CHANGE   \n",
       "4   11X249               BRONX HEALTH SCIENCES HIGH SCHOOL   \n",
       "..     ...                                             ...   \n",
       "75  30Q580       BACCALAUREATE SCHOOL FOR GLOBAL EDUCATION   \n",
       "76  03M479                              BEACON HIGH SCHOOL   \n",
       "77  02M416                   ELEANOR ROOSEVELT HIGH SCHOOL   \n",
       "78  02M412     N.Y.C. LAB SCHOOL FOR COLLABORATIVE STUDIES   \n",
       "79  22K535  LEON M. GOLDSTEIN HIGH SCHOOL FOR THE SCIENCES   \n",
       "\n",
       "    Num of SAT Test Takers  SAT Critical Reading Avg. Score  \\\n",
       "0                       48                            355.0   \n",
       "1                       26                            368.0   \n",
       "2                       34                            356.0   \n",
       "3                       48                            354.0   \n",
       "4                       74                            370.0   \n",
       "..                     ...                              ...   \n",
       "75                      61                            524.0   \n",
       "76                     261                            577.0   \n",
       "77                     127                            572.0   \n",
       "78                     114                            537.0   \n",
       "79                     259                            524.0   \n",
       "\n",
       "    SAT Math Avg. Score  SAT Writing Avg. Score Testers_Stratum  \\\n",
       "0                 350.0                   372.0               0   \n",
       "1                 436.0                   352.0               0   \n",
       "2                 376.0                   351.0               0   \n",
       "3                 357.0                   373.0               0   \n",
       "4                 381.0                   382.0               1   \n",
       "..                  ...                     ...             ...   \n",
       "75                568.0                   544.0               1   \n",
       "76                575.0                   592.0               3   \n",
       "77                594.0                   592.0               2   \n",
       "78                590.0                   550.0               2   \n",
       "79                561.0                   542.0               3   \n",
       "\n",
       "   Reading_Stratum Math_Stratum  \n",
       "0                0            0  \n",
       "1                0            3  \n",
       "2                0            1  \n",
       "3                0            0  \n",
       "4                0            1  \n",
       "..             ...          ...  \n",
       "75               5            5  \n",
       "76               5            5  \n",
       "77               5            5  \n",
       "78               5            5  \n",
       "79               5            5  \n",
       "\n",
       "[80 rows x 9 columns]"
      ]
     },
     "execution_count": 127,
     "metadata": {},
     "output_type": "execute_result"
    }
   ],
   "source": [
    "nh_proportional = [\n",
    "    int(round((n * Nh) / N)) \n",
    "    for Nh in reading[\"Nh\"]\n",
    "]\n",
    "while sum(nh_proportional) != n:\n",
    "    if sum(nh_proportional) < n:\n",
    "        nh_proportional[nh_proportional.index(min(nh_proportional))] += 1\n",
    "    else:\n",
    "        nh_proportional[nh_proportional.index(max(nh_proportional))] -= 1\n",
    "stratified_samples_prop = []\n",
    "for stratum_label in range(L):\n",
    "    stratum_data = df[df[\"Reading_Stratum\"] == stratum_label]\n",
    "    sample_size = nh_proportional[stratum_label]\n",
    "    \n",
    "    if sample_size > 0:\n",
    "        sample = stratum_data.sample(n=sample_size, replace=False)\n",
    "        stratified_samples_prop.append(sample)\n",
    "stratified_sample_prop_df = pd.concat(stratified_samples_prop).reset_index(drop=True)\n",
    "\n",
    "stratified_sample_prop_df\n"
   ]
  }
 ],
 "metadata": {
  "kernelspec": {
   "display_name": "Python 3 (ipykernel)",
   "language": "python",
   "name": "python3"
  },
  "language_info": {
   "codemirror_mode": {
    "name": "ipython",
    "version": 3
   },
   "file_extension": ".py",
   "mimetype": "text/x-python",
   "name": "python",
   "nbconvert_exporter": "python",
   "pygments_lexer": "ipython3",
   "version": "3.10.4"
  }
 },
 "nbformat": 4,
 "nbformat_minor": 5
}
